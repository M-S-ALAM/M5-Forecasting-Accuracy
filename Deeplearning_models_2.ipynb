{
 "cells": [
  {
   "cell_type": "code",
   "execution_count": 1,
   "id": "efb45c03-6ad2-41f3-b19e-6756bd05dd70",
   "metadata": {},
   "outputs": [],
   "source": [
    "import numpy as np\n",
    "import matplotlib.pyplot as plt\n",
    "import seaborn as sns\n",
    "import pandas as pd\n",
    "import os\n",
    "import pickle"
   ]
  },
  {
   "cell_type": "code",
   "execution_count": 2,
   "id": "c8b98d03-588f-48b9-9e44-c7e075861095",
   "metadata": {},
   "outputs": [],
   "source": [
    "def reduce_mem_usage(df, verbose=False):\n",
    "    '''\n",
    "    reduce memory usage by downcasting data types\n",
    "    from https://www.kaggle.com/harupy/m5-baseline\n",
    "    '''\n",
    "    \n",
    "    start_mem = df.memory_usage().sum() / 1024 ** 2\n",
    "    int_columns = df.select_dtypes(include=[\"int\"]).columns\n",
    "    float_columns = df.select_dtypes(include=[\"float\"]).columns\n",
    "\n",
    "    for col in int_columns:\n",
    "        df[col] = pd.to_numeric(df[col], downcast=\"integer\")\n",
    "\n",
    "    for col in float_columns:\n",
    "        df[col] = pd.to_numeric(df[col], downcast=\"float\")\n",
    "\n",
    "    end_mem = df.memory_usage().sum() / 1024 ** 2\n",
    "    if verbose:\n",
    "        print(\n",
    "            \"Mem. usage decreased to {:5.2f} Mb ({:.1f}% reduction)\".format(\n",
    "                end_mem, 100 * (start_mem - end_mem) / start_mem\n",
    "            )\n",
    "        )\n",
    "    return df"
   ]
  },
  {
   "cell_type": "code",
   "execution_count": 3,
   "id": "50326a4d-38d9-47d3-9215-1d63a2cf28f0",
   "metadata": {},
   "outputs": [
    {
     "data": {
      "text/html": [
       "<div>\n",
       "<style scoped>\n",
       "    .dataframe tbody tr th:only-of-type {\n",
       "        vertical-align: middle;\n",
       "    }\n",
       "\n",
       "    .dataframe tbody tr th {\n",
       "        vertical-align: top;\n",
       "    }\n",
       "\n",
       "    .dataframe thead th {\n",
       "        text-align: right;\n",
       "    }\n",
       "</style>\n",
       "<table border=\"1\" class=\"dataframe\">\n",
       "  <thead>\n",
       "    <tr style=\"text-align: right;\">\n",
       "      <th></th>\n",
       "      <th>id</th>\n",
       "      <th>item_id</th>\n",
       "      <th>dept_id</th>\n",
       "      <th>cat_id</th>\n",
       "      <th>store_id</th>\n",
       "      <th>state_id</th>\n",
       "      <th>d</th>\n",
       "      <th>demand</th>\n",
       "      <th>date</th>\n",
       "      <th>wm_yr_wk</th>\n",
       "      <th>...</th>\n",
       "      <th>lag_21</th>\n",
       "      <th>lag_28</th>\n",
       "      <th>lag_30</th>\n",
       "      <th>lag_45</th>\n",
       "      <th>lag_60</th>\n",
       "      <th>lag_80</th>\n",
       "      <th>expanding_sold_mean</th>\n",
       "      <th>daily_avg_sold</th>\n",
       "      <th>avg_sold</th>\n",
       "      <th>selling_trend</th>\n",
       "    </tr>\n",
       "  </thead>\n",
       "  <tbody>\n",
       "    <tr>\n",
       "      <th>6098000</th>\n",
       "      <td>HOBBIES_1_001_CA_1_evaluation</td>\n",
       "      <td>HOBBIES_1_001</td>\n",
       "      <td>HOBBIES_1</td>\n",
       "      <td>HOBBIES</td>\n",
       "      <td>CA_1</td>\n",
       "      <td>CA</td>\n",
       "      <td>1501</td>\n",
       "      <td>0</td>\n",
       "      <td>2015-03-09</td>\n",
       "      <td>11506</td>\n",
       "      <td>...</td>\n",
       "      <td>0.0</td>\n",
       "      <td>0.0</td>\n",
       "      <td>2.0</td>\n",
       "      <td>0.0</td>\n",
       "      <td>2.0</td>\n",
       "      <td>0.0</td>\n",
       "      <td>0.646973</td>\n",
       "      <td>0.0</td>\n",
       "      <td>0.669434</td>\n",
       "      <td>-0.669434</td>\n",
       "    </tr>\n",
       "    <tr>\n",
       "      <th>6098001</th>\n",
       "      <td>HOBBIES_1_002_CA_1_evaluation</td>\n",
       "      <td>HOBBIES_1_002</td>\n",
       "      <td>HOBBIES_1</td>\n",
       "      <td>HOBBIES</td>\n",
       "      <td>CA_1</td>\n",
       "      <td>CA</td>\n",
       "      <td>1501</td>\n",
       "      <td>1</td>\n",
       "      <td>2015-03-09</td>\n",
       "      <td>11506</td>\n",
       "      <td>...</td>\n",
       "      <td>0.0</td>\n",
       "      <td>0.0</td>\n",
       "      <td>0.0</td>\n",
       "      <td>0.0</td>\n",
       "      <td>0.0</td>\n",
       "      <td>1.0</td>\n",
       "      <td>0.318359</td>\n",
       "      <td>1.0</td>\n",
       "      <td>0.304932</td>\n",
       "      <td>0.695312</td>\n",
       "    </tr>\n",
       "  </tbody>\n",
       "</table>\n",
       "<p>2 rows × 85 columns</p>\n",
       "</div>"
      ],
      "text/plain": [
       "                                    id        item_id    dept_id   cat_id  \\\n",
       "6098000  HOBBIES_1_001_CA_1_evaluation  HOBBIES_1_001  HOBBIES_1  HOBBIES   \n",
       "6098001  HOBBIES_1_002_CA_1_evaluation  HOBBIES_1_002  HOBBIES_1  HOBBIES   \n",
       "\n",
       "        store_id state_id     d  demand        date  wm_yr_wk  ... lag_21  \\\n",
       "6098000     CA_1       CA  1501       0  2015-03-09     11506  ...    0.0   \n",
       "6098001     CA_1       CA  1501       1  2015-03-09     11506  ...    0.0   \n",
       "\n",
       "         lag_28  lag_30  lag_45 lag_60 lag_80 expanding_sold_mean  \\\n",
       "6098000     0.0     2.0     0.0    2.0    0.0            0.646973   \n",
       "6098001     0.0     0.0     0.0    0.0    1.0            0.318359   \n",
       "\n",
       "        daily_avg_sold  avg_sold  selling_trend  \n",
       "6098000            0.0  0.669434      -0.669434  \n",
       "6098001            1.0  0.304932       0.695312  \n",
       "\n",
       "[2 rows x 85 columns]"
      ]
     },
     "execution_count": 3,
     "metadata": {},
     "output_type": "execute_result"
    }
   ],
   "source": [
    "data=pd.read_pickle('/notebooks/final_data.pkl').pipe(reduce_mem_usage)\n",
    "data.head(2)"
   ]
  },
  {
   "cell_type": "code",
   "execution_count": 4,
   "id": "201caeb6-f19c-4374-8851-0f9a2d7dce74",
   "metadata": {},
   "outputs": [
    {
     "name": "stderr",
     "output_type": "stream",
     "text": [
      "100%|██████████| 11/11 [00:00<00:00, 53.07it/s]\n"
     ]
    }
   ],
   "source": [
    "from tqdm import tqdm\n",
    "for col in tqdm(['id','item_id','dept_id','cat_id','store_id','state_id','event_name_1','event_type_1','event_type_2','event_name_2','weekday']):\n",
    "    data[col] = data[col].astype('category')"
   ]
  },
  {
   "cell_type": "code",
   "execution_count": 5,
   "id": "67849952-9a49-4cba-9afc-609c094d33a0",
   "metadata": {},
   "outputs": [],
   "source": [
    "d_id = dict(zip(data.id.cat.codes, data.id))\n",
    "d_item_id = dict(zip(data.item_id.cat.codes, data.item_id))\n",
    "d_dept_id = dict(zip(data.dept_id.cat.codes, data.dept_id))\n",
    "d_cat_id = dict(zip(data.cat_id.cat.codes, data.cat_id))\n",
    "d_store_id = dict(zip(data.store_id.cat.codes, data.store_id))\n",
    "d_state_id = dict(zip(data.state_id.cat.codes, data.state_id))"
   ]
  },
  {
   "cell_type": "code",
   "execution_count": 6,
   "id": "2b46d6e7-2233-4218-846b-d364521543f6",
   "metadata": {},
   "outputs": [],
   "source": [
    "cols = data.dtypes.index.tolist()\n",
    "d_types = data.dtypes.values.tolist()\n",
    "for i,type in enumerate(d_types):\n",
    "    if type.name == 'category':\n",
    "        data[cols[i]] = data[cols[i]].cat.codes"
   ]
  },
  {
   "cell_type": "code",
   "execution_count": 7,
   "id": "bcf0d5fd-af85-471a-8c68-40a7ca159bd8",
   "metadata": {},
   "outputs": [],
   "source": [
    "data.drop(['date'],axis=1,inplace=True)"
   ]
  },
  {
   "cell_type": "code",
   "execution_count": 8,
   "id": "0b73a86d-fc1e-46de-a0af-f328f7643ea1",
   "metadata": {},
   "outputs": [],
   "source": [
    "X_train, y_train = data[data['d']<1914].drop('demand',axis=1), data[data['d']<1914]['demand']\n",
    "X_valid, y_valid = data[(data['d']>=1914) & (data['d']<1942)].drop('demand',axis=1), data[(data['d']>=1914) & (data['d']<1942)]['demand']\n",
    "X_test = data[data['d']>=1942].drop('demand',axis=1)"
   ]
  },
  {
   "cell_type": "code",
   "execution_count": 9,
   "id": "a7e2ee45-9d3d-4bfb-9bb1-d52c951cd77f",
   "metadata": {},
   "outputs": [],
   "source": [
    "def rmse(pred,value):\n",
    "    return np.sqrt(((pred-value)**2).mean())"
   ]
  },
  {
   "cell_type": "code",
   "execution_count": 10,
   "id": "8cfbd182-0907-4d6f-a125-ad9698666ce1",
   "metadata": {},
   "outputs": [],
   "source": [
    "import tensorflow as tf\n",
    "from tensorflow.keras.preprocessing import sequence\n",
    "from tensorflow.keras.models import Sequential\n",
    "from tensorflow.keras.layers import Dense, Activation,Flatten,Reshape\n",
    "from tensorflow.keras.layers import Embedding\n",
    "from tensorflow.keras.layers import LSTM, TimeDistributed\n",
    "from tensorflow.keras.preprocessing.text import Tokenizer\n",
    "import csv\n",
    "from tensorflow.keras.models import Model\n",
    "#import keras\n",
    "from tensorflow.keras import backend as k\n",
    "from tensorflow.keras.layers import Input,Concatenate,Dropout,Dense,BatchNormalization,Conv1D\n",
    "from tensorflow.keras.layers import Input\n",
    "from tensorflow.keras.initializers import he_normal,glorot_normal\n",
    "from tensorflow.keras.regularizers import l1,l2\n",
    "from tensorflow.python.keras.callbacks import TensorBoard\n",
    "from tensorflow.keras.callbacks import Callback, EarlyStopping, ModelCheckpoint,LearningRateScheduler,ReduceLROnPlateau\n",
    "from time import time\n",
    "from tensorflow.keras.utils import plot_model\n",
    "from tensorflow.keras.initializers import glorot_uniform,glorot_normal\n"
   ]
  },
  {
   "cell_type": "code",
   "execution_count": 13,
   "id": "b9df96e0-48af-4252-8be7-bef3ae0fdaaf",
   "metadata": {},
   "outputs": [],
   "source": [
    "def Time_series_model_1(input_shape):\n",
    "    model = Sequential()\n",
    "    model.add(LSTM(units=100, return_sequences=True, input_shape = (input_shape,1)))\n",
    "    model.add(Dropout(0.2))\n",
    "    model.add(LSTM(units=50, return_sequences=True))\n",
    "    model.add(Dropout(0.2))\n",
    "    model.add(Conv1D(50,3,strides=1, padding='same',activation='relu'))\n",
    "    model.add(Dropout(0.2))\n",
    "    model.add(Conv1D(25,3,strides=1, padding='same',activation='relu'))\n",
    "    model.add(Flatten())\n",
    "    model.add(Dense(128, activation = 'relu',kernel_initializer=glorot_uniform(seed=42)))\n",
    "    model.add(Dropout(0.1))\n",
    "    model.add(Dense(8, activation = 'relu',kernel_initializer=glorot_uniform(seed=42)))\n",
    "    model.add(Dense(1, activation='linear'))\n",
    "    return model"
   ]
  },
  {
   "cell_type": "code",
   "execution_count": 14,
   "id": "40b9361c-ab1f-4d19-8681-0724aa8d6e33",
   "metadata": {},
   "outputs": [
    {
     "name": "stdout",
     "output_type": "stream",
     "text": [
      "Model: \"sequential_1\"\n",
      "_________________________________________________________________\n",
      " Layer (type)                Output Shape              Param #   \n",
      "=================================================================\n",
      " lstm_2 (LSTM)               (None, 83, 100)           40800     \n",
      "                                                                 \n",
      " dropout_2 (Dropout)         (None, 83, 100)           0         \n",
      "                                                                 \n",
      " lstm_3 (LSTM)               (None, 83, 50)            30200     \n",
      "                                                                 \n",
      " dropout_3 (Dropout)         (None, 83, 50)            0         \n",
      "                                                                 \n",
      " conv1d (Conv1D)             (None, 83, 50)            7550      \n",
      "                                                                 \n",
      " dropout_4 (Dropout)         (None, 83, 50)            0         \n",
      "                                                                 \n",
      " conv1d_1 (Conv1D)           (None, 83, 25)            3775      \n",
      "                                                                 \n",
      " flatten (Flatten)           (None, 2075)              0         \n",
      "                                                                 \n",
      " dense (Dense)               (None, 128)               265728    \n",
      "                                                                 \n",
      " dropout_5 (Dropout)         (None, 128)               0         \n",
      "                                                                 \n",
      " dense_1 (Dense)             (None, 8)                 1032      \n",
      "                                                                 \n",
      " dense_2 (Dense)             (None, 1)                 9         \n",
      "                                                                 \n",
      "=================================================================\n",
      "Total params: 349,094\n",
      "Trainable params: 349,094\n",
      "Non-trainable params: 0\n",
      "_________________________________________________________________\n"
     ]
    }
   ],
   "source": [
    "model = Time_series_model_1(X_train.shape[1])\n",
    "model.summary()"
   ]
  },
  {
   "cell_type": "code",
   "execution_count": 15,
   "id": "1aecb273-316b-44be-b2f7-3e8f53339784",
   "metadata": {},
   "outputs": [],
   "source": [
    "from tensorflow.keras.callbacks import *\n",
    "import os\n",
    "import datetime\n",
    "filepath=\"weights_1.best.hdf1\"\n",
    "checkpoint = ModelCheckpoint(filepath, monitor='val_root_mean_squared_error', verbose=1, mode='min')\n",
    "earlystop = EarlyStopping(monitor = 'val_root_mean_squared_error',  mode=\"min\",min_delta = 0, patience = 3,verbose = 1)\n",
    "reduce_lr = ReduceLROnPlateau(monitor = 'val_root_mean_squared_error', factor = 0.25, patience = 1, verbose = 1,min_lr=0.000001)\n",
    "callbacks = [reduce_lr,earlystop]"
   ]
  },
  {
   "cell_type": "code",
   "execution_count": 16,
   "id": "693efff9-1841-4146-9d37-7dd8ea7fb533",
   "metadata": {},
   "outputs": [
    {
     "name": "stderr",
     "output_type": "stream",
     "text": [
      "2022-11-16 04:27:14.481793: W tensorflow/core/framework/cpu_allocator_impl.cc:82] Allocation of 4180666840 exceeds 10% of free system memory.\n",
      "2022-11-16 04:27:18.491712: W tensorflow/core/framework/cpu_allocator_impl.cc:82] Allocation of 4180666840 exceeds 10% of free system memory.\n"
     ]
    },
    {
     "name": "stdout",
     "output_type": "stream",
     "text": [
      "Epoch 1/25\n",
      "49189/49189 [==============================] - 844s 17ms/step - loss: 0.3259 - root_mean_squared_error: 0.5709 - val_loss: 0.1586 - val_root_mean_squared_error: 0.3982 - lr: 0.0010\n",
      "Epoch 2/25\n",
      "49189/49189 [==============================] - ETA: 0s - loss: 0.2290 - root_mean_squared_error: 0.4785\n",
      "Epoch 2: ReduceLROnPlateau reducing learning rate to 0.0002500000118743628.\n",
      "49189/49189 [==============================] - 835s 17ms/step - loss: 0.2290 - root_mean_squared_error: 0.4785 - val_loss: 0.3726 - val_root_mean_squared_error: 0.6104 - lr: 0.0010\n",
      "Epoch 3/25\n",
      "49189/49189 [==============================] - 834s 17ms/step - loss: 0.0969 - root_mean_squared_error: 0.3112 - val_loss: 0.1440 - val_root_mean_squared_error: 0.3795 - lr: 2.5000e-04\n",
      "Epoch 4/25\n",
      "49188/49189 [============================>.] - ETA: 0s - loss: 0.0682 - root_mean_squared_error: 0.2612\n",
      "Epoch 4: ReduceLROnPlateau reducing learning rate to 6.25000029685907e-05.\n",
      "49189/49189 [==============================] - 833s 17ms/step - loss: 0.0682 - root_mean_squared_error: 0.2612 - val_loss: 0.1534 - val_root_mean_squared_error: 0.3917 - lr: 2.5000e-04\n",
      "Epoch 5/25\n",
      "49189/49189 [==============================] - 836s 17ms/step - loss: 0.0494 - root_mean_squared_error: 0.2223 - val_loss: 0.1271 - val_root_mean_squared_error: 0.3565 - lr: 6.2500e-05\n",
      "Epoch 6/25\n",
      "49189/49189 [==============================] - 837s 17ms/step - loss: 0.0442 - root_mean_squared_error: 0.2102 - val_loss: 0.1251 - val_root_mean_squared_error: 0.3538 - lr: 6.2500e-05\n",
      "Epoch 7/25\n",
      "49189/49189 [==============================] - 834s 17ms/step - loss: 0.0442 - root_mean_squared_error: 0.2103 - val_loss: 0.1123 - val_root_mean_squared_error: 0.3352 - lr: 6.2500e-05\n",
      "Epoch 8/25\n",
      "49188/49189 [============================>.] - ETA: 0s - loss: 0.0420 - root_mean_squared_error: 0.2048\n",
      "Epoch 8: ReduceLROnPlateau reducing learning rate to 1.5625000742147677e-05.\n",
      "49189/49189 [==============================] - 830s 17ms/step - loss: 0.0419 - root_mean_squared_error: 0.2048 - val_loss: 0.1446 - val_root_mean_squared_error: 0.3802 - lr: 6.2500e-05\n",
      "Epoch 9/25\n",
      "49187/49189 [============================>.] - ETA: 0s - loss: 0.0387 - root_mean_squared_error: 0.1967\n",
      "Epoch 9: ReduceLROnPlateau reducing learning rate to 3.906250185536919e-06.\n",
      "49189/49189 [==============================] - 832s 17ms/step - loss: 0.0387 - root_mean_squared_error: 0.1967 - val_loss: 0.1185 - val_root_mean_squared_error: 0.3442 - lr: 1.5625e-05\n",
      "Epoch 10/25\n",
      "49189/49189 [==============================] - ETA: 0s - loss: 0.0369 - root_mean_squared_error: 0.1922\n",
      "Epoch 10: ReduceLROnPlateau reducing learning rate to 1e-06.\n",
      "49189/49189 [==============================] - 829s 17ms/step - loss: 0.0369 - root_mean_squared_error: 0.1922 - val_loss: 0.1299 - val_root_mean_squared_error: 0.3604 - lr: 3.9063e-06\n",
      "Epoch 10: early stopping\n"
     ]
    }
   ],
   "source": [
    "model.compile(optimizer='adam',loss='mean_squared_error',metrics=[tf.keras.metrics.RootMeanSquaredError()])\n",
    "history = model.fit(x=X_train, y=y_train,epochs=25,verbose=1,batch_size=256, validation_data=(X_valid, y_valid), callbacks=callbacks)"
   ]
  },
  {
   "cell_type": "code",
   "execution_count": 17,
   "id": "59d1b003-d5b4-42b4-8ccd-d7fce4caf4af",
   "metadata": {},
   "outputs": [
    {
     "data": {
      "image/png": "[encoded data removed]",
      "text/plain": [
       "<Figure size 2160x360 with 2 Axes>"
      ]
     },
     "metadata": {
      "needs_background": "light"
     },
     "output_type": "display_data"
    }
   ],
   "source": [
    "import matplotlib.pyplot as plt\n",
    "plt.figure(figsize=(30, 5))\n",
    "plt.subplot(121)\n",
    "plt.plot(history.history['loss'])\n",
    "plt.plot(history.history['val_loss'])\n",
    "plt.title('Model Loss')\n",
    "plt.ylabel('loss')\n",
    "plt.xlabel('Epoch')\n",
    "plt.legend(['Train', 'Test'], loc='upper left')\n",
    "\n",
    "plt.subplot(122)\n",
    "plt.plot(history.history['root_mean_squared_error'])\n",
    "plt.plot(history.history['val_root_mean_squared_error'])\n",
    "plt.title('Model Metrics')\n",
    "plt.ylabel('RMSE')\n",
    "plt.xlabel('Epoch')\n",
    "plt.legend(['Train', 'Test'], loc='upper left')\n",
    "plt.show()"
   ]
  },
  {
   "cell_type": "code",
   "execution_count": 11,
   "id": "254149f4-e0f8-44a8-a99e-b9289d782778",
   "metadata": {},
   "outputs": [],
   "source": [
    "def Time_series_model_2(input_shape):\n",
    "    model = Sequential()\n",
    "    model.add(LSTM(units=250, return_sequences=True, input_shape = (input_shape,1)))\n",
    "    model.add(Dropout(0.2))\n",
    "    model.add(LSTM(units=150, return_sequences=True))\n",
    "    model.add(Dropout(0.2))\n",
    "    model.add(LSTM(units=100, return_sequences=True))\n",
    "    model.add(Dropout(0.2))\n",
    "    model.add(Conv1D(50,3,strides=1, padding='same',activation='relu'))\n",
    "    model.add(Dropout(0.2))\n",
    "    model.add(Conv1D(25,3,strides=1, padding='same',activation='relu'))\n",
    "    model.add(BatchNormalization())\n",
    "    model.add(Dropout(0.2))\n",
    "    model.add(Flatten())\n",
    "    model.add(Dense(256, activation = 'relu',kernel_initializer=glorot_uniform(seed=42)))\n",
    "    model.add(Dropout(0.1))\n",
    "    model.add(Dense(128))\n",
    "    model.add(Dropout(0.1))\n",
    "    model.add(Dense(64))\n",
    "    model.add(Dropout(0.05))\n",
    "    model.add(Dense(8, activation = 'relu',kernel_initializer=glorot_uniform(seed=42)))\n",
    "    model.add(Dense(1, activation='linear'))\n",
    "    return model"
   ]
  },
  {
   "cell_type": "code",
   "execution_count": 12,
   "id": "519c4ab0-0328-4bdb-b1b0-af445c0f90db",
   "metadata": {},
   "outputs": [
    {
     "name": "stdout",
     "output_type": "stream",
     "text": [
      "Model: \"sequential\"\n",
      "_________________________________________________________________\n",
      " Layer (type)                Output Shape              Param #   \n",
      "=================================================================\n",
      " lstm (LSTM)                 (None, 83, 250)           252000    \n",
      "                                                                 \n",
      " dropout (Dropout)           (None, 83, 250)           0         \n",
      "                                                                 \n",
      " lstm_1 (LSTM)               (None, 83, 150)           240600    \n",
      "                                                                 \n",
      " dropout_1 (Dropout)         (None, 83, 150)           0         \n",
      "                                                                 \n",
      " lstm_2 (LSTM)               (None, 83, 100)           100400    \n",
      "                                                                 \n",
      " dropout_2 (Dropout)         (None, 83, 100)           0         \n",
      "                                                                 \n",
      " conv1d (Conv1D)             (None, 83, 50)            15050     \n",
      "                                                                 \n",
      " dropout_3 (Dropout)         (None, 83, 50)            0         \n",
      "                                                                 \n",
      " conv1d_1 (Conv1D)           (None, 83, 25)            3775      \n",
      "                                                                 \n",
      " batch_normalization (BatchN  (None, 83, 25)           100       \n",
      " ormalization)                                                   \n",
      "                                                                 \n",
      " dropout_4 (Dropout)         (None, 83, 25)            0         \n",
      "                                                                 \n",
      " flatten (Flatten)           (None, 2075)              0         \n",
      "                                                                 \n",
      " dense (Dense)               (None, 256)               531456    \n",
      "                                                                 \n",
      " dropout_5 (Dropout)         (None, 256)               0         \n",
      "                                                                 \n",
      " dense_1 (Dense)             (None, 128)               32896     \n",
      "                                                                 \n",
      " dropout_6 (Dropout)         (None, 128)               0         \n",
      "                                                                 \n",
      " dense_2 (Dense)             (None, 64)                8256      \n",
      "                                                                 \n",
      " dropout_7 (Dropout)         (None, 64)                0         \n",
      "                                                                 \n",
      " dense_3 (Dense)             (None, 8)                 520       \n",
      "                                                                 \n",
      " dense_4 (Dense)             (None, 1)                 9         \n",
      "                                                                 \n",
      "=================================================================\n",
      "Total params: 1,185,062\n",
      "Trainable params: 1,185,012\n",
      "Non-trainable params: 50\n",
      "_________________________________________________________________\n"
     ]
    }
   ],
   "source": [
    "model = Time_series_model_2(X_train.shape[1])\n",
    "model.summary()"
   ]
  },
  {
   "cell_type": "code",
   "execution_count": 13,
   "id": "1cf6f5a6-4342-4c9c-9afe-6ca61b9fbe07",
   "metadata": {},
   "outputs": [],
   "source": [
    "from tensorflow.keras.callbacks import *\n",
    "import os\n",
    "import datetime\n",
    "filepath=\"weights_2.best.hdf1\"\n",
    "checkpoint = ModelCheckpoint(filepath, monitor='val_root_mean_squared_error', verbose=1, mode='min')\n",
    "earlystop = EarlyStopping(monitor = 'val_root_mean_squared_error',  mode=\"min\",min_delta = 0, patience = 3,verbose = 1)\n",
    "reduce_lr = ReduceLROnPlateau(monitor = 'val_root_mean_squared_error', factor = 0.25, patience = 1, verbose = 1,min_lr=0.000001)\n",
    "callbacks = [reduce_lr,earlystop,checkpoint]"
   ]
  },
  {
   "cell_type": "code",
   "execution_count": 14,
   "id": "1aa94d7d-ae4b-4692-b298-b732da3b2b29",
   "metadata": {},
   "outputs": [
    {
     "name": "stderr",
     "output_type": "stream",
     "text": [
      "2022-11-18 08:20:52.846003: W tensorflow/core/framework/cpu_allocator_impl.cc:82] Allocation of 4180666840 exceeds 10% of free system memory.\n",
      "2022-11-18 08:20:57.689875: W tensorflow/core/framework/cpu_allocator_impl.cc:82] Allocation of 4180666840 exceeds 10% of free system memory.\n"
     ]
    },
    {
     "name": "stdout",
     "output_type": "stream",
     "text": [
      "Epoch 1/25\n"
     ]
    },
    {
     "name": "stderr",
     "output_type": "stream",
     "text": [
      "2022-11-18 08:21:12.554549: W tensorflow/core/common_runtime/bfc_allocator.cc:290] Allocator (GPU_0_bfc) ran out of memory trying to allocate 3.34GiB with freed_by_count=0. The caller indicates that this is not a failure, but this may mean that there could be performance gains if more memory were available.\n",
      "2022-11-18 08:21:12.554619: W tensorflow/core/common_runtime/bfc_allocator.cc:290] Allocator (GPU_0_bfc) ran out of memory trying to allocate 3.34GiB with freed_by_count=0. The caller indicates that this is not a failure, but this may mean that there could be performance gains if more memory were available.\n",
      "2022-11-18 08:21:13.288631: W tensorflow/core/common_runtime/bfc_allocator.cc:290] Allocator (GPU_0_bfc) ran out of memory trying to allocate 3.19GiB with freed_by_count=0. The caller indicates that this is not a failure, but this may mean that there could be performance gains if more memory were available.\n",
      "2022-11-18 08:21:13.288709: W tensorflow/core/common_runtime/bfc_allocator.cc:290] Allocator (GPU_0_bfc) ran out of memory trying to allocate 3.19GiB with freed_by_count=0. The caller indicates that this is not a failure, but this may mean that there could be performance gains if more memory were available.\n"
     ]
    },
    {
     "name": "stdout",
     "output_type": "stream",
     "text": [
      "24595/24595 [==============================] - ETA: 0s - loss: 0.6153 - root_mean_squared_error: 0.7844"
     ]
    },
    {
     "name": "stderr",
     "output_type": "stream",
     "text": [
      "2022-11-18 08:45:58.129050: W tensorflow/core/common_runtime/bfc_allocator.cc:290] Allocator (GPU_0_bfc) ran out of memory trying to allocate 3.64GiB with freed_by_count=0. The caller indicates that this is not a failure, but this may mean that there could be performance gains if more memory were available.\n",
      "2022-11-18 08:45:58.129241: W tensorflow/core/common_runtime/bfc_allocator.cc:290] Allocator (GPU_0_bfc) ran out of memory trying to allocate 3.64GiB with freed_by_count=0. The caller indicates that this is not a failure, but this may mean that there could be performance gains if more memory were available.\n",
      "2022-11-18 08:45:58.274100: W tensorflow/core/common_runtime/bfc_allocator.cc:290] Allocator (GPU_0_bfc) ran out of memory trying to allocate 2.27GiB with freed_by_count=0. The caller indicates that this is not a failure, but this may mean that there could be performance gains if more memory were available.\n",
      "2022-11-18 08:45:58.274177: W tensorflow/core/common_runtime/bfc_allocator.cc:290] Allocator (GPU_0_bfc) ran out of memory trying to allocate 2.27GiB with freed_by_count=0. The caller indicates that this is not a failure, but this may mean that there could be performance gains if more memory were available.\n",
      "2022-11-18 08:45:58.281414: W tensorflow/core/common_runtime/bfc_allocator.cc:290] Allocator (GPU_0_bfc) ran out of memory trying to allocate 3.02GiB with freed_by_count=0. The caller indicates that this is not a failure, but this may mean that there could be performance gains if more memory were available.\n",
      "2022-11-18 08:45:58.281480: W tensorflow/core/common_runtime/bfc_allocator.cc:290] Allocator (GPU_0_bfc) ran out of memory trying to allocate 3.02GiB with freed_by_count=0. The caller indicates that this is not a failure, but this may mean that there could be performance gains if more memory were available.\n"
     ]
    },
    {
     "name": "stdout",
     "output_type": "stream",
     "text": [
      "\n",
      "Epoch 1: saving model to weights_2.best.hdf1\n"
     ]
    },
    {
     "name": "stderr",
     "output_type": "stream",
     "text": [
      "WARNING:absl:Found untraced functions such as _jit_compiled_convolution_op, _jit_compiled_convolution_op, lstm_cell_layer_call_fn, lstm_cell_layer_call_and_return_conditional_losses, lstm_cell_1_layer_call_fn while saving (showing 5 of 8). These functions will not be directly callable after loading.\n"
     ]
    },
    {
     "name": "stdout",
     "output_type": "stream",
     "text": [
      "INFO:tensorflow:Assets written to: weights_2.best.hdf1/assets\n"
     ]
    },
    {
     "name": "stderr",
     "output_type": "stream",
     "text": [
      "INFO:tensorflow:Assets written to: weights_2.best.hdf1/assets\n"
     ]
    },
    {
     "name": "stdout",
     "output_type": "stream",
     "text": [
      "24595/24595 [==============================] - 1546s 62ms/step - loss: 0.6153 - root_mean_squared_error: 0.7844 - val_loss: 0.0679 - val_root_mean_squared_error: 0.2605 - lr: 0.0010\n",
      "Epoch 2/25\n",
      "24594/24595 [============================>.] - ETA: 0s - loss: 0.3547 - root_mean_squared_error: 0.5956\n",
      "Epoch 2: ReduceLROnPlateau reducing learning rate to 0.0002500000118743628.\n",
      "\n",
      "Epoch 2: saving model to weights_2.best.hdf1\n"
     ]
    },
    {
     "name": "stderr",
     "output_type": "stream",
     "text": [
      "WARNING:absl:Found untraced functions such as _jit_compiled_convolution_op, _jit_compiled_convolution_op, lstm_cell_layer_call_fn, lstm_cell_layer_call_and_return_conditional_losses, lstm_cell_1_layer_call_fn while saving (showing 5 of 8). These functions will not be directly callable after loading.\n"
     ]
    },
    {
     "name": "stdout",
     "output_type": "stream",
     "text": [
      "INFO:tensorflow:Assets written to: weights_2.best.hdf1/assets\n"
     ]
    },
    {
     "name": "stderr",
     "output_type": "stream",
     "text": [
      "INFO:tensorflow:Assets written to: weights_2.best.hdf1/assets\n"
     ]
    },
    {
     "name": "stdout",
     "output_type": "stream",
     "text": [
      "24595/24595 [==============================] - 1537s 62ms/step - loss: 0.3547 - root_mean_squared_error: 0.5956 - val_loss: 0.1957 - val_root_mean_squared_error: 0.4424 - lr: 0.0010\n",
      "Epoch 3/25\n",
      "24594/24595 [============================>.] - ETA: 0s - loss: 0.1719 - root_mean_squared_error: 0.4146\n",
      "Epoch 3: ReduceLROnPlateau reducing learning rate to 6.25000029685907e-05.\n",
      "\n",
      "Epoch 3: saving model to weights_2.best.hdf1\n"
     ]
    },
    {
     "name": "stderr",
     "output_type": "stream",
     "text": [
      "WARNING:absl:Found untraced functions such as _jit_compiled_convolution_op, _jit_compiled_convolution_op, lstm_cell_layer_call_fn, lstm_cell_layer_call_and_return_conditional_losses, lstm_cell_1_layer_call_fn while saving (showing 5 of 8). These functions will not be directly callable after loading.\n"
     ]
    },
    {
     "name": "stdout",
     "output_type": "stream",
     "text": [
      "INFO:tensorflow:Assets written to: weights_2.best.hdf1/assets\n"
     ]
    },
    {
     "name": "stderr",
     "output_type": "stream",
     "text": [
      "INFO:tensorflow:Assets written to: weights_2.best.hdf1/assets\n"
     ]
    },
    {
     "name": "stdout",
     "output_type": "stream",
     "text": [
      "24595/24595 [==============================] - 1538s 63ms/step - loss: 0.1719 - root_mean_squared_error: 0.4146 - val_loss: 0.0901 - val_root_mean_squared_error: 0.3001 - lr: 2.5000e-04\n",
      "Epoch 4/25\n",
      "24594/24595 [============================>.] - ETA: 0s - loss: 0.1311 - root_mean_squared_error: 0.3621\n",
      "Epoch 4: ReduceLROnPlateau reducing learning rate to 1.5625000742147677e-05.\n",
      "\n",
      "Epoch 4: saving model to weights_2.best.hdf1\n"
     ]
    },
    {
     "name": "stderr",
     "output_type": "stream",
     "text": [
      "WARNING:absl:Found untraced functions such as _jit_compiled_convolution_op, _jit_compiled_convolution_op, lstm_cell_layer_call_fn, lstm_cell_layer_call_and_return_conditional_losses, lstm_cell_1_layer_call_fn while saving (showing 5 of 8). These functions will not be directly callable after loading.\n"
     ]
    },
    {
     "name": "stdout",
     "output_type": "stream",
     "text": [
      "INFO:tensorflow:Assets written to: weights_2.best.hdf1/assets\n"
     ]
    },
    {
     "name": "stderr",
     "output_type": "stream",
     "text": [
      "INFO:tensorflow:Assets written to: weights_2.best.hdf1/assets\n"
     ]
    },
    {
     "name": "stdout",
     "output_type": "stream",
     "text": [
      "24595/24595 [==============================] - 1537s 62ms/step - loss: 0.1311 - root_mean_squared_error: 0.3621 - val_loss: 0.0917 - val_root_mean_squared_error: 0.3029 - lr: 6.2500e-05\n",
      "Epoch 4: early stopping\n"
     ]
    }
   ],
   "source": [
    "model.compile(optimizer='adam',loss='mean_squared_error',metrics=[tf.keras.metrics.RootMeanSquaredError()])\n",
    "history = model.fit(x=X_train, y=y_train,epochs=25,verbose=1,batch_size=512, validation_data=(X_valid, y_valid), callbacks=callbacks)"
   ]
  },
  {
   "cell_type": "code",
   "execution_count": 15,
   "id": "cfb4eb8a-0a5c-4ec6-8dab-bf7582ea368e",
   "metadata": {},
   "outputs": [
    {
     "name": "stderr",
     "output_type": "stream",
     "text": [
      "WARNING:absl:Found untraced functions such as _jit_compiled_convolution_op, _jit_compiled_convolution_op, lstm_cell_layer_call_fn, lstm_cell_layer_call_and_return_conditional_losses, lstm_cell_1_layer_call_fn while saving (showing 5 of 8). These functions will not be directly callable after loading.\n"
     ]
    },
    {
     "name": "stdout",
     "output_type": "stream",
     "text": [
      "INFO:tensorflow:Assets written to: weights_2.best.hdf1/assets\n"
     ]
    },
    {
     "name": "stderr",
     "output_type": "stream",
     "text": [
      "INFO:tensorflow:Assets written to: weights_2.best.hdf1/assets\n"
     ]
    }
   ],
   "source": [
    "filepath=\"weights_2.best.hdf1\"\n",
    "model.save(filepath)"
   ]
  },
  {
   "cell_type": "code",
   "execution_count": 16,
   "id": "84bf0da4-afc9-46f8-8a41-820275fb2893",
   "metadata": {},
   "outputs": [
    {
     "data": {
      "image/png": "[encoded data removed]",
      "text/plain": [
       "<Figure size 2160x360 with 2 Axes>"
      ]
     },
     "metadata": {
      "needs_background": "light"
     },
     "output_type": "display_data"
    }
   ],
   "source": [
    "import matplotlib.pyplot as plt\n",
    "plt.figure(figsize=(30, 5))\n",
    "plt.subplot(121)\n",
    "plt.plot(history.history['loss'])\n",
    "plt.plot(history.history['val_loss'])\n",
    "plt.title('Model Loss')\n",
    "plt.ylabel('loss')\n",
    "plt.xlabel('Epoch')\n",
    "plt.legend(['Train', 'Test'], loc='upper left')\n",
    "\n",
    "plt.subplot(122)\n",
    "plt.plot(history.history['root_mean_squared_error'])\n",
    "plt.plot(history.history['val_root_mean_squared_error'])\n",
    "plt.title('Model Metrics')\n",
    "plt.ylabel('RMSE')\n",
    "plt.xlabel('Epoch')\n",
    "plt.legend(['Train', 'Test'], loc='upper left')\n",
    "plt.show()"
   ]
  },
  {
   "cell_type": "code",
   "execution_count": null,
   "id": "464e0c62-4832-4c05-9c9c-bbc2497268b1",
   "metadata": {},
   "outputs": [],
   "source": []
  }
 ],
 "metadata": {
  "kernelspec": {
   "display_name": "Python 3 (ipykernel)",
   "language": "python",
   "name": "python3"
  },
  "language_info": {
   "codemirror_mode": {
    "name": "ipython",
    "version": 3
   },
   "file_extension": ".py",
   "mimetype": "text/x-python",
   "name": "python",
   "nbconvert_exporter": "python",
   "pygments_lexer": "ipython3",
   "version": "3.9.13"
  }
 },
 "nbformat": 4,
 "nbformat_minor": 5
}
