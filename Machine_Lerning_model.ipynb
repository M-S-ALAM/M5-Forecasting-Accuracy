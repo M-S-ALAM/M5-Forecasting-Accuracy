{
 "cells": [
  {
   "cell_type": "code",
   "execution_count": 1,
   "id": "04e54192-7f3e-46f1-a53f-842353a4a736",
   "metadata": {},
   "outputs": [],
   "source": [
    "import numpy as np\n",
    "import matplotlib.pyplot as plt\n",
    "import seaborn as sns\n",
    "import pandas as pd\n",
    "import os\n",
    "import pickle"
   ]
  },
  {
   "cell_type": "code",
   "execution_count": 2,
   "id": "099a1a38-3321-4411-afdb-e8b040a88bef",
   "metadata": {},
   "outputs": [],
   "source": [
    "def reduce_mem_usage(df, verbose=False):\n",
    "    '''\n",
    "    reduce memory usage by downcasting data types\n",
    "    from https://www.kaggle.com/harupy/m5-baseline\n",
    "    '''\n",
    "    \n",
    "    start_mem = df.memory_usage().sum() / 1024 ** 2\n",
    "    int_columns = df.select_dtypes(include=[\"int\"]).columns\n",
    "    float_columns = df.select_dtypes(include=[\"float\"]).columns\n",
    "\n",
    "    for col in int_columns:\n",
    "        df[col] = pd.to_numeric(df[col], downcast=\"integer\")\n",
    "\n",
    "    for col in float_columns:\n",
    "        df[col] = pd.to_numeric(df[col], downcast=\"float\")\n",
    "\n",
    "    end_mem = df.memory_usage().sum() / 1024 ** 2\n",
    "    if verbose:\n",
    "        print(\n",
    "            \"Mem. usage decreased to {:5.2f} Mb ({:.1f}% reduction)\".format(\n",
    "                end_mem, 100 * (start_mem - end_mem) / start_mem\n",
    "            )\n",
    "        )\n",
    "    return df"
   ]
  },
  {
   "cell_type": "code",
   "execution_count": 3,
   "id": "c59ccc4d-d50f-4d8c-a3ac-6a22b7e4e68b",
   "metadata": {},
   "outputs": [
    {
     "data": {
      "text/html": [
       "<div>\n",
       "<style scoped>\n",
       "    .dataframe tbody tr th:only-of-type {\n",
       "        vertical-align: middle;\n",
       "    }\n",
       "\n",
       "    .dataframe tbody tr th {\n",
       "        vertical-align: top;\n",
       "    }\n",
       "\n",
       "    .dataframe thead th {\n",
       "        text-align: right;\n",
       "    }\n",
       "</style>\n",
       "<table border=\"1\" class=\"dataframe\">\n",
       "  <thead>\n",
       "    <tr style=\"text-align: right;\">\n",
       "      <th></th>\n",
       "      <th>id</th>\n",
       "      <th>item_id</th>\n",
       "      <th>dept_id</th>\n",
       "      <th>cat_id</th>\n",
       "      <th>store_id</th>\n",
       "      <th>state_id</th>\n",
       "      <th>d</th>\n",
       "      <th>demand</th>\n",
       "      <th>date</th>\n",
       "      <th>wm_yr_wk</th>\n",
       "      <th>...</th>\n",
       "      <th>lag_21</th>\n",
       "      <th>lag_28</th>\n",
       "      <th>lag_30</th>\n",
       "      <th>lag_45</th>\n",
       "      <th>lag_60</th>\n",
       "      <th>lag_80</th>\n",
       "      <th>expanding_sold_mean</th>\n",
       "      <th>daily_avg_sold</th>\n",
       "      <th>avg_sold</th>\n",
       "      <th>selling_trend</th>\n",
       "    </tr>\n",
       "  </thead>\n",
       "  <tbody>\n",
       "    <tr>\n",
       "      <th>6098000</th>\n",
       "      <td>HOBBIES_1_001_CA_1_evaluation</td>\n",
       "      <td>HOBBIES_1_001</td>\n",
       "      <td>HOBBIES_1</td>\n",
       "      <td>HOBBIES</td>\n",
       "      <td>CA_1</td>\n",
       "      <td>CA</td>\n",
       "      <td>1501</td>\n",
       "      <td>0</td>\n",
       "      <td>2015-03-09</td>\n",
       "      <td>11506</td>\n",
       "      <td>...</td>\n",
       "      <td>0.0</td>\n",
       "      <td>0.0</td>\n",
       "      <td>2.0</td>\n",
       "      <td>0.0</td>\n",
       "      <td>2.0</td>\n",
       "      <td>0.0</td>\n",
       "      <td>0.646973</td>\n",
       "      <td>0.0</td>\n",
       "      <td>0.669434</td>\n",
       "      <td>-0.669434</td>\n",
       "    </tr>\n",
       "    <tr>\n",
       "      <th>6098001</th>\n",
       "      <td>HOBBIES_1_002_CA_1_evaluation</td>\n",
       "      <td>HOBBIES_1_002</td>\n",
       "      <td>HOBBIES_1</td>\n",
       "      <td>HOBBIES</td>\n",
       "      <td>CA_1</td>\n",
       "      <td>CA</td>\n",
       "      <td>1501</td>\n",
       "      <td>1</td>\n",
       "      <td>2015-03-09</td>\n",
       "      <td>11506</td>\n",
       "      <td>...</td>\n",
       "      <td>0.0</td>\n",
       "      <td>0.0</td>\n",
       "      <td>0.0</td>\n",
       "      <td>0.0</td>\n",
       "      <td>0.0</td>\n",
       "      <td>1.0</td>\n",
       "      <td>0.318359</td>\n",
       "      <td>1.0</td>\n",
       "      <td>0.304932</td>\n",
       "      <td>0.695312</td>\n",
       "    </tr>\n",
       "  </tbody>\n",
       "</table>\n",
       "<p>2 rows × 85 columns</p>\n",
       "</div>"
      ],
      "text/plain": [
       "                                    id        item_id    dept_id   cat_id  \\\n",
       "6098000  HOBBIES_1_001_CA_1_evaluation  HOBBIES_1_001  HOBBIES_1  HOBBIES   \n",
       "6098001  HOBBIES_1_002_CA_1_evaluation  HOBBIES_1_002  HOBBIES_1  HOBBIES   \n",
       "\n",
       "        store_id state_id     d  demand        date  wm_yr_wk  ... lag_21  \\\n",
       "6098000     CA_1       CA  1501       0  2015-03-09     11506  ...    0.0   \n",
       "6098001     CA_1       CA  1501       1  2015-03-09     11506  ...    0.0   \n",
       "\n",
       "         lag_28  lag_30  lag_45 lag_60 lag_80 expanding_sold_mean  \\\n",
       "6098000     0.0     2.0     0.0    2.0    0.0            0.646973   \n",
       "6098001     0.0     0.0     0.0    0.0    1.0            0.318359   \n",
       "\n",
       "        daily_avg_sold  avg_sold  selling_trend  \n",
       "6098000            0.0  0.669434      -0.669434  \n",
       "6098001            1.0  0.304932       0.695312  \n",
       "\n",
       "[2 rows x 85 columns]"
      ]
     },
     "execution_count": 3,
     "metadata": {},
     "output_type": "execute_result"
    }
   ],
   "source": [
    "data=pd.read_pickle('/notebooks/final_data.pkl').pipe(reduce_mem_usage)\n",
    "data.head(2)"
   ]
  },
  {
   "cell_type": "code",
   "execution_count": 4,
   "id": "db0323f3-3131-43ae-810e-04a98be7a596",
   "metadata": {},
   "outputs": [
    {
     "name": "stderr",
     "output_type": "stream",
     "text": [
      "100%|██████████| 11/11 [00:00<00:00, 42.36it/s]\n"
     ]
    }
   ],
   "source": [
    "from tqdm import tqdm\n",
    "for col in tqdm(['id','item_id','dept_id','cat_id','store_id','state_id','event_name_1','event_type_1','event_type_2','event_name_2','weekday']):\n",
    "    data[col] = data[col].astype('category')"
   ]
  },
  {
   "cell_type": "code",
   "execution_count": 5,
   "id": "c14406fb-824f-4441-96f1-b55c46f5d039",
   "metadata": {},
   "outputs": [],
   "source": [
    "d_id = dict(zip(data.id.cat.codes, data.id))\n",
    "d_item_id = dict(zip(data.item_id.cat.codes, data.item_id))\n",
    "d_dept_id = dict(zip(data.dept_id.cat.codes, data.dept_id))\n",
    "d_cat_id = dict(zip(data.cat_id.cat.codes, data.cat_id))\n",
    "d_store_id = dict(zip(data.store_id.cat.codes, data.store_id))\n",
    "d_state_id = dict(zip(data.state_id.cat.codes, data.state_id))"
   ]
  },
  {
   "cell_type": "code",
   "execution_count": 6,
   "id": "98a45ceb-5ebb-4f53-abd6-d8d3afe935c7",
   "metadata": {},
   "outputs": [],
   "source": [
    "cols = data.dtypes.index.tolist()\n",
    "d_types = data.dtypes.values.tolist()\n",
    "for i,type in enumerate(d_types):\n",
    "    if type.name == 'category':\n",
    "        data[cols[i]] = data[cols[i]].cat.codes"
   ]
  },
  {
   "cell_type": "code",
   "execution_count": 7,
   "id": "95d916d1-3a41-4f96-a5a0-cc65c0f684af",
   "metadata": {},
   "outputs": [],
   "source": [
    "data.drop(['date'],axis=1,inplace=True)"
   ]
  },
  {
   "cell_type": "code",
   "execution_count": 8,
   "id": "b7a1874a-e2a7-46fa-b1e9-2e437a1902c0",
   "metadata": {},
   "outputs": [
    {
     "name": "stdout",
     "output_type": "stream",
     "text": [
      "/notebooks\n"
     ]
    }
   ],
   "source": [
    "!pwd"
   ]
  },
  {
   "cell_type": "code",
   "execution_count": 9,
   "id": "03c7086c-21cb-490e-b2fa-dfdd9491d262",
   "metadata": {},
   "outputs": [],
   "source": [
    "X_train, y_train = data[data['d']<1914].drop('demand',axis=1), data[data['d']<1914]['demand']\n",
    "X_valid, y_valid = data[(data['d']>=1914) & (data['d']<1942)].drop('demand',axis=1), data[(data['d']>=1914) & (data['d']<1942)]['demand']\n",
    "X_test = data[data['d']>=1942].drop('demand',axis=1)"
   ]
  },
  {
   "cell_type": "code",
   "execution_count": 10,
   "id": "03ce69b4-a3ba-4370-b691-529bab0f6b57",
   "metadata": {},
   "outputs": [],
   "source": [
    "def rmse(pred,value):\n",
    "    return np.sqrt(((pred-value)**2).mean())"
   ]
  },
  {
   "cell_type": "markdown",
   "id": "9ca62041-e004-4183-af18-65c2765bf65b",
   "metadata": {},
   "source": [
    "# LinearRegression"
   ]
  },
  {
   "cell_type": "code",
   "execution_count": 11,
   "id": "b77bbefd-188d-4b82-8b9f-b9cadc33ec7b",
   "metadata": {},
   "outputs": [
    {
     "name": "stdout",
     "output_type": "stream",
     "text": [
      "Rmse: 0.002641104394569993\n"
     ]
    }
   ],
   "source": [
    "from sklearn.linear_model import LinearRegression\n",
    "lr=LinearRegression(n_jobs=-1)\n",
    "lr.fit(X_train,y_train)\n",
    "y_pred=lr.predict(X_valid)\n",
    "print(\"Rmse: {}\".format(rmse(y_pred,y_valid)))\n"
   ]
  },
  {
   "cell_type": "code",
   "execution_count": 12,
   "id": "4328d195-ea55-4635-ae50-03cd40a30297",
   "metadata": {},
   "outputs": [
    {
     "data": {
      "image/png": "[encoded data removed]",
      "text/plain": [
       "<Figure size 504x576 with 1 Axes>"
      ]
     },
     "metadata": {
      "needs_background": "light"
     },
     "output_type": "display_data"
    }
   ],
   "source": [
    "importance_df = pd.DataFrame()\n",
    "importance_df[\"feature\"] = X_train.columns\n",
    "importance_df[\"importance\"] = lr.coef_\n",
    "    \n",
    "def display_importances(feature_importance_df_):\n",
    "    cols = feature_importance_df_[[\"feature\", \"importance\"]].groupby(\"feature\").mean().sort_values(by=\"importance\", ascending=False)[:15].index\n",
    "    best_features = feature_importance_df_.loc[feature_importance_df_.feature.isin(cols)]\n",
    "    plt.figure(figsize=(7, 8))\n",
    "    sns.barplot(x=\"importance\", y=\"feature\", data=best_features.sort_values(by=\"importance\", ascending=False))\n",
    "    plt.title('LinearRegression Features')\n",
    "    plt.tight_layout()\n",
    "    \n",
    "display_importances(importance_df)"
   ]
  },
  {
   "cell_type": "markdown",
   "id": "b323c295-8c6b-4f25-8977-a3f2ec250d26",
   "metadata": {},
   "source": [
    "# DecisionTree Regressor"
   ]
  },
  {
   "cell_type": "code",
   "execution_count": 13,
   "id": "d1133c34-5971-4b5a-a954-fc9e0ab04319",
   "metadata": {},
   "outputs": [
    {
     "name": "stderr",
     "output_type": "stream",
     "text": [
      " 10%|█         | 1/10 [03:19<29:58, 199.80s/it]"
     ]
    },
    {
     "name": "stdout",
     "output_type": "stream",
     "text": [
      "\n",
      "\n",
      "max_depth: 87   min_samples_split: 403   min_samples_leaf: 306   Rmse: 0.08088444572232606\n",
      "----------------------------------------------------------------------------------------------------\n"
     ]
    },
    {
     "name": "stderr",
     "output_type": "stream",
     "text": [
      " 20%|██        | 2/10 [06:39<26:36, 199.54s/it]"
     ]
    },
    {
     "name": "stdout",
     "output_type": "stream",
     "text": [
      "\n",
      "\n",
      "max_depth: 106   min_samples_split: 280   min_samples_leaf: 64   Rmse: 0.06673395340572601\n",
      "----------------------------------------------------------------------------------------------------\n"
     ]
    },
    {
     "name": "stderr",
     "output_type": "stream",
     "text": [
      " 30%|███       | 3/10 [09:59<23:20, 200.08s/it]"
     ]
    },
    {
     "name": "stdout",
     "output_type": "stream",
     "text": [
      "\n",
      "\n",
      "max_depth: 49   min_samples_split: 69   min_samples_leaf: 116   Rmse: 0.021527462557423008\n",
      "----------------------------------------------------------------------------------------------------\n"
     ]
    },
    {
     "name": "stderr",
     "output_type": "stream",
     "text": [
      " 40%|████      | 4/10 [13:26<20:15, 202.52s/it]"
     ]
    },
    {
     "name": "stdout",
     "output_type": "stream",
     "text": [
      "\n",
      "\n",
      "max_depth: 79   min_samples_split: 159   min_samples_leaf: 335   Rmse: 0.05535995566632401\n",
      "----------------------------------------------------------------------------------------------------\n"
     ]
    },
    {
     "name": "stderr",
     "output_type": "stream",
     "text": [
      " 50%|█████     | 5/10 [16:54<17:03, 204.64s/it]"
     ]
    },
    {
     "name": "stdout",
     "output_type": "stream",
     "text": [
      "\n",
      "\n",
      "max_depth: 128   min_samples_split: 183   min_samples_leaf: 442   Rmse: 0.055898457049682736\n",
      "----------------------------------------------------------------------------------------------------\n"
     ]
    },
    {
     "name": "stderr",
     "output_type": "stream",
     "text": [
      " 60%|██████    | 6/10 [20:16<13:34, 203.69s/it]"
     ]
    },
    {
     "name": "stdout",
     "output_type": "stream",
     "text": [
      "\n",
      "\n",
      "max_depth: 106   min_samples_split: 353   min_samples_leaf: 497   Rmse: 0.06399247981236453\n",
      "----------------------------------------------------------------------------------------------------\n"
     ]
    },
    {
     "name": "stderr",
     "output_type": "stream",
     "text": [
      " 70%|███████   | 7/10 [23:36<10:07, 202.67s/it]"
     ]
    },
    {
     "name": "stdout",
     "output_type": "stream",
     "text": [
      "\n",
      "\n",
      "max_depth: 48   min_samples_split: 288   min_samples_leaf: 178   Rmse: 0.06217046437677285\n",
      "----------------------------------------------------------------------------------------------------\n"
     ]
    },
    {
     "name": "stderr",
     "output_type": "stream",
     "text": [
      " 80%|████████  | 8/10 [26:57<06:43, 201.97s/it]"
     ]
    },
    {
     "name": "stdout",
     "output_type": "stream",
     "text": [
      "\n",
      "\n",
      "max_depth: 132   min_samples_split: 504   min_samples_leaf: 265   Rmse: 0.10061099170111709\n",
      "----------------------------------------------------------------------------------------------------\n"
     ]
    },
    {
     "name": "stderr",
     "output_type": "stream",
     "text": [
      " 90%|█████████ | 9/10 [30:17<03:21, 201.37s/it]"
     ]
    },
    {
     "name": "stdout",
     "output_type": "stream",
     "text": [
      "\n",
      "\n",
      "max_depth: 125   min_samples_split: 575   min_samples_leaf: 72   Rmse: 0.10333224378608999\n",
      "----------------------------------------------------------------------------------------------------\n"
     ]
    },
    {
     "name": "stderr",
     "output_type": "stream",
     "text": [
      "100%|██████████| 10/10 [33:40<00:00, 202.04s/it]"
     ]
    },
    {
     "name": "stdout",
     "output_type": "stream",
     "text": [
      "\n",
      "\n",
      "max_depth: 52   min_samples_split: 25   min_samples_leaf: 293   Rmse: 0.008081689548930113\n",
      "----------------------------------------------------------------------------------------------------\n"
     ]
    },
    {
     "name": "stderr",
     "output_type": "stream",
     "text": [
      "\n"
     ]
    }
   ],
   "source": [
    "from sklearn.tree import DecisionTreeRegressor\n",
    "import random\n",
    "for i in tqdm(range(10)): \n",
    "    max_depth=random.randint(1,200)\n",
    "    min_samples_split=random.randint(10,600)\n",
    "    min_samples_leaf=random.randint(20,500)\n",
    "    dt=DecisionTreeRegressor(max_depth=max_depth,min_samples_split=min_samples_split,max_leaf_nodes=min_samples_leaf)\n",
    "    dt.fit(X_train,y_train)\n",
    "    y_pred=dt.predict(X_valid)\n",
    "    print(\"\\n\\nmax_depth: {}\".format(max_depth),\"  min_samples_split: {}\".format(min_samples_split),\"  min_samples_leaf: {}\".format(min_samples_leaf),\"  Rmse: {}\".format(rmse(y_pred,y_valid)))\n",
    "    print(\"-\"*100)"
   ]
  },
  {
   "cell_type": "code",
   "execution_count": 15,
   "id": "46678983-c65b-4961-931f-ada7e43bd085",
   "metadata": {},
   "outputs": [
    {
     "name": "stdout",
     "output_type": "stream",
     "text": [
      "max_depth: 52   min_samples_split: 25   min_samples_leaf: 293 Rmse: 0.008081689548930113\n"
     ]
    }
   ],
   "source": [
    "max_depth=52\n",
    "min_samples_split=25\n",
    "min_samples_leaf=293\n",
    "dt=DecisionTreeRegressor(max_depth=max_depth,min_samples_split=min_samples_split,max_leaf_nodes=min_samples_leaf)\n",
    "dt.fit(X_train,y_train)\n",
    "y_pred=dt.predict(X_valid)\n",
    "print(\"max_depth: {}\".format(max_depth),\"  min_samples_split: {}\".format(min_samples_split),\"  min_samples_leaf: {}\".format(min_samples_leaf),\"Rmse: {}\".format(rmse(y_pred,y_valid)))"
   ]
  },
  {
   "cell_type": "code",
   "execution_count": 16,
   "id": "370a8051-0c01-4172-a47e-05612c02c3e1",
   "metadata": {},
   "outputs": [
    {
     "data": {
      "image/png": "[encoded data removed]",
      "text/plain": [
       "<Figure size 504x576 with 1 Axes>"
      ]
     },
     "metadata": {
      "needs_background": "light"
     },
     "output_type": "display_data"
    }
   ],
   "source": [
    "importance_df = pd.DataFrame()\n",
    "importance_df[\"feature\"] = X_train.columns\n",
    "importance_df[\"importance\"] = dt.feature_importances_\n",
    "    \n",
    "def display_importances(feature_importance_df_):\n",
    "    cols = feature_importance_df_[[\"feature\", \"importance\"]].groupby(\"feature\").mean().sort_values(by=\"importance\", ascending=False)[:15].index\n",
    "    best_features = feature_importance_df_.loc[feature_importance_df_.feature.isin(cols)]\n",
    "    plt.figure(figsize=(7, 8))\n",
    "    sns.barplot(x=\"importance\", y=\"feature\", data=best_features.sort_values(by=\"importance\", ascending=False))\n",
    "    plt.title('DecisionTree Regression Features')\n",
    "    plt.tight_layout()\n",
    "    \n",
    "display_importances(importance_df)"
   ]
  },
  {
   "cell_type": "markdown",
   "id": "e985420b-698b-4186-91ad-b46d762068e7",
   "metadata": {},
   "source": [
    "# LGBM Regressor"
   ]
  },
  {
   "cell_type": "code",
   "execution_count": 17,
   "id": "3e893330-bcd7-4fce-97f6-5ea1db2bb31c",
   "metadata": {},
   "outputs": [
    {
     "name": "stdout",
     "output_type": "stream",
     "text": [
      "Collecting lightgbm\n",
      "  Downloading lightgbm-3.3.3-py3-none-manylinux1_x86_64.whl (2.0 MB)\n",
      "\u001b[2K     \u001b[90m━━━━━━━━━━━━━━━━━━━━━━━━━━━━━━━━━━━━━━━━\u001b[0m \u001b[32m2.0/2.0 MB\u001b[0m \u001b[31m81.4 MB/s\u001b[0m eta \u001b[36m0:00:00\u001b[0m\n",
      "\u001b[?25hRequirement already satisfied: scipy in /usr/local/lib/python3.9/dist-packages (from lightgbm) (1.8.1)\n",
      "Requirement already satisfied: wheel in /usr/local/lib/python3.9/dist-packages (from lightgbm) (0.35.1)\n",
      "Requirement already satisfied: scikit-learn!=0.22.0 in /usr/local/lib/python3.9/dist-packages (from lightgbm) (1.1.1)\n",
      "Requirement already satisfied: numpy in /usr/local/lib/python3.9/dist-packages (from lightgbm) (1.23.1)\n",
      "Requirement already satisfied: threadpoolctl>=2.0.0 in /usr/local/lib/python3.9/dist-packages (from scikit-learn!=0.22.0->lightgbm) (3.1.0)\n",
      "Requirement already satisfied: joblib>=1.0.0 in /usr/local/lib/python3.9/dist-packages (from scikit-learn!=0.22.0->lightgbm) (1.1.0)\n",
      "Installing collected packages: lightgbm\n",
      "Successfully installed lightgbm-3.3.3\n",
      "\u001b[33mWARNING: Running pip as the 'root' user can result in broken permissions and conflicting behaviour with the system package manager. It is recommended to use a virtual environment instead: https://pip.pypa.io/warnings/venv\u001b[0m\u001b[33m\n",
      "\u001b[0m"
     ]
    }
   ],
   "source": [
    "!pip install lightgbm"
   ]
  },
  {
   "cell_type": "code",
   "execution_count": 19,
   "id": "83d176be-b551-4e70-a477-db5ef3407311",
   "metadata": {},
   "outputs": [
    {
     "name": "stderr",
     "output_type": "stream",
     "text": [
      "  7%|▋         | 1/15 [01:42<23:51, 102.25s/it]"
     ]
    },
    {
     "name": "stdout",
     "output_type": "stream",
     "text": [
      "\n",
      "learning_rate: 0.0359   max_depth: 47   num_leaves: 109   Rmse: 0.10496935417812837\n",
      "------------------------------------------------------------------------------------------------------------------------\n"
     ]
    },
    {
     "name": "stderr",
     "output_type": "stream",
     "text": [
      " 13%|█▎        | 2/15 [03:20<21:39, 99.95s/it] "
     ]
    },
    {
     "name": "stdout",
     "output_type": "stream",
     "text": [
      "\n",
      "learning_rate: 0.0045   max_depth: 90   num_leaves: 166   Rmse: 2.320816498893697\n",
      "------------------------------------------------------------------------------------------------------------------------\n"
     ]
    },
    {
     "name": "stderr",
     "output_type": "stream",
     "text": [
      " 20%|██        | 3/15 [05:04<20:22, 101.86s/it]"
     ]
    },
    {
     "name": "stdout",
     "output_type": "stream",
     "text": [
      "\n",
      "learning_rate: 0.0445   max_depth: 114   num_leaves: 208   Rmse: 0.06239371051621268\n",
      "------------------------------------------------------------------------------------------------------------------------\n"
     ]
    },
    {
     "name": "stderr",
     "output_type": "stream",
     "text": [
      " 27%|██▋       | 4/15 [06:44<18:32, 101.13s/it]"
     ]
    },
    {
     "name": "stdout",
     "output_type": "stream",
     "text": [
      "\n",
      "learning_rate: 0.0054   max_depth: 86   num_leaves: 175   Rmse: 2.120028254325059\n",
      "------------------------------------------------------------------------------------------------------------------------\n"
     ]
    },
    {
     "name": "stderr",
     "output_type": "stream",
     "text": [
      " 33%|███▎      | 5/15 [08:17<16:22, 98.26s/it] "
     ]
    },
    {
     "name": "stdout",
     "output_type": "stream",
     "text": [
      "\n",
      "learning_rate: 0.0249   max_depth: 7   num_leaves: 108   Rmse: 0.2949638015011531\n",
      "------------------------------------------------------------------------------------------------------------------------\n"
     ]
    },
    {
     "name": "stderr",
     "output_type": "stream",
     "text": [
      " 40%|████      | 6/15 [09:57<14:48, 98.72s/it]"
     ]
    },
    {
     "name": "stdout",
     "output_type": "stream",
     "text": [
      "\n",
      "learning_rate: 0.0072   max_depth: 105   num_leaves: 93   Rmse: 1.7684486289501848\n",
      "------------------------------------------------------------------------------------------------------------------------\n"
     ]
    },
    {
     "name": "stderr",
     "output_type": "stream",
     "text": [
      " 47%|████▋     | 7/15 [11:38<13:15, 99.40s/it]"
     ]
    },
    {
     "name": "stdout",
     "output_type": "stream",
     "text": [
      "\n",
      "learning_rate: 0.0147   max_depth: 31   num_leaves: 140   Rmse: 0.8281102644076813\n",
      "------------------------------------------------------------------------------------------------------------------------\n"
     ]
    },
    {
     "name": "stderr",
     "output_type": "stream",
     "text": [
      " 53%|█████▎    | 8/15 [13:18<11:37, 99.65s/it]"
     ]
    },
    {
     "name": "stdout",
     "output_type": "stream",
     "text": [
      "\n",
      "learning_rate: 0.0035   max_depth: 97   num_leaves: 95   Rmse: 2.5659811921546782\n",
      "------------------------------------------------------------------------------------------------------------------------\n"
     ]
    },
    {
     "name": "stderr",
     "output_type": "stream",
     "text": [
      " 60%|██████    | 9/15 [15:00<10:02, 100.47s/it]"
     ]
    },
    {
     "name": "stdout",
     "output_type": "stream",
     "text": [
      "\n",
      "learning_rate: 0.0256   max_depth: 81   num_leaves: 263   Rmse: 0.2744052307734476\n",
      "------------------------------------------------------------------------------------------------------------------------\n"
     ]
    },
    {
     "name": "stderr",
     "output_type": "stream",
     "text": [
      " 67%|██████▋   | 10/15 [16:34<08:12, 98.50s/it]"
     ]
    },
    {
     "name": "stdout",
     "output_type": "stream",
     "text": [
      "\n",
      "learning_rate: 0.0187   max_depth: 24   num_leaves: 144   Rmse: 0.5517611982502039\n",
      "------------------------------------------------------------------------------------------------------------------------\n"
     ]
    },
    {
     "name": "stderr",
     "output_type": "stream",
     "text": [
      " 73%|███████▎  | 11/15 [18:12<06:33, 98.31s/it]"
     ]
    },
    {
     "name": "stdout",
     "output_type": "stream",
     "text": [
      "\n",
      "learning_rate: 0.0178   max_depth: 13   num_leaves: 258   Rmse: 0.6043845195887448\n",
      "------------------------------------------------------------------------------------------------------------------------\n"
     ]
    },
    {
     "name": "stderr",
     "output_type": "stream",
     "text": [
      " 80%|████████  | 12/15 [19:39<04:44, 94.91s/it]"
     ]
    },
    {
     "name": "stdout",
     "output_type": "stream",
     "text": [
      "\n",
      "learning_rate: 0.0355   max_depth: 135   num_leaves: 54   Rmse: 0.10806583939225903\n",
      "------------------------------------------------------------------------------------------------------------------------\n"
     ]
    },
    {
     "name": "stderr",
     "output_type": "stream",
     "text": [
      " 87%|████████▋ | 13/15 [21:04<03:03, 91.71s/it]"
     ]
    },
    {
     "name": "stdout",
     "output_type": "stream",
     "text": [
      "\n",
      "learning_rate: 0.0076   max_depth: 140   num_leaves: 96   Rmse: 1.6984586745062944\n",
      "------------------------------------------------------------------------------------------------------------------------\n"
     ]
    },
    {
     "name": "stderr",
     "output_type": "stream",
     "text": [
      " 93%|█████████▎| 14/15 [22:33<01:30, 90.91s/it]"
     ]
    },
    {
     "name": "stdout",
     "output_type": "stream",
     "text": [
      "\n",
      "learning_rate: 0.0207   max_depth: 19   num_leaves: 171   Rmse: 0.4503403186029524\n",
      "------------------------------------------------------------------------------------------------------------------------\n"
     ]
    },
    {
     "name": "stderr",
     "output_type": "stream",
     "text": [
      "100%|██████████| 15/15 [24:09<00:00, 96.67s/it]"
     ]
    },
    {
     "name": "stdout",
     "output_type": "stream",
     "text": [
      "\n",
      "learning_rate: 0.0233   max_depth: 180   num_leaves: 296   Rmse: 0.34589929734957064\n",
      "------------------------------------------------------------------------------------------------------------------------\n"
     ]
    },
    {
     "name": "stderr",
     "output_type": "stream",
     "text": [
      "\n"
     ]
    }
   ],
   "source": [
    "from lightgbm import LGBMRegressor\n",
    "for i in tqdm(range(15)):\n",
    "    learning_rate=np.round(np.random.uniform(0.001,0.05),4)\n",
    "    max_depth=np.random.randint(5,200)\n",
    "    num_leaves=np.random.randint(20,300)\n",
    "    lgb=LGBMRegressor(learning_rate=learning_rate,max_depth=max_depth,num_leaves=num_leaves,n_jobs=-1,n_estimators=100)\n",
    "    lgb.fit(X_train,y_train)\n",
    "    y_pred=lgb.predict(X_valid)\n",
    "    print(\"\\nlearning_rate: {}\".format(learning_rate),\"  max_depth: {}\".format(max_depth),\"  num_leaves: {}\".format(num_leaves),\"  Rmse: {}\".format(rmse(y_pred,y_valid)))\n",
    "    print(\"-\"*120)"
   ]
  },
  {
   "cell_type": "code",
   "execution_count": 21,
   "id": "b8f762a5-c7e6-4faf-add9-ee13020b2fb6",
   "metadata": {},
   "outputs": [
    {
     "name": "stdout",
     "output_type": "stream",
     "text": [
      "learning_rate: 0.0355   max_depth: 135   num_leaves: 54   Rmse: 0.10806583939225903\n"
     ]
    }
   ],
   "source": [
    "learning_rate=0.0355\n",
    "max_depth=135\n",
    "num_leaves=54\n",
    "lgb=LGBMRegressor(learning_rate=learning_rate,max_depth=max_depth,num_leaves=num_leaves,n_jobs=-1,n_estimators=100)\n",
    "lgb.fit(X_train,y_train)\n",
    "y_pred=lgb.predict(X_valid)\n",
    "print(\"learning_rate: {}\".format(learning_rate),\"  max_depth: {}\".format(max_depth),\"  num_leaves: {}\".format(num_leaves),\"  Rmse: {}\".format(rmse(y_pred,y_valid)))"
   ]
  },
  {
   "cell_type": "code",
   "execution_count": 22,
   "id": "7a0cd6c5-541e-452c-b9bd-896a85aed405",
   "metadata": {},
   "outputs": [
    {
     "data": {
      "image/png": "[encoded data removed]",
      "text/plain": [
       "<Figure size 504x576 with 1 Axes>"
      ]
     },
     "metadata": {
      "needs_background": "light"
     },
     "output_type": "display_data"
    }
   ],
   "source": [
    "importance_df = pd.DataFrame()\n",
    "importance_df[\"feature\"] = X_train.columns\n",
    "importance_df[\"importance\"] = lgb.feature_importances_\n",
    "    \n",
    "def display_importances(feature_importance_df_):\n",
    "    cols = feature_importance_df_[[\"feature\", \"importance\"]].groupby(\"feature\").mean().sort_values(by=\"importance\", ascending=False)[:15].index\n",
    "    best_features = feature_importance_df_.loc[feature_importance_df_.feature.isin(cols)]\n",
    "    plt.figure(figsize=(7, 8))\n",
    "    sns.barplot(x=\"importance\", y=\"feature\", data=best_features.sort_values(by=\"importance\", ascending=False))\n",
    "    plt.title('LGBMRegressor Features')\n",
    "    plt.tight_layout()\n",
    "    \n",
    "display_importances(importance_df)"
   ]
  },
  {
   "cell_type": "markdown",
   "id": "c2e621c3-25d6-4fae-89d7-3fa954f9ee7d",
   "metadata": {},
   "source": [
    "# XGBoost Regressor"
   ]
  },
  {
   "cell_type": "code",
   "execution_count": 24,
   "id": "f9b0d019-d154-4c7f-a631-9bf3f8b0009c",
   "metadata": {},
   "outputs": [
    {
     "name": "stderr",
     "output_type": "stream",
     "text": [
      " 10%|█         | 1/10 [00:39<05:58, 39.86s/it]"
     ]
    },
    {
     "name": "stdout",
     "output_type": "stream",
     "text": [
      "\n",
      "learning_rate: 0.0059   max_leaves: 77   min_child_weight: 81   Rmse: 2.1146366596221924\n",
      "----------------------------------------------------------------------------------------------------\n"
     ]
    },
    {
     "name": "stderr",
     "output_type": "stream",
     "text": [
      " 20%|██        | 2/10 [01:18<05:15, 39.43s/it]"
     ]
    },
    {
     "name": "stdout",
     "output_type": "stream",
     "text": [
      "\n",
      "learning_rate: 0.0188   max_leaves: 62   min_child_weight: 65   Rmse: 0.6129684448242188\n",
      "----------------------------------------------------------------------------------------------------\n"
     ]
    },
    {
     "name": "stderr",
     "output_type": "stream",
     "text": [
      " 30%|███       | 3/10 [01:57<04:33, 39.11s/it]"
     ]
    },
    {
     "name": "stdout",
     "output_type": "stream",
     "text": [
      "\n",
      "learning_rate: 0.0451   max_leaves: 80   min_child_weight: 36   Rmse: 0.16370414197444916\n",
      "----------------------------------------------------------------------------------------------------\n"
     ]
    },
    {
     "name": "stderr",
     "output_type": "stream",
     "text": [
      " 40%|████      | 4/10 [02:38<03:57, 39.64s/it]"
     ]
    },
    {
     "name": "stdout",
     "output_type": "stream",
     "text": [
      "\n",
      "learning_rate: 0.0264   max_leaves: 79   min_child_weight: 85   Rmse: 0.3221835196018219\n",
      "----------------------------------------------------------------------------------------------------\n"
     ]
    },
    {
     "name": "stderr",
     "output_type": "stream",
     "text": [
      " 50%|█████     | 5/10 [03:17<03:17, 39.42s/it]"
     ]
    },
    {
     "name": "stdout",
     "output_type": "stream",
     "text": [
      "\n",
      "learning_rate: 0.0258   max_leaves: 42   min_child_weight: 45   Rmse: 0.34355008602142334\n",
      "----------------------------------------------------------------------------------------------------\n"
     ]
    },
    {
     "name": "stderr",
     "output_type": "stream",
     "text": [
      " 60%|██████    | 6/10 [03:54<02:34, 38.65s/it]"
     ]
    },
    {
     "name": "stdout",
     "output_type": "stream",
     "text": [
      "\n",
      "learning_rate: 0.0434   max_leaves: 25   min_child_weight: 83   Rmse: 0.18655599653720856\n",
      "----------------------------------------------------------------------------------------------------\n"
     ]
    },
    {
     "name": "stderr",
     "output_type": "stream",
     "text": [
      " 70%|███████   | 7/10 [04:33<01:56, 38.69s/it]"
     ]
    },
    {
     "name": "stdout",
     "output_type": "stream",
     "text": [
      "\n",
      "learning_rate: 0.0312   max_leaves: 60   min_child_weight: 57   Rmse: 0.23670755326747894\n",
      "----------------------------------------------------------------------------------------------------\n"
     ]
    },
    {
     "name": "stderr",
     "output_type": "stream",
     "text": [
      " 80%|████████  | 8/10 [05:11<01:17, 38.69s/it]"
     ]
    },
    {
     "name": "stdout",
     "output_type": "stream",
     "text": [
      "\n",
      "learning_rate: 0.008   max_leaves: 44   min_child_weight: 62   Rmse: 1.7252520322799683\n",
      "----------------------------------------------------------------------------------------------------\n"
     ]
    },
    {
     "name": "stderr",
     "output_type": "stream",
     "text": [
      " 90%|█████████ | 9/10 [05:51<00:38, 38.89s/it]"
     ]
    },
    {
     "name": "stdout",
     "output_type": "stream",
     "text": [
      "\n",
      "learning_rate: 0.0157   max_leaves: 93   min_child_weight: 49   Rmse: 0.8190671801567078\n",
      "----------------------------------------------------------------------------------------------------\n"
     ]
    },
    {
     "name": "stderr",
     "output_type": "stream",
     "text": [
      "100%|██████████| 10/10 [06:31<00:00, 39.17s/it]"
     ]
    },
    {
     "name": "stdout",
     "output_type": "stream",
     "text": [
      "\n",
      "learning_rate: 0.0393   max_leaves: 83   min_child_weight: 92   Rmse: 0.18081003427505493\n",
      "----------------------------------------------------------------------------------------------------\n"
     ]
    },
    {
     "name": "stderr",
     "output_type": "stream",
     "text": [
      "\n"
     ]
    }
   ],
   "source": [
    "from xgboost import XGBRegressor\n",
    "for i in tqdm(range(10)):\n",
    "    #https://pynative.com/python-get-random-float-numbers\n",
    "    learning_rate=np.round(np.random.uniform(0.001,0.05),4)\n",
    "    max_leaves=np.random.randint(20,150)\n",
    "    min_child_weight=random.randint(20,100) \n",
    "    xgb=XGBRegressor(learning_rate=learning_rate,max_leaves=max_leaves,min_child_weight=min_child_weight,subsample=0.7,colsample_bytree=0.7,tree_method='gpu_hist',gpu_id=0,grow_policy='lossguide',n_estimators=100,objective='reg:squarederror',booster='gbtree',n_jobs=-1)\n",
    "    xgb.fit(X_train,y_train)\n",
    "    y_pred=xgb.predict(X_valid)\n",
    "    print(\"\\nlearning_rate: {}\".format(learning_rate),\"  max_leaves: {}\".format(max_leaves),\"  min_child_weight: {}\".format(min_child_weight),\"  Rmse: {}\".format(rmse(y_pred,y_valid)))\n",
    "    print(\"-\"*100) "
   ]
  },
  {
   "cell_type": "code",
   "execution_count": 25,
   "id": "f56aa6e7-3d30-49f4-bf1b-39a2e65dec8a",
   "metadata": {},
   "outputs": [
    {
     "name": "stdout",
     "output_type": "stream",
     "text": [
      "learning_rate: 0.0451   max_leaves: 80   min_child_weight: 36   Rmse: 0.16370414197444916\n"
     ]
    }
   ],
   "source": [
    "learning_rate=0.0451\n",
    "max_leaves=80\n",
    "min_child_weight=36\n",
    "xgb=XGBRegressor(learning_rate=learning_rate,max_leaves=max_leaves,min_child_weight=min_child_weight,subsample=0.7,colsample_bytree=0.7,tree_method='gpu_hist',gpu_id=0,grow_policy='lossguide',n_estimators=100,objective='reg:squarederror',booster='gbtree',n_jobs=-1)\n",
    "xgb.fit(X_train,y_train)\n",
    "y_pred=xgb.predict(X_valid)\n",
    "print(\"learning_rate: {}\".format(learning_rate),\"  max_leaves: {}\".format(max_leaves),\"  min_child_weight: {}\".format(min_child_weight),\"  Rmse: {}\".format(rmse(y_pred,y_valid)))"
   ]
  },
  {
   "cell_type": "code",
   "execution_count": 26,
   "id": "2be305e0-4987-4692-b9b1-0da1f766ac1e",
   "metadata": {},
   "outputs": [
    {
     "data": {
      "image/png": "[encoded data removed]",
      "text/plain": [
       "<Figure size 504x576 with 1 Axes>"
      ]
     },
     "metadata": {
      "needs_background": "light"
     },
     "output_type": "display_data"
    }
   ],
   "source": [
    "importance_df = pd.DataFrame()\n",
    "importance_df[\"feature\"] = X_train.columns\n",
    "importance_df[\"importance\"] = xgb.feature_importances_\n",
    "    \n",
    "def display_importances(feature_importance_df_):\n",
    "    cols = feature_importance_df_[[\"feature\", \"importance\"]].groupby(\"feature\").mean().sort_values(by=\"importance\", ascending=False)[:15].index\n",
    "    best_features = feature_importance_df_.loc[feature_importance_df_.feature.isin(cols)]\n",
    "    plt.figure(figsize=(7, 8))\n",
    "    sns.barplot(x=\"importance\", y=\"feature\", data=best_features.sort_values(by=\"importance\", ascending=False))\n",
    "    plt.title('XGBRegressor Features')\n",
    "    plt.tight_layout()\n",
    "    \n",
    "display_importances(importance_df)"
   ]
  },
  {
   "cell_type": "markdown",
   "id": "5883e2c8-699d-495a-b8d2-957c5bf96326",
   "metadata": {},
   "source": [
    "# CatBoost Regressor"
   ]
  },
  {
   "cell_type": "code",
   "execution_count": 11,
   "id": "107400b2-c9a2-4372-8577-5b59c27b542d",
   "metadata": {},
   "outputs": [
    {
     "name": "stdout",
     "output_type": "stream",
     "text": [
      "Requirement already satisfied: catboost in /usr/local/lib/python3.9/dist-packages (1.1.1)\n",
      "Requirement already satisfied: pandas>=0.24.0 in /usr/local/lib/python3.9/dist-packages (from catboost) (1.4.3)\n",
      "Requirement already satisfied: plotly in /usr/local/lib/python3.9/dist-packages (from catboost) (5.11.0)\n",
      "Requirement already satisfied: matplotlib in /usr/local/lib/python3.9/dist-packages (from catboost) (3.5.2)\n",
      "Requirement already satisfied: numpy>=1.16.0 in /usr/local/lib/python3.9/dist-packages (from catboost) (1.23.1)\n",
      "Requirement already satisfied: six in /usr/lib/python3/dist-packages (from catboost) (1.14.0)\n",
      "Requirement already satisfied: scipy in /usr/local/lib/python3.9/dist-packages (from catboost) (1.8.1)\n",
      "Requirement already satisfied: graphviz in /usr/local/lib/python3.9/dist-packages (from catboost) (0.20.1)\n",
      "Requirement already satisfied: python-dateutil>=2.8.1 in /usr/local/lib/python3.9/dist-packages (from pandas>=0.24.0->catboost) (2.8.2)\n",
      "Requirement already satisfied: pytz>=2020.1 in /usr/local/lib/python3.9/dist-packages (from pandas>=0.24.0->catboost) (2022.1)\n",
      "Requirement already satisfied: packaging>=20.0 in /usr/local/lib/python3.9/dist-packages (from matplotlib->catboost) (21.3)\n",
      "Requirement already satisfied: fonttools>=4.22.0 in /usr/local/lib/python3.9/dist-packages (from matplotlib->catboost) (4.34.4)\n",
      "Requirement already satisfied: pyparsing>=2.2.1 in /usr/local/lib/python3.9/dist-packages (from matplotlib->catboost) (3.0.9)\n",
      "Requirement already satisfied: pillow>=6.2.0 in /usr/local/lib/python3.9/dist-packages (from matplotlib->catboost) (9.2.0)\n",
      "Requirement already satisfied: kiwisolver>=1.0.1 in /usr/local/lib/python3.9/dist-packages (from matplotlib->catboost) (1.4.3)\n",
      "Requirement already satisfied: cycler>=0.10 in /usr/local/lib/python3.9/dist-packages (from matplotlib->catboost) (0.11.0)\n",
      "Requirement already satisfied: tenacity>=6.2.0 in /usr/local/lib/python3.9/dist-packages (from plotly->catboost) (8.1.0)\n",
      "\u001b[33mWARNING: Running pip as the 'root' user can result in broken permissions and conflicting behaviour with the system package manager. It is recommended to use a virtual environment instead: https://pip.pypa.io/warnings/venv\u001b[0m\u001b[33m\n",
      "\u001b[0m"
     ]
    }
   ],
   "source": [
    "!pip install catboost"
   ]
  },
  {
   "cell_type": "code",
   "execution_count": 13,
   "id": "3181cef3-fc1c-4a06-9f5a-2d8a11a88bbf",
   "metadata": {},
   "outputs": [
    {
     "name": "stderr",
     "output_type": "stream",
     "text": [
      " 20%|██        | 1/5 [05:43<22:52, 343.18s/it]"
     ]
    },
    {
     "name": "stdout",
     "output_type": "stream",
     "text": [
      "\n",
      "learning_rate: 0.0134   depth: 1   num_leaves: 97   Rmse: 1.3110875420336086\n",
      "----------------------------------------------------------------------------------------------------\n"
     ]
    },
    {
     "name": "stderr",
     "output_type": "stream",
     "text": [
      " 40%|████      | 2/5 [13:50<21:24, 428.06s/it]"
     ]
    },
    {
     "name": "stdout",
     "output_type": "stream",
     "text": [
      "\n",
      "learning_rate: 0.012   depth: 2   num_leaves: 131   Rmse: 0.5644172930792731\n",
      "----------------------------------------------------------------------------------------------------\n"
     ]
    },
    {
     "name": "stderr",
     "output_type": "stream",
     "text": [
      " 60%|██████    | 3/5 [26:59<19:45, 592.62s/it]"
     ]
    },
    {
     "name": "stdout",
     "output_type": "stream",
     "text": [
      "\n",
      "learning_rate: 0.0444   depth: 4   num_leaves: 41   Rmse: 0.04841095114517876\n",
      "----------------------------------------------------------------------------------------------------\n"
     ]
    },
    {
     "name": "stderr",
     "output_type": "stream",
     "text": [
      " 80%|████████  | 4/5 [46:35<13:43, 823.25s/it]"
     ]
    },
    {
     "name": "stdout",
     "output_type": "stream",
     "text": [
      "\n",
      "learning_rate: 0.0054   depth: 6   num_leaves: 169   Rmse: 1.2414971300326965\n",
      "----------------------------------------------------------------------------------------------------\n"
     ]
    },
    {
     "name": "stderr",
     "output_type": "stream",
     "text": [
      "100%|██████████| 5/5 [52:05<00:00, 625.07s/it]"
     ]
    },
    {
     "name": "stdout",
     "output_type": "stream",
     "text": [
      "\n",
      "learning_rate: 0.0413   depth: 1   num_leaves: 183   Rmse: 0.2586696801928805\n",
      "----------------------------------------------------------------------------------------------------\n"
     ]
    },
    {
     "name": "stderr",
     "output_type": "stream",
     "text": [
      "\n"
     ]
    }
   ],
   "source": [
    "from catboost import CatBoostRegressor\n",
    "for i in tqdm(range(5)):\n",
    "    learning_rate=np.round(np.random.uniform(0.001,0.05),4)\n",
    "    depth=np.random.randint(1,10)\n",
    "    num_leaves=np.random.randint(20,200)\n",
    "    #https://stackoverflow.com/questions/51111323/how-to-suppress-catboost-iteration-results\n",
    "    cb=CatBoostRegressor(learning_rate=learning_rate,depth=depth,num_leaves=num_leaves,iterations=200,grow_policy='Lossguide',logging_level=\"Silent\")\n",
    "    cb.fit(X_train,y_train)\n",
    "    y_pred=cb.predict(X_valid)\n",
    "    print(\"\\nlearning_rate: {}\".format(learning_rate),\"  depth: {}\".format(depth),\"  num_leaves: {}\".format(num_leaves),\"  Rmse: {}\".format(rmse(y_pred,y_valid)))\n",
    "    print(\"-\"*100)"
   ]
  },
  {
   "cell_type": "code",
   "execution_count": 14,
   "id": "81d73e01-1b79-40f4-9691-b33276edf78e",
   "metadata": {},
   "outputs": [
    {
     "name": "stdout",
     "output_type": "stream",
     "text": [
      "learning_rate: 0.0291   depth: 4   num_leaves: 199   Rmse: 0.0471199603834599\n"
     ]
    }
   ],
   "source": [
    "from catboost import CatBoostRegressor\n",
    "learning_rate=0.0291\n",
    "depth=4\n",
    "num_leaves=199\n",
    "cb=CatBoostRegressor(learning_rate=learning_rate,depth=depth,num_leaves=num_leaves,iterations=200,grow_policy='Lossguide',logging_level=\"Silent\")\n",
    "cb.fit(X_train,y_train)\n",
    "y_pred=cb.predict(X_valid)\n",
    "print(\"learning_rate: {}\".format(learning_rate),\"  depth: {}\".format(depth),\"  num_leaves: {}\".format(num_leaves),\"  Rmse: {}\".format(rmse(y_pred,y_valid)))"
   ]
  },
  {
   "cell_type": "code",
   "execution_count": 15,
   "id": "f430c521-4765-4930-a2bf-74854658e832",
   "metadata": {},
   "outputs": [
    {
     "data": {
      "image/png": "[encoded data removed]",
      "text/plain": [
       "<Figure size 504x576 with 1 Axes>"
      ]
     },
     "metadata": {
      "needs_background": "light"
     },
     "output_type": "display_data"
    }
   ],
   "source": [
    "importance_df = pd.DataFrame()\n",
    "importance_df[\"feature\"] = X_train.columns\n",
    "importance_df[\"importance\"] = cb.feature_importances_\n",
    "    \n",
    "def display_importances(feature_importance_df_):\n",
    "    cols = feature_importance_df_[[\"feature\", \"importance\"]].groupby(\"feature\").mean().sort_values(by=\"importance\", ascending=False)[:15].index\n",
    "    best_features = feature_importance_df_.loc[feature_importance_df_.feature.isin(cols)]\n",
    "    plt.figure(figsize=(7, 8))\n",
    "    sns.barplot(x=\"importance\", y=\"feature\", data=best_features.sort_values(by=\"importance\", ascending=False))\n",
    "    plt.title('CatBoostRegressor Features')\n",
    "    plt.tight_layout()\n",
    "    \n",
    "display_importances(importance_df)"
   ]
  },
  {
   "cell_type": "code",
   "execution_count": null,
   "id": "77e2d055-d17c-4914-aa5c-d29bf43ffcf5",
   "metadata": {},
   "outputs": [],
   "source": []
  }
 ],
 "metadata": {
  "kernelspec": {
   "display_name": "Python 3 (ipykernel)",
   "language": "python",
   "name": "python3"
  },
  "language_info": {
   "codemirror_mode": {
    "name": "ipython",
    "version": 3
   },
   "file_extension": ".py",
   "mimetype": "text/x-python",
   "name": "python",
   "nbconvert_exporter": "python",
   "pygments_lexer": "ipython3",
   "version": "3.9.13"
  }
 },
 "nbformat": 4,
 "nbformat_minor": 5
}
