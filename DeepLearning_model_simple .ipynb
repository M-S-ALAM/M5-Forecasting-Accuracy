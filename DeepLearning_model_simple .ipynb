{
  "cells": [
    {
      "cell_type": "code",
      "execution_count": 1,
      "id": "759a08a9-04f9-47ac-aa93-94a2dab625f4",
      "metadata": {
        "id": "759a08a9-04f9-47ac-aa93-94a2dab625f4"
      },
      "outputs": [],
      "source": [
        "import numpy as np\n",
        "import matplotlib.pyplot as plt\n",
        "import seaborn as sns\n",
        "import pandas as pd\n",
        "import os\n",
        "import pickle"
      ]
    },
    {
      "cell_type": "code",
      "execution_count": 2,
      "id": "f7e6e683-40e8-4e28-9c7e-33b057df49c2",
      "metadata": {
        "id": "f7e6e683-40e8-4e28-9c7e-33b057df49c2"
      },
      "outputs": [],
      "source": [
        "def reduce_mem_usage(df, verbose=False):\n",
        "    '''\n",
        "    reduce memory usage by downcasting data types\n",
        "    from https://www.kaggle.com/harupy/m5-baseline\n",
        "    '''\n",
        "    \n",
        "    start_mem = df.memory_usage().sum() / 1024 ** 2\n",
        "    int_columns = df.select_dtypes(include=[\"int\"]).columns\n",
        "    float_columns = df.select_dtypes(include=[\"float\"]).columns\n",
        "\n",
        "    for col in int_columns:\n",
        "        df[col] = pd.to_numeric(df[col], downcast=\"integer\")\n",
        "\n",
        "    for col in float_columns:\n",
        "        df[col] = pd.to_numeric(df[col], downcast=\"float\")\n",
        "\n",
        "    end_mem = df.memory_usage().sum() / 1024 ** 2\n",
        "    if verbose:\n",
        "        print(\n",
        "            \"Mem. usage decreased to {:5.2f} Mb ({:.1f}% reduction)\".format(\n",
        "                end_mem, 100 * (start_mem - end_mem) / start_mem\n",
        "            )\n",
        "        )\n",
        "    return df"
      ]
    },
    {
      "cell_type": "code",
      "source": [
        "from google.colab import drive\n",
        "drive.mount('/content/gdrive')"
      ],
      "metadata": {
        "colab": {
          "base_uri": "https://localhost:8080/"
        },
        "id": "9r9OziFHYvlP",
        "outputId": "2015d01e-5ac2-45cb-f7bc-f9f50aaeb21e"
      },
      "id": "9r9OziFHYvlP",
      "execution_count": 3,
      "outputs": [
        {
          "output_type": "stream",
          "name": "stdout",
          "text": [
            "Mounted at /content/gdrive\n"
          ]
        }
      ]
    },
    {
      "cell_type": "code",
      "source": [
        "import os\n",
        "os.chdir('/content/gdrive/MyDrive/Case Study(m5-forecasting-accuracy)/')"
      ],
      "metadata": {
        "id": "AYfeQcPkYzYB"
      },
      "id": "AYfeQcPkYzYB",
      "execution_count": 4,
      "outputs": []
    },
    {
      "cell_type": "code",
      "execution_count": 5,
      "id": "b4fcfaff-44f1-4130-8363-96ac8263ca4c",
      "metadata": {
        "colab": {
          "base_uri": "https://localhost:8080/",
          "height": 240
        },
        "id": "b4fcfaff-44f1-4130-8363-96ac8263ca4c",
        "outputId": "42cc056c-9279-4f92-864b-8431d7ad8a3c"
      },
      "outputs": [
        {
          "output_type": "execute_result",
          "data": {
            "text/plain": [
              "                                    id        item_id    dept_id   cat_id  \\\n",
              "6098000  HOBBIES_1_001_CA_1_evaluation  HOBBIES_1_001  HOBBIES_1  HOBBIES   \n",
              "6098001  HOBBIES_1_002_CA_1_evaluation  HOBBIES_1_002  HOBBIES_1  HOBBIES   \n",
              "\n",
              "        store_id state_id     d  demand        date  wm_yr_wk  ... lag_21  \\\n",
              "6098000     CA_1       CA  1501       0  2015-03-09     11506  ...    0.0   \n",
              "6098001     CA_1       CA  1501       1  2015-03-09     11506  ...    0.0   \n",
              "\n",
              "         lag_28  lag_30  lag_45 lag_60 lag_80 expanding_sold_mean  \\\n",
              "6098000     0.0     2.0     0.0    2.0    0.0            0.646973   \n",
              "6098001     0.0     0.0     0.0    0.0    1.0            0.318359   \n",
              "\n",
              "        daily_avg_sold  avg_sold  selling_trend  \n",
              "6098000            0.0  0.669434      -0.669434  \n",
              "6098001            1.0  0.304932       0.695312  \n",
              "\n",
              "[2 rows x 83 columns]"
            ],
            "text/html": [
              "\n",
              "  <div id=\"df-8e845e7d-5336-483e-9b02-89f3f384aa41\">\n",
              "    <div class=\"colab-df-container\">\n",
              "      <div>\n",
              "<style scoped>\n",
              "    .dataframe tbody tr th:only-of-type {\n",
              "        vertical-align: middle;\n",
              "    }\n",
              "\n",
              "    .dataframe tbody tr th {\n",
              "        vertical-align: top;\n",
              "    }\n",
              "\n",
              "    .dataframe thead th {\n",
              "        text-align: right;\n",
              "    }\n",
              "</style>\n",
              "<table border=\"1\" class=\"dataframe\">\n",
              "  <thead>\n",
              "    <tr style=\"text-align: right;\">\n",
              "      <th></th>\n",
              "      <th>id</th>\n",
              "      <th>item_id</th>\n",
              "      <th>dept_id</th>\n",
              "      <th>cat_id</th>\n",
              "      <th>store_id</th>\n",
              "      <th>state_id</th>\n",
              "      <th>d</th>\n",
              "      <th>demand</th>\n",
              "      <th>date</th>\n",
              "      <th>wm_yr_wk</th>\n",
              "      <th>...</th>\n",
              "      <th>lag_21</th>\n",
              "      <th>lag_28</th>\n",
              "      <th>lag_30</th>\n",
              "      <th>lag_45</th>\n",
              "      <th>lag_60</th>\n",
              "      <th>lag_80</th>\n",
              "      <th>expanding_sold_mean</th>\n",
              "      <th>daily_avg_sold</th>\n",
              "      <th>avg_sold</th>\n",
              "      <th>selling_trend</th>\n",
              "    </tr>\n",
              "  </thead>\n",
              "  <tbody>\n",
              "    <tr>\n",
              "      <th>6098000</th>\n",
              "      <td>HOBBIES_1_001_CA_1_evaluation</td>\n",
              "      <td>HOBBIES_1_001</td>\n",
              "      <td>HOBBIES_1</td>\n",
              "      <td>HOBBIES</td>\n",
              "      <td>CA_1</td>\n",
              "      <td>CA</td>\n",
              "      <td>1501</td>\n",
              "      <td>0</td>\n",
              "      <td>2015-03-09</td>\n",
              "      <td>11506</td>\n",
              "      <td>...</td>\n",
              "      <td>0.0</td>\n",
              "      <td>0.0</td>\n",
              "      <td>2.0</td>\n",
              "      <td>0.0</td>\n",
              "      <td>2.0</td>\n",
              "      <td>0.0</td>\n",
              "      <td>0.646973</td>\n",
              "      <td>0.0</td>\n",
              "      <td>0.669434</td>\n",
              "      <td>-0.669434</td>\n",
              "    </tr>\n",
              "    <tr>\n",
              "      <th>6098001</th>\n",
              "      <td>HOBBIES_1_002_CA_1_evaluation</td>\n",
              "      <td>HOBBIES_1_002</td>\n",
              "      <td>HOBBIES_1</td>\n",
              "      <td>HOBBIES</td>\n",
              "      <td>CA_1</td>\n",
              "      <td>CA</td>\n",
              "      <td>1501</td>\n",
              "      <td>1</td>\n",
              "      <td>2015-03-09</td>\n",
              "      <td>11506</td>\n",
              "      <td>...</td>\n",
              "      <td>0.0</td>\n",
              "      <td>0.0</td>\n",
              "      <td>0.0</td>\n",
              "      <td>0.0</td>\n",
              "      <td>0.0</td>\n",
              "      <td>1.0</td>\n",
              "      <td>0.318359</td>\n",
              "      <td>1.0</td>\n",
              "      <td>0.304932</td>\n",
              "      <td>0.695312</td>\n",
              "    </tr>\n",
              "  </tbody>\n",
              "</table>\n",
              "<p>2 rows × 83 columns</p>\n",
              "</div>\n",
              "      <button class=\"colab-df-convert\" onclick=\"convertToInteractive('df-8e845e7d-5336-483e-9b02-89f3f384aa41')\"\n",
              "              title=\"Convert this dataframe to an interactive table.\"\n",
              "              style=\"display:none;\">\n",
              "        \n",
              "  <svg xmlns=\"http://www.w3.org/2000/svg\" height=\"24px\"viewBox=\"0 0 24 24\"\n",
              "       width=\"24px\">\n",
              "    <path d=\"M0 0h24v24H0V0z\" fill=\"none\"/>\n",
              "    <path d=\"M18.56 5.44l.94 2.06.94-2.06 2.06-.94-2.06-.94-.94-2.06-.94 2.06-2.06.94zm-11 1L8.5 8.5l.94-2.06 2.06-.94-2.06-.94L8.5 2.5l-.94 2.06-2.06.94zm10 10l.94 2.06.94-2.06 2.06-.94-2.06-.94-.94-2.06-.94 2.06-2.06.94z\"/><path d=\"M17.41 7.96l-1.37-1.37c-.4-.4-.92-.59-1.43-.59-.52 0-1.04.2-1.43.59L10.3 9.45l-7.72 7.72c-.78.78-.78 2.05 0 2.83L4 21.41c.39.39.9.59 1.41.59.51 0 1.02-.2 1.41-.59l7.78-7.78 2.81-2.81c.8-.78.8-2.07 0-2.86zM5.41 20L4 18.59l7.72-7.72 1.47 1.35L5.41 20z\"/>\n",
              "  </svg>\n",
              "      </button>\n",
              "      \n",
              "  <style>\n",
              "    .colab-df-container {\n",
              "      display:flex;\n",
              "      flex-wrap:wrap;\n",
              "      gap: 12px;\n",
              "    }\n",
              "\n",
              "    .colab-df-convert {\n",
              "      background-color: #E8F0FE;\n",
              "      border: none;\n",
              "      border-radius: 50%;\n",
              "      cursor: pointer;\n",
              "      display: none;\n",
              "      fill: #1967D2;\n",
              "      height: 32px;\n",
              "      padding: 0 0 0 0;\n",
              "      width: 32px;\n",
              "    }\n",
              "\n",
              "    .colab-df-convert:hover {\n",
              "      background-color: #E2EBFA;\n",
              "      box-shadow: 0px 1px 2px rgba(60, 64, 67, 0.3), 0px 1px 3px 1px rgba(60, 64, 67, 0.15);\n",
              "      fill: #174EA6;\n",
              "    }\n",
              "\n",
              "    [theme=dark] .colab-df-convert {\n",
              "      background-color: #3B4455;\n",
              "      fill: #D2E3FC;\n",
              "    }\n",
              "\n",
              "    [theme=dark] .colab-df-convert:hover {\n",
              "      background-color: #434B5C;\n",
              "      box-shadow: 0px 1px 3px 1px rgba(0, 0, 0, 0.15);\n",
              "      filter: drop-shadow(0px 1px 2px rgba(0, 0, 0, 0.3));\n",
              "      fill: #FFFFFF;\n",
              "    }\n",
              "  </style>\n",
              "\n",
              "      <script>\n",
              "        const buttonEl =\n",
              "          document.querySelector('#df-8e845e7d-5336-483e-9b02-89f3f384aa41 button.colab-df-convert');\n",
              "        buttonEl.style.display =\n",
              "          google.colab.kernel.accessAllowed ? 'block' : 'none';\n",
              "\n",
              "        async function convertToInteractive(key) {\n",
              "          const element = document.querySelector('#df-8e845e7d-5336-483e-9b02-89f3f384aa41');\n",
              "          const dataTable =\n",
              "            await google.colab.kernel.invokeFunction('convertToInteractive',\n",
              "                                                     [key], {});\n",
              "          if (!dataTable) return;\n",
              "\n",
              "          const docLinkHtml = 'Like what you see? Visit the ' +\n",
              "            '<a target=\"_blank\" href=https://colab.research.google.com/notebooks/data_table.ipynb>data table notebook</a>'\n",
              "            + ' to learn more about interactive tables.';\n",
              "          element.innerHTML = '';\n",
              "          dataTable['output_type'] = 'display_data';\n",
              "          await google.colab.output.renderOutput(dataTable, element);\n",
              "          const docLink = document.createElement('div');\n",
              "          docLink.innerHTML = docLinkHtml;\n",
              "          element.appendChild(docLink);\n",
              "        }\n",
              "      </script>\n",
              "    </div>\n",
              "  </div>\n",
              "  "
            ]
          },
          "metadata": {},
          "execution_count": 5
        }
      ],
      "source": [
        "data=pd.read_pickle('final_data.pkl').pipe(reduce_mem_usage)\n",
        "data.head(2)"
      ]
    },
    {
      "cell_type": "code",
      "execution_count": 6,
      "id": "d1fe393e-dbc9-4b8f-8391-e7176729e11c",
      "metadata": {
        "colab": {
          "base_uri": "https://localhost:8080/"
        },
        "id": "d1fe393e-dbc9-4b8f-8391-e7176729e11c",
        "outputId": "ad9b0e5b-10f7-4f17-b50f-abf4d810c71f"
      },
      "outputs": [
        {
          "output_type": "stream",
          "name": "stderr",
          "text": [
            "100%|██████████| 11/11 [00:21<00:00,  1.92s/it]\n"
          ]
        }
      ],
      "source": [
        "from tqdm import tqdm\n",
        "for col in tqdm(['id','item_id','dept_id','cat_id','store_id','state_id','event_name_1','event_type_1','event_type_2','event_name_2','weekday']):\n",
        "    data[col] = data[col].astype('category')"
      ]
    },
    {
      "cell_type": "code",
      "execution_count": 7,
      "id": "ea8c8089-915d-4782-864b-4c6340958ca0",
      "metadata": {
        "id": "ea8c8089-915d-4782-864b-4c6340958ca0"
      },
      "outputs": [],
      "source": [
        "d_id = dict(zip(data.id.cat.codes, data.id))\n",
        "d_item_id = dict(zip(data.item_id.cat.codes, data.item_id))\n",
        "d_dept_id = dict(zip(data.dept_id.cat.codes, data.dept_id))\n",
        "d_cat_id = dict(zip(data.cat_id.cat.codes, data.cat_id))\n",
        "d_store_id = dict(zip(data.store_id.cat.codes, data.store_id))\n",
        "d_state_id = dict(zip(data.state_id.cat.codes, data.state_id))"
      ]
    },
    {
      "cell_type": "code",
      "execution_count": 8,
      "id": "26af3242-3702-4e6b-8a59-a45498769810",
      "metadata": {
        "id": "26af3242-3702-4e6b-8a59-a45498769810"
      },
      "outputs": [],
      "source": [
        "cols = data.dtypes.index.tolist()\n",
        "d_types = data.dtypes.values.tolist()\n",
        "for i,type in enumerate(d_types):\n",
        "    if type.name == 'category':\n",
        "        data[cols[i]] = data[cols[i]].cat.codes"
      ]
    },
    {
      "cell_type": "code",
      "execution_count": 9,
      "id": "2ea17f63-e9e2-4c9a-86f8-f16784bdab90",
      "metadata": {
        "id": "2ea17f63-e9e2-4c9a-86f8-f16784bdab90"
      },
      "outputs": [],
      "source": [
        "data.drop(['date'],axis=1,inplace=True)"
      ]
    },
    {
      "cell_type": "code",
      "execution_count": 10,
      "id": "89092273-89d9-4433-bd71-7ceb62f8ec3e",
      "metadata": {
        "id": "89092273-89d9-4433-bd71-7ceb62f8ec3e"
      },
      "outputs": [],
      "source": [
        "X_train, y_train = data[data['d']<1914].drop('demand',axis=1), data[data['d']<1914]['demand']\n",
        "X_valid, y_valid = data[(data['d']>=1914) & (data['d']<1942)].drop('demand',axis=1), data[(data['d']>=1914) & (data['d']<1942)]['demand']\n",
        "X_test = data[data['d']>=1942].drop('demand',axis=1)"
      ]
    },
    {
      "cell_type": "code",
      "execution_count": 11,
      "id": "06dd4783-a211-40fb-b9a2-74a908197fe9",
      "metadata": {
        "id": "06dd4783-a211-40fb-b9a2-74a908197fe9"
      },
      "outputs": [],
      "source": [
        "def rmse(pred,value):\n",
        "    return np.sqrt(((pred-value)**2).mean())"
      ]
    },
    {
      "cell_type": "code",
      "execution_count": 12,
      "id": "fa6c2ae9-e979-46d2-9cfc-6d53065a8a77",
      "metadata": {
        "id": "fa6c2ae9-e979-46d2-9cfc-6d53065a8a77"
      },
      "outputs": [],
      "source": [
        "import tensorflow as tf\n",
        "from tensorflow.keras.preprocessing import sequence\n",
        "from tensorflow.keras.models import Sequential\n",
        "from tensorflow.keras.layers import Dense, Activation,Flatten,Reshape\n",
        "from tensorflow.keras.layers import Embedding\n",
        "from tensorflow.keras.layers import LSTM, TimeDistributed\n",
        "from tensorflow.keras.preprocessing.text import Tokenizer\n",
        "import csv\n",
        "from tensorflow.keras.models import Model\n",
        "#import keras\n",
        "from tensorflow.keras import backend as k\n",
        "from tensorflow.keras.layers import Input,Concatenate,Dropout,Dense,BatchNormalization,Conv1D\n",
        "from tensorflow.keras.layers import Input\n",
        "from tensorflow.keras.initializers import he_normal,glorot_normal\n",
        "from tensorflow.keras.regularizers import l1,l2\n",
        "from tensorflow.python.keras.callbacks import TensorBoard\n",
        "from tensorflow.keras.callbacks import Callback, EarlyStopping, ModelCheckpoint,LearningRateScheduler,ReduceLROnPlateau\n",
        "from time import time\n",
        "from tensorflow.keras.utils import plot_model"
      ]
    },
    {
      "cell_type": "code",
      "execution_count": 13,
      "id": "be389f47-749a-483f-abc8-ef6936ae758a",
      "metadata": {
        "id": "be389f47-749a-483f-abc8-ef6936ae758a"
      },
      "outputs": [],
      "source": [
        "def Time_series_model(input_shape):\n",
        "    model = Sequential()\n",
        "    model.add(LSTM(units=150, return_sequences=True, input_shape = (input_shape,1)))\n",
        "    model.add(Dropout(0.2))\n",
        "    model.add(LSTM(units=100, return_sequences=True))\n",
        "    model.add(Dropout(0.3))\n",
        "    model.add(LSTM(units=50, return_sequences=True))\n",
        "    model.add(LSTM(units=25))\n",
        "    model.add(Dense(1, activation='linear'))\n",
        "    return model"
      ]
    },
    {
      "cell_type": "code",
      "execution_count": 14,
      "id": "f96cd778-9e41-4643-a841-494b2d8b91b3",
      "metadata": {
        "colab": {
          "base_uri": "https://localhost:8080/"
        },
        "id": "f96cd778-9e41-4643-a841-494b2d8b91b3",
        "outputId": "73b4730b-b5ba-4c7a-b06d-e7fa767f61b8"
      },
      "outputs": [
        {
          "output_type": "stream",
          "name": "stdout",
          "text": [
            "Model: \"sequential\"\n",
            "_________________________________________________________________\n",
            " Layer (type)                Output Shape              Param #   \n",
            "=================================================================\n",
            " lstm (LSTM)                 (None, 81, 150)           91200     \n",
            "                                                                 \n",
            " dropout (Dropout)           (None, 81, 150)           0         \n",
            "                                                                 \n",
            " lstm_1 (LSTM)               (None, 81, 100)           100400    \n",
            "                                                                 \n",
            " dropout_1 (Dropout)         (None, 81, 100)           0         \n",
            "                                                                 \n",
            " lstm_2 (LSTM)               (None, 81, 50)            30200     \n",
            "                                                                 \n",
            " lstm_3 (LSTM)               (None, 25)                7600      \n",
            "                                                                 \n",
            " dense (Dense)               (None, 1)                 26        \n",
            "                                                                 \n",
            "=================================================================\n",
            "Total params: 229,426\n",
            "Trainable params: 229,426\n",
            "Non-trainable params: 0\n",
            "_________________________________________________________________\n"
          ]
        }
      ],
      "source": [
        "model = Time_series_model(X_train.shape[1])\n",
        "model.summary()"
      ]
    },
    {
      "cell_type": "code",
      "source": [
        "plot_model(model, show_shapes=True)"
      ],
      "metadata": {
        "colab": {
          "base_uri": "https://localhost:8080/",
          "height": 865
        },
        "id": "XROrp7_pZY0U",
        "outputId": "4c790996-33df-46c5-c92e-26f322f0b862"
      },
      "id": "XROrp7_pZY0U",
      "execution_count": 15,
      "outputs": [
        {
          "output_type": "execute_result",
          "data": {
            "image/png": "[encoded data removed]",
            "text/plain": [
              "<IPython.core.display.Image object>"
            ]
          },
          "metadata": {},
          "execution_count": 15
        }
      ]
    },
    {
      "cell_type": "code",
      "execution_count": null,
      "id": "d7acfec3-296c-4fb5-a79b-aec8e74dad46",
      "metadata": {
        "id": "d7acfec3-296c-4fb5-a79b-aec8e74dad46"
      },
      "outputs": [],
      "source": [
        "from tensorflow import keras\n",
        "filepath=\"weights.best.hdf1\"\n",
        "model = keras.models.load_model(filepath)"
      ]
    },
    {
      "cell_type": "code",
      "execution_count": null,
      "id": "a7b14e5b-87c0-4ccc-926d-752c2d939579",
      "metadata": {
        "id": "a7b14e5b-87c0-4ccc-926d-752c2d939579"
      },
      "outputs": [],
      "source": [
        "from tensorflow.keras.callbacks import *\n",
        "import os\n",
        "import datetime\n",
        "filepath=\"weights.best.hdf1\"\n",
        "checkpoint = ModelCheckpoint(filepath, monitor='val_accuracy', verbose=1, mode='max')\n",
        "earlystop = EarlyStopping(monitor = 'val_root_mean_squared_error',  mode=\"min\",min_delta = 0, patience = 3,verbose = 1)\n",
        "reduce_lr = ReduceLROnPlateau(monitor = 'val_root_mean_squared_error', factor = 0.25, patience = 1, verbose = 1,min_lr=0.000001)\n",
        "callbacks = [reduce_lr,earlystop]"
      ]
    },
    {
      "cell_type": "code",
      "execution_count": null,
      "id": "0fe1c683-c429-4b3c-8960-0da1ad46e574",
      "metadata": {
        "id": "0fe1c683-c429-4b3c-8960-0da1ad46e574",
        "outputId": "217e7257-dd94-42a9-d9ce-bd93d9fc4450"
      },
      "outputs": [
        {
          "name": "stderr",
          "output_type": "stream",
          "text": [
            "2022-11-15 07:21:01.864930: W tensorflow/core/framework/cpu_allocator_impl.cc:82] Allocation of 4180666840 exceeds 10% of free system memory.\n",
            "2022-11-15 07:21:06.140065: W tensorflow/core/framework/cpu_allocator_impl.cc:82] Allocation of 4180666840 exceeds 10% of free system memory.\n"
          ]
        },
        {
          "name": "stdout",
          "output_type": "stream",
          "text": [
            "Epoch 1/50\n",
            "49189/49189 [==============================] - 1130s 23ms/step - loss: 0.0529 - root_mean_squared_error: 0.2300 - val_loss: 0.0181 - val_root_mean_squared_error: 0.1344 - lr: 0.0010\n",
            "Epoch 2/50\n",
            "49189/49189 [==============================] - 1081s 22ms/step - loss: 0.0470 - root_mean_squared_error: 0.2168 - val_loss: 0.0163 - val_root_mean_squared_error: 0.1276 - lr: 0.0010\n",
            "Epoch 3/50\n",
            "49188/49189 [============================>.] - ETA: 0s - loss: 0.0402 - root_mean_squared_error: 0.2004\n",
            "Epoch 3: ReduceLROnPlateau reducing learning rate to 0.0002500000118743628.\n",
            "49189/49189 [==============================] - 1079s 22ms/step - loss: 0.0402 - root_mean_squared_error: 0.2004 - val_loss: 0.0208 - val_root_mean_squared_error: 0.1444 - lr: 0.0010\n",
            "Epoch 4/50\n",
            "49189/49189 [==============================] - 1083s 22ms/step - loss: 0.0182 - root_mean_squared_error: 0.1350 - val_loss: 0.0050 - val_root_mean_squared_error: 0.0710 - lr: 2.5000e-04\n",
            "Epoch 5/50\n",
            "49189/49189 [==============================] - 1082s 22ms/step - loss: 0.0157 - root_mean_squared_error: 0.1254 - val_loss: 0.0027 - val_root_mean_squared_error: 0.0519 - lr: 2.5000e-04\n",
            "Epoch 6/50\n",
            "49188/49189 [============================>.] - ETA: 0s - loss: 0.0139 - root_mean_squared_error: 0.1177\n",
            "Epoch 6: ReduceLROnPlateau reducing learning rate to 6.25000029685907e-05.\n",
            "49189/49189 [==============================] - 1081s 22ms/step - loss: 0.0139 - root_mean_squared_error: 0.1177 - val_loss: 0.0033 - val_root_mean_squared_error: 0.0574 - lr: 2.5000e-04\n",
            "Epoch 7/50\n",
            "49189/49189 [==============================] - 1104s 22ms/step - loss: 0.0109 - root_mean_squared_error: 0.1044 - val_loss: 0.0018 - val_root_mean_squared_error: 0.0429 - lr: 6.2500e-05\n",
            "Epoch 8/50\n",
            "49189/49189 [==============================] - 1091s 22ms/step - loss: 0.0123 - root_mean_squared_error: 0.1109 - val_loss: 0.0014 - val_root_mean_squared_error: 0.0369 - lr: 6.2500e-05\n",
            "Epoch 9/50\n",
            "49187/49189 [============================>.] - ETA: 0s - loss: 0.0103 - root_mean_squared_error: 0.1016\n",
            "Epoch 9: ReduceLROnPlateau reducing learning rate to 1.5625000742147677e-05.\n",
            "49189/49189 [==============================] - 1089s 22ms/step - loss: 0.0103 - root_mean_squared_error: 0.1016 - val_loss: 0.0014 - val_root_mean_squared_error: 0.0375 - lr: 6.2500e-05\n",
            "Epoch 10/50\n",
            "49189/49189 [==============================] - 1101s 22ms/step - loss: 0.0092 - root_mean_squared_error: 0.0959 - val_loss: 0.0012 - val_root_mean_squared_error: 0.0349 - lr: 1.5625e-05\n",
            "Epoch 11/50\n",
            "49189/49189 [==============================] - 1086s 22ms/step - loss: 0.0091 - root_mean_squared_error: 0.0954 - val_loss: 0.0012 - val_root_mean_squared_error: 0.0346 - lr: 1.5625e-05\n",
            "Epoch 12/50\n",
            "49189/49189 [==============================] - 1091s 22ms/step - loss: 0.0092 - root_mean_squared_error: 0.0958 - val_loss: 0.0012 - val_root_mean_squared_error: 0.0342 - lr: 1.5625e-05\n",
            "Epoch 13/50\n",
            "49189/49189 [==============================] - 1096s 22ms/step - loss: 0.0089 - root_mean_squared_error: 0.0944 - val_loss: 0.0010 - val_root_mean_squared_error: 0.0322 - lr: 1.5625e-05\n",
            "Epoch 14/50\n",
            "49188/49189 [============================>.] - ETA: 0s - loss: 0.0089 - root_mean_squared_error: 0.0945\n",
            "Epoch 14: ReduceLROnPlateau reducing learning rate to 3.906250185536919e-06.\n",
            "49189/49189 [==============================] - 1091s 22ms/step - loss: 0.0089 - root_mean_squared_error: 0.0945 - val_loss: 0.0011 - val_root_mean_squared_error: 0.0326 - lr: 1.5625e-05\n",
            "Epoch 15/50\n",
            "49189/49189 [==============================] - ETA: 0s - loss: 0.0088 - root_mean_squared_error: 0.0938\n",
            "Epoch 15: ReduceLROnPlateau reducing learning rate to 1e-06.\n",
            "49189/49189 [==============================] - 1092s 22ms/step - loss: 0.0088 - root_mean_squared_error: 0.0938 - val_loss: 0.0011 - val_root_mean_squared_error: 0.0335 - lr: 3.9063e-06\n",
            "Epoch 16/50\n",
            "49189/49189 [==============================] - 1089s 22ms/step - loss: 0.0088 - root_mean_squared_error: 0.0935 - val_loss: 0.0011 - val_root_mean_squared_error: 0.0332 - lr: 1.0000e-06\n",
            "Epoch 16: early stopping\n"
          ]
        }
      ],
      "source": [
        "model.compile(optimizer='adam',loss='mean_squared_error',metrics=[tf.keras.metrics.RootMeanSquaredError()])\n",
        "history = model.fit(x=X_train, y=y_train,epochs=50,verbose=1,batch_size=256, validation_data=(X_valid, y_valid), callbacks=callbacks)"
      ]
    },
    {
      "cell_type": "code",
      "execution_count": null,
      "id": "29861e7c-5e12-4d17-88dd-4cef61dad8ff",
      "metadata": {
        "id": "29861e7c-5e12-4d17-88dd-4cef61dad8ff",
        "outputId": "2ca8039e-2a6f-48d0-ecc0-fbb687429b55"
      },
      "outputs": [
        {
          "name": "stderr",
          "output_type": "stream",
          "text": [
            "WARNING:absl:Found untraced functions such as lstm_cell_4_layer_call_fn, lstm_cell_4_layer_call_and_return_conditional_losses, lstm_cell_5_layer_call_fn, lstm_cell_5_layer_call_and_return_conditional_losses, lstm_cell_6_layer_call_fn while saving (showing 5 of 8). These functions will not be directly callable after loading.\n"
          ]
        },
        {
          "name": "stdout",
          "output_type": "stream",
          "text": [
            "INFO:tensorflow:Assets written to: weights.best.hdf1/assets\n"
          ]
        },
        {
          "name": "stderr",
          "output_type": "stream",
          "text": [
            "INFO:tensorflow:Assets written to: weights.best.hdf1/assets\n"
          ]
        }
      ],
      "source": [
        "filepath=\"weights.best.hdf1\"\n",
        "model.save(filepath)"
      ]
    },
    {
      "cell_type": "code",
      "execution_count": null,
      "id": "1f0db801-16f4-4003-b6dc-11558fc45080",
      "metadata": {
        "id": "1f0db801-16f4-4003-b6dc-11558fc45080",
        "outputId": "b39f5e7c-dd44-43dc-864c-b5b01f910de8"
      },
      "outputs": [
        {
          "data": {
            "image/png": "[encoded data removed]",
            "text/plain": [
              "<Figure size 2160x360 with 2 Axes>"
            ]
          },
          "metadata": {
            "needs_background": "light"
          },
          "output_type": "display_data"
        }
      ],
      "source": [
        "import matplotlib.pyplot as plt\n",
        "plt.figure(figsize=(30, 5))\n",
        "plt.subplot(121)\n",
        "plt.plot(history.history['loss'])\n",
        "plt.plot(history.history['val_loss'])\n",
        "plt.title('Model Loss')\n",
        "plt.ylabel('loss')\n",
        "plt.xlabel('Epoch')\n",
        "plt.legend(['Train', 'Test'], loc='upper left')\n",
        "\n",
        "plt.subplot(122)\n",
        "plt.plot(history.history['root_mean_squared_error'])\n",
        "plt.plot(history.history['val_root_mean_squared_error'])\n",
        "plt.title('Model Metrics')\n",
        "plt.ylabel('RMSE')\n",
        "plt.xlabel('Epoch')\n",
        "plt.legend(['Train', 'Test'], loc='upper left')\n",
        "plt.show()"
      ]
    }
  ],
  "metadata": {
    "kernelspec": {
      "display_name": "Python 3 (ipykernel)",
      "language": "python",
      "name": "python3"
    },
    "language_info": {
      "codemirror_mode": {
        "name": "ipython",
        "version": 3
      },
      "file_extension": ".py",
      "mimetype": "text/x-python",
      "name": "python",
      "nbconvert_exporter": "python",
      "pygments_lexer": "ipython3",
      "version": "3.9.13"
    },
    "colab": {
      "provenance": [],
      "collapsed_sections": []
    }
  },
  "nbformat": 4,
  "nbformat_minor": 5
}