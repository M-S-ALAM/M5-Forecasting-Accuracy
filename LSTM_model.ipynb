{
 "cells": [
  {
   "cell_type": "code",
   "execution_count": 1,
   "id": "22f9ad73-5c37-4c0b-9df1-f5e570268cd9",
   "metadata": {},
   "outputs": [],
   "source": [
    "import numpy as np\n",
    "import matplotlib.pyplot as plt\n",
    "import seaborn as sns\n",
    "import pandas as pd\n",
    "import os\n",
    "import pickle"
   ]
  },
  {
   "cell_type": "code",
   "execution_count": 2,
   "id": "4916b37f-92e6-4314-af3a-7d656928bd5d",
   "metadata": {},
   "outputs": [],
   "source": [
    "def reduce_mem_usage(df, verbose=False):\n",
    "    '''\n",
    "    reduce memory usage by downcasting data types\n",
    "    from https://www.kaggle.com/harupy/m5-baseline\n",
    "    '''\n",
    "    \n",
    "    start_mem = df.memory_usage().sum() / 1024 ** 2\n",
    "    int_columns = df.select_dtypes(include=[\"int\"]).columns\n",
    "    float_columns = df.select_dtypes(include=[\"float\"]).columns\n",
    "\n",
    "    for col in int_columns:\n",
    "        df[col] = pd.to_numeric(df[col], downcast=\"integer\")\n",
    "\n",
    "    for col in float_columns:\n",
    "        df[col] = pd.to_numeric(df[col], downcast=\"float\")\n",
    "\n",
    "    end_mem = df.memory_usage().sum() / 1024 ** 2\n",
    "    if verbose:\n",
    "        print(\n",
    "            \"Mem. usage decreased to {:5.2f} Mb ({:.1f}% reduction)\".format(\n",
    "                end_mem, 100 * (start_mem - end_mem) / start_mem\n",
    "            )\n",
    "        )\n",
    "    return df"
   ]
  },
  {
   "cell_type": "code",
   "execution_count": 3,
   "id": "60e1e958-fd63-42eb-a4dd-280ccfdd606b",
   "metadata": {},
   "outputs": [
    {
     "data": {
      "text/html": [
       "<div>\n",
       "<style scoped>\n",
       "    .dataframe tbody tr th:only-of-type {\n",
       "        vertical-align: middle;\n",
       "    }\n",
       "\n",
       "    .dataframe tbody tr th {\n",
       "        vertical-align: top;\n",
       "    }\n",
       "\n",
       "    .dataframe thead th {\n",
       "        text-align: right;\n",
       "    }\n",
       "</style>\n",
       "<table border=\"1\" class=\"dataframe\">\n",
       "  <thead>\n",
       "    <tr style=\"text-align: right;\">\n",
       "      <th></th>\n",
       "      <th>id</th>\n",
       "      <th>item_id</th>\n",
       "      <th>dept_id</th>\n",
       "      <th>cat_id</th>\n",
       "      <th>store_id</th>\n",
       "      <th>state_id</th>\n",
       "      <th>d</th>\n",
       "      <th>demand</th>\n",
       "      <th>date</th>\n",
       "      <th>wm_yr_wk</th>\n",
       "      <th>...</th>\n",
       "      <th>lag_21</th>\n",
       "      <th>lag_28</th>\n",
       "      <th>lag_30</th>\n",
       "      <th>lag_45</th>\n",
       "      <th>lag_60</th>\n",
       "      <th>lag_80</th>\n",
       "      <th>expanding_sold_mean</th>\n",
       "      <th>daily_avg_sold</th>\n",
       "      <th>avg_sold</th>\n",
       "      <th>selling_trend</th>\n",
       "    </tr>\n",
       "  </thead>\n",
       "  <tbody>\n",
       "    <tr>\n",
       "      <th>6098000</th>\n",
       "      <td>HOBBIES_1_001_CA_1_evaluation</td>\n",
       "      <td>HOBBIES_1_001</td>\n",
       "      <td>HOBBIES_1</td>\n",
       "      <td>HOBBIES</td>\n",
       "      <td>CA_1</td>\n",
       "      <td>CA</td>\n",
       "      <td>1501</td>\n",
       "      <td>0</td>\n",
       "      <td>2015-03-09</td>\n",
       "      <td>11506</td>\n",
       "      <td>...</td>\n",
       "      <td>0.0</td>\n",
       "      <td>0.0</td>\n",
       "      <td>2.0</td>\n",
       "      <td>0.0</td>\n",
       "      <td>2.0</td>\n",
       "      <td>0.0</td>\n",
       "      <td>0.646973</td>\n",
       "      <td>0.0</td>\n",
       "      <td>0.669434</td>\n",
       "      <td>-0.669434</td>\n",
       "    </tr>\n",
       "    <tr>\n",
       "      <th>6098001</th>\n",
       "      <td>HOBBIES_1_002_CA_1_evaluation</td>\n",
       "      <td>HOBBIES_1_002</td>\n",
       "      <td>HOBBIES_1</td>\n",
       "      <td>HOBBIES</td>\n",
       "      <td>CA_1</td>\n",
       "      <td>CA</td>\n",
       "      <td>1501</td>\n",
       "      <td>1</td>\n",
       "      <td>2015-03-09</td>\n",
       "      <td>11506</td>\n",
       "      <td>...</td>\n",
       "      <td>0.0</td>\n",
       "      <td>0.0</td>\n",
       "      <td>0.0</td>\n",
       "      <td>0.0</td>\n",
       "      <td>0.0</td>\n",
       "      <td>1.0</td>\n",
       "      <td>0.318359</td>\n",
       "      <td>1.0</td>\n",
       "      <td>0.304932</td>\n",
       "      <td>0.695312</td>\n",
       "    </tr>\n",
       "  </tbody>\n",
       "</table>\n",
       "<p>2 rows × 85 columns</p>\n",
       "</div>"
      ],
      "text/plain": [
       "                                    id        item_id    dept_id   cat_id  \\\n",
       "6098000  HOBBIES_1_001_CA_1_evaluation  HOBBIES_1_001  HOBBIES_1  HOBBIES   \n",
       "6098001  HOBBIES_1_002_CA_1_evaluation  HOBBIES_1_002  HOBBIES_1  HOBBIES   \n",
       "\n",
       "        store_id state_id     d  demand        date  wm_yr_wk  ... lag_21  \\\n",
       "6098000     CA_1       CA  1501       0  2015-03-09     11506  ...    0.0   \n",
       "6098001     CA_1       CA  1501       1  2015-03-09     11506  ...    0.0   \n",
       "\n",
       "         lag_28  lag_30  lag_45 lag_60 lag_80 expanding_sold_mean  \\\n",
       "6098000     0.0     2.0     0.0    2.0    0.0            0.646973   \n",
       "6098001     0.0     0.0     0.0    0.0    1.0            0.318359   \n",
       "\n",
       "        daily_avg_sold  avg_sold  selling_trend  \n",
       "6098000            0.0  0.669434      -0.669434  \n",
       "6098001            1.0  0.304932       0.695312  \n",
       "\n",
       "[2 rows x 85 columns]"
      ]
     },
     "execution_count": 3,
     "metadata": {},
     "output_type": "execute_result"
    }
   ],
   "source": [
    "data=pd.read_pickle('/notebooks/final_data.pkl').pipe(reduce_mem_usage)\n",
    "data.head(2)"
   ]
  },
  {
   "cell_type": "code",
   "execution_count": 4,
   "id": "a157e13d-7df3-4e7f-b1f1-ba7d2f179cfc",
   "metadata": {},
   "outputs": [
    {
     "name": "stderr",
     "output_type": "stream",
     "text": [
      "100%|██████████| 11/11 [00:00<00:00, 75.42it/s]\n"
     ]
    }
   ],
   "source": [
    "from tqdm import tqdm\n",
    "for col in tqdm(['id','item_id','dept_id','cat_id','store_id','state_id','event_name_1','event_type_1','event_type_2','event_name_2','weekday']):\n",
    "    data[col] = data[col].astype('category')"
   ]
  },
  {
   "cell_type": "code",
   "execution_count": 5,
   "id": "46a9cb93-bb9d-4763-8260-c4042bb20802",
   "metadata": {},
   "outputs": [],
   "source": [
    "d_id = dict(zip(data.id.cat.codes, data.id))\n",
    "d_item_id = dict(zip(data.item_id.cat.codes, data.item_id))\n",
    "d_dept_id = dict(zip(data.dept_id.cat.codes, data.dept_id))\n",
    "d_cat_id = dict(zip(data.cat_id.cat.codes, data.cat_id))\n",
    "d_store_id = dict(zip(data.store_id.cat.codes, data.store_id))\n",
    "d_state_id = dict(zip(data.state_id.cat.codes, data.state_id))"
   ]
  },
  {
   "cell_type": "code",
   "execution_count": 6,
   "id": "0b567a6f-00ee-4ffb-90b3-3ffbbd574c32",
   "metadata": {},
   "outputs": [],
   "source": [
    "cols = data.dtypes.index.tolist()\n",
    "d_types = data.dtypes.values.tolist()\n",
    "for i,type in enumerate(d_types):\n",
    "    if type.name == 'category':\n",
    "        data[cols[i]] = data[cols[i]].cat.codes"
   ]
  },
  {
   "cell_type": "code",
   "execution_count": 7,
   "id": "3489c946-a4e6-49f6-a4e5-b0027786bedb",
   "metadata": {},
   "outputs": [],
   "source": [
    "data.drop(['date'],axis=1,inplace=True)"
   ]
  },
  {
   "cell_type": "code",
   "execution_count": 8,
   "id": "a5331fd4-c558-4d95-a072-37ff6a1aea1f",
   "metadata": {},
   "outputs": [],
   "source": [
    "X_train, y_train = data[data['d']<1914].drop('demand',axis=1), data[data['d']<1914]['demand']\n",
    "X_valid, y_valid = data[(data['d']>=1914) & (data['d']<1942)].drop('demand',axis=1), data[(data['d']>=1914) & (data['d']<1942)]['demand']\n",
    "X_test = data[data['d']>=1942].drop('demand',axis=1)"
   ]
  },
  {
   "cell_type": "code",
   "execution_count": 8,
   "id": "67431627-63a8-43d1-87f4-8bbbeff31432",
   "metadata": {},
   "outputs": [],
   "source": [
    "import tensorflow as tf\n",
    "from tensorflow.keras.preprocessing import sequence\n",
    "from tensorflow.keras.models import Sequential\n",
    "from tensorflow.keras.layers import Dense, Activation,Flatten,Reshape\n",
    "from tensorflow.keras.layers import Embedding\n",
    "from tensorflow.keras.layers import LSTM, TimeDistributed\n",
    "from tensorflow.keras.preprocessing.text import Tokenizer\n",
    "import csv\n",
    "from tensorflow.keras.models import Model\n",
    "#import keras\n",
    "from tensorflow.keras import backend as k\n",
    "from tensorflow.keras.layers import Input,Concatenate,Dropout,Dense,BatchNormalization,Conv1D\n",
    "from tensorflow.keras.layers import Input\n",
    "from tensorflow.keras.initializers import he_normal,glorot_normal\n",
    "from tensorflow.keras.regularizers import l1,l2\n",
    "from tensorflow.python.keras.callbacks import TensorBoard\n",
    "from tensorflow.keras.callbacks import Callback, EarlyStopping, ModelCheckpoint,LearningRateScheduler,ReduceLROnPlateau\n",
    "from time import time\n",
    "from tensorflow.keras.utils import plot_model"
   ]
  },
  {
   "cell_type": "code",
   "execution_count": 16,
   "id": "56cecaf8-fad4-4378-88a8-b382c3213fc3",
   "metadata": {},
   "outputs": [],
   "source": [
    "def callback(filename):\n",
    "    checkpoint = ModelCheckpoint(filename, monitor='val_root_mean_squared_error', verbose=1, mode='min')\n",
    "    earlystop = EarlyStopping(monitor = 'val_root_mean_squared_error',  mode=\"min\",min_delta = 0, patience = 3,verbose = 1)\n",
    "    reduce_lr = ReduceLROnPlateau(monitor = 'val_root_mean_squared_error', factor = 0.25, patience = 2, verbose = 1)\n",
    "    callbacks = [checkpoint, earlystop,reduce_lr]\n",
    "    return callbacks"
   ]
  },
  {
   "cell_type": "code",
   "execution_count": 12,
   "id": "3dc73c98-1b28-4cff-9be9-9d3ffd6ff9c7",
   "metadata": {},
   "outputs": [
    {
     "name": "stdout",
     "output_type": "stream",
     "text": [
      "/notebooks/Deep_Learning_model/LSTM_model_1\n"
     ]
    }
   ],
   "source": [
    "!pwd"
   ]
  },
  {
   "cell_type": "code",
   "execution_count": 11,
   "id": "77546f05-002d-4c37-a614-7ec5ec742bf8",
   "metadata": {},
   "outputs": [],
   "source": [
    "os.chdir('Deep_Learning_model/LSTM_model_1')"
   ]
  },
  {
   "cell_type": "code",
   "execution_count": 14,
   "id": "73542e4f-54cc-4edf-af86-c7b297af5c63",
   "metadata": {},
   "outputs": [],
   "source": [
    "def Time_series_model_0(input_shape):\n",
    "    model = Sequential()\n",
    "    model.add(LSTM(units=150, return_sequences=True, input_shape = (input_shape,1)))\n",
    "    model.add(Dropout(0.2))\n",
    "    model.add(LSTM(units=100, return_sequences=True))\n",
    "    model.add(Dropout(0.3))\n",
    "    model.add(LSTM(units=50, return_sequences=True))\n",
    "    model.add(LSTM(units=25))\n",
    "    model.add(Dense(1, activation='linear'))\n",
    "    return model"
   ]
  },
  {
   "cell_type": "code",
   "execution_count": null,
   "id": "ce0d7ace-16e4-4eab-a481-d714d5c4f215",
   "metadata": {},
   "outputs": [
    {
     "name": "stderr",
     "output_type": "stream",
     "text": [
      "  0%|          | 0/10 [00:00<?, ?it/s]"
     ]
    },
    {
     "name": "stdout",
     "output_type": "stream",
     "text": [
      "********Prediction for Store:CA_1**********\n",
      "Epoch 1/50\n",
      "2459/2460 [============================>.] - ETA: 0s - loss: 2.4220 - root_mean_squared_error: 1.5563\n",
      "Epoch 1: saving model to model_CA_1.pkl\n"
     ]
    },
    {
     "name": "stderr",
     "output_type": "stream",
     "text": [
      "WARNING:absl:Found untraced functions such as lstm_cell_12_layer_call_fn, lstm_cell_12_layer_call_and_return_conditional_losses, lstm_cell_13_layer_call_fn, lstm_cell_13_layer_call_and_return_conditional_losses, lstm_cell_14_layer_call_fn while saving (showing 5 of 8). These functions will not be directly callable after loading.\n"
     ]
    },
    {
     "name": "stdout",
     "output_type": "stream",
     "text": [
      "INFO:tensorflow:Assets written to: model_CA_1.pkl/assets\n"
     ]
    },
    {
     "name": "stderr",
     "output_type": "stream",
     "text": [
      "INFO:tensorflow:Assets written to: model_CA_1.pkl/assets\n"
     ]
    },
    {
     "name": "stdout",
     "output_type": "stream",
     "text": [
      "2460/2460 [==============================] - 75s 29ms/step - loss: 2.4215 - root_mean_squared_error: 1.5561 - val_loss: 0.6595 - val_root_mean_squared_error: 0.8121 - lr: 0.0010\n",
      "Epoch 2/50\n",
      "2459/2460 [============================>.] - ETA: 0s - loss: 0.5825 - root_mean_squared_error: 0.7632\n",
      "Epoch 2: saving model to model_CA_1.pkl\n"
     ]
    },
    {
     "name": "stderr",
     "output_type": "stream",
     "text": [
      "WARNING:absl:Found untraced functions such as lstm_cell_12_layer_call_fn, lstm_cell_12_layer_call_and_return_conditional_losses, lstm_cell_13_layer_call_fn, lstm_cell_13_layer_call_and_return_conditional_losses, lstm_cell_14_layer_call_fn while saving (showing 5 of 8). These functions will not be directly callable after loading.\n"
     ]
    },
    {
     "name": "stdout",
     "output_type": "stream",
     "text": [
      "INFO:tensorflow:Assets written to: model_CA_1.pkl/assets\n"
     ]
    },
    {
     "name": "stderr",
     "output_type": "stream",
     "text": [
      "INFO:tensorflow:Assets written to: model_CA_1.pkl/assets\n"
     ]
    },
    {
     "name": "stdout",
     "output_type": "stream",
     "text": [
      "2460/2460 [==============================] - 72s 29ms/step - loss: 0.5824 - root_mean_squared_error: 0.7632 - val_loss: 0.2950 - val_root_mean_squared_error: 0.5431 - lr: 0.0010\n",
      "Epoch 3/50\n",
      "2459/2460 [============================>.] - ETA: 0s - loss: 0.2780 - root_mean_squared_error: 0.5272\n",
      "Epoch 3: saving model to model_CA_1.pkl\n"
     ]
    },
    {
     "name": "stderr",
     "output_type": "stream",
     "text": [
      "WARNING:absl:Found untraced functions such as lstm_cell_12_layer_call_fn, lstm_cell_12_layer_call_and_return_conditional_losses, lstm_cell_13_layer_call_fn, lstm_cell_13_layer_call_and_return_conditional_losses, lstm_cell_14_layer_call_fn while saving (showing 5 of 8). These functions will not be directly callable after loading.\n"
     ]
    },
    {
     "name": "stdout",
     "output_type": "stream",
     "text": [
      "INFO:tensorflow:Assets written to: model_CA_1.pkl/assets\n"
     ]
    },
    {
     "name": "stderr",
     "output_type": "stream",
     "text": [
      "INFO:tensorflow:Assets written to: model_CA_1.pkl/assets\n"
     ]
    },
    {
     "name": "stdout",
     "output_type": "stream",
     "text": [
      "2460/2460 [==============================] - 72s 29ms/step - loss: 0.2779 - root_mean_squared_error: 0.5272 - val_loss: 0.1029 - val_root_mean_squared_error: 0.3208 - lr: 0.0010\n",
      "Epoch 4/50\n",
      "2458/2460 [============================>.] - ETA: 0s - loss: 0.1710 - root_mean_squared_error: 0.4135\n",
      "Epoch 4: saving model to model_CA_1.pkl\n"
     ]
    },
    {
     "name": "stderr",
     "output_type": "stream",
     "text": [
      "WARNING:absl:Found untraced functions such as lstm_cell_12_layer_call_fn, lstm_cell_12_layer_call_and_return_conditional_losses, lstm_cell_13_layer_call_fn, lstm_cell_13_layer_call_and_return_conditional_losses, lstm_cell_14_layer_call_fn while saving (showing 5 of 8). These functions will not be directly callable after loading.\n"
     ]
    },
    {
     "name": "stdout",
     "output_type": "stream",
     "text": [
      "INFO:tensorflow:Assets written to: model_CA_1.pkl/assets\n"
     ]
    },
    {
     "name": "stderr",
     "output_type": "stream",
     "text": [
      "INFO:tensorflow:Assets written to: model_CA_1.pkl/assets\n"
     ]
    },
    {
     "name": "stdout",
     "output_type": "stream",
     "text": [
      "2460/2460 [==============================] - 73s 30ms/step - loss: 0.1709 - root_mean_squared_error: 0.4134 - val_loss: 0.0563 - val_root_mean_squared_error: 0.2372 - lr: 0.0010\n",
      "Epoch 5/50\n",
      "2459/2460 [============================>.] - ETA: 0s - loss: 0.1212 - root_mean_squared_error: 0.3481\n",
      "Epoch 5: saving model to model_CA_1.pkl\n"
     ]
    },
    {
     "name": "stderr",
     "output_type": "stream",
     "text": [
      "WARNING:absl:Found untraced functions such as lstm_cell_12_layer_call_fn, lstm_cell_12_layer_call_and_return_conditional_losses, lstm_cell_13_layer_call_fn, lstm_cell_13_layer_call_and_return_conditional_losses, lstm_cell_14_layer_call_fn while saving (showing 5 of 8). These functions will not be directly callable after loading.\n"
     ]
    },
    {
     "name": "stdout",
     "output_type": "stream",
     "text": [
      "INFO:tensorflow:Assets written to: model_CA_1.pkl/assets\n"
     ]
    },
    {
     "name": "stderr",
     "output_type": "stream",
     "text": [
      "INFO:tensorflow:Assets written to: model_CA_1.pkl/assets\n"
     ]
    },
    {
     "name": "stdout",
     "output_type": "stream",
     "text": [
      "2460/2460 [==============================] - 72s 29ms/step - loss: 0.1212 - root_mean_squared_error: 0.3481 - val_loss: 0.0361 - val_root_mean_squared_error: 0.1899 - lr: 0.0010\n",
      "Epoch 6/50\n",
      "2459/2460 [============================>.] - ETA: 0s - loss: 0.1053 - root_mean_squared_error: 0.3245\n",
      "Epoch 6: saving model to model_CA_1.pkl\n"
     ]
    },
    {
     "name": "stderr",
     "output_type": "stream",
     "text": [
      "WARNING:absl:Found untraced functions such as lstm_cell_12_layer_call_fn, lstm_cell_12_layer_call_and_return_conditional_losses, lstm_cell_13_layer_call_fn, lstm_cell_13_layer_call_and_return_conditional_losses, lstm_cell_14_layer_call_fn while saving (showing 5 of 8). These functions will not be directly callable after loading.\n"
     ]
    },
    {
     "name": "stdout",
     "output_type": "stream",
     "text": [
      "INFO:tensorflow:Assets written to: model_CA_1.pkl/assets\n"
     ]
    },
    {
     "name": "stderr",
     "output_type": "stream",
     "text": [
      "INFO:tensorflow:Assets written to: model_CA_1.pkl/assets\n"
     ]
    },
    {
     "name": "stdout",
     "output_type": "stream",
     "text": [
      "2460/2460 [==============================] - 73s 30ms/step - loss: 0.1053 - root_mean_squared_error: 0.3245 - val_loss: 0.0227 - val_root_mean_squared_error: 0.1507 - lr: 0.0010\n",
      "Epoch 7/50\n",
      "2459/2460 [============================>.] - ETA: 0s - loss: 0.0808 - root_mean_squared_error: 0.2842\n",
      "Epoch 7: saving model to model_CA_1.pkl\n"
     ]
    },
    {
     "name": "stderr",
     "output_type": "stream",
     "text": [
      "WARNING:absl:Found untraced functions such as lstm_cell_12_layer_call_fn, lstm_cell_12_layer_call_and_return_conditional_losses, lstm_cell_13_layer_call_fn, lstm_cell_13_layer_call_and_return_conditional_losses, lstm_cell_14_layer_call_fn while saving (showing 5 of 8). These functions will not be directly callable after loading.\n"
     ]
    },
    {
     "name": "stdout",
     "output_type": "stream",
     "text": [
      "INFO:tensorflow:Assets written to: model_CA_1.pkl/assets\n"
     ]
    },
    {
     "name": "stderr",
     "output_type": "stream",
     "text": [
      "INFO:tensorflow:Assets written to: model_CA_1.pkl/assets\n"
     ]
    },
    {
     "name": "stdout",
     "output_type": "stream",
     "text": [
      "2460/2460 [==============================] - 73s 30ms/step - loss: 0.0807 - root_mean_squared_error: 0.2842 - val_loss: 0.0195 - val_root_mean_squared_error: 0.1395 - lr: 0.0010\n",
      "Epoch 8/50\n",
      "2460/2460 [==============================] - ETA: 0s - loss: 0.0737 - root_mean_squared_error: 0.2715\n",
      "Epoch 8: saving model to model_CA_1.pkl\n"
     ]
    },
    {
     "name": "stderr",
     "output_type": "stream",
     "text": [
      "WARNING:absl:Found untraced functions such as lstm_cell_12_layer_call_fn, lstm_cell_12_layer_call_and_return_conditional_losses, lstm_cell_13_layer_call_fn, lstm_cell_13_layer_call_and_return_conditional_losses, lstm_cell_14_layer_call_fn while saving (showing 5 of 8). These functions will not be directly callable after loading.\n"
     ]
    },
    {
     "name": "stdout",
     "output_type": "stream",
     "text": [
      "INFO:tensorflow:Assets written to: model_CA_1.pkl/assets\n"
     ]
    },
    {
     "name": "stderr",
     "output_type": "stream",
     "text": [
      "INFO:tensorflow:Assets written to: model_CA_1.pkl/assets\n"
     ]
    },
    {
     "name": "stdout",
     "output_type": "stream",
     "text": [
      "2460/2460 [==============================] - 72s 29ms/step - loss: 0.0737 - root_mean_squared_error: 0.2715 - val_loss: 0.0230 - val_root_mean_squared_error: 0.1516 - lr: 0.0010\n",
      "Epoch 9/50\n",
      "2459/2460 [============================>.] - ETA: 0s - loss: 0.0626 - root_mean_squared_error: 0.2501\n",
      "Epoch 9: saving model to model_CA_1.pkl\n"
     ]
    },
    {
     "name": "stderr",
     "output_type": "stream",
     "text": [
      "WARNING:absl:Found untraced functions such as lstm_cell_12_layer_call_fn, lstm_cell_12_layer_call_and_return_conditional_losses, lstm_cell_13_layer_call_fn, lstm_cell_13_layer_call_and_return_conditional_losses, lstm_cell_14_layer_call_fn while saving (showing 5 of 8). These functions will not be directly callable after loading.\n"
     ]
    },
    {
     "name": "stdout",
     "output_type": "stream",
     "text": [
      "INFO:tensorflow:Assets written to: model_CA_1.pkl/assets\n"
     ]
    },
    {
     "name": "stderr",
     "output_type": "stream",
     "text": [
      "INFO:tensorflow:Assets written to: model_CA_1.pkl/assets\n"
     ]
    },
    {
     "name": "stdout",
     "output_type": "stream",
     "text": [
      "\n",
      "Epoch 9: ReduceLROnPlateau reducing learning rate to 0.0002500000118743628.\n",
      "2460/2460 [==============================] - 73s 30ms/step - loss: 0.0626 - root_mean_squared_error: 0.2501 - val_loss: 0.0259 - val_root_mean_squared_error: 0.1610 - lr: 0.0010\n",
      "Epoch 10/50\n",
      "2459/2460 [============================>.] - ETA: 0s - loss: 0.0488 - root_mean_squared_error: 0.2210\n",
      "Epoch 10: saving model to model_CA_1.pkl\n"
     ]
    },
    {
     "name": "stderr",
     "output_type": "stream",
     "text": [
      "WARNING:absl:Found untraced functions such as lstm_cell_12_layer_call_fn, lstm_cell_12_layer_call_and_return_conditional_losses, lstm_cell_13_layer_call_fn, lstm_cell_13_layer_call_and_return_conditional_losses, lstm_cell_14_layer_call_fn while saving (showing 5 of 8). These functions will not be directly callable after loading.\n"
     ]
    },
    {
     "name": "stdout",
     "output_type": "stream",
     "text": [
      "INFO:tensorflow:Assets written to: model_CA_1.pkl/assets\n"
     ]
    },
    {
     "name": "stderr",
     "output_type": "stream",
     "text": [
      "INFO:tensorflow:Assets written to: model_CA_1.pkl/assets\n"
     ]
    },
    {
     "name": "stdout",
     "output_type": "stream",
     "text": [
      "2460/2460 [==============================] - 72s 29ms/step - loss: 0.0488 - root_mean_squared_error: 0.2210 - val_loss: 0.0058 - val_root_mean_squared_error: 0.0763 - lr: 2.5000e-04\n",
      "Epoch 11/50\n",
      "2460/2460 [==============================] - ETA: 0s - loss: 0.0464 - root_mean_squared_error: 0.2154\n",
      "Epoch 11: saving model to model_CA_1.pkl\n"
     ]
    },
    {
     "name": "stderr",
     "output_type": "stream",
     "text": [
      "WARNING:absl:Found untraced functions such as lstm_cell_12_layer_call_fn, lstm_cell_12_layer_call_and_return_conditional_losses, lstm_cell_13_layer_call_fn, lstm_cell_13_layer_call_and_return_conditional_losses, lstm_cell_14_layer_call_fn while saving (showing 5 of 8). These functions will not be directly callable after loading.\n"
     ]
    },
    {
     "name": "stdout",
     "output_type": "stream",
     "text": [
      "INFO:tensorflow:Assets written to: model_CA_1.pkl/assets\n"
     ]
    },
    {
     "name": "stderr",
     "output_type": "stream",
     "text": [
      "INFO:tensorflow:Assets written to: model_CA_1.pkl/assets\n"
     ]
    },
    {
     "name": "stdout",
     "output_type": "stream",
     "text": [
      "2460/2460 [==============================] - 72s 29ms/step - loss: 0.0464 - root_mean_squared_error: 0.2154 - val_loss: 0.0046 - val_root_mean_squared_error: 0.0676 - lr: 2.5000e-04\n",
      "Epoch 12/50\n",
      "2458/2460 [============================>.] - ETA: 0s - loss: 0.0444 - root_mean_squared_error: 0.2107\n",
      "Epoch 12: saving model to model_CA_1.pkl\n"
     ]
    },
    {
     "name": "stderr",
     "output_type": "stream",
     "text": [
      "WARNING:absl:Found untraced functions such as lstm_cell_12_layer_call_fn, lstm_cell_12_layer_call_and_return_conditional_losses, lstm_cell_13_layer_call_fn, lstm_cell_13_layer_call_and_return_conditional_losses, lstm_cell_14_layer_call_fn while saving (showing 5 of 8). These functions will not be directly callable after loading.\n"
     ]
    },
    {
     "name": "stdout",
     "output_type": "stream",
     "text": [
      "INFO:tensorflow:Assets written to: model_CA_1.pkl/assets\n"
     ]
    },
    {
     "name": "stderr",
     "output_type": "stream",
     "text": [
      "INFO:tensorflow:Assets written to: model_CA_1.pkl/assets\n"
     ]
    },
    {
     "name": "stdout",
     "output_type": "stream",
     "text": [
      "2460/2460 [==============================] - 72s 29ms/step - loss: 0.0444 - root_mean_squared_error: 0.2106 - val_loss: 0.0032 - val_root_mean_squared_error: 0.0569 - lr: 2.5000e-04\n",
      "Epoch 13/50\n",
      "2459/2460 [============================>.] - ETA: 0s - loss: 0.0432 - root_mean_squared_error: 0.2078\n",
      "Epoch 13: saving model to model_CA_1.pkl\n"
     ]
    },
    {
     "name": "stderr",
     "output_type": "stream",
     "text": [
      "WARNING:absl:Found untraced functions such as lstm_cell_12_layer_call_fn, lstm_cell_12_layer_call_and_return_conditional_losses, lstm_cell_13_layer_call_fn, lstm_cell_13_layer_call_and_return_conditional_losses, lstm_cell_14_layer_call_fn while saving (showing 5 of 8). These functions will not be directly callable after loading.\n"
     ]
    },
    {
     "name": "stdout",
     "output_type": "stream",
     "text": [
      "INFO:tensorflow:Assets written to: model_CA_1.pkl/assets\n"
     ]
    },
    {
     "name": "stderr",
     "output_type": "stream",
     "text": [
      "INFO:tensorflow:Assets written to: model_CA_1.pkl/assets\n"
     ]
    },
    {
     "name": "stdout",
     "output_type": "stream",
     "text": [
      "2460/2460 [==============================] - 72s 29ms/step - loss: 0.0432 - root_mean_squared_error: 0.2077 - val_loss: 0.0040 - val_root_mean_squared_error: 0.0633 - lr: 2.5000e-04\n",
      "Epoch 14/50\n",
      "2460/2460 [==============================] - ETA: 0s - loss: 0.0418 - root_mean_squared_error: 0.2045\n",
      "Epoch 14: saving model to model_CA_1.pkl\n"
     ]
    },
    {
     "name": "stderr",
     "output_type": "stream",
     "text": [
      "WARNING:absl:Found untraced functions such as lstm_cell_12_layer_call_fn, lstm_cell_12_layer_call_and_return_conditional_losses, lstm_cell_13_layer_call_fn, lstm_cell_13_layer_call_and_return_conditional_losses, lstm_cell_14_layer_call_fn while saving (showing 5 of 8). These functions will not be directly callable after loading.\n"
     ]
    },
    {
     "name": "stdout",
     "output_type": "stream",
     "text": [
      "INFO:tensorflow:Assets written to: model_CA_1.pkl/assets\n"
     ]
    },
    {
     "name": "stderr",
     "output_type": "stream",
     "text": [
      "INFO:tensorflow:Assets written to: model_CA_1.pkl/assets\n"
     ]
    },
    {
     "name": "stdout",
     "output_type": "stream",
     "text": [
      "\n",
      "Epoch 14: ReduceLROnPlateau reducing learning rate to 6.25000029685907e-05.\n",
      "2460/2460 [==============================] - 72s 29ms/step - loss: 0.0418 - root_mean_squared_error: 0.2045 - val_loss: 0.0057 - val_root_mean_squared_error: 0.0753 - lr: 2.5000e-04\n",
      "Epoch 15/50\n",
      "2460/2460 [==============================] - ETA: 0s - loss: 0.0391 - root_mean_squared_error: 0.1978\n",
      "Epoch 15: saving model to model_CA_1.pkl\n"
     ]
    },
    {
     "name": "stderr",
     "output_type": "stream",
     "text": [
      "WARNING:absl:Found untraced functions such as lstm_cell_12_layer_call_fn, lstm_cell_12_layer_call_and_return_conditional_losses, lstm_cell_13_layer_call_fn, lstm_cell_13_layer_call_and_return_conditional_losses, lstm_cell_14_layer_call_fn while saving (showing 5 of 8). These functions will not be directly callable after loading.\n"
     ]
    },
    {
     "name": "stdout",
     "output_type": "stream",
     "text": [
      "INFO:tensorflow:Assets written to: model_CA_1.pkl/assets\n"
     ]
    },
    {
     "name": "stderr",
     "output_type": "stream",
     "text": [
      "INFO:tensorflow:Assets written to: model_CA_1.pkl/assets\n"
     ]
    },
    {
     "name": "stdout",
     "output_type": "stream",
     "text": [
      "2460/2460 [==============================] - 73s 29ms/step - loss: 0.0391 - root_mean_squared_error: 0.1978 - val_loss: 0.0019 - val_root_mean_squared_error: 0.0436 - lr: 6.2500e-05\n",
      "Epoch 16/50\n",
      "2458/2460 [============================>.] - ETA: 0s - loss: 0.0389 - root_mean_squared_error: 0.1973\n",
      "Epoch 16: saving model to model_CA_1.pkl\n"
     ]
    },
    {
     "name": "stderr",
     "output_type": "stream",
     "text": [
      "WARNING:absl:Found untraced functions such as lstm_cell_12_layer_call_fn, lstm_cell_12_layer_call_and_return_conditional_losses, lstm_cell_13_layer_call_fn, lstm_cell_13_layer_call_and_return_conditional_losses, lstm_cell_14_layer_call_fn while saving (showing 5 of 8). These functions will not be directly callable after loading.\n"
     ]
    },
    {
     "name": "stdout",
     "output_type": "stream",
     "text": [
      "INFO:tensorflow:Assets written to: model_CA_1.pkl/assets\n"
     ]
    },
    {
     "name": "stderr",
     "output_type": "stream",
     "text": [
      "INFO:tensorflow:Assets written to: model_CA_1.pkl/assets\n"
     ]
    },
    {
     "name": "stdout",
     "output_type": "stream",
     "text": [
      "2460/2460 [==============================] - 72s 29ms/step - loss: 0.0389 - root_mean_squared_error: 0.1973 - val_loss: 0.0023 - val_root_mean_squared_error: 0.0480 - lr: 6.2500e-05\n",
      "Epoch 17/50\n",
      "2459/2460 [============================>.] - ETA: 0s - loss: 0.0384 - root_mean_squared_error: 0.1959\n",
      "Epoch 17: saving model to model_CA_1.pkl\n"
     ]
    },
    {
     "name": "stderr",
     "output_type": "stream",
     "text": [
      "WARNING:absl:Found untraced functions such as lstm_cell_12_layer_call_fn, lstm_cell_12_layer_call_and_return_conditional_losses, lstm_cell_13_layer_call_fn, lstm_cell_13_layer_call_and_return_conditional_losses, lstm_cell_14_layer_call_fn while saving (showing 5 of 8). These functions will not be directly callable after loading.\n"
     ]
    },
    {
     "name": "stdout",
     "output_type": "stream",
     "text": [
      "INFO:tensorflow:Assets written to: model_CA_1.pkl/assets\n"
     ]
    },
    {
     "name": "stderr",
     "output_type": "stream",
     "text": [
      "INFO:tensorflow:Assets written to: model_CA_1.pkl/assets\n"
     ]
    },
    {
     "name": "stdout",
     "output_type": "stream",
     "text": [
      "\n",
      "Epoch 17: ReduceLROnPlateau reducing learning rate to 1.5625000742147677e-05.\n",
      "2460/2460 [==============================] - 73s 30ms/step - loss: 0.0384 - root_mean_squared_error: 0.1959 - val_loss: 0.0021 - val_root_mean_squared_error: 0.0454 - lr: 6.2500e-05\n",
      "Epoch 18/50\n",
      "2459/2460 [============================>.] - ETA: 0s - loss: 0.0378 - root_mean_squared_error: 0.1944\n",
      "Epoch 18: saving model to model_CA_1.pkl\n"
     ]
    },
    {
     "name": "stderr",
     "output_type": "stream",
     "text": [
      "WARNING:absl:Found untraced functions such as lstm_cell_12_layer_call_fn, lstm_cell_12_layer_call_and_return_conditional_losses, lstm_cell_13_layer_call_fn, lstm_cell_13_layer_call_and_return_conditional_losses, lstm_cell_14_layer_call_fn while saving (showing 5 of 8). These functions will not be directly callable after loading.\n"
     ]
    },
    {
     "name": "stdout",
     "output_type": "stream",
     "text": [
      "INFO:tensorflow:Assets written to: model_CA_1.pkl/assets\n"
     ]
    },
    {
     "name": "stderr",
     "output_type": "stream",
     "text": [
      "INFO:tensorflow:Assets written to: model_CA_1.pkl/assets\n"
     ]
    },
    {
     "name": "stdout",
     "output_type": "stream",
     "text": [
      "2460/2460 [==============================] - 72s 29ms/step - loss: 0.0378 - root_mean_squared_error: 0.1944 - val_loss: 0.0017 - val_root_mean_squared_error: 0.0412 - lr: 1.5625e-05\n",
      "Epoch 19/50\n",
      "2458/2460 [============================>.] - ETA: 0s - loss: 0.0378 - root_mean_squared_error: 0.1945\n",
      "Epoch 19: saving model to model_CA_1.pkl\n"
     ]
    },
    {
     "name": "stderr",
     "output_type": "stream",
     "text": [
      "WARNING:absl:Found untraced functions such as lstm_cell_12_layer_call_fn, lstm_cell_12_layer_call_and_return_conditional_losses, lstm_cell_13_layer_call_fn, lstm_cell_13_layer_call_and_return_conditional_losses, lstm_cell_14_layer_call_fn while saving (showing 5 of 8). These functions will not be directly callable after loading.\n"
     ]
    },
    {
     "name": "stdout",
     "output_type": "stream",
     "text": [
      "INFO:tensorflow:Assets written to: model_CA_1.pkl/assets\n"
     ]
    },
    {
     "name": "stderr",
     "output_type": "stream",
     "text": [
      "INFO:tensorflow:Assets written to: model_CA_1.pkl/assets\n"
     ]
    },
    {
     "name": "stdout",
     "output_type": "stream",
     "text": [
      "2460/2460 [==============================] - 72s 29ms/step - loss: 0.0378 - root_mean_squared_error: 0.1944 - val_loss: 0.0016 - val_root_mean_squared_error: 0.0404 - lr: 1.5625e-05\n",
      "Epoch 20/50\n",
      "2459/2460 [============================>.] - ETA: 0s - loss: 0.0377 - root_mean_squared_error: 0.1941\n",
      "Epoch 20: saving model to model_CA_1.pkl\n"
     ]
    },
    {
     "name": "stderr",
     "output_type": "stream",
     "text": [
      "WARNING:absl:Found untraced functions such as lstm_cell_12_layer_call_fn, lstm_cell_12_layer_call_and_return_conditional_losses, lstm_cell_13_layer_call_fn, lstm_cell_13_layer_call_and_return_conditional_losses, lstm_cell_14_layer_call_fn while saving (showing 5 of 8). These functions will not be directly callable after loading.\n"
     ]
    },
    {
     "name": "stdout",
     "output_type": "stream",
     "text": [
      "INFO:tensorflow:Assets written to: model_CA_1.pkl/assets\n"
     ]
    },
    {
     "name": "stderr",
     "output_type": "stream",
     "text": [
      "INFO:tensorflow:Assets written to: model_CA_1.pkl/assets\n"
     ]
    },
    {
     "name": "stdout",
     "output_type": "stream",
     "text": [
      "2460/2460 [==============================] - 72s 29ms/step - loss: 0.0377 - root_mean_squared_error: 0.1940 - val_loss: 0.0016 - val_root_mean_squared_error: 0.0401 - lr: 1.5625e-05\n",
      "Epoch 21/50\n",
      "2460/2460 [==============================] - ETA: 0s - loss: 0.0376 - root_mean_squared_error: 0.1940\n",
      "Epoch 21: saving model to model_CA_1.pkl\n"
     ]
    },
    {
     "name": "stderr",
     "output_type": "stream",
     "text": [
      "WARNING:absl:Found untraced functions such as lstm_cell_12_layer_call_fn, lstm_cell_12_layer_call_and_return_conditional_losses, lstm_cell_13_layer_call_fn, lstm_cell_13_layer_call_and_return_conditional_losses, lstm_cell_14_layer_call_fn while saving (showing 5 of 8). These functions will not be directly callable after loading.\n"
     ]
    },
    {
     "name": "stdout",
     "output_type": "stream",
     "text": [
      "INFO:tensorflow:Assets written to: model_CA_1.pkl/assets\n"
     ]
    },
    {
     "name": "stderr",
     "output_type": "stream",
     "text": [
      "INFO:tensorflow:Assets written to: model_CA_1.pkl/assets\n"
     ]
    },
    {
     "name": "stdout",
     "output_type": "stream",
     "text": [
      "2460/2460 [==============================] - 72s 29ms/step - loss: 0.0376 - root_mean_squared_error: 0.1940 - val_loss: 0.0016 - val_root_mean_squared_error: 0.0402 - lr: 1.5625e-05\n",
      "Epoch 22/50\n",
      "2458/2460 [============================>.] - ETA: 0s - loss: 0.0376 - root_mean_squared_error: 0.1939\n",
      "Epoch 22: saving model to model_CA_1.pkl\n"
     ]
    },
    {
     "name": "stderr",
     "output_type": "stream",
     "text": [
      "WARNING:absl:Found untraced functions such as lstm_cell_12_layer_call_fn, lstm_cell_12_layer_call_and_return_conditional_losses, lstm_cell_13_layer_call_fn, lstm_cell_13_layer_call_and_return_conditional_losses, lstm_cell_14_layer_call_fn while saving (showing 5 of 8). These functions will not be directly callable after loading.\n"
     ]
    },
    {
     "name": "stdout",
     "output_type": "stream",
     "text": [
      "INFO:tensorflow:Assets written to: model_CA_1.pkl/assets\n"
     ]
    },
    {
     "name": "stderr",
     "output_type": "stream",
     "text": [
      "INFO:tensorflow:Assets written to: model_CA_1.pkl/assets\n"
     ]
    },
    {
     "name": "stdout",
     "output_type": "stream",
     "text": [
      "2460/2460 [==============================] - 72s 29ms/step - loss: 0.0376 - root_mean_squared_error: 0.1939 - val_loss: 0.0016 - val_root_mean_squared_error: 0.0397 - lr: 1.5625e-05\n",
      "Epoch 23/50\n",
      "2460/2460 [==============================] - ETA: 0s - loss: 0.0372 - root_mean_squared_error: 0.1930\n",
      "Epoch 23: saving model to model_CA_1.pkl\n"
     ]
    },
    {
     "name": "stderr",
     "output_type": "stream",
     "text": [
      "WARNING:absl:Found untraced functions such as lstm_cell_12_layer_call_fn, lstm_cell_12_layer_call_and_return_conditional_losses, lstm_cell_13_layer_call_fn, lstm_cell_13_layer_call_and_return_conditional_losses, lstm_cell_14_layer_call_fn while saving (showing 5 of 8). These functions will not be directly callable after loading.\n"
     ]
    },
    {
     "name": "stdout",
     "output_type": "stream",
     "text": [
      "INFO:tensorflow:Assets written to: model_CA_1.pkl/assets\n"
     ]
    },
    {
     "name": "stderr",
     "output_type": "stream",
     "text": [
      "INFO:tensorflow:Assets written to: model_CA_1.pkl/assets\n"
     ]
    },
    {
     "name": "stdout",
     "output_type": "stream",
     "text": [
      "2460/2460 [==============================] - 73s 30ms/step - loss: 0.0372 - root_mean_squared_error: 0.1930 - val_loss: 0.0017 - val_root_mean_squared_error: 0.0415 - lr: 1.5625e-05\n",
      "Epoch 24/50\n",
      "2458/2460 [============================>.] - ETA: 0s - loss: 0.0372 - root_mean_squared_error: 0.1930\n",
      "Epoch 24: saving model to model_CA_1.pkl\n"
     ]
    },
    {
     "name": "stderr",
     "output_type": "stream",
     "text": [
      "WARNING:absl:Found untraced functions such as lstm_cell_12_layer_call_fn, lstm_cell_12_layer_call_and_return_conditional_losses, lstm_cell_13_layer_call_fn, lstm_cell_13_layer_call_and_return_conditional_losses, lstm_cell_14_layer_call_fn while saving (showing 5 of 8). These functions will not be directly callable after loading.\n"
     ]
    },
    {
     "name": "stdout",
     "output_type": "stream",
     "text": [
      "INFO:tensorflow:Assets written to: model_CA_1.pkl/assets\n"
     ]
    },
    {
     "name": "stderr",
     "output_type": "stream",
     "text": [
      "INFO:tensorflow:Assets written to: model_CA_1.pkl/assets\n"
     ]
    },
    {
     "name": "stdout",
     "output_type": "stream",
     "text": [
      "2460/2460 [==============================] - 73s 30ms/step - loss: 0.0372 - root_mean_squared_error: 0.1930 - val_loss: 0.0015 - val_root_mean_squared_error: 0.0384 - lr: 1.5625e-05\n",
      "Epoch 25/50\n",
      "2460/2460 [==============================] - ETA: 0s - loss: 0.0373 - root_mean_squared_error: 0.1930\n",
      "Epoch 25: saving model to model_CA_1.pkl\n"
     ]
    },
    {
     "name": "stderr",
     "output_type": "stream",
     "text": [
      "WARNING:absl:Found untraced functions such as lstm_cell_12_layer_call_fn, lstm_cell_12_layer_call_and_return_conditional_losses, lstm_cell_13_layer_call_fn, lstm_cell_13_layer_call_and_return_conditional_losses, lstm_cell_14_layer_call_fn while saving (showing 5 of 8). These functions will not be directly callable after loading.\n"
     ]
    },
    {
     "name": "stdout",
     "output_type": "stream",
     "text": [
      "INFO:tensorflow:Assets written to: model_CA_1.pkl/assets\n"
     ]
    },
    {
     "name": "stderr",
     "output_type": "stream",
     "text": [
      "INFO:tensorflow:Assets written to: model_CA_1.pkl/assets\n"
     ]
    },
    {
     "name": "stdout",
     "output_type": "stream",
     "text": [
      "2460/2460 [==============================] - 72s 29ms/step - loss: 0.0373 - root_mean_squared_error: 0.1930 - val_loss: 0.0018 - val_root_mean_squared_error: 0.0427 - lr: 1.5625e-05\n",
      "Epoch 26/50\n",
      "2460/2460 [==============================] - ETA: 0s - loss: 0.0371 - root_mean_squared_error: 0.1926\n",
      "Epoch 26: saving model to model_CA_1.pkl\n"
     ]
    },
    {
     "name": "stderr",
     "output_type": "stream",
     "text": [
      "WARNING:absl:Found untraced functions such as lstm_cell_12_layer_call_fn, lstm_cell_12_layer_call_and_return_conditional_losses, lstm_cell_13_layer_call_fn, lstm_cell_13_layer_call_and_return_conditional_losses, lstm_cell_14_layer_call_fn while saving (showing 5 of 8). These functions will not be directly callable after loading.\n"
     ]
    },
    {
     "name": "stdout",
     "output_type": "stream",
     "text": [
      "INFO:tensorflow:Assets written to: model_CA_1.pkl/assets\n"
     ]
    },
    {
     "name": "stderr",
     "output_type": "stream",
     "text": [
      "INFO:tensorflow:Assets written to: model_CA_1.pkl/assets\n"
     ]
    },
    {
     "name": "stdout",
     "output_type": "stream",
     "text": [
      "2460/2460 [==============================] - 74s 30ms/step - loss: 0.0371 - root_mean_squared_error: 0.1926 - val_loss: 0.0015 - val_root_mean_squared_error: 0.0381 - lr: 1.5625e-05\n",
      "Epoch 27/50\n",
      "2459/2460 [============================>.] - ETA: 0s - loss: 0.0371 - root_mean_squared_error: 0.1925\n",
      "Epoch 27: saving model to model_CA_1.pkl\n"
     ]
    },
    {
     "name": "stderr",
     "output_type": "stream",
     "text": [
      "WARNING:absl:Found untraced functions such as lstm_cell_12_layer_call_fn, lstm_cell_12_layer_call_and_return_conditional_losses, lstm_cell_13_layer_call_fn, lstm_cell_13_layer_call_and_return_conditional_losses, lstm_cell_14_layer_call_fn while saving (showing 5 of 8). These functions will not be directly callable after loading.\n"
     ]
    },
    {
     "name": "stdout",
     "output_type": "stream",
     "text": [
      "INFO:tensorflow:Assets written to: model_CA_1.pkl/assets\n"
     ]
    },
    {
     "name": "stderr",
     "output_type": "stream",
     "text": [
      "INFO:tensorflow:Assets written to: model_CA_1.pkl/assets\n"
     ]
    },
    {
     "name": "stdout",
     "output_type": "stream",
     "text": [
      "2460/2460 [==============================] - 73s 30ms/step - loss: 0.0371 - root_mean_squared_error: 0.1925 - val_loss: 0.0015 - val_root_mean_squared_error: 0.0391 - lr: 1.5625e-05\n",
      "Epoch 28/50\n",
      "2460/2460 [==============================] - ETA: 0s - loss: 0.0370 - root_mean_squared_error: 0.1923\n",
      "Epoch 28: saving model to model_CA_1.pkl\n"
     ]
    },
    {
     "name": "stderr",
     "output_type": "stream",
     "text": [
      "WARNING:absl:Found untraced functions such as lstm_cell_12_layer_call_fn, lstm_cell_12_layer_call_and_return_conditional_losses, lstm_cell_13_layer_call_fn, lstm_cell_13_layer_call_and_return_conditional_losses, lstm_cell_14_layer_call_fn while saving (showing 5 of 8). These functions will not be directly callable after loading.\n"
     ]
    },
    {
     "name": "stdout",
     "output_type": "stream",
     "text": [
      "INFO:tensorflow:Assets written to: model_CA_1.pkl/assets\n"
     ]
    },
    {
     "name": "stderr",
     "output_type": "stream",
     "text": [
      "INFO:tensorflow:Assets written to: model_CA_1.pkl/assets\n"
     ]
    },
    {
     "name": "stdout",
     "output_type": "stream",
     "text": [
      "\n",
      "Epoch 28: ReduceLROnPlateau reducing learning rate to 3.906250185536919e-06.\n",
      "2460/2460 [==============================] - 73s 30ms/step - loss: 0.0370 - root_mean_squared_error: 0.1923 - val_loss: 0.0016 - val_root_mean_squared_error: 0.0399 - lr: 1.5625e-05\n",
      "Epoch 29/50\n",
      "2460/2460 [==============================] - ETA: 0s - loss: 0.0368 - root_mean_squared_error: 0.1919\n",
      "Epoch 29: saving model to model_CA_1.pkl\n"
     ]
    },
    {
     "name": "stderr",
     "output_type": "stream",
     "text": [
      "WARNING:absl:Found untraced functions such as lstm_cell_12_layer_call_fn, lstm_cell_12_layer_call_and_return_conditional_losses, lstm_cell_13_layer_call_fn, lstm_cell_13_layer_call_and_return_conditional_losses, lstm_cell_14_layer_call_fn while saving (showing 5 of 8). These functions will not be directly callable after loading.\n"
     ]
    },
    {
     "name": "stdout",
     "output_type": "stream",
     "text": [
      "INFO:tensorflow:Assets written to: model_CA_1.pkl/assets\n"
     ]
    },
    {
     "name": "stderr",
     "output_type": "stream",
     "text": [
      "INFO:tensorflow:Assets written to: model_CA_1.pkl/assets\n"
     ]
    },
    {
     "name": "stdout",
     "output_type": "stream",
     "text": [
      "2460/2460 [==============================] - 72s 29ms/step - loss: 0.0368 - root_mean_squared_error: 0.1919 - val_loss: 0.0015 - val_root_mean_squared_error: 0.0385 - lr: 3.9063e-06\n",
      "Epoch 29: early stopping\n",
      "2668/2668 [==============================] - 17s 6ms/step\n",
      "2668/2668 [==============================] - 15s 6ms/step\n"
     ]
    },
    {
     "name": "stderr",
     "output_type": "stream",
     "text": [
      " 10%|█         | 1/10 [35:39<5:20:53, 2139.26s/it]"
     ]
    },
    {
     "name": "stdout",
     "output_type": "stream",
     "text": [
      "********Prediction for Store:CA_2**********\n",
      "Epoch 1/50\n",
      "2458/2460 [============================>.] - ETA: 0s - loss: 1.3631 - root_mean_squared_error: 1.1675\n",
      "Epoch 1: saving model to model_CA_2.pkl\n"
     ]
    },
    {
     "name": "stderr",
     "output_type": "stream",
     "text": [
      "WARNING:absl:Found untraced functions such as lstm_cell_16_layer_call_fn, lstm_cell_16_layer_call_and_return_conditional_losses, lstm_cell_17_layer_call_fn, lstm_cell_17_layer_call_and_return_conditional_losses, lstm_cell_18_layer_call_fn while saving (showing 5 of 8). These functions will not be directly callable after loading.\n"
     ]
    },
    {
     "name": "stdout",
     "output_type": "stream",
     "text": [
      "INFO:tensorflow:Assets written to: model_CA_2.pkl/assets\n"
     ]
    },
    {
     "name": "stderr",
     "output_type": "stream",
     "text": [
      "INFO:tensorflow:Assets written to: model_CA_2.pkl/assets\n"
     ]
    },
    {
     "name": "stdout",
     "output_type": "stream",
     "text": [
      "2460/2460 [==============================] - 77s 30ms/step - loss: 1.3623 - root_mean_squared_error: 1.1672 - val_loss: 0.4252 - val_root_mean_squared_error: 0.6521 - lr: 0.0010\n",
      "Epoch 2/50\n",
      "2458/2460 [============================>.] - ETA: 0s - loss: 0.3058 - root_mean_squared_error: 0.5530\n",
      "Epoch 2: saving model to model_CA_2.pkl\n"
     ]
    },
    {
     "name": "stderr",
     "output_type": "stream",
     "text": [
      "WARNING:absl:Found untraced functions such as lstm_cell_16_layer_call_fn, lstm_cell_16_layer_call_and_return_conditional_losses, lstm_cell_17_layer_call_fn, lstm_cell_17_layer_call_and_return_conditional_losses, lstm_cell_18_layer_call_fn while saving (showing 5 of 8). These functions will not be directly callable after loading.\n"
     ]
    },
    {
     "name": "stdout",
     "output_type": "stream",
     "text": [
      "INFO:tensorflow:Assets written to: model_CA_2.pkl/assets\n"
     ]
    },
    {
     "name": "stderr",
     "output_type": "stream",
     "text": [
      "INFO:tensorflow:Assets written to: model_CA_2.pkl/assets\n"
     ]
    },
    {
     "name": "stdout",
     "output_type": "stream",
     "text": [
      "2460/2460 [==============================] - 73s 30ms/step - loss: 0.3057 - root_mean_squared_error: 0.5529 - val_loss: 0.1695 - val_root_mean_squared_error: 0.4117 - lr: 0.0010\n",
      "Epoch 3/50\n",
      "2460/2460 [==============================] - ETA: 0s - loss: 0.1497 - root_mean_squared_error: 0.3869\n",
      "Epoch 3: saving model to model_CA_2.pkl\n"
     ]
    },
    {
     "name": "stderr",
     "output_type": "stream",
     "text": [
      "WARNING:absl:Found untraced functions such as lstm_cell_16_layer_call_fn, lstm_cell_16_layer_call_and_return_conditional_losses, lstm_cell_17_layer_call_fn, lstm_cell_17_layer_call_and_return_conditional_losses, lstm_cell_18_layer_call_fn while saving (showing 5 of 8). These functions will not be directly callable after loading.\n"
     ]
    },
    {
     "name": "stdout",
     "output_type": "stream",
     "text": [
      "INFO:tensorflow:Assets written to: model_CA_2.pkl/assets\n"
     ]
    },
    {
     "name": "stderr",
     "output_type": "stream",
     "text": [
      "INFO:tensorflow:Assets written to: model_CA_2.pkl/assets\n"
     ]
    },
    {
     "name": "stdout",
     "output_type": "stream",
     "text": [
      "2460/2460 [==============================] - 73s 30ms/step - loss: 0.1497 - root_mean_squared_error: 0.3869 - val_loss: 0.0923 - val_root_mean_squared_error: 0.3039 - lr: 0.0010\n",
      "Epoch 4/50\n",
      "2458/2460 [============================>.] - ETA: 0s - loss: 0.0945 - root_mean_squared_error: 0.3074\n",
      "Epoch 4: saving model to model_CA_2.pkl\n"
     ]
    },
    {
     "name": "stderr",
     "output_type": "stream",
     "text": [
      "WARNING:absl:Found untraced functions such as lstm_cell_16_layer_call_fn, lstm_cell_16_layer_call_and_return_conditional_losses, lstm_cell_17_layer_call_fn, lstm_cell_17_layer_call_and_return_conditional_losses, lstm_cell_18_layer_call_fn while saving (showing 5 of 8). These functions will not be directly callable after loading.\n"
     ]
    },
    {
     "name": "stdout",
     "output_type": "stream",
     "text": [
      "INFO:tensorflow:Assets written to: model_CA_2.pkl/assets\n"
     ]
    },
    {
     "name": "stderr",
     "output_type": "stream",
     "text": [
      "INFO:tensorflow:Assets written to: model_CA_2.pkl/assets\n"
     ]
    },
    {
     "name": "stdout",
     "output_type": "stream",
     "text": [
      "2460/2460 [==============================] - 73s 30ms/step - loss: 0.0944 - root_mean_squared_error: 0.3073 - val_loss: 0.0602 - val_root_mean_squared_error: 0.2454 - lr: 0.0010\n",
      "Epoch 5/50\n",
      "2459/2460 [============================>.] - ETA: 0s - loss: 0.0729 - root_mean_squared_error: 0.2699\n",
      "Epoch 5: saving model to model_CA_2.pkl\n"
     ]
    },
    {
     "name": "stderr",
     "output_type": "stream",
     "text": [
      "WARNING:absl:Found untraced functions such as lstm_cell_16_layer_call_fn, lstm_cell_16_layer_call_and_return_conditional_losses, lstm_cell_17_layer_call_fn, lstm_cell_17_layer_call_and_return_conditional_losses, lstm_cell_18_layer_call_fn while saving (showing 5 of 8). These functions will not be directly callable after loading.\n"
     ]
    },
    {
     "name": "stdout",
     "output_type": "stream",
     "text": [
      "INFO:tensorflow:Assets written to: model_CA_2.pkl/assets\n"
     ]
    },
    {
     "name": "stderr",
     "output_type": "stream",
     "text": [
      "INFO:tensorflow:Assets written to: model_CA_2.pkl/assets\n"
     ]
    },
    {
     "name": "stdout",
     "output_type": "stream",
     "text": [
      "2460/2460 [==============================] - 73s 30ms/step - loss: 0.0728 - root_mean_squared_error: 0.2699 - val_loss: 0.0428 - val_root_mean_squared_error: 0.2068 - lr: 0.0010\n",
      "Epoch 6/50\n",
      "2458/2460 [============================>.] - ETA: 0s - loss: 0.0583 - root_mean_squared_error: 0.2415\n",
      "Epoch 6: saving model to model_CA_2.pkl\n"
     ]
    },
    {
     "name": "stderr",
     "output_type": "stream",
     "text": [
      "WARNING:absl:Found untraced functions such as lstm_cell_16_layer_call_fn, lstm_cell_16_layer_call_and_return_conditional_losses, lstm_cell_17_layer_call_fn, lstm_cell_17_layer_call_and_return_conditional_losses, lstm_cell_18_layer_call_fn while saving (showing 5 of 8). These functions will not be directly callable after loading.\n"
     ]
    },
    {
     "name": "stdout",
     "output_type": "stream",
     "text": [
      "INFO:tensorflow:Assets written to: model_CA_2.pkl/assets\n"
     ]
    },
    {
     "name": "stderr",
     "output_type": "stream",
     "text": [
      "INFO:tensorflow:Assets written to: model_CA_2.pkl/assets\n"
     ]
    },
    {
     "name": "stdout",
     "output_type": "stream",
     "text": [
      "2460/2460 [==============================] - 74s 30ms/step - loss: 0.0583 - root_mean_squared_error: 0.2414 - val_loss: 0.0334 - val_root_mean_squared_error: 0.1828 - lr: 0.0010\n",
      "Epoch 7/50\n",
      "2459/2460 [============================>.] - ETA: 0s - loss: 0.0505 - root_mean_squared_error: 0.2246\n",
      "Epoch 7: saving model to model_CA_2.pkl\n"
     ]
    },
    {
     "name": "stderr",
     "output_type": "stream",
     "text": [
      "WARNING:absl:Found untraced functions such as lstm_cell_16_layer_call_fn, lstm_cell_16_layer_call_and_return_conditional_losses, lstm_cell_17_layer_call_fn, lstm_cell_17_layer_call_and_return_conditional_losses, lstm_cell_18_layer_call_fn while saving (showing 5 of 8). These functions will not be directly callable after loading.\n"
     ]
    },
    {
     "name": "stdout",
     "output_type": "stream",
     "text": [
      "INFO:tensorflow:Assets written to: model_CA_2.pkl/assets\n"
     ]
    },
    {
     "name": "stderr",
     "output_type": "stream",
     "text": [
      "INFO:tensorflow:Assets written to: model_CA_2.pkl/assets\n"
     ]
    },
    {
     "name": "stdout",
     "output_type": "stream",
     "text": [
      "2460/2460 [==============================] - 73s 30ms/step - loss: 0.0504 - root_mean_squared_error: 0.2246 - val_loss: 0.0348 - val_root_mean_squared_error: 0.1865 - lr: 0.0010\n",
      "Epoch 8/50\n",
      "2458/2460 [============================>.] - ETA: 0s - loss: 0.0421 - root_mean_squared_error: 0.2051\n",
      "Epoch 8: saving model to model_CA_2.pkl\n"
     ]
    },
    {
     "name": "stderr",
     "output_type": "stream",
     "text": [
      "WARNING:absl:Found untraced functions such as lstm_cell_16_layer_call_fn, lstm_cell_16_layer_call_and_return_conditional_losses, lstm_cell_17_layer_call_fn, lstm_cell_17_layer_call_and_return_conditional_losses, lstm_cell_18_layer_call_fn while saving (showing 5 of 8). These functions will not be directly callable after loading.\n"
     ]
    },
    {
     "name": "stdout",
     "output_type": "stream",
     "text": [
      "INFO:tensorflow:Assets written to: model_CA_2.pkl/assets\n"
     ]
    },
    {
     "name": "stderr",
     "output_type": "stream",
     "text": [
      "INFO:tensorflow:Assets written to: model_CA_2.pkl/assets\n"
     ]
    },
    {
     "name": "stdout",
     "output_type": "stream",
     "text": [
      "\n",
      "Epoch 8: ReduceLROnPlateau reducing learning rate to 0.0002500000118743628.\n",
      "2460/2460 [==============================] - 73s 30ms/step - loss: 0.0421 - root_mean_squared_error: 0.2052 - val_loss: 0.0350 - val_root_mean_squared_error: 0.1870 - lr: 0.0010\n",
      "Epoch 9/50\n",
      "2459/2460 [============================>.] - ETA: 0s - loss: 0.0322 - root_mean_squared_error: 0.1794\n",
      "Epoch 9: saving model to model_CA_2.pkl\n"
     ]
    },
    {
     "name": "stderr",
     "output_type": "stream",
     "text": [
      "WARNING:absl:Found untraced functions such as lstm_cell_16_layer_call_fn, lstm_cell_16_layer_call_and_return_conditional_losses, lstm_cell_17_layer_call_fn, lstm_cell_17_layer_call_and_return_conditional_losses, lstm_cell_18_layer_call_fn while saving (showing 5 of 8). These functions will not be directly callable after loading.\n"
     ]
    },
    {
     "name": "stdout",
     "output_type": "stream",
     "text": [
      "INFO:tensorflow:Assets written to: model_CA_2.pkl/assets\n"
     ]
    },
    {
     "name": "stderr",
     "output_type": "stream",
     "text": [
      "INFO:tensorflow:Assets written to: model_CA_2.pkl/assets\n"
     ]
    },
    {
     "name": "stdout",
     "output_type": "stream",
     "text": [
      "2460/2460 [==============================] - 73s 30ms/step - loss: 0.0322 - root_mean_squared_error: 0.1794 - val_loss: 0.0136 - val_root_mean_squared_error: 0.1164 - lr: 2.5000e-04\n",
      "Epoch 10/50\n",
      "2459/2460 [============================>.] - ETA: 0s - loss: 0.0304 - root_mean_squared_error: 0.1743\n",
      "Epoch 10: saving model to model_CA_2.pkl\n"
     ]
    },
    {
     "name": "stderr",
     "output_type": "stream",
     "text": [
      "WARNING:absl:Found untraced functions such as lstm_cell_16_layer_call_fn, lstm_cell_16_layer_call_and_return_conditional_losses, lstm_cell_17_layer_call_fn, lstm_cell_17_layer_call_and_return_conditional_losses, lstm_cell_18_layer_call_fn while saving (showing 5 of 8). These functions will not be directly callable after loading.\n"
     ]
    },
    {
     "name": "stdout",
     "output_type": "stream",
     "text": [
      "INFO:tensorflow:Assets written to: model_CA_2.pkl/assets\n"
     ]
    },
    {
     "name": "stderr",
     "output_type": "stream",
     "text": [
      "INFO:tensorflow:Assets written to: model_CA_2.pkl/assets\n"
     ]
    },
    {
     "name": "stdout",
     "output_type": "stream",
     "text": [
      "2460/2460 [==============================] - 73s 30ms/step - loss: 0.0304 - root_mean_squared_error: 0.1742 - val_loss: 0.0144 - val_root_mean_squared_error: 0.1199 - lr: 2.5000e-04\n",
      "Epoch 11/50\n",
      "2458/2460 [============================>.] - ETA: 0s - loss: 0.0291 - root_mean_squared_error: 0.1706\n",
      "Epoch 11: saving model to model_CA_2.pkl\n"
     ]
    },
    {
     "name": "stderr",
     "output_type": "stream",
     "text": [
      "WARNING:absl:Found untraced functions such as lstm_cell_16_layer_call_fn, lstm_cell_16_layer_call_and_return_conditional_losses, lstm_cell_17_layer_call_fn, lstm_cell_17_layer_call_and_return_conditional_losses, lstm_cell_18_layer_call_fn while saving (showing 5 of 8). These functions will not be directly callable after loading.\n"
     ]
    },
    {
     "name": "stdout",
     "output_type": "stream",
     "text": [
      "INFO:tensorflow:Assets written to: model_CA_2.pkl/assets\n"
     ]
    },
    {
     "name": "stderr",
     "output_type": "stream",
     "text": [
      "INFO:tensorflow:Assets written to: model_CA_2.pkl/assets\n"
     ]
    },
    {
     "name": "stdout",
     "output_type": "stream",
     "text": [
      "2460/2460 [==============================] - 72s 29ms/step - loss: 0.0291 - root_mean_squared_error: 0.1706 - val_loss: 0.0120 - val_root_mean_squared_error: 0.1095 - lr: 2.5000e-04\n",
      "Epoch 12/50\n",
      "2458/2460 [============================>.] - ETA: 0s - loss: 0.0278 - root_mean_squared_error: 0.1667\n",
      "Epoch 12: saving model to model_CA_2.pkl\n"
     ]
    },
    {
     "name": "stderr",
     "output_type": "stream",
     "text": [
      "WARNING:absl:Found untraced functions such as lstm_cell_16_layer_call_fn, lstm_cell_16_layer_call_and_return_conditional_losses, lstm_cell_17_layer_call_fn, lstm_cell_17_layer_call_and_return_conditional_losses, lstm_cell_18_layer_call_fn while saving (showing 5 of 8). These functions will not be directly callable after loading.\n"
     ]
    },
    {
     "name": "stdout",
     "output_type": "stream",
     "text": [
      "INFO:tensorflow:Assets written to: model_CA_2.pkl/assets\n"
     ]
    },
    {
     "name": "stderr",
     "output_type": "stream",
     "text": [
      "INFO:tensorflow:Assets written to: model_CA_2.pkl/assets\n"
     ]
    },
    {
     "name": "stdout",
     "output_type": "stream",
     "text": [
      "2460/2460 [==============================] - 74s 30ms/step - loss: 0.0278 - root_mean_squared_error: 0.1666 - val_loss: 0.0161 - val_root_mean_squared_error: 0.1267 - lr: 2.5000e-04\n",
      "Epoch 13/50\n",
      "2459/2460 [============================>.] - ETA: 0s - loss: 0.0266 - root_mean_squared_error: 0.1631\n",
      "Epoch 13: saving model to model_CA_2.pkl\n"
     ]
    },
    {
     "name": "stderr",
     "output_type": "stream",
     "text": [
      "WARNING:absl:Found untraced functions such as lstm_cell_16_layer_call_fn, lstm_cell_16_layer_call_and_return_conditional_losses, lstm_cell_17_layer_call_fn, lstm_cell_17_layer_call_and_return_conditional_losses, lstm_cell_18_layer_call_fn while saving (showing 5 of 8). These functions will not be directly callable after loading.\n"
     ]
    },
    {
     "name": "stdout",
     "output_type": "stream",
     "text": [
      "INFO:tensorflow:Assets written to: model_CA_2.pkl/assets\n"
     ]
    },
    {
     "name": "stderr",
     "output_type": "stream",
     "text": [
      "INFO:tensorflow:Assets written to: model_CA_2.pkl/assets\n"
     ]
    },
    {
     "name": "stdout",
     "output_type": "stream",
     "text": [
      "2460/2460 [==============================] - 71s 29ms/step - loss: 0.0266 - root_mean_squared_error: 0.1631 - val_loss: 0.0105 - val_root_mean_squared_error: 0.1027 - lr: 2.5000e-04\n",
      "Epoch 14/50\n",
      "2458/2460 [============================>.] - ETA: 0s - loss: 0.0258 - root_mean_squared_error: 0.1607\n",
      "Epoch 14: saving model to model_CA_2.pkl\n"
     ]
    },
    {
     "name": "stderr",
     "output_type": "stream",
     "text": [
      "WARNING:absl:Found untraced functions such as lstm_cell_16_layer_call_fn, lstm_cell_16_layer_call_and_return_conditional_losses, lstm_cell_17_layer_call_fn, lstm_cell_17_layer_call_and_return_conditional_losses, lstm_cell_18_layer_call_fn while saving (showing 5 of 8). These functions will not be directly callable after loading.\n"
     ]
    },
    {
     "name": "stdout",
     "output_type": "stream",
     "text": [
      "INFO:tensorflow:Assets written to: model_CA_2.pkl/assets\n"
     ]
    },
    {
     "name": "stderr",
     "output_type": "stream",
     "text": [
      "INFO:tensorflow:Assets written to: model_CA_2.pkl/assets\n"
     ]
    },
    {
     "name": "stdout",
     "output_type": "stream",
     "text": [
      "2460/2460 [==============================] - 74s 30ms/step - loss: 0.0258 - root_mean_squared_error: 0.1607 - val_loss: 0.0103 - val_root_mean_squared_error: 0.1013 - lr: 2.5000e-04\n",
      "Epoch 15/50\n",
      "2458/2460 [============================>.] - ETA: 0s - loss: 0.0246 - root_mean_squared_error: 0.1567\n",
      "Epoch 15: saving model to model_CA_2.pkl\n"
     ]
    },
    {
     "name": "stderr",
     "output_type": "stream",
     "text": [
      "WARNING:absl:Found untraced functions such as lstm_cell_16_layer_call_fn, lstm_cell_16_layer_call_and_return_conditional_losses, lstm_cell_17_layer_call_fn, lstm_cell_17_layer_call_and_return_conditional_losses, lstm_cell_18_layer_call_fn while saving (showing 5 of 8). These functions will not be directly callable after loading.\n"
     ]
    },
    {
     "name": "stdout",
     "output_type": "stream",
     "text": [
      "INFO:tensorflow:Assets written to: model_CA_2.pkl/assets\n"
     ]
    },
    {
     "name": "stderr",
     "output_type": "stream",
     "text": [
      "INFO:tensorflow:Assets written to: model_CA_2.pkl/assets\n"
     ]
    },
    {
     "name": "stdout",
     "output_type": "stream",
     "text": [
      "2460/2460 [==============================] - 73s 30ms/step - loss: 0.0246 - root_mean_squared_error: 0.1567 - val_loss: 0.0093 - val_root_mean_squared_error: 0.0966 - lr: 2.5000e-04\n",
      "Epoch 16/50\n",
      "2459/2460 [============================>.] - ETA: 0s - loss: 0.0235 - root_mean_squared_error: 0.1533\n",
      "Epoch 16: saving model to model_CA_2.pkl\n"
     ]
    },
    {
     "name": "stderr",
     "output_type": "stream",
     "text": [
      "WARNING:absl:Found untraced functions such as lstm_cell_16_layer_call_fn, lstm_cell_16_layer_call_and_return_conditional_losses, lstm_cell_17_layer_call_fn, lstm_cell_17_layer_call_and_return_conditional_losses, lstm_cell_18_layer_call_fn while saving (showing 5 of 8). These functions will not be directly callable after loading.\n"
     ]
    },
    {
     "name": "stdout",
     "output_type": "stream",
     "text": [
      "INFO:tensorflow:Assets written to: model_CA_2.pkl/assets\n"
     ]
    },
    {
     "name": "stderr",
     "output_type": "stream",
     "text": [
      "INFO:tensorflow:Assets written to: model_CA_2.pkl/assets\n"
     ]
    },
    {
     "name": "stdout",
     "output_type": "stream",
     "text": [
      "2460/2460 [==============================] - 73s 30ms/step - loss: 0.0235 - root_mean_squared_error: 0.1533 - val_loss: 0.0093 - val_root_mean_squared_error: 0.0963 - lr: 2.5000e-04\n",
      "Epoch 17/50\n",
      "2459/2460 [============================>.] - ETA: 0s - loss: 0.0231 - root_mean_squared_error: 0.1520\n",
      "Epoch 17: saving model to model_CA_2.pkl\n"
     ]
    },
    {
     "name": "stderr",
     "output_type": "stream",
     "text": [
      "WARNING:absl:Found untraced functions such as lstm_cell_16_layer_call_fn, lstm_cell_16_layer_call_and_return_conditional_losses, lstm_cell_17_layer_call_fn, lstm_cell_17_layer_call_and_return_conditional_losses, lstm_cell_18_layer_call_fn while saving (showing 5 of 8). These functions will not be directly callable after loading.\n"
     ]
    },
    {
     "name": "stdout",
     "output_type": "stream",
     "text": [
      "INFO:tensorflow:Assets written to: model_CA_2.pkl/assets\n"
     ]
    },
    {
     "name": "stderr",
     "output_type": "stream",
     "text": [
      "INFO:tensorflow:Assets written to: model_CA_2.pkl/assets\n"
     ]
    },
    {
     "name": "stdout",
     "output_type": "stream",
     "text": [
      "2460/2460 [==============================] - 73s 30ms/step - loss: 0.0231 - root_mean_squared_error: 0.1520 - val_loss: 0.0077 - val_root_mean_squared_error: 0.0877 - lr: 2.5000e-04\n",
      "Epoch 18/50\n",
      "2459/2460 [============================>.] - ETA: 0s - loss: 0.0220 - root_mean_squared_error: 0.1484\n",
      "Epoch 18: saving model to model_CA_2.pkl\n"
     ]
    },
    {
     "name": "stderr",
     "output_type": "stream",
     "text": [
      "WARNING:absl:Found untraced functions such as lstm_cell_16_layer_call_fn, lstm_cell_16_layer_call_and_return_conditional_losses, lstm_cell_17_layer_call_fn, lstm_cell_17_layer_call_and_return_conditional_losses, lstm_cell_18_layer_call_fn while saving (showing 5 of 8). These functions will not be directly callable after loading.\n"
     ]
    },
    {
     "name": "stdout",
     "output_type": "stream",
     "text": [
      "INFO:tensorflow:Assets written to: model_CA_2.pkl/assets\n"
     ]
    },
    {
     "name": "stderr",
     "output_type": "stream",
     "text": [
      "INFO:tensorflow:Assets written to: model_CA_2.pkl/assets\n"
     ]
    },
    {
     "name": "stdout",
     "output_type": "stream",
     "text": [
      "2460/2460 [==============================] - 74s 30ms/step - loss: 0.0220 - root_mean_squared_error: 0.1484 - val_loss: 0.0067 - val_root_mean_squared_error: 0.0821 - lr: 2.5000e-04\n",
      "Epoch 19/50\n",
      "2458/2460 [============================>.] - ETA: 0s - loss: 0.0217 - root_mean_squared_error: 0.1472\n",
      "Epoch 19: saving model to model_CA_2.pkl\n"
     ]
    },
    {
     "name": "stderr",
     "output_type": "stream",
     "text": [
      "WARNING:absl:Found untraced functions such as lstm_cell_16_layer_call_fn, lstm_cell_16_layer_call_and_return_conditional_losses, lstm_cell_17_layer_call_fn, lstm_cell_17_layer_call_and_return_conditional_losses, lstm_cell_18_layer_call_fn while saving (showing 5 of 8). These functions will not be directly callable after loading.\n"
     ]
    },
    {
     "name": "stdout",
     "output_type": "stream",
     "text": [
      "INFO:tensorflow:Assets written to: model_CA_2.pkl/assets\n"
     ]
    },
    {
     "name": "stderr",
     "output_type": "stream",
     "text": [
      "INFO:tensorflow:Assets written to: model_CA_2.pkl/assets\n"
     ]
    },
    {
     "name": "stdout",
     "output_type": "stream",
     "text": [
      "2460/2460 [==============================] - 72s 29ms/step - loss: 0.0217 - root_mean_squared_error: 0.1472 - val_loss: 0.0073 - val_root_mean_squared_error: 0.0852 - lr: 2.5000e-04\n",
      "Epoch 20/50\n",
      "2459/2460 [============================>.] - ETA: 0s - loss: 0.0204 - root_mean_squared_error: 0.1427\n",
      "Epoch 20: saving model to model_CA_2.pkl\n"
     ]
    },
    {
     "name": "stderr",
     "output_type": "stream",
     "text": [
      "WARNING:absl:Found untraced functions such as lstm_cell_16_layer_call_fn, lstm_cell_16_layer_call_and_return_conditional_losses, lstm_cell_17_layer_call_fn, lstm_cell_17_layer_call_and_return_conditional_losses, lstm_cell_18_layer_call_fn while saving (showing 5 of 8). These functions will not be directly callable after loading.\n"
     ]
    },
    {
     "name": "stdout",
     "output_type": "stream",
     "text": [
      "INFO:tensorflow:Assets written to: model_CA_2.pkl/assets\n"
     ]
    },
    {
     "name": "stderr",
     "output_type": "stream",
     "text": [
      "INFO:tensorflow:Assets written to: model_CA_2.pkl/assets\n"
     ]
    },
    {
     "name": "stdout",
     "output_type": "stream",
     "text": [
      "2460/2460 [==============================] - 73s 30ms/step - loss: 0.0204 - root_mean_squared_error: 0.1427 - val_loss: 0.0061 - val_root_mean_squared_error: 0.0782 - lr: 2.5000e-04\n",
      "Epoch 21/50\n",
      "2460/2460 [==============================] - ETA: 0s - loss: 0.0198 - root_mean_squared_error: 0.1408\n",
      "Epoch 21: saving model to model_CA_2.pkl\n"
     ]
    },
    {
     "name": "stderr",
     "output_type": "stream",
     "text": [
      "WARNING:absl:Found untraced functions such as lstm_cell_16_layer_call_fn, lstm_cell_16_layer_call_and_return_conditional_losses, lstm_cell_17_layer_call_fn, lstm_cell_17_layer_call_and_return_conditional_losses, lstm_cell_18_layer_call_fn while saving (showing 5 of 8). These functions will not be directly callable after loading.\n"
     ]
    },
    {
     "name": "stdout",
     "output_type": "stream",
     "text": [
      "INFO:tensorflow:Assets written to: model_CA_2.pkl/assets\n"
     ]
    },
    {
     "name": "stderr",
     "output_type": "stream",
     "text": [
      "INFO:tensorflow:Assets written to: model_CA_2.pkl/assets\n"
     ]
    },
    {
     "name": "stdout",
     "output_type": "stream",
     "text": [
      "2460/2460 [==============================] - 72s 29ms/step - loss: 0.0198 - root_mean_squared_error: 0.1408 - val_loss: 0.0056 - val_root_mean_squared_error: 0.0745 - lr: 2.5000e-04\n",
      "Epoch 22/50\n",
      "2458/2460 [============================>.] - ETA: 0s - loss: 0.0191 - root_mean_squared_error: 0.1384\n",
      "Epoch 22: saving model to model_CA_2.pkl\n"
     ]
    },
    {
     "name": "stderr",
     "output_type": "stream",
     "text": [
      "WARNING:absl:Found untraced functions such as lstm_cell_16_layer_call_fn, lstm_cell_16_layer_call_and_return_conditional_losses, lstm_cell_17_layer_call_fn, lstm_cell_17_layer_call_and_return_conditional_losses, lstm_cell_18_layer_call_fn while saving (showing 5 of 8). These functions will not be directly callable after loading.\n"
     ]
    },
    {
     "name": "stdout",
     "output_type": "stream",
     "text": [
      "INFO:tensorflow:Assets written to: model_CA_2.pkl/assets\n"
     ]
    },
    {
     "name": "stderr",
     "output_type": "stream",
     "text": [
      "INFO:tensorflow:Assets written to: model_CA_2.pkl/assets\n"
     ]
    },
    {
     "name": "stdout",
     "output_type": "stream",
     "text": [
      "2460/2460 [==============================] - 72s 29ms/step - loss: 0.0191 - root_mean_squared_error: 0.1383 - val_loss: 0.0059 - val_root_mean_squared_error: 0.0770 - lr: 2.5000e-04\n",
      "Epoch 23/50\n",
      "2459/2460 [============================>.] - ETA: 0s - loss: 0.0187 - root_mean_squared_error: 0.1366\n",
      "Epoch 23: saving model to model_CA_2.pkl\n"
     ]
    },
    {
     "name": "stderr",
     "output_type": "stream",
     "text": [
      "WARNING:absl:Found untraced functions such as lstm_cell_16_layer_call_fn, lstm_cell_16_layer_call_and_return_conditional_losses, lstm_cell_17_layer_call_fn, lstm_cell_17_layer_call_and_return_conditional_losses, lstm_cell_18_layer_call_fn while saving (showing 5 of 8). These functions will not be directly callable after loading.\n"
     ]
    },
    {
     "name": "stdout",
     "output_type": "stream",
     "text": [
      "INFO:tensorflow:Assets written to: model_CA_2.pkl/assets\n"
     ]
    },
    {
     "name": "stderr",
     "output_type": "stream",
     "text": [
      "INFO:tensorflow:Assets written to: model_CA_2.pkl/assets\n"
     ]
    },
    {
     "name": "stdout",
     "output_type": "stream",
     "text": [
      "2460/2460 [==============================] - 72s 29ms/step - loss: 0.0187 - root_mean_squared_error: 0.1366 - val_loss: 0.0053 - val_root_mean_squared_error: 0.0726 - lr: 2.5000e-04\n",
      "Epoch 24/50\n",
      "2459/2460 [============================>.] - ETA: 0s - loss: 0.0180 - root_mean_squared_error: 0.1343\n",
      "Epoch 24: saving model to model_CA_2.pkl\n"
     ]
    },
    {
     "name": "stderr",
     "output_type": "stream",
     "text": [
      "WARNING:absl:Found untraced functions such as lstm_cell_16_layer_call_fn, lstm_cell_16_layer_call_and_return_conditional_losses, lstm_cell_17_layer_call_fn, lstm_cell_17_layer_call_and_return_conditional_losses, lstm_cell_18_layer_call_fn while saving (showing 5 of 8). These functions will not be directly callable after loading.\n"
     ]
    },
    {
     "name": "stdout",
     "output_type": "stream",
     "text": [
      "INFO:tensorflow:Assets written to: model_CA_2.pkl/assets\n"
     ]
    },
    {
     "name": "stderr",
     "output_type": "stream",
     "text": [
      "INFO:tensorflow:Assets written to: model_CA_2.pkl/assets\n"
     ]
    },
    {
     "name": "stdout",
     "output_type": "stream",
     "text": [
      "2460/2460 [==============================] - 72s 29ms/step - loss: 0.0180 - root_mean_squared_error: 0.1343 - val_loss: 0.0048 - val_root_mean_squared_error: 0.0691 - lr: 2.5000e-04\n",
      "Epoch 25/50\n",
      "2458/2460 [============================>.] - ETA: 0s - loss: 0.0179 - root_mean_squared_error: 0.1339\n",
      "Epoch 25: saving model to model_CA_2.pkl\n"
     ]
    },
    {
     "name": "stderr",
     "output_type": "stream",
     "text": [
      "WARNING:absl:Found untraced functions such as lstm_cell_16_layer_call_fn, lstm_cell_16_layer_call_and_return_conditional_losses, lstm_cell_17_layer_call_fn, lstm_cell_17_layer_call_and_return_conditional_losses, lstm_cell_18_layer_call_fn while saving (showing 5 of 8). These functions will not be directly callable after loading.\n"
     ]
    },
    {
     "name": "stdout",
     "output_type": "stream",
     "text": [
      "INFO:tensorflow:Assets written to: model_CA_2.pkl/assets\n"
     ]
    },
    {
     "name": "stderr",
     "output_type": "stream",
     "text": [
      "INFO:tensorflow:Assets written to: model_CA_2.pkl/assets\n"
     ]
    },
    {
     "name": "stdout",
     "output_type": "stream",
     "text": [
      "2460/2460 [==============================] - 74s 30ms/step - loss: 0.0179 - root_mean_squared_error: 0.1338 - val_loss: 0.0037 - val_root_mean_squared_error: 0.0612 - lr: 2.5000e-04\n",
      "Epoch 26/50\n",
      "2459/2460 [============================>.] - ETA: 0s - loss: 0.0171 - root_mean_squared_error: 0.1309\n",
      "Epoch 26: saving model to model_CA_2.pkl\n"
     ]
    },
    {
     "name": "stderr",
     "output_type": "stream",
     "text": [
      "WARNING:absl:Found untraced functions such as lstm_cell_16_layer_call_fn, lstm_cell_16_layer_call_and_return_conditional_losses, lstm_cell_17_layer_call_fn, lstm_cell_17_layer_call_and_return_conditional_losses, lstm_cell_18_layer_call_fn while saving (showing 5 of 8). These functions will not be directly callable after loading.\n"
     ]
    },
    {
     "name": "stdout",
     "output_type": "stream",
     "text": [
      "INFO:tensorflow:Assets written to: model_CA_2.pkl/assets\n"
     ]
    },
    {
     "name": "stderr",
     "output_type": "stream",
     "text": [
      "INFO:tensorflow:Assets written to: model_CA_2.pkl/assets\n"
     ]
    },
    {
     "name": "stdout",
     "output_type": "stream",
     "text": [
      "2460/2460 [==============================] - 73s 30ms/step - loss: 0.0171 - root_mean_squared_error: 0.1309 - val_loss: 0.0039 - val_root_mean_squared_error: 0.0628 - lr: 2.5000e-04\n",
      "Epoch 27/50\n",
      "2458/2460 [============================>.] - ETA: 0s - loss: 0.0167 - root_mean_squared_error: 0.1292\n",
      "Epoch 27: saving model to model_CA_2.pkl\n"
     ]
    },
    {
     "name": "stderr",
     "output_type": "stream",
     "text": [
      "WARNING:absl:Found untraced functions such as lstm_cell_16_layer_call_fn, lstm_cell_16_layer_call_and_return_conditional_losses, lstm_cell_17_layer_call_fn, lstm_cell_17_layer_call_and_return_conditional_losses, lstm_cell_18_layer_call_fn while saving (showing 5 of 8). These functions will not be directly callable after loading.\n"
     ]
    },
    {
     "name": "stdout",
     "output_type": "stream",
     "text": [
      "INFO:tensorflow:Assets written to: model_CA_2.pkl/assets\n"
     ]
    },
    {
     "name": "stderr",
     "output_type": "stream",
     "text": [
      "INFO:tensorflow:Assets written to: model_CA_2.pkl/assets\n"
     ]
    },
    {
     "name": "stdout",
     "output_type": "stream",
     "text": [
      "2460/2460 [==============================] - 72s 29ms/step - loss: 0.0167 - root_mean_squared_error: 0.1292 - val_loss: 0.0029 - val_root_mean_squared_error: 0.0541 - lr: 2.5000e-04\n",
      "Epoch 28/50\n",
      "2458/2460 [============================>.] - ETA: 0s - loss: 0.0166 - root_mean_squared_error: 0.1288\n",
      "Epoch 28: saving model to model_CA_2.pkl\n"
     ]
    },
    {
     "name": "stderr",
     "output_type": "stream",
     "text": [
      "WARNING:absl:Found untraced functions such as lstm_cell_16_layer_call_fn, lstm_cell_16_layer_call_and_return_conditional_losses, lstm_cell_17_layer_call_fn, lstm_cell_17_layer_call_and_return_conditional_losses, lstm_cell_18_layer_call_fn while saving (showing 5 of 8). These functions will not be directly callable after loading.\n"
     ]
    },
    {
     "name": "stdout",
     "output_type": "stream",
     "text": [
      "INFO:tensorflow:Assets written to: model_CA_2.pkl/assets\n"
     ]
    },
    {
     "name": "stderr",
     "output_type": "stream",
     "text": [
      "INFO:tensorflow:Assets written to: model_CA_2.pkl/assets\n"
     ]
    },
    {
     "name": "stdout",
     "output_type": "stream",
     "text": [
      "2460/2460 [==============================] - 73s 30ms/step - loss: 0.0166 - root_mean_squared_error: 0.1288 - val_loss: 0.0033 - val_root_mean_squared_error: 0.0573 - lr: 2.5000e-04\n",
      "Epoch 29/50\n",
      "2458/2460 [============================>.] - ETA: 0s - loss: 0.0157 - root_mean_squared_error: 0.1253\n",
      "Epoch 29: saving model to model_CA_2.pkl\n"
     ]
    },
    {
     "name": "stderr",
     "output_type": "stream",
     "text": [
      "WARNING:absl:Found untraced functions such as lstm_cell_16_layer_call_fn, lstm_cell_16_layer_call_and_return_conditional_losses, lstm_cell_17_layer_call_fn, lstm_cell_17_layer_call_and_return_conditional_losses, lstm_cell_18_layer_call_fn while saving (showing 5 of 8). These functions will not be directly callable after loading.\n"
     ]
    },
    {
     "name": "stdout",
     "output_type": "stream",
     "text": [
      "INFO:tensorflow:Assets written to: model_CA_2.pkl/assets\n"
     ]
    },
    {
     "name": "stderr",
     "output_type": "stream",
     "text": [
      "INFO:tensorflow:Assets written to: model_CA_2.pkl/assets\n"
     ]
    },
    {
     "name": "stdout",
     "output_type": "stream",
     "text": [
      "\n",
      "Epoch 29: ReduceLROnPlateau reducing learning rate to 6.25000029685907e-05.\n",
      "2460/2460 [==============================] - 73s 30ms/step - loss: 0.0157 - root_mean_squared_error: 0.1253 - val_loss: 0.0046 - val_root_mean_squared_error: 0.0675 - lr: 2.5000e-04\n",
      "Epoch 30/50\n",
      "2459/2460 [============================>.] - ETA: 0s - loss: 0.0144 - root_mean_squared_error: 0.1200\n",
      "Epoch 30: saving model to model_CA_2.pkl\n"
     ]
    },
    {
     "name": "stderr",
     "output_type": "stream",
     "text": [
      "WARNING:absl:Found untraced functions such as lstm_cell_16_layer_call_fn, lstm_cell_16_layer_call_and_return_conditional_losses, lstm_cell_17_layer_call_fn, lstm_cell_17_layer_call_and_return_conditional_losses, lstm_cell_18_layer_call_fn while saving (showing 5 of 8). These functions will not be directly callable after loading.\n"
     ]
    },
    {
     "name": "stdout",
     "output_type": "stream",
     "text": [
      "INFO:tensorflow:Assets written to: model_CA_2.pkl/assets\n"
     ]
    },
    {
     "name": "stderr",
     "output_type": "stream",
     "text": [
      "INFO:tensorflow:Assets written to: model_CA_2.pkl/assets\n"
     ]
    },
    {
     "name": "stdout",
     "output_type": "stream",
     "text": [
      "2460/2460 [==============================] - 72s 29ms/step - loss: 0.0144 - root_mean_squared_error: 0.1200 - val_loss: 0.0022 - val_root_mean_squared_error: 0.0473 - lr: 6.2500e-05\n",
      "Epoch 31/50\n",
      "2458/2460 [============================>.] - ETA: 0s - loss: 0.0141 - root_mean_squared_error: 0.1189\n",
      "Epoch 31: saving model to model_CA_2.pkl\n"
     ]
    },
    {
     "name": "stderr",
     "output_type": "stream",
     "text": [
      "WARNING:absl:Found untraced functions such as lstm_cell_16_layer_call_fn, lstm_cell_16_layer_call_and_return_conditional_losses, lstm_cell_17_layer_call_fn, lstm_cell_17_layer_call_and_return_conditional_losses, lstm_cell_18_layer_call_fn while saving (showing 5 of 8). These functions will not be directly callable after loading.\n"
     ]
    },
    {
     "name": "stdout",
     "output_type": "stream",
     "text": [
      "INFO:tensorflow:Assets written to: model_CA_2.pkl/assets\n"
     ]
    },
    {
     "name": "stderr",
     "output_type": "stream",
     "text": [
      "INFO:tensorflow:Assets written to: model_CA_2.pkl/assets\n"
     ]
    },
    {
     "name": "stdout",
     "output_type": "stream",
     "text": [
      "2460/2460 [==============================] - 73s 30ms/step - loss: 0.0141 - root_mean_squared_error: 0.1189 - val_loss: 0.0022 - val_root_mean_squared_error: 0.0470 - lr: 6.2500e-05\n",
      "Epoch 32/50\n",
      "2459/2460 [============================>.] - ETA: 0s - loss: 0.0140 - root_mean_squared_error: 0.1181\n",
      "Epoch 32: saving model to model_CA_2.pkl\n"
     ]
    },
    {
     "name": "stderr",
     "output_type": "stream",
     "text": [
      "WARNING:absl:Found untraced functions such as lstm_cell_16_layer_call_fn, lstm_cell_16_layer_call_and_return_conditional_losses, lstm_cell_17_layer_call_fn, lstm_cell_17_layer_call_and_return_conditional_losses, lstm_cell_18_layer_call_fn while saving (showing 5 of 8). These functions will not be directly callable after loading.\n"
     ]
    },
    {
     "name": "stdout",
     "output_type": "stream",
     "text": [
      "INFO:tensorflow:Assets written to: model_CA_2.pkl/assets\n"
     ]
    },
    {
     "name": "stderr",
     "output_type": "stream",
     "text": [
      "INFO:tensorflow:Assets written to: model_CA_2.pkl/assets\n"
     ]
    },
    {
     "name": "stdout",
     "output_type": "stream",
     "text": [
      "2460/2460 [==============================] - 72s 29ms/step - loss: 0.0140 - root_mean_squared_error: 0.1181 - val_loss: 0.0026 - val_root_mean_squared_error: 0.0512 - lr: 6.2500e-05\n",
      "Epoch 33/50\n",
      "2460/2460 [==============================] - ETA: 0s - loss: 0.0139 - root_mean_squared_error: 0.1179\n",
      "Epoch 33: saving model to model_CA_2.pkl\n"
     ]
    },
    {
     "name": "stderr",
     "output_type": "stream",
     "text": [
      "WARNING:absl:Found untraced functions such as lstm_cell_16_layer_call_fn, lstm_cell_16_layer_call_and_return_conditional_losses, lstm_cell_17_layer_call_fn, lstm_cell_17_layer_call_and_return_conditional_losses, lstm_cell_18_layer_call_fn while saving (showing 5 of 8). These functions will not be directly callable after loading.\n"
     ]
    },
    {
     "name": "stdout",
     "output_type": "stream",
     "text": [
      "INFO:tensorflow:Assets written to: model_CA_2.pkl/assets\n"
     ]
    },
    {
     "name": "stderr",
     "output_type": "stream",
     "text": [
      "INFO:tensorflow:Assets written to: model_CA_2.pkl/assets\n"
     ]
    },
    {
     "name": "stdout",
     "output_type": "stream",
     "text": [
      "\n",
      "Epoch 33: ReduceLROnPlateau reducing learning rate to 1.5625000742147677e-05.\n",
      "2460/2460 [==============================] - 73s 30ms/step - loss: 0.0139 - root_mean_squared_error: 0.1179 - val_loss: 0.0027 - val_root_mean_squared_error: 0.0516 - lr: 6.2500e-05\n",
      "Epoch 34/50\n",
      "2459/2460 [============================>.] - ETA: 0s - loss: 0.0134 - root_mean_squared_error: 0.1160\n",
      "Epoch 34: saving model to model_CA_2.pkl\n"
     ]
    },
    {
     "name": "stderr",
     "output_type": "stream",
     "text": [
      "WARNING:absl:Found untraced functions such as lstm_cell_16_layer_call_fn, lstm_cell_16_layer_call_and_return_conditional_losses, lstm_cell_17_layer_call_fn, lstm_cell_17_layer_call_and_return_conditional_losses, lstm_cell_18_layer_call_fn while saving (showing 5 of 8). These functions will not be directly callable after loading.\n"
     ]
    },
    {
     "name": "stdout",
     "output_type": "stream",
     "text": [
      "INFO:tensorflow:Assets written to: model_CA_2.pkl/assets\n"
     ]
    },
    {
     "name": "stderr",
     "output_type": "stream",
     "text": [
      "INFO:tensorflow:Assets written to: model_CA_2.pkl/assets\n"
     ]
    },
    {
     "name": "stdout",
     "output_type": "stream",
     "text": [
      "2460/2460 [==============================] - 73s 30ms/step - loss: 0.0134 - root_mean_squared_error: 0.1159 - val_loss: 0.0019 - val_root_mean_squared_error: 0.0435 - lr: 1.5625e-05\n",
      "Epoch 35/50\n",
      "2458/2460 [============================>.] - ETA: 0s - loss: 0.0135 - root_mean_squared_error: 0.1161\n",
      "Epoch 35: saving model to model_CA_2.pkl\n"
     ]
    },
    {
     "name": "stderr",
     "output_type": "stream",
     "text": [
      "WARNING:absl:Found untraced functions such as lstm_cell_16_layer_call_fn, lstm_cell_16_layer_call_and_return_conditional_losses, lstm_cell_17_layer_call_fn, lstm_cell_17_layer_call_and_return_conditional_losses, lstm_cell_18_layer_call_fn while saving (showing 5 of 8). These functions will not be directly callable after loading.\n"
     ]
    },
    {
     "name": "stdout",
     "output_type": "stream",
     "text": [
      "INFO:tensorflow:Assets written to: model_CA_2.pkl/assets\n"
     ]
    },
    {
     "name": "stderr",
     "output_type": "stream",
     "text": [
      "INFO:tensorflow:Assets written to: model_CA_2.pkl/assets\n"
     ]
    },
    {
     "name": "stdout",
     "output_type": "stream",
     "text": [
      "2460/2460 [==============================] - 73s 30ms/step - loss: 0.0135 - root_mean_squared_error: 0.1161 - val_loss: 0.0020 - val_root_mean_squared_error: 0.0444 - lr: 1.5625e-05\n",
      "Epoch 36/50\n",
      "2459/2460 [============================>.] - ETA: 0s - loss: 0.0136 - root_mean_squared_error: 0.1166\n",
      "Epoch 36: saving model to model_CA_2.pkl\n"
     ]
    },
    {
     "name": "stderr",
     "output_type": "stream",
     "text": [
      "WARNING:absl:Found untraced functions such as lstm_cell_16_layer_call_fn, lstm_cell_16_layer_call_and_return_conditional_losses, lstm_cell_17_layer_call_fn, lstm_cell_17_layer_call_and_return_conditional_losses, lstm_cell_18_layer_call_fn while saving (showing 5 of 8). These functions will not be directly callable after loading.\n"
     ]
    },
    {
     "name": "stdout",
     "output_type": "stream",
     "text": [
      "INFO:tensorflow:Assets written to: model_CA_2.pkl/assets\n"
     ]
    },
    {
     "name": "stderr",
     "output_type": "stream",
     "text": [
      "INFO:tensorflow:Assets written to: model_CA_2.pkl/assets\n"
     ]
    },
    {
     "name": "stdout",
     "output_type": "stream",
     "text": [
      "2460/2460 [==============================] - 73s 30ms/step - loss: 0.0136 - root_mean_squared_error: 0.1166 - val_loss: 0.0018 - val_root_mean_squared_error: 0.0425 - lr: 1.5625e-05\n",
      "Epoch 37/50\n",
      "2459/2460 [============================>.] - ETA: 0s - loss: 0.0134 - root_mean_squared_error: 0.1156\n",
      "Epoch 37: saving model to model_CA_2.pkl\n"
     ]
    },
    {
     "name": "stderr",
     "output_type": "stream",
     "text": [
      "WARNING:absl:Found untraced functions such as lstm_cell_16_layer_call_fn, lstm_cell_16_layer_call_and_return_conditional_losses, lstm_cell_17_layer_call_fn, lstm_cell_17_layer_call_and_return_conditional_losses, lstm_cell_18_layer_call_fn while saving (showing 5 of 8). These functions will not be directly callable after loading.\n"
     ]
    },
    {
     "name": "stdout",
     "output_type": "stream",
     "text": [
      "INFO:tensorflow:Assets written to: model_CA_2.pkl/assets\n"
     ]
    },
    {
     "name": "stderr",
     "output_type": "stream",
     "text": [
      "INFO:tensorflow:Assets written to: model_CA_2.pkl/assets\n"
     ]
    },
    {
     "name": "stdout",
     "output_type": "stream",
     "text": [
      "2460/2460 [==============================] - 73s 30ms/step - loss: 0.0134 - root_mean_squared_error: 0.1156 - val_loss: 0.0019 - val_root_mean_squared_error: 0.0437 - lr: 1.5625e-05\n",
      "Epoch 38/50\n",
      "2459/2460 [============================>.] - ETA: 0s - loss: 0.0133 - root_mean_squared_error: 0.1153\n",
      "Epoch 38: saving model to model_CA_2.pkl\n"
     ]
    },
    {
     "name": "stderr",
     "output_type": "stream",
     "text": [
      "WARNING:absl:Found untraced functions such as lstm_cell_16_layer_call_fn, lstm_cell_16_layer_call_and_return_conditional_losses, lstm_cell_17_layer_call_fn, lstm_cell_17_layer_call_and_return_conditional_losses, lstm_cell_18_layer_call_fn while saving (showing 5 of 8). These functions will not be directly callable after loading.\n"
     ]
    },
    {
     "name": "stdout",
     "output_type": "stream",
     "text": [
      "INFO:tensorflow:Assets written to: model_CA_2.pkl/assets\n"
     ]
    },
    {
     "name": "stderr",
     "output_type": "stream",
     "text": [
      "INFO:tensorflow:Assets written to: model_CA_2.pkl/assets\n"
     ]
    },
    {
     "name": "stdout",
     "output_type": "stream",
     "text": [
      "\n",
      "Epoch 38: ReduceLROnPlateau reducing learning rate to 3.906250185536919e-06.\n",
      "2460/2460 [==============================] - 72s 29ms/step - loss: 0.0133 - root_mean_squared_error: 0.1153 - val_loss: 0.0018 - val_root_mean_squared_error: 0.0427 - lr: 1.5625e-05\n",
      "Epoch 39/50\n",
      "2458/2460 [============================>.] - ETA: 0s - loss: 0.0133 - root_mean_squared_error: 0.1154\n",
      "Epoch 39: saving model to model_CA_2.pkl\n"
     ]
    },
    {
     "name": "stderr",
     "output_type": "stream",
     "text": [
      "WARNING:absl:Found untraced functions such as lstm_cell_16_layer_call_fn, lstm_cell_16_layer_call_and_return_conditional_losses, lstm_cell_17_layer_call_fn, lstm_cell_17_layer_call_and_return_conditional_losses, lstm_cell_18_layer_call_fn while saving (showing 5 of 8). These functions will not be directly callable after loading.\n"
     ]
    },
    {
     "name": "stdout",
     "output_type": "stream",
     "text": [
      "INFO:tensorflow:Assets written to: model_CA_2.pkl/assets\n"
     ]
    },
    {
     "name": "stderr",
     "output_type": "stream",
     "text": [
      "INFO:tensorflow:Assets written to: model_CA_2.pkl/assets\n"
     ]
    },
    {
     "name": "stdout",
     "output_type": "stream",
     "text": [
      "2460/2460 [==============================] - 73s 30ms/step - loss: 0.0133 - root_mean_squared_error: 0.1154 - val_loss: 0.0017 - val_root_mean_squared_error: 0.0415 - lr: 3.9063e-06\n",
      "Epoch 40/50\n",
      "2458/2460 [============================>.] - ETA: 0s - loss: 0.0134 - root_mean_squared_error: 0.1158\n",
      "Epoch 40: saving model to model_CA_2.pkl\n"
     ]
    },
    {
     "name": "stderr",
     "output_type": "stream",
     "text": [
      "WARNING:absl:Found untraced functions such as lstm_cell_16_layer_call_fn, lstm_cell_16_layer_call_and_return_conditional_losses, lstm_cell_17_layer_call_fn, lstm_cell_17_layer_call_and_return_conditional_losses, lstm_cell_18_layer_call_fn while saving (showing 5 of 8). These functions will not be directly callable after loading.\n"
     ]
    },
    {
     "name": "stdout",
     "output_type": "stream",
     "text": [
      "INFO:tensorflow:Assets written to: model_CA_2.pkl/assets\n"
     ]
    },
    {
     "name": "stderr",
     "output_type": "stream",
     "text": [
      "INFO:tensorflow:Assets written to: model_CA_2.pkl/assets\n"
     ]
    },
    {
     "name": "stdout",
     "output_type": "stream",
     "text": [
      "2460/2460 [==============================] - 73s 30ms/step - loss: 0.0134 - root_mean_squared_error: 0.1158 - val_loss: 0.0018 - val_root_mean_squared_error: 0.0420 - lr: 3.9063e-06\n",
      "Epoch 41/50\n",
      "2460/2460 [==============================] - ETA: 0s - loss: 0.0133 - root_mean_squared_error: 0.1155\n",
      "Epoch 41: saving model to model_CA_2.pkl\n"
     ]
    },
    {
     "name": "stderr",
     "output_type": "stream",
     "text": [
      "WARNING:absl:Found untraced functions such as lstm_cell_16_layer_call_fn, lstm_cell_16_layer_call_and_return_conditional_losses, lstm_cell_17_layer_call_fn, lstm_cell_17_layer_call_and_return_conditional_losses, lstm_cell_18_layer_call_fn while saving (showing 5 of 8). These functions will not be directly callable after loading.\n"
     ]
    },
    {
     "name": "stdout",
     "output_type": "stream",
     "text": [
      "INFO:tensorflow:Assets written to: model_CA_2.pkl/assets\n"
     ]
    },
    {
     "name": "stderr",
     "output_type": "stream",
     "text": [
      "INFO:tensorflow:Assets written to: model_CA_2.pkl/assets\n"
     ]
    },
    {
     "name": "stdout",
     "output_type": "stream",
     "text": [
      "\n",
      "Epoch 41: ReduceLROnPlateau reducing learning rate to 9.765625463842298e-07.\n",
      "2460/2460 [==============================] - 73s 30ms/step - loss: 0.0133 - root_mean_squared_error: 0.1155 - val_loss: 0.0018 - val_root_mean_squared_error: 0.0420 - lr: 3.9063e-06\n",
      "Epoch 42/50\n",
      "2459/2460 [============================>.] - ETA: 0s - loss: 0.0133 - root_mean_squared_error: 0.1155\n",
      "Epoch 42: saving model to model_CA_2.pkl\n"
     ]
    },
    {
     "name": "stderr",
     "output_type": "stream",
     "text": [
      "WARNING:absl:Found untraced functions such as lstm_cell_16_layer_call_fn, lstm_cell_16_layer_call_and_return_conditional_losses, lstm_cell_17_layer_call_fn, lstm_cell_17_layer_call_and_return_conditional_losses, lstm_cell_18_layer_call_fn while saving (showing 5 of 8). These functions will not be directly callable after loading.\n"
     ]
    },
    {
     "name": "stdout",
     "output_type": "stream",
     "text": [
      "INFO:tensorflow:Assets written to: model_CA_2.pkl/assets\n"
     ]
    },
    {
     "name": "stderr",
     "output_type": "stream",
     "text": [
      "INFO:tensorflow:Assets written to: model_CA_2.pkl/assets\n"
     ]
    },
    {
     "name": "stdout",
     "output_type": "stream",
     "text": [
      "2460/2460 [==============================] - 72s 29ms/step - loss: 0.0133 - root_mean_squared_error: 0.1155 - val_loss: 0.0017 - val_root_mean_squared_error: 0.0415 - lr: 9.7656e-07\n",
      "Epoch 42: early stopping\n",
      "2668/2668 [==============================] - 15s 5ms/step\n",
      "2668/2668 [==============================] - 16s 6ms/step\n"
     ]
    },
    {
     "name": "stderr",
     "output_type": "stream",
     "text": [
      " 20%|██        | 2/10 [1:27:20<6:00:39, 2704.91s/it]"
     ]
    },
    {
     "name": "stdout",
     "output_type": "stream",
     "text": [
      "********Prediction for Store:CA_3**********\n",
      "Epoch 1/50\n",
      "2459/2460 [============================>.] - ETA: 0s - loss: 9.4552 - root_mean_squared_error: 3.0749\n",
      "Epoch 1: saving model to model_CA_3.pkl\n"
     ]
    },
    {
     "name": "stderr",
     "output_type": "stream",
     "text": [
      "WARNING:absl:Found untraced functions such as lstm_cell_20_layer_call_fn, lstm_cell_20_layer_call_and_return_conditional_losses, lstm_cell_21_layer_call_fn, lstm_cell_21_layer_call_and_return_conditional_losses, lstm_cell_22_layer_call_fn while saving (showing 5 of 8). These functions will not be directly callable after loading.\n"
     ]
    },
    {
     "name": "stdout",
     "output_type": "stream",
     "text": [
      "INFO:tensorflow:Assets written to: model_CA_3.pkl/assets\n"
     ]
    },
    {
     "name": "stderr",
     "output_type": "stream",
     "text": [
      "INFO:tensorflow:Assets written to: model_CA_3.pkl/assets\n"
     ]
    },
    {
     "name": "stdout",
     "output_type": "stream",
     "text": [
      "2460/2460 [==============================] - 77s 30ms/step - loss: 9.4542 - root_mean_squared_error: 3.0748 - val_loss: 3.3056 - val_root_mean_squared_error: 1.8181 - lr: 0.0010\n",
      "Epoch 2/50\n",
      "2459/2460 [============================>.] - ETA: 0s - loss: 3.7074 - root_mean_squared_error: 1.9255\n",
      "Epoch 2: saving model to model_CA_3.pkl\n"
     ]
    },
    {
     "name": "stderr",
     "output_type": "stream",
     "text": [
      "WARNING:absl:Found untraced functions such as lstm_cell_20_layer_call_fn, lstm_cell_20_layer_call_and_return_conditional_losses, lstm_cell_21_layer_call_fn, lstm_cell_21_layer_call_and_return_conditional_losses, lstm_cell_22_layer_call_fn while saving (showing 5 of 8). These functions will not be directly callable after loading.\n"
     ]
    },
    {
     "name": "stdout",
     "output_type": "stream",
     "text": [
      "INFO:tensorflow:Assets written to: model_CA_3.pkl/assets\n"
     ]
    },
    {
     "name": "stderr",
     "output_type": "stream",
     "text": [
      "INFO:tensorflow:Assets written to: model_CA_3.pkl/assets\n"
     ]
    },
    {
     "name": "stdout",
     "output_type": "stream",
     "text": [
      "2460/2460 [==============================] - 73s 30ms/step - loss: 3.7067 - root_mean_squared_error: 1.9253 - val_loss: 1.5810 - val_root_mean_squared_error: 1.2574 - lr: 0.0010\n",
      "Epoch 3/50\n",
      "2458/2460 [============================>.] - ETA: 0s - loss: 2.0237 - root_mean_squared_error: 1.4226\n",
      "Epoch 3: saving model to model_CA_3.pkl\n"
     ]
    },
    {
     "name": "stderr",
     "output_type": "stream",
     "text": [
      "WARNING:absl:Found untraced functions such as lstm_cell_20_layer_call_fn, lstm_cell_20_layer_call_and_return_conditional_losses, lstm_cell_21_layer_call_fn, lstm_cell_21_layer_call_and_return_conditional_losses, lstm_cell_22_layer_call_fn while saving (showing 5 of 8). These functions will not be directly callable after loading.\n"
     ]
    },
    {
     "name": "stdout",
     "output_type": "stream",
     "text": [
      "INFO:tensorflow:Assets written to: model_CA_3.pkl/assets\n"
     ]
    },
    {
     "name": "stderr",
     "output_type": "stream",
     "text": [
      "INFO:tensorflow:Assets written to: model_CA_3.pkl/assets\n"
     ]
    },
    {
     "name": "stdout",
     "output_type": "stream",
     "text": [
      "2460/2460 [==============================] - 73s 30ms/step - loss: 2.0228 - root_mean_squared_error: 1.4222 - val_loss: 0.8551 - val_root_mean_squared_error: 0.9247 - lr: 0.0010\n",
      "Epoch 4/50\n",
      "2458/2460 [============================>.] - ETA: 0s - loss: 1.2423 - root_mean_squared_error: 1.1146\n",
      "Epoch 4: saving model to model_CA_3.pkl\n"
     ]
    },
    {
     "name": "stderr",
     "output_type": "stream",
     "text": [
      "WARNING:absl:Found untraced functions such as lstm_cell_20_layer_call_fn, lstm_cell_20_layer_call_and_return_conditional_losses, lstm_cell_21_layer_call_fn, lstm_cell_21_layer_call_and_return_conditional_losses, lstm_cell_22_layer_call_fn while saving (showing 5 of 8). These functions will not be directly callable after loading.\n"
     ]
    },
    {
     "name": "stdout",
     "output_type": "stream",
     "text": [
      "INFO:tensorflow:Assets written to: model_CA_3.pkl/assets\n"
     ]
    },
    {
     "name": "stderr",
     "output_type": "stream",
     "text": [
      "INFO:tensorflow:Assets written to: model_CA_3.pkl/assets\n"
     ]
    },
    {
     "name": "stdout",
     "output_type": "stream",
     "text": [
      "2460/2460 [==============================] - 73s 30ms/step - loss: 1.2417 - root_mean_squared_error: 1.1143 - val_loss: 0.4867 - val_root_mean_squared_error: 0.6977 - lr: 0.0010\n",
      "Epoch 5/50\n",
      "2458/2460 [============================>.] - ETA: 0s - loss: 0.8319 - root_mean_squared_error: 0.9121\n",
      "Epoch 5: saving model to model_CA_3.pkl\n"
     ]
    },
    {
     "name": "stderr",
     "output_type": "stream",
     "text": [
      "WARNING:absl:Found untraced functions such as lstm_cell_20_layer_call_fn, lstm_cell_20_layer_call_and_return_conditional_losses, lstm_cell_21_layer_call_fn, lstm_cell_21_layer_call_and_return_conditional_losses, lstm_cell_22_layer_call_fn while saving (showing 5 of 8). These functions will not be directly callable after loading.\n"
     ]
    },
    {
     "name": "stdout",
     "output_type": "stream",
     "text": [
      "INFO:tensorflow:Assets written to: model_CA_3.pkl/assets\n"
     ]
    },
    {
     "name": "stderr",
     "output_type": "stream",
     "text": [
      "INFO:tensorflow:Assets written to: model_CA_3.pkl/assets\n"
     ]
    },
    {
     "name": "stdout",
     "output_type": "stream",
     "text": [
      "2460/2460 [==============================] - 72s 29ms/step - loss: 0.8315 - root_mean_squared_error: 0.9118 - val_loss: 0.2961 - val_root_mean_squared_error: 0.5441 - lr: 0.0010\n",
      "Epoch 6/50\n",
      "2458/2460 [============================>.] - ETA: 0s - loss: 0.6127 - root_mean_squared_error: 0.7827\n",
      "Epoch 6: saving model to model_CA_3.pkl\n"
     ]
    },
    {
     "name": "stderr",
     "output_type": "stream",
     "text": [
      "WARNING:absl:Found untraced functions such as lstm_cell_20_layer_call_fn, lstm_cell_20_layer_call_and_return_conditional_losses, lstm_cell_21_layer_call_fn, lstm_cell_21_layer_call_and_return_conditional_losses, lstm_cell_22_layer_call_fn while saving (showing 5 of 8). These functions will not be directly callable after loading.\n"
     ]
    },
    {
     "name": "stdout",
     "output_type": "stream",
     "text": [
      "INFO:tensorflow:Assets written to: model_CA_3.pkl/assets\n"
     ]
    },
    {
     "name": "stderr",
     "output_type": "stream",
     "text": [
      "INFO:tensorflow:Assets written to: model_CA_3.pkl/assets\n"
     ]
    },
    {
     "name": "stdout",
     "output_type": "stream",
     "text": [
      "2460/2460 [==============================] - 72s 29ms/step - loss: 0.6124 - root_mean_squared_error: 0.7825 - val_loss: 0.2055 - val_root_mean_squared_error: 0.4533 - lr: 0.0010\n",
      "Epoch 7/50\n",
      "2459/2460 [============================>.] - ETA: 0s - loss: 0.4686 - root_mean_squared_error: 0.6845\n",
      "Epoch 7: saving model to model_CA_3.pkl\n"
     ]
    },
    {
     "name": "stderr",
     "output_type": "stream",
     "text": [
      "WARNING:absl:Found untraced functions such as lstm_cell_20_layer_call_fn, lstm_cell_20_layer_call_and_return_conditional_losses, lstm_cell_21_layer_call_fn, lstm_cell_21_layer_call_and_return_conditional_losses, lstm_cell_22_layer_call_fn while saving (showing 5 of 8). These functions will not be directly callable after loading.\n"
     ]
    },
    {
     "name": "stdout",
     "output_type": "stream",
     "text": [
      "INFO:tensorflow:Assets written to: model_CA_3.pkl/assets\n"
     ]
    },
    {
     "name": "stderr",
     "output_type": "stream",
     "text": [
      "INFO:tensorflow:Assets written to: model_CA_3.pkl/assets\n"
     ]
    },
    {
     "name": "stdout",
     "output_type": "stream",
     "text": [
      "2460/2460 [==============================] - 72s 29ms/step - loss: 0.4685 - root_mean_squared_error: 0.6845 - val_loss: 0.1378 - val_root_mean_squared_error: 0.3712 - lr: 0.0010\n",
      "Epoch 8/50\n",
      "2460/2460 [==============================] - ETA: 0s - loss: 0.3818 - root_mean_squared_error: 0.6179\n",
      "Epoch 8: saving model to model_CA_3.pkl\n"
     ]
    },
    {
     "name": "stderr",
     "output_type": "stream",
     "text": [
      "WARNING:absl:Found untraced functions such as lstm_cell_20_layer_call_fn, lstm_cell_20_layer_call_and_return_conditional_losses, lstm_cell_21_layer_call_fn, lstm_cell_21_layer_call_and_return_conditional_losses, lstm_cell_22_layer_call_fn while saving (showing 5 of 8). These functions will not be directly callable after loading.\n"
     ]
    },
    {
     "name": "stdout",
     "output_type": "stream",
     "text": [
      "INFO:tensorflow:Assets written to: model_CA_3.pkl/assets\n"
     ]
    },
    {
     "name": "stderr",
     "output_type": "stream",
     "text": [
      "INFO:tensorflow:Assets written to: model_CA_3.pkl/assets\n"
     ]
    },
    {
     "name": "stdout",
     "output_type": "stream",
     "text": [
      "2460/2460 [==============================] - 72s 29ms/step - loss: 0.3818 - root_mean_squared_error: 0.6179 - val_loss: 0.0827 - val_root_mean_squared_error: 0.2876 - lr: 0.0010\n",
      "Epoch 9/50\n",
      "2459/2460 [============================>.] - ETA: 0s - loss: 0.3130 - root_mean_squared_error: 0.5595\n",
      "Epoch 9: saving model to model_CA_3.pkl\n"
     ]
    },
    {
     "name": "stderr",
     "output_type": "stream",
     "text": [
      "WARNING:absl:Found untraced functions such as lstm_cell_20_layer_call_fn, lstm_cell_20_layer_call_and_return_conditional_losses, lstm_cell_21_layer_call_fn, lstm_cell_21_layer_call_and_return_conditional_losses, lstm_cell_22_layer_call_fn while saving (showing 5 of 8). These functions will not be directly callable after loading.\n"
     ]
    },
    {
     "name": "stdout",
     "output_type": "stream",
     "text": [
      "INFO:tensorflow:Assets written to: model_CA_3.pkl/assets\n"
     ]
    },
    {
     "name": "stderr",
     "output_type": "stream",
     "text": [
      "INFO:tensorflow:Assets written to: model_CA_3.pkl/assets\n"
     ]
    },
    {
     "name": "stdout",
     "output_type": "stream",
     "text": [
      "2460/2460 [==============================] - 73s 30ms/step - loss: 0.3129 - root_mean_squared_error: 0.5594 - val_loss: 0.0633 - val_root_mean_squared_error: 0.2516 - lr: 0.0010\n",
      "Epoch 10/50\n",
      "2458/2460 [============================>.] - ETA: 0s - loss: 0.2725 - root_mean_squared_error: 0.5221\n",
      "Epoch 10: saving model to model_CA_3.pkl\n"
     ]
    },
    {
     "name": "stderr",
     "output_type": "stream",
     "text": [
      "WARNING:absl:Found untraced functions such as lstm_cell_20_layer_call_fn, lstm_cell_20_layer_call_and_return_conditional_losses, lstm_cell_21_layer_call_fn, lstm_cell_21_layer_call_and_return_conditional_losses, lstm_cell_22_layer_call_fn while saving (showing 5 of 8). These functions will not be directly callable after loading.\n"
     ]
    },
    {
     "name": "stdout",
     "output_type": "stream",
     "text": [
      "INFO:tensorflow:Assets written to: model_CA_3.pkl/assets\n"
     ]
    },
    {
     "name": "stderr",
     "output_type": "stream",
     "text": [
      "INFO:tensorflow:Assets written to: model_CA_3.pkl/assets\n"
     ]
    },
    {
     "name": "stdout",
     "output_type": "stream",
     "text": [
      "2460/2460 [==============================] - 72s 29ms/step - loss: 0.2724 - root_mean_squared_error: 0.5219 - val_loss: 0.0921 - val_root_mean_squared_error: 0.3036 - lr: 0.0010\n",
      "Epoch 11/50\n",
      "2459/2460 [============================>.] - ETA: 0s - loss: 0.2354 - root_mean_squared_error: 0.4852\n",
      "Epoch 11: saving model to model_CA_3.pkl\n"
     ]
    },
    {
     "name": "stderr",
     "output_type": "stream",
     "text": [
      "WARNING:absl:Found untraced functions such as lstm_cell_20_layer_call_fn, lstm_cell_20_layer_call_and_return_conditional_losses, lstm_cell_21_layer_call_fn, lstm_cell_21_layer_call_and_return_conditional_losses, lstm_cell_22_layer_call_fn while saving (showing 5 of 8). These functions will not be directly callable after loading.\n"
     ]
    },
    {
     "name": "stdout",
     "output_type": "stream",
     "text": [
      "INFO:tensorflow:Assets written to: model_CA_3.pkl/assets\n"
     ]
    },
    {
     "name": "stderr",
     "output_type": "stream",
     "text": [
      "INFO:tensorflow:Assets written to: model_CA_3.pkl/assets\n"
     ]
    },
    {
     "name": "stdout",
     "output_type": "stream",
     "text": [
      "2460/2460 [==============================] - 72s 29ms/step - loss: 0.2353 - root_mean_squared_error: 0.4851 - val_loss: 0.0246 - val_root_mean_squared_error: 0.1569 - lr: 0.0010\n",
      "Epoch 12/50\n",
      "2458/2460 [============================>.] - ETA: 0s - loss: 0.2086 - root_mean_squared_error: 0.4567\n",
      "Epoch 12: saving model to model_CA_3.pkl\n"
     ]
    },
    {
     "name": "stderr",
     "output_type": "stream",
     "text": [
      "WARNING:absl:Found untraced functions such as lstm_cell_20_layer_call_fn, lstm_cell_20_layer_call_and_return_conditional_losses, lstm_cell_21_layer_call_fn, lstm_cell_21_layer_call_and_return_conditional_losses, lstm_cell_22_layer_call_fn while saving (showing 5 of 8). These functions will not be directly callable after loading.\n"
     ]
    },
    {
     "name": "stdout",
     "output_type": "stream",
     "text": [
      "INFO:tensorflow:Assets written to: model_CA_3.pkl/assets\n"
     ]
    },
    {
     "name": "stderr",
     "output_type": "stream",
     "text": [
      "INFO:tensorflow:Assets written to: model_CA_3.pkl/assets\n"
     ]
    },
    {
     "name": "stdout",
     "output_type": "stream",
     "text": [
      "2460/2460 [==============================] - 73s 29ms/step - loss: 0.2085 - root_mean_squared_error: 0.4566 - val_loss: 0.0225 - val_root_mean_squared_error: 0.1499 - lr: 0.0010\n",
      "Epoch 13/50\n",
      "2460/2460 [==============================] - ETA: 0s - loss: 0.1831 - root_mean_squared_error: 0.4279\n",
      "Epoch 13: saving model to model_CA_3.pkl\n"
     ]
    },
    {
     "name": "stderr",
     "output_type": "stream",
     "text": [
      "WARNING:absl:Found untraced functions such as lstm_cell_20_layer_call_fn, lstm_cell_20_layer_call_and_return_conditional_losses, lstm_cell_21_layer_call_fn, lstm_cell_21_layer_call_and_return_conditional_losses, lstm_cell_22_layer_call_fn while saving (showing 5 of 8). These functions will not be directly callable after loading.\n"
     ]
    },
    {
     "name": "stdout",
     "output_type": "stream",
     "text": [
      "INFO:tensorflow:Assets written to: model_CA_3.pkl/assets\n"
     ]
    },
    {
     "name": "stderr",
     "output_type": "stream",
     "text": [
      "INFO:tensorflow:Assets written to: model_CA_3.pkl/assets\n"
     ]
    },
    {
     "name": "stdout",
     "output_type": "stream",
     "text": [
      "2460/2460 [==============================] - 71s 29ms/step - loss: 0.1831 - root_mean_squared_error: 0.4279 - val_loss: 0.0239 - val_root_mean_squared_error: 0.1545 - lr: 0.0010\n",
      "Epoch 14/50\n",
      "2459/2460 [============================>.] - ETA: 0s - loss: 0.1699 - root_mean_squared_error: 0.4122\n",
      "Epoch 14: saving model to model_CA_3.pkl\n"
     ]
    },
    {
     "name": "stderr",
     "output_type": "stream",
     "text": [
      "WARNING:absl:Found untraced functions such as lstm_cell_20_layer_call_fn, lstm_cell_20_layer_call_and_return_conditional_losses, lstm_cell_21_layer_call_fn, lstm_cell_21_layer_call_and_return_conditional_losses, lstm_cell_22_layer_call_fn while saving (showing 5 of 8). These functions will not be directly callable after loading.\n"
     ]
    },
    {
     "name": "stdout",
     "output_type": "stream",
     "text": [
      "INFO:tensorflow:Assets written to: model_CA_3.pkl/assets\n"
     ]
    },
    {
     "name": "stderr",
     "output_type": "stream",
     "text": [
      "INFO:tensorflow:Assets written to: model_CA_3.pkl/assets\n"
     ]
    },
    {
     "name": "stdout",
     "output_type": "stream",
     "text": [
      "2460/2460 [==============================] - 73s 30ms/step - loss: 0.1699 - root_mean_squared_error: 0.4122 - val_loss: 0.0146 - val_root_mean_squared_error: 0.1210 - lr: 0.0010\n",
      "Epoch 15/50\n",
      "2458/2460 [============================>.] - ETA: 0s - loss: 0.1641 - root_mean_squared_error: 0.4051\n",
      "Epoch 15: saving model to model_CA_3.pkl\n"
     ]
    },
    {
     "name": "stderr",
     "output_type": "stream",
     "text": [
      "WARNING:absl:Found untraced functions such as lstm_cell_20_layer_call_fn, lstm_cell_20_layer_call_and_return_conditional_losses, lstm_cell_21_layer_call_fn, lstm_cell_21_layer_call_and_return_conditional_losses, lstm_cell_22_layer_call_fn while saving (showing 5 of 8). These functions will not be directly callable after loading.\n"
     ]
    },
    {
     "name": "stdout",
     "output_type": "stream",
     "text": [
      "INFO:tensorflow:Assets written to: model_CA_3.pkl/assets\n"
     ]
    },
    {
     "name": "stderr",
     "output_type": "stream",
     "text": [
      "INFO:tensorflow:Assets written to: model_CA_3.pkl/assets\n"
     ]
    },
    {
     "name": "stdout",
     "output_type": "stream",
     "text": [
      "2460/2460 [==============================] - 73s 29ms/step - loss: 0.1640 - root_mean_squared_error: 0.4050 - val_loss: 0.0201 - val_root_mean_squared_error: 0.1416 - lr: 0.0010\n",
      "Epoch 16/50\n",
      "2458/2460 [============================>.] - ETA: 0s - loss: 0.1408 - root_mean_squared_error: 0.3753\n",
      "Epoch 16: saving model to model_CA_3.pkl\n"
     ]
    },
    {
     "name": "stderr",
     "output_type": "stream",
     "text": [
      "WARNING:absl:Found untraced functions such as lstm_cell_20_layer_call_fn, lstm_cell_20_layer_call_and_return_conditional_losses, lstm_cell_21_layer_call_fn, lstm_cell_21_layer_call_and_return_conditional_losses, lstm_cell_22_layer_call_fn while saving (showing 5 of 8). These functions will not be directly callable after loading.\n"
     ]
    },
    {
     "name": "stdout",
     "output_type": "stream",
     "text": [
      "INFO:tensorflow:Assets written to: model_CA_3.pkl/assets\n"
     ]
    },
    {
     "name": "stderr",
     "output_type": "stream",
     "text": [
      "INFO:tensorflow:Assets written to: model_CA_3.pkl/assets\n"
     ]
    },
    {
     "name": "stdout",
     "output_type": "stream",
     "text": [
      "\n",
      "Epoch 16: ReduceLROnPlateau reducing learning rate to 0.0002500000118743628.\n",
      "2460/2460 [==============================] - 72s 29ms/step - loss: 0.1408 - root_mean_squared_error: 0.3752 - val_loss: 0.0530 - val_root_mean_squared_error: 0.2303 - lr: 0.0010\n",
      "Epoch 17/50\n",
      "2459/2460 [============================>.] - ETA: 0s - loss: 0.1136 - root_mean_squared_error: 0.3370\n",
      "Epoch 17: saving model to model_CA_3.pkl\n"
     ]
    },
    {
     "name": "stderr",
     "output_type": "stream",
     "text": [
      "WARNING:absl:Found untraced functions such as lstm_cell_20_layer_call_fn, lstm_cell_20_layer_call_and_return_conditional_losses, lstm_cell_21_layer_call_fn, lstm_cell_21_layer_call_and_return_conditional_losses, lstm_cell_22_layer_call_fn while saving (showing 5 of 8). These functions will not be directly callable after loading.\n"
     ]
    },
    {
     "name": "stdout",
     "output_type": "stream",
     "text": [
      "INFO:tensorflow:Assets written to: model_CA_3.pkl/assets\n"
     ]
    },
    {
     "name": "stderr",
     "output_type": "stream",
     "text": [
      "INFO:tensorflow:Assets written to: model_CA_3.pkl/assets\n"
     ]
    },
    {
     "name": "stdout",
     "output_type": "stream",
     "text": [
      "2460/2460 [==============================] - 73s 29ms/step - loss: 0.1135 - root_mean_squared_error: 0.3370 - val_loss: 0.0033 - val_root_mean_squared_error: 0.0577 - lr: 2.5000e-04\n",
      "Epoch 18/50\n",
      "2459/2460 [============================>.] - ETA: 0s - loss: 0.1025 - root_mean_squared_error: 0.3202\n",
      "Epoch 18: saving model to model_CA_3.pkl\n"
     ]
    },
    {
     "name": "stderr",
     "output_type": "stream",
     "text": [
      "WARNING:absl:Found untraced functions such as lstm_cell_20_layer_call_fn, lstm_cell_20_layer_call_and_return_conditional_losses, lstm_cell_21_layer_call_fn, lstm_cell_21_layer_call_and_return_conditional_losses, lstm_cell_22_layer_call_fn while saving (showing 5 of 8). These functions will not be directly callable after loading.\n"
     ]
    },
    {
     "name": "stdout",
     "output_type": "stream",
     "text": [
      "INFO:tensorflow:Assets written to: model_CA_3.pkl/assets\n"
     ]
    },
    {
     "name": "stderr",
     "output_type": "stream",
     "text": [
      "INFO:tensorflow:Assets written to: model_CA_3.pkl/assets\n"
     ]
    },
    {
     "name": "stdout",
     "output_type": "stream",
     "text": [
      "2460/2460 [==============================] - 71s 29ms/step - loss: 0.1025 - root_mean_squared_error: 0.3202 - val_loss: 0.0048 - val_root_mean_squared_error: 0.0693 - lr: 2.5000e-04\n",
      "Epoch 19/50\n",
      "2460/2460 [==============================] - ETA: 0s - loss: 0.0984 - root_mean_squared_error: 0.3137\n",
      "Epoch 19: saving model to model_CA_3.pkl\n"
     ]
    },
    {
     "name": "stderr",
     "output_type": "stream",
     "text": [
      "WARNING:absl:Found untraced functions such as lstm_cell_20_layer_call_fn, lstm_cell_20_layer_call_and_return_conditional_losses, lstm_cell_21_layer_call_fn, lstm_cell_21_layer_call_and_return_conditional_losses, lstm_cell_22_layer_call_fn while saving (showing 5 of 8). These functions will not be directly callable after loading.\n"
     ]
    },
    {
     "name": "stdout",
     "output_type": "stream",
     "text": [
      "INFO:tensorflow:Assets written to: model_CA_3.pkl/assets\n"
     ]
    },
    {
     "name": "stderr",
     "output_type": "stream",
     "text": [
      "INFO:tensorflow:Assets written to: model_CA_3.pkl/assets\n"
     ]
    },
    {
     "name": "stdout",
     "output_type": "stream",
     "text": [
      "\n",
      "Epoch 19: ReduceLROnPlateau reducing learning rate to 6.25000029685907e-05.\n",
      "2460/2460 [==============================] - 72s 29ms/step - loss: 0.0984 - root_mean_squared_error: 0.3137 - val_loss: 0.0039 - val_root_mean_squared_error: 0.0625 - lr: 2.5000e-04\n",
      "Epoch 20/50\n",
      "2459/2460 [============================>.] - ETA: 0s - loss: 0.0932 - root_mean_squared_error: 0.3053\n",
      "Epoch 20: saving model to model_CA_3.pkl\n"
     ]
    },
    {
     "name": "stderr",
     "output_type": "stream",
     "text": [
      "WARNING:absl:Found untraced functions such as lstm_cell_20_layer_call_fn, lstm_cell_20_layer_call_and_return_conditional_losses, lstm_cell_21_layer_call_fn, lstm_cell_21_layer_call_and_return_conditional_losses, lstm_cell_22_layer_call_fn while saving (showing 5 of 8). These functions will not be directly callable after loading.\n"
     ]
    },
    {
     "name": "stdout",
     "output_type": "stream",
     "text": [
      "INFO:tensorflow:Assets written to: model_CA_3.pkl/assets\n"
     ]
    },
    {
     "name": "stderr",
     "output_type": "stream",
     "text": [
      "INFO:tensorflow:Assets written to: model_CA_3.pkl/assets\n"
     ]
    },
    {
     "name": "stdout",
     "output_type": "stream",
     "text": [
      "2460/2460 [==============================] - 73s 30ms/step - loss: 0.0932 - root_mean_squared_error: 0.3053 - val_loss: 0.0037 - val_root_mean_squared_error: 0.0609 - lr: 6.2500e-05\n",
      "Epoch 20: early stopping\n",
      "2668/2668 [==============================] - 17s 6ms/step\n",
      "2668/2668 [==============================] - 15s 6ms/step\n"
     ]
    },
    {
     "name": "stderr",
     "output_type": "stream",
     "text": [
      " 30%|███       | 3/10 [1:52:07<4:10:44, 2149.17s/it]"
     ]
    },
    {
     "name": "stdout",
     "output_type": "stream",
     "text": [
      "********Prediction for Store:CA_4**********\n",
      "Epoch 1/50\n",
      "2459/2460 [============================>.] - ETA: 0s - loss: 0.3472 - root_mean_squared_error: 0.5892\n",
      "Epoch 1: saving model to model_CA_4.pkl\n"
     ]
    },
    {
     "name": "stderr",
     "output_type": "stream",
     "text": [
      "WARNING:absl:Found untraced functions such as lstm_cell_24_layer_call_fn, lstm_cell_24_layer_call_and_return_conditional_losses, lstm_cell_25_layer_call_fn, lstm_cell_25_layer_call_and_return_conditional_losses, lstm_cell_26_layer_call_fn while saving (showing 5 of 8). These functions will not be directly callable after loading.\n"
     ]
    },
    {
     "name": "stdout",
     "output_type": "stream",
     "text": [
      "INFO:tensorflow:Assets written to: model_CA_4.pkl/assets\n"
     ]
    },
    {
     "name": "stderr",
     "output_type": "stream",
     "text": [
      "INFO:tensorflow:Assets written to: model_CA_4.pkl/assets\n"
     ]
    },
    {
     "name": "stdout",
     "output_type": "stream",
     "text": [
      "2460/2460 [==============================] - 77s 30ms/step - loss: 0.3471 - root_mean_squared_error: 0.5892 - val_loss: 0.0610 - val_root_mean_squared_error: 0.2469 - lr: 0.0010\n",
      "Epoch 2/50\n",
      "2458/2460 [============================>.] - ETA: 0s - loss: 0.0901 - root_mean_squared_error: 0.3001\n",
      "Epoch 2: saving model to model_CA_4.pkl\n"
     ]
    },
    {
     "name": "stderr",
     "output_type": "stream",
     "text": [
      "WARNING:absl:Found untraced functions such as lstm_cell_24_layer_call_fn, lstm_cell_24_layer_call_and_return_conditional_losses, lstm_cell_25_layer_call_fn, lstm_cell_25_layer_call_and_return_conditional_losses, lstm_cell_26_layer_call_fn while saving (showing 5 of 8). These functions will not be directly callable after loading.\n"
     ]
    },
    {
     "name": "stdout",
     "output_type": "stream",
     "text": [
      "INFO:tensorflow:Assets written to: model_CA_4.pkl/assets\n"
     ]
    },
    {
     "name": "stderr",
     "output_type": "stream",
     "text": [
      "INFO:tensorflow:Assets written to: model_CA_4.pkl/assets\n"
     ]
    },
    {
     "name": "stdout",
     "output_type": "stream",
     "text": [
      "2460/2460 [==============================] - 73s 30ms/step - loss: 0.0900 - root_mean_squared_error: 0.3000 - val_loss: 0.0271 - val_root_mean_squared_error: 0.1645 - lr: 0.0010\n",
      "Epoch 3/50\n",
      "2458/2460 [============================>.] - ETA: 0s - loss: 0.0554 - root_mean_squared_error: 0.2355\n",
      "Epoch 3: saving model to model_CA_4.pkl\n"
     ]
    },
    {
     "name": "stderr",
     "output_type": "stream",
     "text": [
      "WARNING:absl:Found untraced functions such as lstm_cell_24_layer_call_fn, lstm_cell_24_layer_call_and_return_conditional_losses, lstm_cell_25_layer_call_fn, lstm_cell_25_layer_call_and_return_conditional_losses, lstm_cell_26_layer_call_fn while saving (showing 5 of 8). These functions will not be directly callable after loading.\n"
     ]
    },
    {
     "name": "stdout",
     "output_type": "stream",
     "text": [
      "INFO:tensorflow:Assets written to: model_CA_4.pkl/assets\n"
     ]
    },
    {
     "name": "stderr",
     "output_type": "stream",
     "text": [
      "INFO:tensorflow:Assets written to: model_CA_4.pkl/assets\n"
     ]
    },
    {
     "name": "stdout",
     "output_type": "stream",
     "text": [
      "2460/2460 [==============================] - 73s 30ms/step - loss: 0.0554 - root_mean_squared_error: 0.2354 - val_loss: 0.0155 - val_root_mean_squared_error: 0.1245 - lr: 0.0010\n",
      "Epoch 4/50\n",
      "2459/2460 [============================>.] - ETA: 0s - loss: 0.0418 - root_mean_squared_error: 0.2044\n",
      "Epoch 4: saving model to model_CA_4.pkl\n"
     ]
    },
    {
     "name": "stderr",
     "output_type": "stream",
     "text": [
      "WARNING:absl:Found untraced functions such as lstm_cell_24_layer_call_fn, lstm_cell_24_layer_call_and_return_conditional_losses, lstm_cell_25_layer_call_fn, lstm_cell_25_layer_call_and_return_conditional_losses, lstm_cell_26_layer_call_fn while saving (showing 5 of 8). These functions will not be directly callable after loading.\n"
     ]
    },
    {
     "name": "stdout",
     "output_type": "stream",
     "text": [
      "INFO:tensorflow:Assets written to: model_CA_4.pkl/assets\n"
     ]
    },
    {
     "name": "stderr",
     "output_type": "stream",
     "text": [
      "INFO:tensorflow:Assets written to: model_CA_4.pkl/assets\n"
     ]
    },
    {
     "name": "stdout",
     "output_type": "stream",
     "text": [
      "2460/2460 [==============================] - 73s 30ms/step - loss: 0.0418 - root_mean_squared_error: 0.2044 - val_loss: 0.0107 - val_root_mean_squared_error: 0.1035 - lr: 0.0010\n",
      "Epoch 5/50\n",
      "2459/2460 [============================>.] - ETA: 0s - loss: 0.0351 - root_mean_squared_error: 0.1875\n",
      "Epoch 5: saving model to model_CA_4.pkl\n"
     ]
    },
    {
     "name": "stderr",
     "output_type": "stream",
     "text": [
      "WARNING:absl:Found untraced functions such as lstm_cell_24_layer_call_fn, lstm_cell_24_layer_call_and_return_conditional_losses, lstm_cell_25_layer_call_fn, lstm_cell_25_layer_call_and_return_conditional_losses, lstm_cell_26_layer_call_fn while saving (showing 5 of 8). These functions will not be directly callable after loading.\n"
     ]
    },
    {
     "name": "stdout",
     "output_type": "stream",
     "text": [
      "INFO:tensorflow:Assets written to: model_CA_4.pkl/assets\n"
     ]
    },
    {
     "name": "stderr",
     "output_type": "stream",
     "text": [
      "INFO:tensorflow:Assets written to: model_CA_4.pkl/assets\n"
     ]
    },
    {
     "name": "stdout",
     "output_type": "stream",
     "text": [
      "2460/2460 [==============================] - 72s 29ms/step - loss: 0.0351 - root_mean_squared_error: 0.1875 - val_loss: 0.0071 - val_root_mean_squared_error: 0.0840 - lr: 0.0010\n",
      "Epoch 6/50\n",
      "2459/2460 [============================>.] - ETA: 0s - loss: 0.0311 - root_mean_squared_error: 0.1763\n",
      "Epoch 6: saving model to model_CA_4.pkl\n"
     ]
    },
    {
     "name": "stderr",
     "output_type": "stream",
     "text": [
      "WARNING:absl:Found untraced functions such as lstm_cell_24_layer_call_fn, lstm_cell_24_layer_call_and_return_conditional_losses, lstm_cell_25_layer_call_fn, lstm_cell_25_layer_call_and_return_conditional_losses, lstm_cell_26_layer_call_fn while saving (showing 5 of 8). These functions will not be directly callable after loading.\n"
     ]
    },
    {
     "name": "stdout",
     "output_type": "stream",
     "text": [
      "INFO:tensorflow:Assets written to: model_CA_4.pkl/assets\n"
     ]
    },
    {
     "name": "stderr",
     "output_type": "stream",
     "text": [
      "INFO:tensorflow:Assets written to: model_CA_4.pkl/assets\n"
     ]
    },
    {
     "name": "stdout",
     "output_type": "stream",
     "text": [
      "2460/2460 [==============================] - 73s 30ms/step - loss: 0.0311 - root_mean_squared_error: 0.1763 - val_loss: 0.0115 - val_root_mean_squared_error: 0.1074 - lr: 0.0010\n",
      "Epoch 7/50\n",
      "2459/2460 [============================>.] - ETA: 0s - loss: 0.0278 - root_mean_squared_error: 0.1668\n",
      "Epoch 7: saving model to model_CA_4.pkl\n"
     ]
    },
    {
     "name": "stderr",
     "output_type": "stream",
     "text": [
      "WARNING:absl:Found untraced functions such as lstm_cell_24_layer_call_fn, lstm_cell_24_layer_call_and_return_conditional_losses, lstm_cell_25_layer_call_fn, lstm_cell_25_layer_call_and_return_conditional_losses, lstm_cell_26_layer_call_fn while saving (showing 5 of 8). These functions will not be directly callable after loading.\n"
     ]
    },
    {
     "name": "stdout",
     "output_type": "stream",
     "text": [
      "INFO:tensorflow:Assets written to: model_CA_4.pkl/assets\n"
     ]
    },
    {
     "name": "stderr",
     "output_type": "stream",
     "text": [
      "INFO:tensorflow:Assets written to: model_CA_4.pkl/assets\n"
     ]
    },
    {
     "name": "stdout",
     "output_type": "stream",
     "text": [
      "2460/2460 [==============================] - 73s 29ms/step - loss: 0.0278 - root_mean_squared_error: 0.1668 - val_loss: 0.0029 - val_root_mean_squared_error: 0.0542 - lr: 0.0010\n",
      "Epoch 8/50\n",
      "2459/2460 [============================>.] - ETA: 0s - loss: 0.0238 - root_mean_squared_error: 0.1543\n",
      "Epoch 8: saving model to model_CA_4.pkl\n"
     ]
    },
    {
     "name": "stderr",
     "output_type": "stream",
     "text": [
      "WARNING:absl:Found untraced functions such as lstm_cell_24_layer_call_fn, lstm_cell_24_layer_call_and_return_conditional_losses, lstm_cell_25_layer_call_fn, lstm_cell_25_layer_call_and_return_conditional_losses, lstm_cell_26_layer_call_fn while saving (showing 5 of 8). These functions will not be directly callable after loading.\n"
     ]
    },
    {
     "name": "stdout",
     "output_type": "stream",
     "text": [
      "INFO:tensorflow:Assets written to: model_CA_4.pkl/assets\n"
     ]
    },
    {
     "name": "stderr",
     "output_type": "stream",
     "text": [
      "INFO:tensorflow:Assets written to: model_CA_4.pkl/assets\n"
     ]
    },
    {
     "name": "stdout",
     "output_type": "stream",
     "text": [
      "2460/2460 [==============================] - 72s 29ms/step - loss: 0.0238 - root_mean_squared_error: 0.1543 - val_loss: 0.0031 - val_root_mean_squared_error: 0.0560 - lr: 0.0010\n",
      "Epoch 9/50\n",
      "2459/2460 [============================>.] - ETA: 0s - loss: 0.0227 - root_mean_squared_error: 0.1506\n",
      "Epoch 9: saving model to model_CA_4.pkl\n"
     ]
    },
    {
     "name": "stderr",
     "output_type": "stream",
     "text": [
      "WARNING:absl:Found untraced functions such as lstm_cell_24_layer_call_fn, lstm_cell_24_layer_call_and_return_conditional_losses, lstm_cell_25_layer_call_fn, lstm_cell_25_layer_call_and_return_conditional_losses, lstm_cell_26_layer_call_fn while saving (showing 5 of 8). These functions will not be directly callable after loading.\n"
     ]
    },
    {
     "name": "stdout",
     "output_type": "stream",
     "text": [
      "INFO:tensorflow:Assets written to: model_CA_4.pkl/assets\n"
     ]
    },
    {
     "name": "stderr",
     "output_type": "stream",
     "text": [
      "INFO:tensorflow:Assets written to: model_CA_4.pkl/assets\n"
     ]
    },
    {
     "name": "stdout",
     "output_type": "stream",
     "text": [
      "\n",
      "Epoch 9: ReduceLROnPlateau reducing learning rate to 0.0002500000118743628.\n",
      "2460/2460 [==============================] - 71s 29ms/step - loss: 0.0227 - root_mean_squared_error: 0.1506 - val_loss: 0.0059 - val_root_mean_squared_error: 0.0769 - lr: 0.0010\n",
      "Epoch 10/50\n",
      "2460/2460 [==============================] - ETA: 0s - loss: 0.0179 - root_mean_squared_error: 0.1338\n",
      "Epoch 10: saving model to model_CA_4.pkl\n"
     ]
    },
    {
     "name": "stderr",
     "output_type": "stream",
     "text": [
      "WARNING:absl:Found untraced functions such as lstm_cell_24_layer_call_fn, lstm_cell_24_layer_call_and_return_conditional_losses, lstm_cell_25_layer_call_fn, lstm_cell_25_layer_call_and_return_conditional_losses, lstm_cell_26_layer_call_fn while saving (showing 5 of 8). These functions will not be directly callable after loading.\n"
     ]
    },
    {
     "name": "stdout",
     "output_type": "stream",
     "text": [
      "INFO:tensorflow:Assets written to: model_CA_4.pkl/assets\n"
     ]
    },
    {
     "name": "stderr",
     "output_type": "stream",
     "text": [
      "INFO:tensorflow:Assets written to: model_CA_4.pkl/assets\n"
     ]
    },
    {
     "name": "stdout",
     "output_type": "stream",
     "text": [
      "2460/2460 [==============================] - 74s 30ms/step - loss: 0.0179 - root_mean_squared_error: 0.1338 - val_loss: 0.0010 - val_root_mean_squared_error: 0.0323 - lr: 2.5000e-04\n",
      "Epoch 11/50\n",
      "2459/2460 [============================>.] - ETA: 0s - loss: 0.0172 - root_mean_squared_error: 0.1311\n",
      "Epoch 11: saving model to model_CA_4.pkl\n"
     ]
    },
    {
     "name": "stderr",
     "output_type": "stream",
     "text": [
      "WARNING:absl:Found untraced functions such as lstm_cell_24_layer_call_fn, lstm_cell_24_layer_call_and_return_conditional_losses, lstm_cell_25_layer_call_fn, lstm_cell_25_layer_call_and_return_conditional_losses, lstm_cell_26_layer_call_fn while saving (showing 5 of 8). These functions will not be directly callable after loading.\n"
     ]
    },
    {
     "name": "stdout",
     "output_type": "stream",
     "text": [
      "INFO:tensorflow:Assets written to: model_CA_4.pkl/assets\n"
     ]
    },
    {
     "name": "stderr",
     "output_type": "stream",
     "text": [
      "INFO:tensorflow:Assets written to: model_CA_4.pkl/assets\n"
     ]
    },
    {
     "name": "stdout",
     "output_type": "stream",
     "text": [
      "2460/2460 [==============================] - 71s 29ms/step - loss: 0.0172 - root_mean_squared_error: 0.1311 - val_loss: 6.7001e-04 - val_root_mean_squared_error: 0.0259 - lr: 2.5000e-04\n",
      "Epoch 12/50\n",
      "2458/2460 [============================>.] - ETA: 0s - loss: 0.0163 - root_mean_squared_error: 0.1279\n",
      "Epoch 12: saving model to model_CA_4.pkl\n"
     ]
    },
    {
     "name": "stderr",
     "output_type": "stream",
     "text": [
      "WARNING:absl:Found untraced functions such as lstm_cell_24_layer_call_fn, lstm_cell_24_layer_call_and_return_conditional_losses, lstm_cell_25_layer_call_fn, lstm_cell_25_layer_call_and_return_conditional_losses, lstm_cell_26_layer_call_fn while saving (showing 5 of 8). These functions will not be directly callable after loading.\n"
     ]
    },
    {
     "name": "stdout",
     "output_type": "stream",
     "text": [
      "INFO:tensorflow:Assets written to: model_CA_4.pkl/assets\n"
     ]
    },
    {
     "name": "stderr",
     "output_type": "stream",
     "text": [
      "INFO:tensorflow:Assets written to: model_CA_4.pkl/assets\n"
     ]
    },
    {
     "name": "stdout",
     "output_type": "stream",
     "text": [
      "2460/2460 [==============================] - 73s 30ms/step - loss: 0.0163 - root_mean_squared_error: 0.1278 - val_loss: 0.0013 - val_root_mean_squared_error: 0.0366 - lr: 2.5000e-04\n",
      "Epoch 13/50\n",
      "2459/2460 [============================>.] - ETA: 0s - loss: 0.0160 - root_mean_squared_error: 0.1265\n",
      "Epoch 13: saving model to model_CA_4.pkl\n"
     ]
    },
    {
     "name": "stderr",
     "output_type": "stream",
     "text": [
      "WARNING:absl:Found untraced functions such as lstm_cell_24_layer_call_fn, lstm_cell_24_layer_call_and_return_conditional_losses, lstm_cell_25_layer_call_fn, lstm_cell_25_layer_call_and_return_conditional_losses, lstm_cell_26_layer_call_fn while saving (showing 5 of 8). These functions will not be directly callable after loading.\n"
     ]
    },
    {
     "name": "stdout",
     "output_type": "stream",
     "text": [
      "INFO:tensorflow:Assets written to: model_CA_4.pkl/assets\n"
     ]
    },
    {
     "name": "stderr",
     "output_type": "stream",
     "text": [
      "INFO:tensorflow:Assets written to: model_CA_4.pkl/assets\n"
     ]
    },
    {
     "name": "stdout",
     "output_type": "stream",
     "text": [
      "\n",
      "Epoch 13: ReduceLROnPlateau reducing learning rate to 6.25000029685907e-05.\n",
      "2460/2460 [==============================] - 72s 29ms/step - loss: 0.0160 - root_mean_squared_error: 0.1265 - val_loss: 0.0016 - val_root_mean_squared_error: 0.0396 - lr: 2.5000e-04\n",
      "Epoch 14/50\n",
      "2458/2460 [============================>.] - ETA: 0s - loss: 0.0150 - root_mean_squared_error: 0.1223\n",
      "Epoch 14: saving model to model_CA_4.pkl\n"
     ]
    },
    {
     "name": "stderr",
     "output_type": "stream",
     "text": [
      "WARNING:absl:Found untraced functions such as lstm_cell_24_layer_call_fn, lstm_cell_24_layer_call_and_return_conditional_losses, lstm_cell_25_layer_call_fn, lstm_cell_25_layer_call_and_return_conditional_losses, lstm_cell_26_layer_call_fn while saving (showing 5 of 8). These functions will not be directly callable after loading.\n"
     ]
    },
    {
     "name": "stdout",
     "output_type": "stream",
     "text": [
      "INFO:tensorflow:Assets written to: model_CA_4.pkl/assets\n"
     ]
    },
    {
     "name": "stderr",
     "output_type": "stream",
     "text": [
      "INFO:tensorflow:Assets written to: model_CA_4.pkl/assets\n"
     ]
    },
    {
     "name": "stdout",
     "output_type": "stream",
     "text": [
      "2460/2460 [==============================] - 72s 29ms/step - loss: 0.0149 - root_mean_squared_error: 0.1223 - val_loss: 3.9101e-04 - val_root_mean_squared_error: 0.0198 - lr: 6.2500e-05\n",
      "Epoch 15/50\n",
      "2458/2460 [============================>.] - ETA: 0s - loss: 0.0149 - root_mean_squared_error: 0.1221\n",
      "Epoch 15: saving model to model_CA_4.pkl\n"
     ]
    },
    {
     "name": "stderr",
     "output_type": "stream",
     "text": [
      "WARNING:absl:Found untraced functions such as lstm_cell_24_layer_call_fn, lstm_cell_24_layer_call_and_return_conditional_losses, lstm_cell_25_layer_call_fn, lstm_cell_25_layer_call_and_return_conditional_losses, lstm_cell_26_layer_call_fn while saving (showing 5 of 8). These functions will not be directly callable after loading.\n"
     ]
    },
    {
     "name": "stdout",
     "output_type": "stream",
     "text": [
      "INFO:tensorflow:Assets written to: model_CA_4.pkl/assets\n"
     ]
    },
    {
     "name": "stderr",
     "output_type": "stream",
     "text": [
      "INFO:tensorflow:Assets written to: model_CA_4.pkl/assets\n"
     ]
    },
    {
     "name": "stdout",
     "output_type": "stream",
     "text": [
      "2460/2460 [==============================] - 71s 29ms/step - loss: 0.0149 - root_mean_squared_error: 0.1221 - val_loss: 4.7192e-04 - val_root_mean_squared_error: 0.0217 - lr: 6.2500e-05\n",
      "Epoch 16/50\n",
      "2459/2460 [============================>.] - ETA: 0s - loss: 0.0147 - root_mean_squared_error: 0.1211\n",
      "Epoch 16: saving model to model_CA_4.pkl\n"
     ]
    },
    {
     "name": "stderr",
     "output_type": "stream",
     "text": [
      "WARNING:absl:Found untraced functions such as lstm_cell_24_layer_call_fn, lstm_cell_24_layer_call_and_return_conditional_losses, lstm_cell_25_layer_call_fn, lstm_cell_25_layer_call_and_return_conditional_losses, lstm_cell_26_layer_call_fn while saving (showing 5 of 8). These functions will not be directly callable after loading.\n"
     ]
    },
    {
     "name": "stdout",
     "output_type": "stream",
     "text": [
      "INFO:tensorflow:Assets written to: model_CA_4.pkl/assets\n"
     ]
    },
    {
     "name": "stderr",
     "output_type": "stream",
     "text": [
      "INFO:tensorflow:Assets written to: model_CA_4.pkl/assets\n"
     ]
    },
    {
     "name": "stdout",
     "output_type": "stream",
     "text": [
      "2460/2460 [==============================] - 73s 30ms/step - loss: 0.0147 - root_mean_squared_error: 0.1211 - val_loss: 2.7339e-04 - val_root_mean_squared_error: 0.0165 - lr: 6.2500e-05\n",
      "Epoch 17/50\n",
      "2459/2460 [============================>.] - ETA: 0s - loss: 0.0145 - root_mean_squared_error: 0.1202\n",
      "Epoch 17: saving model to model_CA_4.pkl\n"
     ]
    },
    {
     "name": "stderr",
     "output_type": "stream",
     "text": [
      "WARNING:absl:Found untraced functions such as lstm_cell_24_layer_call_fn, lstm_cell_24_layer_call_and_return_conditional_losses, lstm_cell_25_layer_call_fn, lstm_cell_25_layer_call_and_return_conditional_losses, lstm_cell_26_layer_call_fn while saving (showing 5 of 8). These functions will not be directly callable after loading.\n"
     ]
    },
    {
     "name": "stdout",
     "output_type": "stream",
     "text": [
      "INFO:tensorflow:Assets written to: model_CA_4.pkl/assets\n"
     ]
    },
    {
     "name": "stderr",
     "output_type": "stream",
     "text": [
      "INFO:tensorflow:Assets written to: model_CA_4.pkl/assets\n"
     ]
    },
    {
     "name": "stdout",
     "output_type": "stream",
     "text": [
      "2460/2460 [==============================] - 74s 30ms/step - loss: 0.0145 - root_mean_squared_error: 0.1202 - val_loss: 4.1722e-04 - val_root_mean_squared_error: 0.0204 - lr: 6.2500e-05\n",
      "Epoch 18/50\n",
      "2459/2460 [============================>.] - ETA: 0s - loss: 0.0144 - root_mean_squared_error: 0.1201\n",
      "Epoch 18: saving model to model_CA_4.pkl\n"
     ]
    },
    {
     "name": "stderr",
     "output_type": "stream",
     "text": [
      "WARNING:absl:Found untraced functions such as lstm_cell_24_layer_call_fn, lstm_cell_24_layer_call_and_return_conditional_losses, lstm_cell_25_layer_call_fn, lstm_cell_25_layer_call_and_return_conditional_losses, lstm_cell_26_layer_call_fn while saving (showing 5 of 8). These functions will not be directly callable after loading.\n"
     ]
    },
    {
     "name": "stdout",
     "output_type": "stream",
     "text": [
      "INFO:tensorflow:Assets written to: model_CA_4.pkl/assets\n"
     ]
    },
    {
     "name": "stderr",
     "output_type": "stream",
     "text": [
      "INFO:tensorflow:Assets written to: model_CA_4.pkl/assets\n"
     ]
    },
    {
     "name": "stdout",
     "output_type": "stream",
     "text": [
      "\n",
      "Epoch 18: ReduceLROnPlateau reducing learning rate to 1.5625000742147677e-05.\n",
      "2460/2460 [==============================] - 71s 29ms/step - loss: 0.0144 - root_mean_squared_error: 0.1201 - val_loss: 3.0629e-04 - val_root_mean_squared_error: 0.0175 - lr: 6.2500e-05\n",
      "Epoch 19/50\n",
      "2460/2460 [==============================] - ETA: 0s - loss: 0.0142 - root_mean_squared_error: 0.1191\n",
      "Epoch 19: saving model to model_CA_4.pkl\n"
     ]
    },
    {
     "name": "stderr",
     "output_type": "stream",
     "text": [
      "WARNING:absl:Found untraced functions such as lstm_cell_24_layer_call_fn, lstm_cell_24_layer_call_and_return_conditional_losses, lstm_cell_25_layer_call_fn, lstm_cell_25_layer_call_and_return_conditional_losses, lstm_cell_26_layer_call_fn while saving (showing 5 of 8). These functions will not be directly callable after loading.\n"
     ]
    },
    {
     "name": "stdout",
     "output_type": "stream",
     "text": [
      "INFO:tensorflow:Assets written to: model_CA_4.pkl/assets\n"
     ]
    },
    {
     "name": "stderr",
     "output_type": "stream",
     "text": [
      "INFO:tensorflow:Assets written to: model_CA_4.pkl/assets\n"
     ]
    },
    {
     "name": "stdout",
     "output_type": "stream",
     "text": [
      "2460/2460 [==============================] - 73s 30ms/step - loss: 0.0142 - root_mean_squared_error: 0.1191 - val_loss: 2.2235e-04 - val_root_mean_squared_error: 0.0149 - lr: 1.5625e-05\n",
      "Epoch 20/50\n",
      "2459/2460 [============================>.] - ETA: 0s - loss: 0.0141 - root_mean_squared_error: 0.1188\n",
      "Epoch 20: saving model to model_CA_4.pkl\n"
     ]
    },
    {
     "name": "stderr",
     "output_type": "stream",
     "text": [
      "WARNING:absl:Found untraced functions such as lstm_cell_24_layer_call_fn, lstm_cell_24_layer_call_and_return_conditional_losses, lstm_cell_25_layer_call_fn, lstm_cell_25_layer_call_and_return_conditional_losses, lstm_cell_26_layer_call_fn while saving (showing 5 of 8). These functions will not be directly callable after loading.\n"
     ]
    },
    {
     "name": "stdout",
     "output_type": "stream",
     "text": [
      "INFO:tensorflow:Assets written to: model_CA_4.pkl/assets\n"
     ]
    },
    {
     "name": "stderr",
     "output_type": "stream",
     "text": [
      "INFO:tensorflow:Assets written to: model_CA_4.pkl/assets\n"
     ]
    },
    {
     "name": "stdout",
     "output_type": "stream",
     "text": [
      "2460/2460 [==============================] - 74s 30ms/step - loss: 0.0141 - root_mean_squared_error: 0.1188 - val_loss: 2.0885e-04 - val_root_mean_squared_error: 0.0145 - lr: 1.5625e-05\n",
      "Epoch 21/50\n",
      "2460/2460 [==============================] - ETA: 0s - loss: 0.0141 - root_mean_squared_error: 0.1187\n",
      "Epoch 21: saving model to model_CA_4.pkl\n"
     ]
    },
    {
     "name": "stderr",
     "output_type": "stream",
     "text": [
      "WARNING:absl:Found untraced functions such as lstm_cell_24_layer_call_fn, lstm_cell_24_layer_call_and_return_conditional_losses, lstm_cell_25_layer_call_fn, lstm_cell_25_layer_call_and_return_conditional_losses, lstm_cell_26_layer_call_fn while saving (showing 5 of 8). These functions will not be directly callable after loading.\n"
     ]
    },
    {
     "name": "stdout",
     "output_type": "stream",
     "text": [
      "INFO:tensorflow:Assets written to: model_CA_4.pkl/assets\n"
     ]
    },
    {
     "name": "stderr",
     "output_type": "stream",
     "text": [
      "INFO:tensorflow:Assets written to: model_CA_4.pkl/assets\n"
     ]
    },
    {
     "name": "stdout",
     "output_type": "stream",
     "text": [
      "2460/2460 [==============================] - 73s 30ms/step - loss: 0.0141 - root_mean_squared_error: 0.1187 - val_loss: 1.9479e-04 - val_root_mean_squared_error: 0.0140 - lr: 1.5625e-05\n",
      "Epoch 22/50\n",
      "2459/2460 [============================>.] - ETA: 0s - loss: 0.0140 - root_mean_squared_error: 0.1185\n",
      "Epoch 22: saving model to model_CA_4.pkl\n"
     ]
    },
    {
     "name": "stderr",
     "output_type": "stream",
     "text": [
      "WARNING:absl:Found untraced functions such as lstm_cell_24_layer_call_fn, lstm_cell_24_layer_call_and_return_conditional_losses, lstm_cell_25_layer_call_fn, lstm_cell_25_layer_call_and_return_conditional_losses, lstm_cell_26_layer_call_fn while saving (showing 5 of 8). These functions will not be directly callable after loading.\n"
     ]
    },
    {
     "name": "stdout",
     "output_type": "stream",
     "text": [
      "INFO:tensorflow:Assets written to: model_CA_4.pkl/assets\n"
     ]
    },
    {
     "name": "stderr",
     "output_type": "stream",
     "text": [
      "INFO:tensorflow:Assets written to: model_CA_4.pkl/assets\n"
     ]
    },
    {
     "name": "stdout",
     "output_type": "stream",
     "text": [
      "2460/2460 [==============================] - 73s 30ms/step - loss: 0.0140 - root_mean_squared_error: 0.1185 - val_loss: 2.1537e-04 - val_root_mean_squared_error: 0.0147 - lr: 1.5625e-05\n",
      "Epoch 23/50\n",
      "2460/2460 [==============================] - ETA: 0s - loss: 0.0141 - root_mean_squared_error: 0.1187\n",
      "Epoch 23: saving model to model_CA_4.pkl\n"
     ]
    },
    {
     "name": "stderr",
     "output_type": "stream",
     "text": [
      "WARNING:absl:Found untraced functions such as lstm_cell_24_layer_call_fn, lstm_cell_24_layer_call_and_return_conditional_losses, lstm_cell_25_layer_call_fn, lstm_cell_25_layer_call_and_return_conditional_losses, lstm_cell_26_layer_call_fn while saving (showing 5 of 8). These functions will not be directly callable after loading.\n"
     ]
    },
    {
     "name": "stdout",
     "output_type": "stream",
     "text": [
      "INFO:tensorflow:Assets written to: model_CA_4.pkl/assets\n"
     ]
    },
    {
     "name": "stderr",
     "output_type": "stream",
     "text": [
      "INFO:tensorflow:Assets written to: model_CA_4.pkl/assets\n"
     ]
    },
    {
     "name": "stdout",
     "output_type": "stream",
     "text": [
      "2460/2460 [==============================] - 73s 30ms/step - loss: 0.0141 - root_mean_squared_error: 0.1187 - val_loss: 1.8089e-04 - val_root_mean_squared_error: 0.0134 - lr: 1.5625e-05\n",
      "Epoch 24/50\n",
      "2459/2460 [============================>.] - ETA: 0s - loss: 0.0140 - root_mean_squared_error: 0.1181\n",
      "Epoch 24: saving model to model_CA_4.pkl\n"
     ]
    },
    {
     "name": "stderr",
     "output_type": "stream",
     "text": [
      "WARNING:absl:Found untraced functions such as lstm_cell_24_layer_call_fn, lstm_cell_24_layer_call_and_return_conditional_losses, lstm_cell_25_layer_call_fn, lstm_cell_25_layer_call_and_return_conditional_losses, lstm_cell_26_layer_call_fn while saving (showing 5 of 8). These functions will not be directly callable after loading.\n"
     ]
    },
    {
     "name": "stdout",
     "output_type": "stream",
     "text": [
      "INFO:tensorflow:Assets written to: model_CA_4.pkl/assets\n"
     ]
    },
    {
     "name": "stderr",
     "output_type": "stream",
     "text": [
      "INFO:tensorflow:Assets written to: model_CA_4.pkl/assets\n"
     ]
    },
    {
     "name": "stdout",
     "output_type": "stream",
     "text": [
      "2460/2460 [==============================] - 72s 29ms/step - loss: 0.0139 - root_mean_squared_error: 0.1181 - val_loss: 1.7623e-04 - val_root_mean_squared_error: 0.0133 - lr: 1.5625e-05\n",
      "Epoch 25/50\n",
      "2459/2460 [============================>.] - ETA: 0s - loss: 0.0140 - root_mean_squared_error: 0.1182\n",
      "Epoch 25: saving model to model_CA_4.pkl\n"
     ]
    },
    {
     "name": "stderr",
     "output_type": "stream",
     "text": [
      "WARNING:absl:Found untraced functions such as lstm_cell_24_layer_call_fn, lstm_cell_24_layer_call_and_return_conditional_losses, lstm_cell_25_layer_call_fn, lstm_cell_25_layer_call_and_return_conditional_losses, lstm_cell_26_layer_call_fn while saving (showing 5 of 8). These functions will not be directly callable after loading.\n"
     ]
    },
    {
     "name": "stdout",
     "output_type": "stream",
     "text": [
      "INFO:tensorflow:Assets written to: model_CA_4.pkl/assets\n"
     ]
    },
    {
     "name": "stderr",
     "output_type": "stream",
     "text": [
      "INFO:tensorflow:Assets written to: model_CA_4.pkl/assets\n"
     ]
    },
    {
     "name": "stdout",
     "output_type": "stream",
     "text": [
      "2460/2460 [==============================] - 74s 30ms/step - loss: 0.0140 - root_mean_squared_error: 0.1182 - val_loss: 1.6780e-04 - val_root_mean_squared_error: 0.0130 - lr: 1.5625e-05\n",
      "Epoch 26/50\n",
      "2458/2460 [============================>.] - ETA: 0s - loss: 0.0139 - root_mean_squared_error: 0.1181\n",
      "Epoch 26: saving model to model_CA_4.pkl\n"
     ]
    },
    {
     "name": "stderr",
     "output_type": "stream",
     "text": [
      "WARNING:absl:Found untraced functions such as lstm_cell_24_layer_call_fn, lstm_cell_24_layer_call_and_return_conditional_losses, lstm_cell_25_layer_call_fn, lstm_cell_25_layer_call_and_return_conditional_losses, lstm_cell_26_layer_call_fn while saving (showing 5 of 8). These functions will not be directly callable after loading.\n"
     ]
    },
    {
     "name": "stdout",
     "output_type": "stream",
     "text": [
      "INFO:tensorflow:Assets written to: model_CA_4.pkl/assets\n"
     ]
    },
    {
     "name": "stderr",
     "output_type": "stream",
     "text": [
      "INFO:tensorflow:Assets written to: model_CA_4.pkl/assets\n"
     ]
    },
    {
     "name": "stdout",
     "output_type": "stream",
     "text": [
      "2460/2460 [==============================] - 73s 30ms/step - loss: 0.0139 - root_mean_squared_error: 0.1181 - val_loss: 1.9686e-04 - val_root_mean_squared_error: 0.0140 - lr: 1.5625e-05\n",
      "Epoch 27/50\n",
      "2458/2460 [============================>.] - ETA: 0s - loss: 0.0139 - root_mean_squared_error: 0.1179\n",
      "Epoch 27: saving model to model_CA_4.pkl\n"
     ]
    },
    {
     "name": "stderr",
     "output_type": "stream",
     "text": [
      "WARNING:absl:Found untraced functions such as lstm_cell_24_layer_call_fn, lstm_cell_24_layer_call_and_return_conditional_losses, lstm_cell_25_layer_call_fn, lstm_cell_25_layer_call_and_return_conditional_losses, lstm_cell_26_layer_call_fn while saving (showing 5 of 8). These functions will not be directly callable after loading.\n"
     ]
    },
    {
     "name": "stdout",
     "output_type": "stream",
     "text": [
      "INFO:tensorflow:Assets written to: model_CA_4.pkl/assets\n"
     ]
    },
    {
     "name": "stderr",
     "output_type": "stream",
     "text": [
      "INFO:tensorflow:Assets written to: model_CA_4.pkl/assets\n"
     ]
    },
    {
     "name": "stdout",
     "output_type": "stream",
     "text": [
      "\n",
      "Epoch 27: ReduceLROnPlateau reducing learning rate to 3.906250185536919e-06.\n",
      "2460/2460 [==============================] - 72s 29ms/step - loss: 0.0139 - root_mean_squared_error: 0.1179 - val_loss: 1.8801e-04 - val_root_mean_squared_error: 0.0137 - lr: 1.5625e-05\n",
      "Epoch 28/50\n",
      "2460/2460 [==============================] - ETA: 0s - loss: 0.0139 - root_mean_squared_error: 0.1177\n",
      "Epoch 28: saving model to model_CA_4.pkl\n"
     ]
    },
    {
     "name": "stderr",
     "output_type": "stream",
     "text": [
      "WARNING:absl:Found untraced functions such as lstm_cell_24_layer_call_fn, lstm_cell_24_layer_call_and_return_conditional_losses, lstm_cell_25_layer_call_fn, lstm_cell_25_layer_call_and_return_conditional_losses, lstm_cell_26_layer_call_fn while saving (showing 5 of 8). These functions will not be directly callable after loading.\n"
     ]
    },
    {
     "name": "stdout",
     "output_type": "stream",
     "text": [
      "INFO:tensorflow:Assets written to: model_CA_4.pkl/assets\n"
     ]
    },
    {
     "name": "stderr",
     "output_type": "stream",
     "text": [
      "INFO:tensorflow:Assets written to: model_CA_4.pkl/assets\n"
     ]
    },
    {
     "name": "stdout",
     "output_type": "stream",
     "text": [
      "2460/2460 [==============================] - 74s 30ms/step - loss: 0.0139 - root_mean_squared_error: 0.1177 - val_loss: 1.5890e-04 - val_root_mean_squared_error: 0.0126 - lr: 3.9063e-06\n",
      "Epoch 29/50\n",
      "2458/2460 [============================>.] - ETA: 0s - loss: 0.0139 - root_mean_squared_error: 0.1179\n",
      "Epoch 29: saving model to model_CA_4.pkl\n"
     ]
    },
    {
     "name": "stderr",
     "output_type": "stream",
     "text": [
      "WARNING:absl:Found untraced functions such as lstm_cell_24_layer_call_fn, lstm_cell_24_layer_call_and_return_conditional_losses, lstm_cell_25_layer_call_fn, lstm_cell_25_layer_call_and_return_conditional_losses, lstm_cell_26_layer_call_fn while saving (showing 5 of 8). These functions will not be directly callable after loading.\n"
     ]
    },
    {
     "name": "stdout",
     "output_type": "stream",
     "text": [
      "INFO:tensorflow:Assets written to: model_CA_4.pkl/assets\n"
     ]
    },
    {
     "name": "stderr",
     "output_type": "stream",
     "text": [
      "INFO:tensorflow:Assets written to: model_CA_4.pkl/assets\n"
     ]
    },
    {
     "name": "stdout",
     "output_type": "stream",
     "text": [
      "2460/2460 [==============================] - 73s 30ms/step - loss: 0.0139 - root_mean_squared_error: 0.1179 - val_loss: 1.8100e-04 - val_root_mean_squared_error: 0.0135 - lr: 3.9063e-06\n",
      "Epoch 30/50\n",
      "2460/2460 [==============================] - ETA: 0s - loss: 0.0138 - root_mean_squared_error: 0.1176\n",
      "Epoch 30: saving model to model_CA_4.pkl\n"
     ]
    },
    {
     "name": "stderr",
     "output_type": "stream",
     "text": [
      "WARNING:absl:Found untraced functions such as lstm_cell_24_layer_call_fn, lstm_cell_24_layer_call_and_return_conditional_losses, lstm_cell_25_layer_call_fn, lstm_cell_25_layer_call_and_return_conditional_losses, lstm_cell_26_layer_call_fn while saving (showing 5 of 8). These functions will not be directly callable after loading.\n"
     ]
    },
    {
     "name": "stdout",
     "output_type": "stream",
     "text": [
      "INFO:tensorflow:Assets written to: model_CA_4.pkl/assets\n"
     ]
    },
    {
     "name": "stderr",
     "output_type": "stream",
     "text": [
      "INFO:tensorflow:Assets written to: model_CA_4.pkl/assets\n"
     ]
    },
    {
     "name": "stdout",
     "output_type": "stream",
     "text": [
      "2460/2460 [==============================] - 75s 30ms/step - loss: 0.0138 - root_mean_squared_error: 0.1176 - val_loss: 1.4981e-04 - val_root_mean_squared_error: 0.0122 - lr: 3.9063e-06\n",
      "Epoch 31/50\n",
      "2459/2460 [============================>.] - ETA: 0s - loss: 0.0138 - root_mean_squared_error: 0.1176\n",
      "Epoch 31: saving model to model_CA_4.pkl\n"
     ]
    },
    {
     "name": "stderr",
     "output_type": "stream",
     "text": [
      "WARNING:absl:Found untraced functions such as lstm_cell_24_layer_call_fn, lstm_cell_24_layer_call_and_return_conditional_losses, lstm_cell_25_layer_call_fn, lstm_cell_25_layer_call_and_return_conditional_losses, lstm_cell_26_layer_call_fn while saving (showing 5 of 8). These functions will not be directly callable after loading.\n"
     ]
    },
    {
     "name": "stdout",
     "output_type": "stream",
     "text": [
      "INFO:tensorflow:Assets written to: model_CA_4.pkl/assets\n"
     ]
    },
    {
     "name": "stderr",
     "output_type": "stream",
     "text": [
      "INFO:tensorflow:Assets written to: model_CA_4.pkl/assets\n"
     ]
    },
    {
     "name": "stdout",
     "output_type": "stream",
     "text": [
      "2460/2460 [==============================] - 72s 29ms/step - loss: 0.0138 - root_mean_squared_error: 0.1175 - val_loss: 1.5221e-04 - val_root_mean_squared_error: 0.0123 - lr: 3.9063e-06\n",
      "Epoch 32/50\n",
      "2459/2460 [============================>.] - ETA: 0s - loss: 0.0138 - root_mean_squared_error: 0.1174\n",
      "Epoch 32: saving model to model_CA_4.pkl\n"
     ]
    },
    {
     "name": "stderr",
     "output_type": "stream",
     "text": [
      "WARNING:absl:Found untraced functions such as lstm_cell_24_layer_call_fn, lstm_cell_24_layer_call_and_return_conditional_losses, lstm_cell_25_layer_call_fn, lstm_cell_25_layer_call_and_return_conditional_losses, lstm_cell_26_layer_call_fn while saving (showing 5 of 8). These functions will not be directly callable after loading.\n"
     ]
    },
    {
     "name": "stdout",
     "output_type": "stream",
     "text": [
      "INFO:tensorflow:Assets written to: model_CA_4.pkl/assets\n"
     ]
    },
    {
     "name": "stderr",
     "output_type": "stream",
     "text": [
      "INFO:tensorflow:Assets written to: model_CA_4.pkl/assets\n"
     ]
    },
    {
     "name": "stdout",
     "output_type": "stream",
     "text": [
      "\n",
      "Epoch 32: ReduceLROnPlateau reducing learning rate to 9.765625463842298e-07.\n",
      "2460/2460 [==============================] - 74s 30ms/step - loss: 0.0138 - root_mean_squared_error: 0.1174 - val_loss: 1.6383e-04 - val_root_mean_squared_error: 0.0128 - lr: 3.9063e-06\n",
      "Epoch 33/50\n",
      "2458/2460 [============================>.] - ETA: 0s - loss: 0.0138 - root_mean_squared_error: 0.1175\n",
      "Epoch 33: saving model to model_CA_4.pkl\n"
     ]
    },
    {
     "name": "stderr",
     "output_type": "stream",
     "text": [
      "WARNING:absl:Found untraced functions such as lstm_cell_24_layer_call_fn, lstm_cell_24_layer_call_and_return_conditional_losses, lstm_cell_25_layer_call_fn, lstm_cell_25_layer_call_and_return_conditional_losses, lstm_cell_26_layer_call_fn while saving (showing 5 of 8). These functions will not be directly callable after loading.\n"
     ]
    },
    {
     "name": "stdout",
     "output_type": "stream",
     "text": [
      "INFO:tensorflow:Assets written to: model_CA_4.pkl/assets\n"
     ]
    },
    {
     "name": "stderr",
     "output_type": "stream",
     "text": [
      "INFO:tensorflow:Assets written to: model_CA_4.pkl/assets\n"
     ]
    },
    {
     "name": "stdout",
     "output_type": "stream",
     "text": [
      "2460/2460 [==============================] - 73s 30ms/step - loss: 0.0138 - root_mean_squared_error: 0.1175 - val_loss: 1.6771e-04 - val_root_mean_squared_error: 0.0130 - lr: 9.7656e-07\n",
      "Epoch 33: early stopping\n",
      "2668/2668 [==============================] - 17s 6ms/step\n",
      "2668/2668 [==============================] - 15s 6ms/step\n"
     ]
    },
    {
     "name": "stderr",
     "output_type": "stream",
     "text": [
      " 40%|████      | 4/10 [2:32:47<3:46:21, 2263.66s/it]"
     ]
    },
    {
     "name": "stdout",
     "output_type": "stream",
     "text": [
      "********Prediction for Store:TX_1**********\n",
      "Epoch 1/50\n",
      "2460/2460 [==============================] - ETA: 0s - loss: 1.6848 - root_mean_squared_error: 1.2980\n",
      "Epoch 1: saving model to model_TX_1.pkl\n"
     ]
    },
    {
     "name": "stderr",
     "output_type": "stream",
     "text": [
      "WARNING:absl:Found untraced functions such as lstm_cell_28_layer_call_fn, lstm_cell_28_layer_call_and_return_conditional_losses, lstm_cell_29_layer_call_fn, lstm_cell_29_layer_call_and_return_conditional_losses, lstm_cell_30_layer_call_fn while saving (showing 5 of 8). These functions will not be directly callable after loading.\n"
     ]
    },
    {
     "name": "stdout",
     "output_type": "stream",
     "text": [
      "INFO:tensorflow:Assets written to: model_TX_1.pkl/assets\n"
     ]
    },
    {
     "name": "stderr",
     "output_type": "stream",
     "text": [
      "INFO:tensorflow:Assets written to: model_TX_1.pkl/assets\n"
     ]
    },
    {
     "name": "stdout",
     "output_type": "stream",
     "text": [
      "2460/2460 [==============================] - 77s 30ms/step - loss: 1.6848 - root_mean_squared_error: 1.2980 - val_loss: 0.5498 - val_root_mean_squared_error: 0.7415 - lr: 0.0010\n",
      "Epoch 2/50\n",
      "2459/2460 [============================>.] - ETA: 0s - loss: 0.4059 - root_mean_squared_error: 0.6371\n",
      "Epoch 2: saving model to model_TX_1.pkl\n"
     ]
    },
    {
     "name": "stderr",
     "output_type": "stream",
     "text": [
      "WARNING:absl:Found untraced functions such as lstm_cell_28_layer_call_fn, lstm_cell_28_layer_call_and_return_conditional_losses, lstm_cell_29_layer_call_fn, lstm_cell_29_layer_call_and_return_conditional_losses, lstm_cell_30_layer_call_fn while saving (showing 5 of 8). These functions will not be directly callable after loading.\n"
     ]
    },
    {
     "name": "stdout",
     "output_type": "stream",
     "text": [
      "INFO:tensorflow:Assets written to: model_TX_1.pkl/assets\n"
     ]
    },
    {
     "name": "stderr",
     "output_type": "stream",
     "text": [
      "INFO:tensorflow:Assets written to: model_TX_1.pkl/assets\n"
     ]
    },
    {
     "name": "stdout",
     "output_type": "stream",
     "text": [
      "2460/2460 [==============================] - 73s 30ms/step - loss: 0.4058 - root_mean_squared_error: 0.6370 - val_loss: 0.1607 - val_root_mean_squared_error: 0.4009 - lr: 0.0010\n",
      "Epoch 3/50\n",
      "2459/2460 [============================>.] - ETA: 0s - loss: 0.1967 - root_mean_squared_error: 0.4435\n",
      "Epoch 3: saving model to model_TX_1.pkl\n"
     ]
    },
    {
     "name": "stderr",
     "output_type": "stream",
     "text": [
      "WARNING:absl:Found untraced functions such as lstm_cell_28_layer_call_fn, lstm_cell_28_layer_call_and_return_conditional_losses, lstm_cell_29_layer_call_fn, lstm_cell_29_layer_call_and_return_conditional_losses, lstm_cell_30_layer_call_fn while saving (showing 5 of 8). These functions will not be directly callable after loading.\n"
     ]
    },
    {
     "name": "stdout",
     "output_type": "stream",
     "text": [
      "INFO:tensorflow:Assets written to: model_TX_1.pkl/assets\n"
     ]
    },
    {
     "name": "stderr",
     "output_type": "stream",
     "text": [
      "INFO:tensorflow:Assets written to: model_TX_1.pkl/assets\n"
     ]
    },
    {
     "name": "stdout",
     "output_type": "stream",
     "text": [
      "2460/2460 [==============================] - 73s 30ms/step - loss: 0.1967 - root_mean_squared_error: 0.4435 - val_loss: 0.0648 - val_root_mean_squared_error: 0.2545 - lr: 0.0010\n",
      "Epoch 4/50\n",
      "2459/2460 [============================>.] - ETA: 0s - loss: 0.1309 - root_mean_squared_error: 0.3619\n",
      "Epoch 4: saving model to model_TX_1.pkl\n"
     ]
    },
    {
     "name": "stderr",
     "output_type": "stream",
     "text": [
      "WARNING:absl:Found untraced functions such as lstm_cell_28_layer_call_fn, lstm_cell_28_layer_call_and_return_conditional_losses, lstm_cell_29_layer_call_fn, lstm_cell_29_layer_call_and_return_conditional_losses, lstm_cell_30_layer_call_fn while saving (showing 5 of 8). These functions will not be directly callable after loading.\n"
     ]
    },
    {
     "name": "stdout",
     "output_type": "stream",
     "text": [
      "INFO:tensorflow:Assets written to: model_TX_1.pkl/assets\n"
     ]
    },
    {
     "name": "stderr",
     "output_type": "stream",
     "text": [
      "INFO:tensorflow:Assets written to: model_TX_1.pkl/assets\n"
     ]
    },
    {
     "name": "stdout",
     "output_type": "stream",
     "text": [
      "2460/2460 [==============================] - 73s 30ms/step - loss: 0.1309 - root_mean_squared_error: 0.3618 - val_loss: 0.0402 - val_root_mean_squared_error: 0.2005 - lr: 0.0010\n",
      "Epoch 5/50\n",
      "2459/2460 [============================>.] - ETA: 0s - loss: 0.0947 - root_mean_squared_error: 0.3078\n",
      "Epoch 5: saving model to model_TX_1.pkl\n"
     ]
    },
    {
     "name": "stderr",
     "output_type": "stream",
     "text": [
      "WARNING:absl:Found untraced functions such as lstm_cell_28_layer_call_fn, lstm_cell_28_layer_call_and_return_conditional_losses, lstm_cell_29_layer_call_fn, lstm_cell_29_layer_call_and_return_conditional_losses, lstm_cell_30_layer_call_fn while saving (showing 5 of 8). These functions will not be directly callable after loading.\n"
     ]
    },
    {
     "name": "stdout",
     "output_type": "stream",
     "text": [
      "INFO:tensorflow:Assets written to: model_TX_1.pkl/assets\n"
     ]
    },
    {
     "name": "stderr",
     "output_type": "stream",
     "text": [
      "INFO:tensorflow:Assets written to: model_TX_1.pkl/assets\n"
     ]
    },
    {
     "name": "stdout",
     "output_type": "stream",
     "text": [
      "2460/2460 [==============================] - 73s 30ms/step - loss: 0.0947 - root_mean_squared_error: 0.3078 - val_loss: 0.0270 - val_root_mean_squared_error: 0.1644 - lr: 0.0010\n",
      "Epoch 6/50\n",
      "2458/2460 [============================>.] - ETA: 0s - loss: 0.0788 - root_mean_squared_error: 0.2808\n",
      "Epoch 6: saving model to model_TX_1.pkl\n"
     ]
    },
    {
     "name": "stderr",
     "output_type": "stream",
     "text": [
      "WARNING:absl:Found untraced functions such as lstm_cell_28_layer_call_fn, lstm_cell_28_layer_call_and_return_conditional_losses, lstm_cell_29_layer_call_fn, lstm_cell_29_layer_call_and_return_conditional_losses, lstm_cell_30_layer_call_fn while saving (showing 5 of 8). These functions will not be directly callable after loading.\n"
     ]
    },
    {
     "name": "stdout",
     "output_type": "stream",
     "text": [
      "INFO:tensorflow:Assets written to: model_TX_1.pkl/assets\n"
     ]
    },
    {
     "name": "stderr",
     "output_type": "stream",
     "text": [
      "INFO:tensorflow:Assets written to: model_TX_1.pkl/assets\n"
     ]
    },
    {
     "name": "stdout",
     "output_type": "stream",
     "text": [
      "2460/2460 [==============================] - 73s 30ms/step - loss: 0.0788 - root_mean_squared_error: 0.2807 - val_loss: 0.0206 - val_root_mean_squared_error: 0.1436 - lr: 0.0010\n",
      "Epoch 7/50\n",
      "2459/2460 [============================>.] - ETA: 0s - loss: 0.0683 - root_mean_squared_error: 0.2614\n",
      "Epoch 7: saving model to model_TX_1.pkl\n"
     ]
    },
    {
     "name": "stderr",
     "output_type": "stream",
     "text": [
      "WARNING:absl:Found untraced functions such as lstm_cell_28_layer_call_fn, lstm_cell_28_layer_call_and_return_conditional_losses, lstm_cell_29_layer_call_fn, lstm_cell_29_layer_call_and_return_conditional_losses, lstm_cell_30_layer_call_fn while saving (showing 5 of 8). These functions will not be directly callable after loading.\n"
     ]
    },
    {
     "name": "stdout",
     "output_type": "stream",
     "text": [
      "INFO:tensorflow:Assets written to: model_TX_1.pkl/assets\n"
     ]
    },
    {
     "name": "stderr",
     "output_type": "stream",
     "text": [
      "INFO:tensorflow:Assets written to: model_TX_1.pkl/assets\n"
     ]
    },
    {
     "name": "stdout",
     "output_type": "stream",
     "text": [
      "2460/2460 [==============================] - 72s 29ms/step - loss: 0.0683 - root_mean_squared_error: 0.2614 - val_loss: 0.0082 - val_root_mean_squared_error: 0.0908 - lr: 0.0010\n",
      "Epoch 8/50\n",
      "2460/2460 [==============================] - ETA: 0s - loss: 0.0597 - root_mean_squared_error: 0.2443\n",
      "Epoch 8: saving model to model_TX_1.pkl\n"
     ]
    },
    {
     "name": "stderr",
     "output_type": "stream",
     "text": [
      "WARNING:absl:Found untraced functions such as lstm_cell_28_layer_call_fn, lstm_cell_28_layer_call_and_return_conditional_losses, lstm_cell_29_layer_call_fn, lstm_cell_29_layer_call_and_return_conditional_losses, lstm_cell_30_layer_call_fn while saving (showing 5 of 8). These functions will not be directly callable after loading.\n"
     ]
    },
    {
     "name": "stdout",
     "output_type": "stream",
     "text": [
      "INFO:tensorflow:Assets written to: model_TX_1.pkl/assets\n"
     ]
    },
    {
     "name": "stderr",
     "output_type": "stream",
     "text": [
      "INFO:tensorflow:Assets written to: model_TX_1.pkl/assets\n"
     ]
    },
    {
     "name": "stdout",
     "output_type": "stream",
     "text": [
      "2460/2460 [==============================] - 73s 30ms/step - loss: 0.0597 - root_mean_squared_error: 0.2443 - val_loss: 0.0074 - val_root_mean_squared_error: 0.0859 - lr: 0.0010\n",
      "Epoch 9/50\n",
      "2459/2460 [============================>.] - ETA: 0s - loss: 0.0542 - root_mean_squared_error: 0.2328\n",
      "Epoch 9: saving model to model_TX_1.pkl\n"
     ]
    },
    {
     "name": "stderr",
     "output_type": "stream",
     "text": [
      "WARNING:absl:Found untraced functions such as lstm_cell_28_layer_call_fn, lstm_cell_28_layer_call_and_return_conditional_losses, lstm_cell_29_layer_call_fn, lstm_cell_29_layer_call_and_return_conditional_losses, lstm_cell_30_layer_call_fn while saving (showing 5 of 8). These functions will not be directly callable after loading.\n"
     ]
    },
    {
     "name": "stdout",
     "output_type": "stream",
     "text": [
      "INFO:tensorflow:Assets written to: model_TX_1.pkl/assets\n"
     ]
    },
    {
     "name": "stderr",
     "output_type": "stream",
     "text": [
      "INFO:tensorflow:Assets written to: model_TX_1.pkl/assets\n"
     ]
    },
    {
     "name": "stdout",
     "output_type": "stream",
     "text": [
      "2460/2460 [==============================] - 72s 29ms/step - loss: 0.0542 - root_mean_squared_error: 0.2328 - val_loss: 0.0056 - val_root_mean_squared_error: 0.0748 - lr: 0.0010\n",
      "Epoch 10/50\n",
      "2460/2460 [==============================] - ETA: 0s - loss: 0.0520 - root_mean_squared_error: 0.2279\n",
      "Epoch 10: saving model to model_TX_1.pkl\n"
     ]
    },
    {
     "name": "stderr",
     "output_type": "stream",
     "text": [
      "WARNING:absl:Found untraced functions such as lstm_cell_28_layer_call_fn, lstm_cell_28_layer_call_and_return_conditional_losses, lstm_cell_29_layer_call_fn, lstm_cell_29_layer_call_and_return_conditional_losses, lstm_cell_30_layer_call_fn while saving (showing 5 of 8). These functions will not be directly callable after loading.\n"
     ]
    },
    {
     "name": "stdout",
     "output_type": "stream",
     "text": [
      "INFO:tensorflow:Assets written to: model_TX_1.pkl/assets\n"
     ]
    },
    {
     "name": "stderr",
     "output_type": "stream",
     "text": [
      "INFO:tensorflow:Assets written to: model_TX_1.pkl/assets\n"
     ]
    },
    {
     "name": "stdout",
     "output_type": "stream",
     "text": [
      "2460/2460 [==============================] - 74s 30ms/step - loss: 0.0520 - root_mean_squared_error: 0.2279 - val_loss: 0.0140 - val_root_mean_squared_error: 0.1183 - lr: 0.0010\n",
      "Epoch 11/50\n",
      "2460/2460 [==============================] - ETA: 0s - loss: 0.0435 - root_mean_squared_error: 0.2087\n",
      "Epoch 11: saving model to model_TX_1.pkl\n"
     ]
    },
    {
     "name": "stderr",
     "output_type": "stream",
     "text": [
      "WARNING:absl:Found untraced functions such as lstm_cell_28_layer_call_fn, lstm_cell_28_layer_call_and_return_conditional_losses, lstm_cell_29_layer_call_fn, lstm_cell_29_layer_call_and_return_conditional_losses, lstm_cell_30_layer_call_fn while saving (showing 5 of 8). These functions will not be directly callable after loading.\n"
     ]
    },
    {
     "name": "stdout",
     "output_type": "stream",
     "text": [
      "INFO:tensorflow:Assets written to: model_TX_1.pkl/assets\n"
     ]
    },
    {
     "name": "stderr",
     "output_type": "stream",
     "text": [
      "INFO:tensorflow:Assets written to: model_TX_1.pkl/assets\n"
     ]
    },
    {
     "name": "stdout",
     "output_type": "stream",
     "text": [
      "\n",
      "Epoch 11: ReduceLROnPlateau reducing learning rate to 0.0002500000118743628.\n",
      "2460/2460 [==============================] - 72s 29ms/step - loss: 0.0435 - root_mean_squared_error: 0.2087 - val_loss: 0.0131 - val_root_mean_squared_error: 0.1144 - lr: 0.0010\n",
      "Epoch 12/50\n",
      "2459/2460 [============================>.] - ETA: 0s - loss: 0.0338 - root_mean_squared_error: 0.1840\n",
      "Epoch 12: saving model to model_TX_1.pkl\n"
     ]
    },
    {
     "name": "stderr",
     "output_type": "stream",
     "text": [
      "WARNING:absl:Found untraced functions such as lstm_cell_28_layer_call_fn, lstm_cell_28_layer_call_and_return_conditional_losses, lstm_cell_29_layer_call_fn, lstm_cell_29_layer_call_and_return_conditional_losses, lstm_cell_30_layer_call_fn while saving (showing 5 of 8). These functions will not be directly callable after loading.\n"
     ]
    },
    {
     "name": "stdout",
     "output_type": "stream",
     "text": [
      "INFO:tensorflow:Assets written to: model_TX_1.pkl/assets\n"
     ]
    },
    {
     "name": "stderr",
     "output_type": "stream",
     "text": [
      "INFO:tensorflow:Assets written to: model_TX_1.pkl/assets\n"
     ]
    },
    {
     "name": "stdout",
     "output_type": "stream",
     "text": [
      "2460/2460 [==============================] - 71s 29ms/step - loss: 0.0338 - root_mean_squared_error: 0.1839 - val_loss: 0.0030 - val_root_mean_squared_error: 0.0552 - lr: 2.5000e-04\n",
      "Epoch 13/50\n",
      "2459/2460 [============================>.] - ETA: 0s - loss: 0.0319 - root_mean_squared_error: 0.1785\n",
      "Epoch 13: saving model to model_TX_1.pkl\n"
     ]
    },
    {
     "name": "stderr",
     "output_type": "stream",
     "text": [
      "WARNING:absl:Found untraced functions such as lstm_cell_28_layer_call_fn, lstm_cell_28_layer_call_and_return_conditional_losses, lstm_cell_29_layer_call_fn, lstm_cell_29_layer_call_and_return_conditional_losses, lstm_cell_30_layer_call_fn while saving (showing 5 of 8). These functions will not be directly callable after loading.\n"
     ]
    },
    {
     "name": "stdout",
     "output_type": "stream",
     "text": [
      "INFO:tensorflow:Assets written to: model_TX_1.pkl/assets\n"
     ]
    },
    {
     "name": "stderr",
     "output_type": "stream",
     "text": [
      "INFO:tensorflow:Assets written to: model_TX_1.pkl/assets\n"
     ]
    },
    {
     "name": "stdout",
     "output_type": "stream",
     "text": [
      "2460/2460 [==============================] - 73s 30ms/step - loss: 0.0319 - root_mean_squared_error: 0.1785 - val_loss: 0.0028 - val_root_mean_squared_error: 0.0529 - lr: 2.5000e-04\n",
      "Epoch 14/50\n",
      "2460/2460 [==============================] - ETA: 0s - loss: 0.0302 - root_mean_squared_error: 0.1739\n",
      "Epoch 14: saving model to model_TX_1.pkl\n"
     ]
    },
    {
     "name": "stderr",
     "output_type": "stream",
     "text": [
      "WARNING:absl:Found untraced functions such as lstm_cell_28_layer_call_fn, lstm_cell_28_layer_call_and_return_conditional_losses, lstm_cell_29_layer_call_fn, lstm_cell_29_layer_call_and_return_conditional_losses, lstm_cell_30_layer_call_fn while saving (showing 5 of 8). These functions will not be directly callable after loading.\n"
     ]
    },
    {
     "name": "stdout",
     "output_type": "stream",
     "text": [
      "INFO:tensorflow:Assets written to: model_TX_1.pkl/assets\n"
     ]
    },
    {
     "name": "stderr",
     "output_type": "stream",
     "text": [
      "INFO:tensorflow:Assets written to: model_TX_1.pkl/assets\n"
     ]
    },
    {
     "name": "stdout",
     "output_type": "stream",
     "text": [
      "2460/2460 [==============================] - 72s 29ms/step - loss: 0.0302 - root_mean_squared_error: 0.1739 - val_loss: 0.0018 - val_root_mean_squared_error: 0.0429 - lr: 2.5000e-04\n",
      "Epoch 15/50\n",
      "2458/2460 [============================>.] - ETA: 0s - loss: 0.0298 - root_mean_squared_error: 0.1726\n",
      "Epoch 15: saving model to model_TX_1.pkl\n"
     ]
    },
    {
     "name": "stderr",
     "output_type": "stream",
     "text": [
      "WARNING:absl:Found untraced functions such as lstm_cell_28_layer_call_fn, lstm_cell_28_layer_call_and_return_conditional_losses, lstm_cell_29_layer_call_fn, lstm_cell_29_layer_call_and_return_conditional_losses, lstm_cell_30_layer_call_fn while saving (showing 5 of 8). These functions will not be directly callable after loading.\n"
     ]
    },
    {
     "name": "stdout",
     "output_type": "stream",
     "text": [
      "INFO:tensorflow:Assets written to: model_TX_1.pkl/assets\n"
     ]
    },
    {
     "name": "stderr",
     "output_type": "stream",
     "text": [
      "INFO:tensorflow:Assets written to: model_TX_1.pkl/assets\n"
     ]
    },
    {
     "name": "stdout",
     "output_type": "stream",
     "text": [
      "2460/2460 [==============================] - 73s 30ms/step - loss: 0.0298 - root_mean_squared_error: 0.1726 - val_loss: 0.0013 - val_root_mean_squared_error: 0.0365 - lr: 2.5000e-04\n",
      "Epoch 16/50\n",
      "2459/2460 [============================>.] - ETA: 0s - loss: 0.0287 - root_mean_squared_error: 0.1694\n",
      "Epoch 16: saving model to model_TX_1.pkl\n"
     ]
    },
    {
     "name": "stderr",
     "output_type": "stream",
     "text": [
      "WARNING:absl:Found untraced functions such as lstm_cell_28_layer_call_fn, lstm_cell_28_layer_call_and_return_conditional_losses, lstm_cell_29_layer_call_fn, lstm_cell_29_layer_call_and_return_conditional_losses, lstm_cell_30_layer_call_fn while saving (showing 5 of 8). These functions will not be directly callable after loading.\n"
     ]
    },
    {
     "name": "stdout",
     "output_type": "stream",
     "text": [
      "INFO:tensorflow:Assets written to: model_TX_1.pkl/assets\n"
     ]
    },
    {
     "name": "stderr",
     "output_type": "stream",
     "text": [
      "INFO:tensorflow:Assets written to: model_TX_1.pkl/assets\n"
     ]
    },
    {
     "name": "stdout",
     "output_type": "stream",
     "text": [
      "2460/2460 [==============================] - 73s 30ms/step - loss: 0.0287 - root_mean_squared_error: 0.1694 - val_loss: 0.0024 - val_root_mean_squared_error: 0.0492 - lr: 2.5000e-04\n",
      "Epoch 17/50\n",
      "2459/2460 [============================>.] - ETA: 0s - loss: 0.0281 - root_mean_squared_error: 0.1677\n",
      "Epoch 17: saving model to model_TX_1.pkl\n"
     ]
    },
    {
     "name": "stderr",
     "output_type": "stream",
     "text": [
      "WARNING:absl:Found untraced functions such as lstm_cell_28_layer_call_fn, lstm_cell_28_layer_call_and_return_conditional_losses, lstm_cell_29_layer_call_fn, lstm_cell_29_layer_call_and_return_conditional_losses, lstm_cell_30_layer_call_fn while saving (showing 5 of 8). These functions will not be directly callable after loading.\n"
     ]
    },
    {
     "name": "stdout",
     "output_type": "stream",
     "text": [
      "INFO:tensorflow:Assets written to: model_TX_1.pkl/assets\n"
     ]
    },
    {
     "name": "stderr",
     "output_type": "stream",
     "text": [
      "INFO:tensorflow:Assets written to: model_TX_1.pkl/assets\n"
     ]
    },
    {
     "name": "stdout",
     "output_type": "stream",
     "text": [
      "\n",
      "Epoch 17: ReduceLROnPlateau reducing learning rate to 6.25000029685907e-05.\n",
      "2460/2460 [==============================] - 73s 30ms/step - loss: 0.0281 - root_mean_squared_error: 0.1677 - val_loss: 0.0018 - val_root_mean_squared_error: 0.0423 - lr: 2.5000e-04\n",
      "Epoch 18/50\n",
      "2459/2460 [============================>.] - ETA: 0s - loss: 0.0262 - root_mean_squared_error: 0.1617\n",
      "Epoch 18: saving model to model_TX_1.pkl\n"
     ]
    },
    {
     "name": "stderr",
     "output_type": "stream",
     "text": [
      "WARNING:absl:Found untraced functions such as lstm_cell_28_layer_call_fn, lstm_cell_28_layer_call_and_return_conditional_losses, lstm_cell_29_layer_call_fn, lstm_cell_29_layer_call_and_return_conditional_losses, lstm_cell_30_layer_call_fn while saving (showing 5 of 8). These functions will not be directly callable after loading.\n"
     ]
    },
    {
     "name": "stdout",
     "output_type": "stream",
     "text": [
      "INFO:tensorflow:Assets written to: model_TX_1.pkl/assets\n"
     ]
    },
    {
     "name": "stderr",
     "output_type": "stream",
     "text": [
      "INFO:tensorflow:Assets written to: model_TX_1.pkl/assets\n"
     ]
    },
    {
     "name": "stdout",
     "output_type": "stream",
     "text": [
      "2460/2460 [==============================] - 71s 29ms/step - loss: 0.0262 - root_mean_squared_error: 0.1617 - val_loss: 8.4755e-04 - val_root_mean_squared_error: 0.0291 - lr: 6.2500e-05\n",
      "Epoch 19/50\n",
      "2458/2460 [============================>.] - ETA: 0s - loss: 0.0259 - root_mean_squared_error: 0.1609\n",
      "Epoch 19: saving model to model_TX_1.pkl\n"
     ]
    },
    {
     "name": "stderr",
     "output_type": "stream",
     "text": [
      "WARNING:absl:Found untraced functions such as lstm_cell_28_layer_call_fn, lstm_cell_28_layer_call_and_return_conditional_losses, lstm_cell_29_layer_call_fn, lstm_cell_29_layer_call_and_return_conditional_losses, lstm_cell_30_layer_call_fn while saving (showing 5 of 8). These functions will not be directly callable after loading.\n"
     ]
    },
    {
     "name": "stdout",
     "output_type": "stream",
     "text": [
      "INFO:tensorflow:Assets written to: model_TX_1.pkl/assets\n"
     ]
    },
    {
     "name": "stderr",
     "output_type": "stream",
     "text": [
      "INFO:tensorflow:Assets written to: model_TX_1.pkl/assets\n"
     ]
    },
    {
     "name": "stdout",
     "output_type": "stream",
     "text": [
      "2460/2460 [==============================] - 74s 30ms/step - loss: 0.0259 - root_mean_squared_error: 0.1608 - val_loss: 8.7528e-04 - val_root_mean_squared_error: 0.0296 - lr: 6.2500e-05\n",
      "Epoch 20/50\n",
      "2460/2460 [==============================] - ETA: 0s - loss: 0.0257 - root_mean_squared_error: 0.1603\n",
      "Epoch 20: saving model to model_TX_1.pkl\n"
     ]
    },
    {
     "name": "stderr",
     "output_type": "stream",
     "text": [
      "WARNING:absl:Found untraced functions such as lstm_cell_28_layer_call_fn, lstm_cell_28_layer_call_and_return_conditional_losses, lstm_cell_29_layer_call_fn, lstm_cell_29_layer_call_and_return_conditional_losses, lstm_cell_30_layer_call_fn while saving (showing 5 of 8). These functions will not be directly callable after loading.\n"
     ]
    },
    {
     "name": "stdout",
     "output_type": "stream",
     "text": [
      "INFO:tensorflow:Assets written to: model_TX_1.pkl/assets\n"
     ]
    },
    {
     "name": "stderr",
     "output_type": "stream",
     "text": [
      "INFO:tensorflow:Assets written to: model_TX_1.pkl/assets\n"
     ]
    },
    {
     "name": "stdout",
     "output_type": "stream",
     "text": [
      "2460/2460 [==============================] - 73s 29ms/step - loss: 0.0257 - root_mean_squared_error: 0.1603 - val_loss: 6.9140e-04 - val_root_mean_squared_error: 0.0263 - lr: 6.2500e-05\n",
      "Epoch 21/50\n",
      "2458/2460 [============================>.] - ETA: 0s - loss: 0.0254 - root_mean_squared_error: 0.1592\n",
      "Epoch 21: saving model to model_TX_1.pkl\n"
     ]
    },
    {
     "name": "stderr",
     "output_type": "stream",
     "text": [
      "WARNING:absl:Found untraced functions such as lstm_cell_28_layer_call_fn, lstm_cell_28_layer_call_and_return_conditional_losses, lstm_cell_29_layer_call_fn, lstm_cell_29_layer_call_and_return_conditional_losses, lstm_cell_30_layer_call_fn while saving (showing 5 of 8). These functions will not be directly callable after loading.\n"
     ]
    },
    {
     "name": "stdout",
     "output_type": "stream",
     "text": [
      "INFO:tensorflow:Assets written to: model_TX_1.pkl/assets\n"
     ]
    },
    {
     "name": "stderr",
     "output_type": "stream",
     "text": [
      "INFO:tensorflow:Assets written to: model_TX_1.pkl/assets\n"
     ]
    },
    {
     "name": "stdout",
     "output_type": "stream",
     "text": [
      "2460/2460 [==============================] - 74s 30ms/step - loss: 0.0254 - root_mean_squared_error: 0.1592 - val_loss: 0.0011 - val_root_mean_squared_error: 0.0328 - lr: 6.2500e-05\n",
      "Epoch 22/50\n",
      "2458/2460 [============================>.] - ETA: 0s - loss: 0.0252 - root_mean_squared_error: 0.1586\n",
      "Epoch 22: saving model to model_TX_1.pkl\n"
     ]
    },
    {
     "name": "stderr",
     "output_type": "stream",
     "text": [
      "WARNING:absl:Found untraced functions such as lstm_cell_28_layer_call_fn, lstm_cell_28_layer_call_and_return_conditional_losses, lstm_cell_29_layer_call_fn, lstm_cell_29_layer_call_and_return_conditional_losses, lstm_cell_30_layer_call_fn while saving (showing 5 of 8). These functions will not be directly callable after loading.\n"
     ]
    },
    {
     "name": "stdout",
     "output_type": "stream",
     "text": [
      "INFO:tensorflow:Assets written to: model_TX_1.pkl/assets\n"
     ]
    },
    {
     "name": "stderr",
     "output_type": "stream",
     "text": [
      "INFO:tensorflow:Assets written to: model_TX_1.pkl/assets\n"
     ]
    },
    {
     "name": "stdout",
     "output_type": "stream",
     "text": [
      "2460/2460 [==============================] - 73s 30ms/step - loss: 0.0251 - root_mean_squared_error: 0.1586 - val_loss: 6.5803e-04 - val_root_mean_squared_error: 0.0257 - lr: 6.2500e-05\n",
      "Epoch 23/50\n",
      "2458/2460 [============================>.] - ETA: 0s - loss: 0.0250 - root_mean_squared_error: 0.1582\n",
      "Epoch 23: saving model to model_TX_1.pkl\n"
     ]
    },
    {
     "name": "stderr",
     "output_type": "stream",
     "text": [
      "WARNING:absl:Found untraced functions such as lstm_cell_28_layer_call_fn, lstm_cell_28_layer_call_and_return_conditional_losses, lstm_cell_29_layer_call_fn, lstm_cell_29_layer_call_and_return_conditional_losses, lstm_cell_30_layer_call_fn while saving (showing 5 of 8). These functions will not be directly callable after loading.\n"
     ]
    },
    {
     "name": "stdout",
     "output_type": "stream",
     "text": [
      "INFO:tensorflow:Assets written to: model_TX_1.pkl/assets\n"
     ]
    },
    {
     "name": "stderr",
     "output_type": "stream",
     "text": [
      "INFO:tensorflow:Assets written to: model_TX_1.pkl/assets\n"
     ]
    },
    {
     "name": "stdout",
     "output_type": "stream",
     "text": [
      "2460/2460 [==============================] - 72s 29ms/step - loss: 0.0250 - root_mean_squared_error: 0.1582 - val_loss: 6.2948e-04 - val_root_mean_squared_error: 0.0251 - lr: 6.2500e-05\n",
      "Epoch 24/50\n",
      "2459/2460 [============================>.] - ETA: 0s - loss: 0.0249 - root_mean_squared_error: 0.1578\n",
      "Epoch 24: saving model to model_TX_1.pkl\n"
     ]
    },
    {
     "name": "stderr",
     "output_type": "stream",
     "text": [
      "WARNING:absl:Found untraced functions such as lstm_cell_28_layer_call_fn, lstm_cell_28_layer_call_and_return_conditional_losses, lstm_cell_29_layer_call_fn, lstm_cell_29_layer_call_and_return_conditional_losses, lstm_cell_30_layer_call_fn while saving (showing 5 of 8). These functions will not be directly callable after loading.\n"
     ]
    },
    {
     "name": "stdout",
     "output_type": "stream",
     "text": [
      "INFO:tensorflow:Assets written to: model_TX_1.pkl/assets\n"
     ]
    },
    {
     "name": "stderr",
     "output_type": "stream",
     "text": [
      "INFO:tensorflow:Assets written to: model_TX_1.pkl/assets\n"
     ]
    },
    {
     "name": "stdout",
     "output_type": "stream",
     "text": [
      "2460/2460 [==============================] - 73s 30ms/step - loss: 0.0249 - root_mean_squared_error: 0.1578 - val_loss: 7.5968e-04 - val_root_mean_squared_error: 0.0276 - lr: 6.2500e-05\n",
      "Epoch 25/50\n",
      "2458/2460 [============================>.] - ETA: 0s - loss: 0.0246 - root_mean_squared_error: 0.1569\n",
      "Epoch 25: saving model to model_TX_1.pkl\n"
     ]
    },
    {
     "name": "stderr",
     "output_type": "stream",
     "text": [
      "WARNING:absl:Found untraced functions such as lstm_cell_28_layer_call_fn, lstm_cell_28_layer_call_and_return_conditional_losses, lstm_cell_29_layer_call_fn, lstm_cell_29_layer_call_and_return_conditional_losses, lstm_cell_30_layer_call_fn while saving (showing 5 of 8). These functions will not be directly callable after loading.\n"
     ]
    },
    {
     "name": "stdout",
     "output_type": "stream",
     "text": [
      "INFO:tensorflow:Assets written to: model_TX_1.pkl/assets\n"
     ]
    },
    {
     "name": "stderr",
     "output_type": "stream",
     "text": [
      "INFO:tensorflow:Assets written to: model_TX_1.pkl/assets\n"
     ]
    },
    {
     "name": "stdout",
     "output_type": "stream",
     "text": [
      "\n",
      "Epoch 25: ReduceLROnPlateau reducing learning rate to 1.5625000742147677e-05.\n",
      "2460/2460 [==============================] - 71s 29ms/step - loss: 0.0246 - root_mean_squared_error: 0.1569 - val_loss: 6.2966e-04 - val_root_mean_squared_error: 0.0251 - lr: 6.2500e-05\n",
      "Epoch 26/50\n",
      "2459/2460 [============================>.] - ETA: 0s - loss: 0.0244 - root_mean_squared_error: 0.1562\n",
      "Epoch 26: saving model to model_TX_1.pkl\n"
     ]
    },
    {
     "name": "stderr",
     "output_type": "stream",
     "text": [
      "WARNING:absl:Found untraced functions such as lstm_cell_28_layer_call_fn, lstm_cell_28_layer_call_and_return_conditional_losses, lstm_cell_29_layer_call_fn, lstm_cell_29_layer_call_and_return_conditional_losses, lstm_cell_30_layer_call_fn while saving (showing 5 of 8). These functions will not be directly callable after loading.\n"
     ]
    },
    {
     "name": "stdout",
     "output_type": "stream",
     "text": [
      "INFO:tensorflow:Assets written to: model_TX_1.pkl/assets\n"
     ]
    },
    {
     "name": "stderr",
     "output_type": "stream",
     "text": [
      "INFO:tensorflow:Assets written to: model_TX_1.pkl/assets\n"
     ]
    },
    {
     "name": "stdout",
     "output_type": "stream",
     "text": [
      "2460/2460 [==============================] - 73s 29ms/step - loss: 0.0244 - root_mean_squared_error: 0.1561 - val_loss: 6.4533e-04 - val_root_mean_squared_error: 0.0254 - lr: 1.5625e-05\n",
      "Epoch 26: early stopping\n",
      "2668/2668 [==============================] - 17s 6ms/step\n",
      "2668/2668 [==============================] - 15s 6ms/step\n"
     ]
    },
    {
     "name": "stderr",
     "output_type": "stream",
     "text": [
      " 50%|█████     | 5/10 [3:04:55<2:58:34, 2142.90s/it]"
     ]
    },
    {
     "name": "stdout",
     "output_type": "stream",
     "text": [
      "********Prediction for Store:TX_2**********\n",
      "Epoch 1/50\n",
      "2458/2460 [============================>.] - ETA: 0s - loss: 4.1449 - root_mean_squared_error: 2.0359\n",
      "Epoch 1: saving model to model_TX_2.pkl\n"
     ]
    },
    {
     "name": "stderr",
     "output_type": "stream",
     "text": [
      "WARNING:absl:Found untraced functions such as lstm_cell_32_layer_call_fn, lstm_cell_32_layer_call_and_return_conditional_losses, lstm_cell_33_layer_call_fn, lstm_cell_33_layer_call_and_return_conditional_losses, lstm_cell_34_layer_call_fn while saving (showing 5 of 8). These functions will not be directly callable after loading.\n"
     ]
    },
    {
     "name": "stdout",
     "output_type": "stream",
     "text": [
      "INFO:tensorflow:Assets written to: model_TX_2.pkl/assets\n"
     ]
    },
    {
     "name": "stderr",
     "output_type": "stream",
     "text": [
      "INFO:tensorflow:Assets written to: model_TX_2.pkl/assets\n"
     ]
    },
    {
     "name": "stdout",
     "output_type": "stream",
     "text": [
      "2460/2460 [==============================] - 77s 29ms/step - loss: 4.1425 - root_mean_squared_error: 2.0353 - val_loss: 1.3127 - val_root_mean_squared_error: 1.1457 - lr: 0.0010\n",
      "Epoch 2/50\n",
      "2458/2460 [============================>.] - ETA: 0s - loss: 1.4738 - root_mean_squared_error: 1.2140\n",
      "Epoch 2: saving model to model_TX_2.pkl\n"
     ]
    },
    {
     "name": "stderr",
     "output_type": "stream",
     "text": [
      "WARNING:absl:Found untraced functions such as lstm_cell_32_layer_call_fn, lstm_cell_32_layer_call_and_return_conditional_losses, lstm_cell_33_layer_call_fn, lstm_cell_33_layer_call_and_return_conditional_losses, lstm_cell_34_layer_call_fn while saving (showing 5 of 8). These functions will not be directly callable after loading.\n"
     ]
    },
    {
     "name": "stdout",
     "output_type": "stream",
     "text": [
      "INFO:tensorflow:Assets written to: model_TX_2.pkl/assets\n"
     ]
    },
    {
     "name": "stderr",
     "output_type": "stream",
     "text": [
      "INFO:tensorflow:Assets written to: model_TX_2.pkl/assets\n"
     ]
    },
    {
     "name": "stdout",
     "output_type": "stream",
     "text": [
      "2460/2460 [==============================] - 74s 30ms/step - loss: 1.4738 - root_mean_squared_error: 1.2140 - val_loss: 0.4340 - val_root_mean_squared_error: 0.6588 - lr: 0.0010\n",
      "Epoch 3/50\n",
      "2458/2460 [============================>.] - ETA: 0s - loss: 0.7358 - root_mean_squared_error: 0.8578\n",
      "Epoch 3: saving model to model_TX_2.pkl\n"
     ]
    },
    {
     "name": "stderr",
     "output_type": "stream",
     "text": [
      "WARNING:absl:Found untraced functions such as lstm_cell_32_layer_call_fn, lstm_cell_32_layer_call_and_return_conditional_losses, lstm_cell_33_layer_call_fn, lstm_cell_33_layer_call_and_return_conditional_losses, lstm_cell_34_layer_call_fn while saving (showing 5 of 8). These functions will not be directly callable after loading.\n"
     ]
    },
    {
     "name": "stdout",
     "output_type": "stream",
     "text": [
      "INFO:tensorflow:Assets written to: model_TX_2.pkl/assets\n"
     ]
    },
    {
     "name": "stderr",
     "output_type": "stream",
     "text": [
      "INFO:tensorflow:Assets written to: model_TX_2.pkl/assets\n"
     ]
    },
    {
     "name": "stdout",
     "output_type": "stream",
     "text": [
      "2460/2460 [==============================] - 74s 30ms/step - loss: 0.7356 - root_mean_squared_error: 0.8577 - val_loss: 0.1919 - val_root_mean_squared_error: 0.4380 - lr: 0.0010\n",
      "Epoch 4/50\n",
      "2458/2460 [============================>.] - ETA: 0s - loss: 0.4089 - root_mean_squared_error: 0.6395\n",
      "Epoch 4: saving model to model_TX_2.pkl\n"
     ]
    },
    {
     "name": "stderr",
     "output_type": "stream",
     "text": [
      "WARNING:absl:Found untraced functions such as lstm_cell_32_layer_call_fn, lstm_cell_32_layer_call_and_return_conditional_losses, lstm_cell_33_layer_call_fn, lstm_cell_33_layer_call_and_return_conditional_losses, lstm_cell_34_layer_call_fn while saving (showing 5 of 8). These functions will not be directly callable after loading.\n"
     ]
    },
    {
     "name": "stdout",
     "output_type": "stream",
     "text": [
      "INFO:tensorflow:Assets written to: model_TX_2.pkl/assets\n"
     ]
    },
    {
     "name": "stderr",
     "output_type": "stream",
     "text": [
      "INFO:tensorflow:Assets written to: model_TX_2.pkl/assets\n"
     ]
    },
    {
     "name": "stdout",
     "output_type": "stream",
     "text": [
      "2460/2460 [==============================] - 74s 30ms/step - loss: 0.4087 - root_mean_squared_error: 0.6393 - val_loss: 0.0620 - val_root_mean_squared_error: 0.2490 - lr: 0.0010\n",
      "Epoch 5/50\n",
      "2459/2460 [============================>.] - ETA: 0s - loss: 0.2549 - root_mean_squared_error: 0.5049\n",
      "Epoch 5: saving model to model_TX_2.pkl\n"
     ]
    },
    {
     "name": "stderr",
     "output_type": "stream",
     "text": [
      "WARNING:absl:Found untraced functions such as lstm_cell_32_layer_call_fn, lstm_cell_32_layer_call_and_return_conditional_losses, lstm_cell_33_layer_call_fn, lstm_cell_33_layer_call_and_return_conditional_losses, lstm_cell_34_layer_call_fn while saving (showing 5 of 8). These functions will not be directly callable after loading.\n"
     ]
    },
    {
     "name": "stdout",
     "output_type": "stream",
     "text": [
      "INFO:tensorflow:Assets written to: model_TX_2.pkl/assets\n"
     ]
    },
    {
     "name": "stderr",
     "output_type": "stream",
     "text": [
      "INFO:tensorflow:Assets written to: model_TX_2.pkl/assets\n"
     ]
    },
    {
     "name": "stdout",
     "output_type": "stream",
     "text": [
      "2460/2460 [==============================] - 74s 30ms/step - loss: 0.2549 - root_mean_squared_error: 0.5049 - val_loss: 0.0322 - val_root_mean_squared_error: 0.1795 - lr: 0.0010\n",
      "Epoch 6/50\n",
      "2458/2460 [============================>.] - ETA: 0s - loss: 0.1807 - root_mean_squared_error: 0.4251\n",
      "Epoch 6: saving model to model_TX_2.pkl\n"
     ]
    },
    {
     "name": "stderr",
     "output_type": "stream",
     "text": [
      "WARNING:absl:Found untraced functions such as lstm_cell_32_layer_call_fn, lstm_cell_32_layer_call_and_return_conditional_losses, lstm_cell_33_layer_call_fn, lstm_cell_33_layer_call_and_return_conditional_losses, lstm_cell_34_layer_call_fn while saving (showing 5 of 8). These functions will not be directly callable after loading.\n"
     ]
    },
    {
     "name": "stdout",
     "output_type": "stream",
     "text": [
      "INFO:tensorflow:Assets written to: model_TX_2.pkl/assets\n"
     ]
    },
    {
     "name": "stderr",
     "output_type": "stream",
     "text": [
      "INFO:tensorflow:Assets written to: model_TX_2.pkl/assets\n"
     ]
    },
    {
     "name": "stdout",
     "output_type": "stream",
     "text": [
      "2460/2460 [==============================] - 74s 30ms/step - loss: 0.1822 - root_mean_squared_error: 0.4268 - val_loss: 0.0240 - val_root_mean_squared_error: 0.1550 - lr: 0.0010\n",
      "Epoch 7/50\n",
      "2460/2460 [==============================] - ETA: 0s - loss: 0.1378 - root_mean_squared_error: 0.3713\n",
      "Epoch 7: saving model to model_TX_2.pkl\n"
     ]
    },
    {
     "name": "stderr",
     "output_type": "stream",
     "text": [
      "WARNING:absl:Found untraced functions such as lstm_cell_32_layer_call_fn, lstm_cell_32_layer_call_and_return_conditional_losses, lstm_cell_33_layer_call_fn, lstm_cell_33_layer_call_and_return_conditional_losses, lstm_cell_34_layer_call_fn while saving (showing 5 of 8). These functions will not be directly callable after loading.\n"
     ]
    },
    {
     "name": "stdout",
     "output_type": "stream",
     "text": [
      "INFO:tensorflow:Assets written to: model_TX_2.pkl/assets\n"
     ]
    },
    {
     "name": "stderr",
     "output_type": "stream",
     "text": [
      "INFO:tensorflow:Assets written to: model_TX_2.pkl/assets\n"
     ]
    },
    {
     "name": "stdout",
     "output_type": "stream",
     "text": [
      "2460/2460 [==============================] - 73s 30ms/step - loss: 0.1378 - root_mean_squared_error: 0.3713 - val_loss: 0.0595 - val_root_mean_squared_error: 0.2440 - lr: 0.0010\n",
      "Epoch 8/50\n",
      "2459/2460 [============================>.] - ETA: 0s - loss: 0.1141 - root_mean_squared_error: 0.3378\n",
      "Epoch 8: saving model to model_TX_2.pkl\n"
     ]
    },
    {
     "name": "stderr",
     "output_type": "stream",
     "text": [
      "WARNING:absl:Found untraced functions such as lstm_cell_32_layer_call_fn, lstm_cell_32_layer_call_and_return_conditional_losses, lstm_cell_33_layer_call_fn, lstm_cell_33_layer_call_and_return_conditional_losses, lstm_cell_34_layer_call_fn while saving (showing 5 of 8). These functions will not be directly callable after loading.\n"
     ]
    },
    {
     "name": "stdout",
     "output_type": "stream",
     "text": [
      "INFO:tensorflow:Assets written to: model_TX_2.pkl/assets\n"
     ]
    },
    {
     "name": "stderr",
     "output_type": "stream",
     "text": [
      "INFO:tensorflow:Assets written to: model_TX_2.pkl/assets\n"
     ]
    },
    {
     "name": "stdout",
     "output_type": "stream",
     "text": [
      "\n",
      "Epoch 8: ReduceLROnPlateau reducing learning rate to 0.0002500000118743628.\n",
      "2460/2460 [==============================] - 74s 30ms/step - loss: 0.1141 - root_mean_squared_error: 0.3378 - val_loss: 0.1054 - val_root_mean_squared_error: 0.3247 - lr: 0.0010\n",
      "Epoch 9/50\n",
      "2458/2460 [============================>.] - ETA: 0s - loss: 0.0779 - root_mean_squared_error: 0.2792\n",
      "Epoch 9: saving model to model_TX_2.pkl\n"
     ]
    },
    {
     "name": "stderr",
     "output_type": "stream",
     "text": [
      "WARNING:absl:Found untraced functions such as lstm_cell_32_layer_call_fn, lstm_cell_32_layer_call_and_return_conditional_losses, lstm_cell_33_layer_call_fn, lstm_cell_33_layer_call_and_return_conditional_losses, lstm_cell_34_layer_call_fn while saving (showing 5 of 8). These functions will not be directly callable after loading.\n"
     ]
    },
    {
     "name": "stdout",
     "output_type": "stream",
     "text": [
      "INFO:tensorflow:Assets written to: model_TX_2.pkl/assets\n"
     ]
    },
    {
     "name": "stderr",
     "output_type": "stream",
     "text": [
      "INFO:tensorflow:Assets written to: model_TX_2.pkl/assets\n"
     ]
    },
    {
     "name": "stdout",
     "output_type": "stream",
     "text": [
      "2460/2460 [==============================] - 74s 30ms/step - loss: 0.0779 - root_mean_squared_error: 0.2791 - val_loss: 0.0041 - val_root_mean_squared_error: 0.0637 - lr: 2.5000e-04\n",
      "Epoch 10/50\n",
      "2458/2460 [============================>.] - ETA: 0s - loss: 0.0703 - root_mean_squared_error: 0.2651\n",
      "Epoch 10: saving model to model_TX_2.pkl\n"
     ]
    },
    {
     "name": "stderr",
     "output_type": "stream",
     "text": [
      "WARNING:absl:Found untraced functions such as lstm_cell_32_layer_call_fn, lstm_cell_32_layer_call_and_return_conditional_losses, lstm_cell_33_layer_call_fn, lstm_cell_33_layer_call_and_return_conditional_losses, lstm_cell_34_layer_call_fn while saving (showing 5 of 8). These functions will not be directly callable after loading.\n"
     ]
    },
    {
     "name": "stdout",
     "output_type": "stream",
     "text": [
      "INFO:tensorflow:Assets written to: model_TX_2.pkl/assets\n"
     ]
    },
    {
     "name": "stderr",
     "output_type": "stream",
     "text": [
      "INFO:tensorflow:Assets written to: model_TX_2.pkl/assets\n"
     ]
    },
    {
     "name": "stdout",
     "output_type": "stream",
     "text": [
      "2460/2460 [==============================] - 74s 30ms/step - loss: 0.0702 - root_mean_squared_error: 0.2650 - val_loss: 0.0035 - val_root_mean_squared_error: 0.0592 - lr: 2.5000e-04\n",
      "Epoch 11/50\n",
      "2458/2460 [============================>.] - ETA: 0s - loss: 0.0652 - root_mean_squared_error: 0.2553\n",
      "Epoch 11: saving model to model_TX_2.pkl\n"
     ]
    },
    {
     "name": "stderr",
     "output_type": "stream",
     "text": [
      "WARNING:absl:Found untraced functions such as lstm_cell_32_layer_call_fn, lstm_cell_32_layer_call_and_return_conditional_losses, lstm_cell_33_layer_call_fn, lstm_cell_33_layer_call_and_return_conditional_losses, lstm_cell_34_layer_call_fn while saving (showing 5 of 8). These functions will not be directly callable after loading.\n"
     ]
    },
    {
     "name": "stdout",
     "output_type": "stream",
     "text": [
      "INFO:tensorflow:Assets written to: model_TX_2.pkl/assets\n"
     ]
    },
    {
     "name": "stderr",
     "output_type": "stream",
     "text": [
      "INFO:tensorflow:Assets written to: model_TX_2.pkl/assets\n"
     ]
    },
    {
     "name": "stdout",
     "output_type": "stream",
     "text": [
      "2460/2460 [==============================] - 76s 31ms/step - loss: 0.0652 - root_mean_squared_error: 0.2553 - val_loss: 0.0096 - val_root_mean_squared_error: 0.0981 - lr: 2.5000e-04\n",
      "Epoch 12/50\n",
      "2460/2460 [==============================] - ETA: 0s - loss: 0.0621 - root_mean_squared_error: 0.2492\n",
      "Epoch 12: saving model to model_TX_2.pkl\n"
     ]
    },
    {
     "name": "stderr",
     "output_type": "stream",
     "text": [
      "WARNING:absl:Found untraced functions such as lstm_cell_32_layer_call_fn, lstm_cell_32_layer_call_and_return_conditional_losses, lstm_cell_33_layer_call_fn, lstm_cell_33_layer_call_and_return_conditional_losses, lstm_cell_34_layer_call_fn while saving (showing 5 of 8). These functions will not be directly callable after loading.\n"
     ]
    },
    {
     "name": "stdout",
     "output_type": "stream",
     "text": [
      "INFO:tensorflow:Assets written to: model_TX_2.pkl/assets\n"
     ]
    },
    {
     "name": "stderr",
     "output_type": "stream",
     "text": [
      "INFO:tensorflow:Assets written to: model_TX_2.pkl/assets\n"
     ]
    },
    {
     "name": "stdout",
     "output_type": "stream",
     "text": [
      "\n",
      "Epoch 12: ReduceLROnPlateau reducing learning rate to 6.25000029685907e-05.\n",
      "2460/2460 [==============================] - 72s 29ms/step - loss: 0.0621 - root_mean_squared_error: 0.2492 - val_loss: 0.0038 - val_root_mean_squared_error: 0.0615 - lr: 2.5000e-04\n",
      "Epoch 13/50\n",
      "2458/2460 [============================>.] - ETA: 0s - loss: 0.0560 - root_mean_squared_error: 0.2366\n",
      "Epoch 13: saving model to model_TX_2.pkl\n"
     ]
    },
    {
     "name": "stderr",
     "output_type": "stream",
     "text": [
      "WARNING:absl:Found untraced functions such as lstm_cell_32_layer_call_fn, lstm_cell_32_layer_call_and_return_conditional_losses, lstm_cell_33_layer_call_fn, lstm_cell_33_layer_call_and_return_conditional_losses, lstm_cell_34_layer_call_fn while saving (showing 5 of 8). These functions will not be directly callable after loading.\n"
     ]
    },
    {
     "name": "stdout",
     "output_type": "stream",
     "text": [
      "INFO:tensorflow:Assets written to: model_TX_2.pkl/assets\n"
     ]
    },
    {
     "name": "stderr",
     "output_type": "stream",
     "text": [
      "INFO:tensorflow:Assets written to: model_TX_2.pkl/assets\n"
     ]
    },
    {
     "name": "stdout",
     "output_type": "stream",
     "text": [
      "2460/2460 [==============================] - 74s 30ms/step - loss: 0.0559 - root_mean_squared_error: 0.2365 - val_loss: 0.0016 - val_root_mean_squared_error: 0.0406 - lr: 6.2500e-05\n",
      "Epoch 14/50\n",
      "2459/2460 [============================>.] - ETA: 0s - loss: 0.0546 - root_mean_squared_error: 0.2337\n",
      "Epoch 14: saving model to model_TX_2.pkl\n"
     ]
    },
    {
     "name": "stderr",
     "output_type": "stream",
     "text": [
      "WARNING:absl:Found untraced functions such as lstm_cell_32_layer_call_fn, lstm_cell_32_layer_call_and_return_conditional_losses, lstm_cell_33_layer_call_fn, lstm_cell_33_layer_call_and_return_conditional_losses, lstm_cell_34_layer_call_fn while saving (showing 5 of 8). These functions will not be directly callable after loading.\n"
     ]
    },
    {
     "name": "stdout",
     "output_type": "stream",
     "text": [
      "INFO:tensorflow:Assets written to: model_TX_2.pkl/assets\n"
     ]
    },
    {
     "name": "stderr",
     "output_type": "stream",
     "text": [
      "INFO:tensorflow:Assets written to: model_TX_2.pkl/assets\n"
     ]
    },
    {
     "name": "stdout",
     "output_type": "stream",
     "text": [
      "2460/2460 [==============================] - 74s 30ms/step - loss: 0.0546 - root_mean_squared_error: 0.2337 - val_loss: 0.0012 - val_root_mean_squared_error: 0.0344 - lr: 6.2500e-05\n",
      "Epoch 15/50\n",
      "2459/2460 [============================>.] - ETA: 0s - loss: 0.0537 - root_mean_squared_error: 0.2317\n",
      "Epoch 15: saving model to model_TX_2.pkl\n"
     ]
    },
    {
     "name": "stderr",
     "output_type": "stream",
     "text": [
      "WARNING:absl:Found untraced functions such as lstm_cell_32_layer_call_fn, lstm_cell_32_layer_call_and_return_conditional_losses, lstm_cell_33_layer_call_fn, lstm_cell_33_layer_call_and_return_conditional_losses, lstm_cell_34_layer_call_fn while saving (showing 5 of 8). These functions will not be directly callable after loading.\n"
     ]
    },
    {
     "name": "stdout",
     "output_type": "stream",
     "text": [
      "INFO:tensorflow:Assets written to: model_TX_2.pkl/assets\n"
     ]
    },
    {
     "name": "stderr",
     "output_type": "stream",
     "text": [
      "INFO:tensorflow:Assets written to: model_TX_2.pkl/assets\n"
     ]
    },
    {
     "name": "stdout",
     "output_type": "stream",
     "text": [
      "2460/2460 [==============================] - 73s 30ms/step - loss: 0.0537 - root_mean_squared_error: 0.2317 - val_loss: 0.0016 - val_root_mean_squared_error: 0.0395 - lr: 6.2500e-05\n",
      "Epoch 16/50\n",
      "2459/2460 [============================>.] - ETA: 0s - loss: 0.0525 - root_mean_squared_error: 0.2292\n",
      "Epoch 16: saving model to model_TX_2.pkl\n"
     ]
    },
    {
     "name": "stderr",
     "output_type": "stream",
     "text": [
      "WARNING:absl:Found untraced functions such as lstm_cell_32_layer_call_fn, lstm_cell_32_layer_call_and_return_conditional_losses, lstm_cell_33_layer_call_fn, lstm_cell_33_layer_call_and_return_conditional_losses, lstm_cell_34_layer_call_fn while saving (showing 5 of 8). These functions will not be directly callable after loading.\n"
     ]
    },
    {
     "name": "stdout",
     "output_type": "stream",
     "text": [
      "INFO:tensorflow:Assets written to: model_TX_2.pkl/assets\n"
     ]
    },
    {
     "name": "stderr",
     "output_type": "stream",
     "text": [
      "INFO:tensorflow:Assets written to: model_TX_2.pkl/assets\n"
     ]
    },
    {
     "name": "stdout",
     "output_type": "stream",
     "text": [
      "\n",
      "Epoch 16: ReduceLROnPlateau reducing learning rate to 1.5625000742147677e-05.\n",
      "2460/2460 [==============================] - 72s 29ms/step - loss: 0.0525 - root_mean_squared_error: 0.2292 - val_loss: 0.0014 - val_root_mean_squared_error: 0.0369 - lr: 6.2500e-05\n",
      "Epoch 17/50\n",
      "2458/2460 [============================>.] - ETA: 0s - loss: 0.0517 - root_mean_squared_error: 0.2274\n",
      "Epoch 17: saving model to model_TX_2.pkl\n"
     ]
    },
    {
     "name": "stderr",
     "output_type": "stream",
     "text": [
      "WARNING:absl:Found untraced functions such as lstm_cell_32_layer_call_fn, lstm_cell_32_layer_call_and_return_conditional_losses, lstm_cell_33_layer_call_fn, lstm_cell_33_layer_call_and_return_conditional_losses, lstm_cell_34_layer_call_fn while saving (showing 5 of 8). These functions will not be directly callable after loading.\n"
     ]
    },
    {
     "name": "stdout",
     "output_type": "stream",
     "text": [
      "INFO:tensorflow:Assets written to: model_TX_2.pkl/assets\n"
     ]
    },
    {
     "name": "stderr",
     "output_type": "stream",
     "text": [
      "INFO:tensorflow:Assets written to: model_TX_2.pkl/assets\n"
     ]
    },
    {
     "name": "stdout",
     "output_type": "stream",
     "text": [
      "2460/2460 [==============================] - 74s 30ms/step - loss: 0.0517 - root_mean_squared_error: 0.2273 - val_loss: 8.8629e-04 - val_root_mean_squared_error: 0.0298 - lr: 1.5625e-05\n",
      "Epoch 18/50\n",
      "2459/2460 [============================>.] - ETA: 0s - loss: 0.0512 - root_mean_squared_error: 0.2263\n",
      "Epoch 18: saving model to model_TX_2.pkl\n"
     ]
    },
    {
     "name": "stderr",
     "output_type": "stream",
     "text": [
      "WARNING:absl:Found untraced functions such as lstm_cell_32_layer_call_fn, lstm_cell_32_layer_call_and_return_conditional_losses, lstm_cell_33_layer_call_fn, lstm_cell_33_layer_call_and_return_conditional_losses, lstm_cell_34_layer_call_fn while saving (showing 5 of 8). These functions will not be directly callable after loading.\n"
     ]
    },
    {
     "name": "stdout",
     "output_type": "stream",
     "text": [
      "INFO:tensorflow:Assets written to: model_TX_2.pkl/assets\n"
     ]
    },
    {
     "name": "stderr",
     "output_type": "stream",
     "text": [
      "INFO:tensorflow:Assets written to: model_TX_2.pkl/assets\n"
     ]
    },
    {
     "name": "stdout",
     "output_type": "stream",
     "text": [
      "2460/2460 [==============================] - 74s 30ms/step - loss: 0.0512 - root_mean_squared_error: 0.2263 - val_loss: 8.8608e-04 - val_root_mean_squared_error: 0.0298 - lr: 1.5625e-05\n",
      "Epoch 19/50\n",
      "2460/2460 [==============================] - ETA: 0s - loss: 0.0509 - root_mean_squared_error: 0.2255\n",
      "Epoch 19: saving model to model_TX_2.pkl\n"
     ]
    },
    {
     "name": "stderr",
     "output_type": "stream",
     "text": [
      "WARNING:absl:Found untraced functions such as lstm_cell_32_layer_call_fn, lstm_cell_32_layer_call_and_return_conditional_losses, lstm_cell_33_layer_call_fn, lstm_cell_33_layer_call_and_return_conditional_losses, lstm_cell_34_layer_call_fn while saving (showing 5 of 8). These functions will not be directly callable after loading.\n"
     ]
    },
    {
     "name": "stdout",
     "output_type": "stream",
     "text": [
      "INFO:tensorflow:Assets written to: model_TX_2.pkl/assets\n"
     ]
    },
    {
     "name": "stderr",
     "output_type": "stream",
     "text": [
      "INFO:tensorflow:Assets written to: model_TX_2.pkl/assets\n"
     ]
    },
    {
     "name": "stdout",
     "output_type": "stream",
     "text": [
      "2460/2460 [==============================] - 72s 29ms/step - loss: 0.0509 - root_mean_squared_error: 0.2255 - val_loss: 8.0956e-04 - val_root_mean_squared_error: 0.0285 - lr: 1.5625e-05\n",
      "Epoch 20/50\n",
      "2458/2460 [============================>.] - ETA: 0s - loss: 0.0507 - root_mean_squared_error: 0.2251\n",
      "Epoch 20: saving model to model_TX_2.pkl\n"
     ]
    },
    {
     "name": "stderr",
     "output_type": "stream",
     "text": [
      "WARNING:absl:Found untraced functions such as lstm_cell_32_layer_call_fn, lstm_cell_32_layer_call_and_return_conditional_losses, lstm_cell_33_layer_call_fn, lstm_cell_33_layer_call_and_return_conditional_losses, lstm_cell_34_layer_call_fn while saving (showing 5 of 8). These functions will not be directly callable after loading.\n"
     ]
    },
    {
     "name": "stdout",
     "output_type": "stream",
     "text": [
      "INFO:tensorflow:Assets written to: model_TX_2.pkl/assets\n"
     ]
    },
    {
     "name": "stderr",
     "output_type": "stream",
     "text": [
      "INFO:tensorflow:Assets written to: model_TX_2.pkl/assets\n"
     ]
    },
    {
     "name": "stdout",
     "output_type": "stream",
     "text": [
      "2460/2460 [==============================] - 73s 30ms/step - loss: 0.0507 - root_mean_squared_error: 0.2251 - val_loss: 9.7767e-04 - val_root_mean_squared_error: 0.0313 - lr: 1.5625e-05\n",
      "Epoch 21/50\n",
      "2459/2460 [============================>.] - ETA: 0s - loss: 0.0502 - root_mean_squared_error: 0.2241\n",
      "Epoch 21: saving model to model_TX_2.pkl\n"
     ]
    },
    {
     "name": "stderr",
     "output_type": "stream",
     "text": [
      "WARNING:absl:Found untraced functions such as lstm_cell_32_layer_call_fn, lstm_cell_32_layer_call_and_return_conditional_losses, lstm_cell_33_layer_call_fn, lstm_cell_33_layer_call_and_return_conditional_losses, lstm_cell_34_layer_call_fn while saving (showing 5 of 8). These functions will not be directly callable after loading.\n"
     ]
    },
    {
     "name": "stdout",
     "output_type": "stream",
     "text": [
      "INFO:tensorflow:Assets written to: model_TX_2.pkl/assets\n"
     ]
    },
    {
     "name": "stderr",
     "output_type": "stream",
     "text": [
      "INFO:tensorflow:Assets written to: model_TX_2.pkl/assets\n"
     ]
    },
    {
     "name": "stdout",
     "output_type": "stream",
     "text": [
      "\n",
      "Epoch 21: ReduceLROnPlateau reducing learning rate to 3.906250185536919e-06.\n",
      "2460/2460 [==============================] - 73s 30ms/step - loss: 0.0502 - root_mean_squared_error: 0.2241 - val_loss: 8.4891e-04 - val_root_mean_squared_error: 0.0291 - lr: 1.5625e-05\n",
      "Epoch 22/50\n",
      "2458/2460 [============================>.] - ETA: 0s - loss: 0.0501 - root_mean_squared_error: 0.2238\n",
      "Epoch 22: saving model to model_TX_2.pkl\n"
     ]
    },
    {
     "name": "stderr",
     "output_type": "stream",
     "text": [
      "WARNING:absl:Found untraced functions such as lstm_cell_32_layer_call_fn, lstm_cell_32_layer_call_and_return_conditional_losses, lstm_cell_33_layer_call_fn, lstm_cell_33_layer_call_and_return_conditional_losses, lstm_cell_34_layer_call_fn while saving (showing 5 of 8). These functions will not be directly callable after loading.\n"
     ]
    },
    {
     "name": "stdout",
     "output_type": "stream",
     "text": [
      "INFO:tensorflow:Assets written to: model_TX_2.pkl/assets\n"
     ]
    },
    {
     "name": "stderr",
     "output_type": "stream",
     "text": [
      "INFO:tensorflow:Assets written to: model_TX_2.pkl/assets\n"
     ]
    },
    {
     "name": "stdout",
     "output_type": "stream",
     "text": [
      "2460/2460 [==============================] - 73s 30ms/step - loss: 0.0501 - root_mean_squared_error: 0.2238 - val_loss: 7.6226e-04 - val_root_mean_squared_error: 0.0276 - lr: 3.9063e-06\n",
      "Epoch 23/50\n",
      "2458/2460 [============================>.] - ETA: 0s - loss: 0.0499 - root_mean_squared_error: 0.2233\n",
      "Epoch 23: saving model to model_TX_2.pkl\n"
     ]
    },
    {
     "name": "stderr",
     "output_type": "stream",
     "text": [
      "WARNING:absl:Found untraced functions such as lstm_cell_32_layer_call_fn, lstm_cell_32_layer_call_and_return_conditional_losses, lstm_cell_33_layer_call_fn, lstm_cell_33_layer_call_and_return_conditional_losses, lstm_cell_34_layer_call_fn while saving (showing 5 of 8). These functions will not be directly callable after loading.\n"
     ]
    },
    {
     "name": "stdout",
     "output_type": "stream",
     "text": [
      "INFO:tensorflow:Assets written to: model_TX_2.pkl/assets\n"
     ]
    },
    {
     "name": "stderr",
     "output_type": "stream",
     "text": [
      "INFO:tensorflow:Assets written to: model_TX_2.pkl/assets\n"
     ]
    },
    {
     "name": "stdout",
     "output_type": "stream",
     "text": [
      "2460/2460 [==============================] - 73s 30ms/step - loss: 0.0499 - root_mean_squared_error: 0.2233 - val_loss: 7.6960e-04 - val_root_mean_squared_error: 0.0277 - lr: 3.9063e-06\n",
      "Epoch 24/50\n",
      "2460/2460 [==============================] - ETA: 0s - loss: 0.0498 - root_mean_squared_error: 0.2232\n",
      "Epoch 24: saving model to model_TX_2.pkl\n"
     ]
    },
    {
     "name": "stderr",
     "output_type": "stream",
     "text": [
      "WARNING:absl:Found untraced functions such as lstm_cell_32_layer_call_fn, lstm_cell_32_layer_call_and_return_conditional_losses, lstm_cell_33_layer_call_fn, lstm_cell_33_layer_call_and_return_conditional_losses, lstm_cell_34_layer_call_fn while saving (showing 5 of 8). These functions will not be directly callable after loading.\n"
     ]
    },
    {
     "name": "stdout",
     "output_type": "stream",
     "text": [
      "INFO:tensorflow:Assets written to: model_TX_2.pkl/assets\n"
     ]
    },
    {
     "name": "stderr",
     "output_type": "stream",
     "text": [
      "INFO:tensorflow:Assets written to: model_TX_2.pkl/assets\n"
     ]
    },
    {
     "name": "stdout",
     "output_type": "stream",
     "text": [
      "2460/2460 [==============================] - 72s 29ms/step - loss: 0.0498 - root_mean_squared_error: 0.2232 - val_loss: 7.5459e-04 - val_root_mean_squared_error: 0.0275 - lr: 3.9063e-06\n",
      "Epoch 25/50\n",
      "2460/2460 [==============================] - ETA: 0s - loss: 0.0498 - root_mean_squared_error: 0.2231\n",
      "Epoch 25: saving model to model_TX_2.pkl\n"
     ]
    },
    {
     "name": "stderr",
     "output_type": "stream",
     "text": [
      "WARNING:absl:Found untraced functions such as lstm_cell_32_layer_call_fn, lstm_cell_32_layer_call_and_return_conditional_losses, lstm_cell_33_layer_call_fn, lstm_cell_33_layer_call_and_return_conditional_losses, lstm_cell_34_layer_call_fn while saving (showing 5 of 8). These functions will not be directly callable after loading.\n"
     ]
    },
    {
     "name": "stdout",
     "output_type": "stream",
     "text": [
      "INFO:tensorflow:Assets written to: model_TX_2.pkl/assets\n"
     ]
    },
    {
     "name": "stderr",
     "output_type": "stream",
     "text": [
      "INFO:tensorflow:Assets written to: model_TX_2.pkl/assets\n"
     ]
    },
    {
     "name": "stdout",
     "output_type": "stream",
     "text": [
      "2460/2460 [==============================] - 73s 30ms/step - loss: 0.0498 - root_mean_squared_error: 0.2231 - val_loss: 8.5582e-04 - val_root_mean_squared_error: 0.0293 - lr: 3.9063e-06\n",
      "Epoch 26/50\n",
      "2458/2460 [============================>.] - ETA: 0s - loss: 0.0499 - root_mean_squared_error: 0.2233\n",
      "Epoch 26: saving model to model_TX_2.pkl\n"
     ]
    },
    {
     "name": "stderr",
     "output_type": "stream",
     "text": [
      "WARNING:absl:Found untraced functions such as lstm_cell_32_layer_call_fn, lstm_cell_32_layer_call_and_return_conditional_losses, lstm_cell_33_layer_call_fn, lstm_cell_33_layer_call_and_return_conditional_losses, lstm_cell_34_layer_call_fn while saving (showing 5 of 8). These functions will not be directly callable after loading.\n"
     ]
    },
    {
     "name": "stdout",
     "output_type": "stream",
     "text": [
      "INFO:tensorflow:Assets written to: model_TX_2.pkl/assets\n"
     ]
    },
    {
     "name": "stderr",
     "output_type": "stream",
     "text": [
      "INFO:tensorflow:Assets written to: model_TX_2.pkl/assets\n"
     ]
    },
    {
     "name": "stdout",
     "output_type": "stream",
     "text": [
      "2460/2460 [==============================] - 73s 30ms/step - loss: 0.0498 - root_mean_squared_error: 0.2233 - val_loss: 7.2477e-04 - val_root_mean_squared_error: 0.0269 - lr: 3.9063e-06\n",
      "Epoch 27/50\n",
      "2458/2460 [============================>.] - ETA: 0s - loss: 0.0496 - root_mean_squared_error: 0.2228\n",
      "Epoch 27: saving model to model_TX_2.pkl\n"
     ]
    },
    {
     "name": "stderr",
     "output_type": "stream",
     "text": [
      "WARNING:absl:Found untraced functions such as lstm_cell_32_layer_call_fn, lstm_cell_32_layer_call_and_return_conditional_losses, lstm_cell_33_layer_call_fn, lstm_cell_33_layer_call_and_return_conditional_losses, lstm_cell_34_layer_call_fn while saving (showing 5 of 8). These functions will not be directly callable after loading.\n"
     ]
    },
    {
     "name": "stdout",
     "output_type": "stream",
     "text": [
      "INFO:tensorflow:Assets written to: model_TX_2.pkl/assets\n"
     ]
    },
    {
     "name": "stderr",
     "output_type": "stream",
     "text": [
      "INFO:tensorflow:Assets written to: model_TX_2.pkl/assets\n"
     ]
    },
    {
     "name": "stdout",
     "output_type": "stream",
     "text": [
      "2460/2460 [==============================] - 72s 29ms/step - loss: 0.0496 - root_mean_squared_error: 0.2227 - val_loss: 7.2975e-04 - val_root_mean_squared_error: 0.0270 - lr: 3.9063e-06\n",
      "Epoch 28/50\n",
      "2458/2460 [============================>.] - ETA: 0s - loss: 0.0495 - root_mean_squared_error: 0.2226\n",
      "Epoch 28: saving model to model_TX_2.pkl\n"
     ]
    },
    {
     "name": "stderr",
     "output_type": "stream",
     "text": [
      "WARNING:absl:Found untraced functions such as lstm_cell_32_layer_call_fn, lstm_cell_32_layer_call_and_return_conditional_losses, lstm_cell_33_layer_call_fn, lstm_cell_33_layer_call_and_return_conditional_losses, lstm_cell_34_layer_call_fn while saving (showing 5 of 8). These functions will not be directly callable after loading.\n"
     ]
    },
    {
     "name": "stdout",
     "output_type": "stream",
     "text": [
      "INFO:tensorflow:Assets written to: model_TX_2.pkl/assets\n"
     ]
    },
    {
     "name": "stderr",
     "output_type": "stream",
     "text": [
      "INFO:tensorflow:Assets written to: model_TX_2.pkl/assets\n"
     ]
    },
    {
     "name": "stdout",
     "output_type": "stream",
     "text": [
      "2460/2460 [==============================] - 73s 30ms/step - loss: 0.0495 - root_mean_squared_error: 0.2225 - val_loss: 6.9390e-04 - val_root_mean_squared_error: 0.0263 - lr: 3.9063e-06\n",
      "Epoch 29/50\n",
      "2460/2460 [==============================] - ETA: 0s - loss: 0.0496 - root_mean_squared_error: 0.2227\n",
      "Epoch 29: saving model to model_TX_2.pkl\n"
     ]
    },
    {
     "name": "stderr",
     "output_type": "stream",
     "text": [
      "WARNING:absl:Found untraced functions such as lstm_cell_32_layer_call_fn, lstm_cell_32_layer_call_and_return_conditional_losses, lstm_cell_33_layer_call_fn, lstm_cell_33_layer_call_and_return_conditional_losses, lstm_cell_34_layer_call_fn while saving (showing 5 of 8). These functions will not be directly callable after loading.\n"
     ]
    },
    {
     "name": "stdout",
     "output_type": "stream",
     "text": [
      "INFO:tensorflow:Assets written to: model_TX_2.pkl/assets\n"
     ]
    },
    {
     "name": "stderr",
     "output_type": "stream",
     "text": [
      "INFO:tensorflow:Assets written to: model_TX_2.pkl/assets\n"
     ]
    },
    {
     "name": "stdout",
     "output_type": "stream",
     "text": [
      "2460/2460 [==============================] - 71s 29ms/step - loss: 0.0496 - root_mean_squared_error: 0.2227 - val_loss: 7.8747e-04 - val_root_mean_squared_error: 0.0281 - lr: 3.9063e-06\n",
      "Epoch 30/50\n",
      "2459/2460 [============================>.] - ETA: 0s - loss: 0.0494 - root_mean_squared_error: 0.2223\n",
      "Epoch 30: saving model to model_TX_2.pkl\n"
     ]
    },
    {
     "name": "stderr",
     "output_type": "stream",
     "text": [
      "WARNING:absl:Found untraced functions such as lstm_cell_32_layer_call_fn, lstm_cell_32_layer_call_and_return_conditional_losses, lstm_cell_33_layer_call_fn, lstm_cell_33_layer_call_and_return_conditional_losses, lstm_cell_34_layer_call_fn while saving (showing 5 of 8). These functions will not be directly callable after loading.\n"
     ]
    },
    {
     "name": "stdout",
     "output_type": "stream",
     "text": [
      "INFO:tensorflow:Assets written to: model_TX_2.pkl/assets\n"
     ]
    },
    {
     "name": "stderr",
     "output_type": "stream",
     "text": [
      "INFO:tensorflow:Assets written to: model_TX_2.pkl/assets\n"
     ]
    },
    {
     "name": "stdout",
     "output_type": "stream",
     "text": [
      "\n",
      "Epoch 30: ReduceLROnPlateau reducing learning rate to 9.765625463842298e-07.\n",
      "2460/2460 [==============================] - 74s 30ms/step - loss: 0.0494 - root_mean_squared_error: 0.2223 - val_loss: 7.3483e-04 - val_root_mean_squared_error: 0.0271 - lr: 3.9063e-06\n",
      "Epoch 31/50\n",
      "2460/2460 [==============================] - ETA: 0s - loss: 0.0494 - root_mean_squared_error: 0.2223\n",
      "Epoch 31: saving model to model_TX_2.pkl\n"
     ]
    },
    {
     "name": "stderr",
     "output_type": "stream",
     "text": [
      "WARNING:absl:Found untraced functions such as lstm_cell_32_layer_call_fn, lstm_cell_32_layer_call_and_return_conditional_losses, lstm_cell_33_layer_call_fn, lstm_cell_33_layer_call_and_return_conditional_losses, lstm_cell_34_layer_call_fn while saving (showing 5 of 8). These functions will not be directly callable after loading.\n"
     ]
    },
    {
     "name": "stdout",
     "output_type": "stream",
     "text": [
      "INFO:tensorflow:Assets written to: model_TX_2.pkl/assets\n"
     ]
    },
    {
     "name": "stderr",
     "output_type": "stream",
     "text": [
      "INFO:tensorflow:Assets written to: model_TX_2.pkl/assets\n"
     ]
    },
    {
     "name": "stdout",
     "output_type": "stream",
     "text": [
      "2460/2460 [==============================] - 74s 30ms/step - loss: 0.0494 - root_mean_squared_error: 0.2223 - val_loss: 7.1752e-04 - val_root_mean_squared_error: 0.0268 - lr: 9.7656e-07\n",
      "Epoch 31: early stopping\n",
      "2668/2668 [==============================] - 16s 6ms/step\n",
      "2668/2668 [==============================] - 15s 5ms/step\n"
     ]
    },
    {
     "name": "stderr",
     "output_type": "stream",
     "text": [
      " 60%|██████    | 6/10 [3:43:27<2:26:41, 2200.38s/it]"
     ]
    },
    {
     "name": "stdout",
     "output_type": "stream",
     "text": [
      "********Prediction for Store:TX_3**********\n",
      "Epoch 1/50\n",
      "2458/2460 [============================>.] - ETA: 0s - loss: 3.0222 - root_mean_squared_error: 1.7385\n",
      "Epoch 1: saving model to model_TX_3.pkl\n"
     ]
    },
    {
     "name": "stderr",
     "output_type": "stream",
     "text": [
      "WARNING:absl:Found untraced functions such as lstm_cell_36_layer_call_fn, lstm_cell_36_layer_call_and_return_conditional_losses, lstm_cell_37_layer_call_fn, lstm_cell_37_layer_call_and_return_conditional_losses, lstm_cell_38_layer_call_fn while saving (showing 5 of 8). These functions will not be directly callable after loading.\n"
     ]
    },
    {
     "name": "stdout",
     "output_type": "stream",
     "text": [
      "INFO:tensorflow:Assets written to: model_TX_3.pkl/assets\n"
     ]
    },
    {
     "name": "stderr",
     "output_type": "stream",
     "text": [
      "INFO:tensorflow:Assets written to: model_TX_3.pkl/assets\n"
     ]
    },
    {
     "name": "stdout",
     "output_type": "stream",
     "text": [
      "2460/2460 [==============================] - 77s 30ms/step - loss: 3.0223 - root_mean_squared_error: 1.7385 - val_loss: 0.9725 - val_root_mean_squared_error: 0.9862 - lr: 0.0010\n",
      "Epoch 2/50\n",
      "2459/2460 [============================>.] - ETA: 0s - loss: 0.8393 - root_mean_squared_error: 0.9161\n",
      "Epoch 2: saving model to model_TX_3.pkl\n"
     ]
    },
    {
     "name": "stderr",
     "output_type": "stream",
     "text": [
      "WARNING:absl:Found untraced functions such as lstm_cell_36_layer_call_fn, lstm_cell_36_layer_call_and_return_conditional_losses, lstm_cell_37_layer_call_fn, lstm_cell_37_layer_call_and_return_conditional_losses, lstm_cell_38_layer_call_fn while saving (showing 5 of 8). These functions will not be directly callable after loading.\n"
     ]
    },
    {
     "name": "stdout",
     "output_type": "stream",
     "text": [
      "INFO:tensorflow:Assets written to: model_TX_3.pkl/assets\n"
     ]
    },
    {
     "name": "stderr",
     "output_type": "stream",
     "text": [
      "INFO:tensorflow:Assets written to: model_TX_3.pkl/assets\n"
     ]
    },
    {
     "name": "stdout",
     "output_type": "stream",
     "text": [
      "2460/2460 [==============================] - 73s 30ms/step - loss: 0.8398 - root_mean_squared_error: 0.9164 - val_loss: 0.3318 - val_root_mean_squared_error: 0.5760 - lr: 0.0010\n",
      "Epoch 3/50\n",
      "2459/2460 [============================>.] - ETA: 0s - loss: 0.3725 - root_mean_squared_error: 0.6103\n",
      "Epoch 3: saving model to model_TX_3.pkl\n"
     ]
    },
    {
     "name": "stderr",
     "output_type": "stream",
     "text": [
      "WARNING:absl:Found untraced functions such as lstm_cell_36_layer_call_fn, lstm_cell_36_layer_call_and_return_conditional_losses, lstm_cell_37_layer_call_fn, lstm_cell_37_layer_call_and_return_conditional_losses, lstm_cell_38_layer_call_fn while saving (showing 5 of 8). These functions will not be directly callable after loading.\n"
     ]
    },
    {
     "name": "stdout",
     "output_type": "stream",
     "text": [
      "INFO:tensorflow:Assets written to: model_TX_3.pkl/assets\n"
     ]
    },
    {
     "name": "stderr",
     "output_type": "stream",
     "text": [
      "INFO:tensorflow:Assets written to: model_TX_3.pkl/assets\n"
     ]
    },
    {
     "name": "stdout",
     "output_type": "stream",
     "text": [
      "2460/2460 [==============================] - 73s 29ms/step - loss: 0.3724 - root_mean_squared_error: 0.6103 - val_loss: 0.1629 - val_root_mean_squared_error: 0.4036 - lr: 0.0010\n",
      "Epoch 4/50\n",
      "2458/2460 [============================>.] - ETA: 0s - loss: 0.2100 - root_mean_squared_error: 0.4583\n",
      "Epoch 4: saving model to model_TX_3.pkl\n"
     ]
    },
    {
     "name": "stderr",
     "output_type": "stream",
     "text": [
      "WARNING:absl:Found untraced functions such as lstm_cell_36_layer_call_fn, lstm_cell_36_layer_call_and_return_conditional_losses, lstm_cell_37_layer_call_fn, lstm_cell_37_layer_call_and_return_conditional_losses, lstm_cell_38_layer_call_fn while saving (showing 5 of 8). These functions will not be directly callable after loading.\n"
     ]
    },
    {
     "name": "stdout",
     "output_type": "stream",
     "text": [
      "INFO:tensorflow:Assets written to: model_TX_3.pkl/assets\n"
     ]
    },
    {
     "name": "stderr",
     "output_type": "stream",
     "text": [
      "INFO:tensorflow:Assets written to: model_TX_3.pkl/assets\n"
     ]
    },
    {
     "name": "stdout",
     "output_type": "stream",
     "text": [
      "2460/2460 [==============================] - 73s 30ms/step - loss: 0.2099 - root_mean_squared_error: 0.4582 - val_loss: 0.0799 - val_root_mean_squared_error: 0.2827 - lr: 0.0010\n",
      "Epoch 5/50\n",
      "2458/2460 [============================>.] - ETA: 0s - loss: 0.1313 - root_mean_squared_error: 0.3624\n",
      "Epoch 5: saving model to model_TX_3.pkl\n"
     ]
    },
    {
     "name": "stderr",
     "output_type": "stream",
     "text": [
      "WARNING:absl:Found untraced functions such as lstm_cell_36_layer_call_fn, lstm_cell_36_layer_call_and_return_conditional_losses, lstm_cell_37_layer_call_fn, lstm_cell_37_layer_call_and_return_conditional_losses, lstm_cell_38_layer_call_fn while saving (showing 5 of 8). These functions will not be directly callable after loading.\n"
     ]
    },
    {
     "name": "stdout",
     "output_type": "stream",
     "text": [
      "INFO:tensorflow:Assets written to: model_TX_3.pkl/assets\n"
     ]
    },
    {
     "name": "stderr",
     "output_type": "stream",
     "text": [
      "INFO:tensorflow:Assets written to: model_TX_3.pkl/assets\n"
     ]
    },
    {
     "name": "stdout",
     "output_type": "stream",
     "text": [
      "2460/2460 [==============================] - 73s 30ms/step - loss: 0.1313 - root_mean_squared_error: 0.3623 - val_loss: 0.0698 - val_root_mean_squared_error: 0.2641 - lr: 0.0010\n",
      "Epoch 6/50\n",
      "2460/2460 [==============================] - ETA: 0s - loss: 0.0988 - root_mean_squared_error: 0.3143\n",
      "Epoch 6: saving model to model_TX_3.pkl\n"
     ]
    },
    {
     "name": "stderr",
     "output_type": "stream",
     "text": [
      "WARNING:absl:Found untraced functions such as lstm_cell_36_layer_call_fn, lstm_cell_36_layer_call_and_return_conditional_losses, lstm_cell_37_layer_call_fn, lstm_cell_37_layer_call_and_return_conditional_losses, lstm_cell_38_layer_call_fn while saving (showing 5 of 8). These functions will not be directly callable after loading.\n"
     ]
    },
    {
     "name": "stdout",
     "output_type": "stream",
     "text": [
      "INFO:tensorflow:Assets written to: model_TX_3.pkl/assets\n"
     ]
    },
    {
     "name": "stderr",
     "output_type": "stream",
     "text": [
      "INFO:tensorflow:Assets written to: model_TX_3.pkl/assets\n"
     ]
    },
    {
     "name": "stdout",
     "output_type": "stream",
     "text": [
      "2460/2460 [==============================] - 73s 30ms/step - loss: 0.0988 - root_mean_squared_error: 0.3143 - val_loss: 0.0596 - val_root_mean_squared_error: 0.2441 - lr: 0.0010\n",
      "Epoch 7/50\n",
      "2458/2460 [============================>.] - ETA: 0s - loss: 0.0759 - root_mean_squared_error: 0.2755\n",
      "Epoch 7: saving model to model_TX_3.pkl\n"
     ]
    },
    {
     "name": "stderr",
     "output_type": "stream",
     "text": [
      "WARNING:absl:Found untraced functions such as lstm_cell_36_layer_call_fn, lstm_cell_36_layer_call_and_return_conditional_losses, lstm_cell_37_layer_call_fn, lstm_cell_37_layer_call_and_return_conditional_losses, lstm_cell_38_layer_call_fn while saving (showing 5 of 8). These functions will not be directly callable after loading.\n"
     ]
    },
    {
     "name": "stdout",
     "output_type": "stream",
     "text": [
      "INFO:tensorflow:Assets written to: model_TX_3.pkl/assets\n"
     ]
    },
    {
     "name": "stderr",
     "output_type": "stream",
     "text": [
      "INFO:tensorflow:Assets written to: model_TX_3.pkl/assets\n"
     ]
    },
    {
     "name": "stdout",
     "output_type": "stream",
     "text": [
      "2460/2460 [==============================] - 72s 29ms/step - loss: 0.0759 - root_mean_squared_error: 0.2755 - val_loss: 0.0905 - val_root_mean_squared_error: 0.3008 - lr: 0.0010\n",
      "Epoch 8/50\n",
      "2458/2460 [============================>.] - ETA: 0s - loss: 0.0689 - root_mean_squared_error: 0.2625\n",
      "Epoch 8: saving model to model_TX_3.pkl\n"
     ]
    },
    {
     "name": "stderr",
     "output_type": "stream",
     "text": [
      "WARNING:absl:Found untraced functions such as lstm_cell_36_layer_call_fn, lstm_cell_36_layer_call_and_return_conditional_losses, lstm_cell_37_layer_call_fn, lstm_cell_37_layer_call_and_return_conditional_losses, lstm_cell_38_layer_call_fn while saving (showing 5 of 8). These functions will not be directly callable after loading.\n"
     ]
    },
    {
     "name": "stdout",
     "output_type": "stream",
     "text": [
      "INFO:tensorflow:Assets written to: model_TX_3.pkl/assets\n"
     ]
    },
    {
     "name": "stderr",
     "output_type": "stream",
     "text": [
      "INFO:tensorflow:Assets written to: model_TX_3.pkl/assets\n"
     ]
    },
    {
     "name": "stdout",
     "output_type": "stream",
     "text": [
      "2460/2460 [==============================] - 73s 30ms/step - loss: 0.0689 - root_mean_squared_error: 0.2624 - val_loss: 0.0406 - val_root_mean_squared_error: 0.2015 - lr: 0.0010\n",
      "Epoch 9/50\n",
      "2459/2460 [============================>.] - ETA: 0s - loss: 0.0622 - root_mean_squared_error: 0.2494\n",
      "Epoch 9: saving model to model_TX_3.pkl\n"
     ]
    },
    {
     "name": "stderr",
     "output_type": "stream",
     "text": [
      "WARNING:absl:Found untraced functions such as lstm_cell_36_layer_call_fn, lstm_cell_36_layer_call_and_return_conditional_losses, lstm_cell_37_layer_call_fn, lstm_cell_37_layer_call_and_return_conditional_losses, lstm_cell_38_layer_call_fn while saving (showing 5 of 8). These functions will not be directly callable after loading.\n"
     ]
    },
    {
     "name": "stdout",
     "output_type": "stream",
     "text": [
      "INFO:tensorflow:Assets written to: model_TX_3.pkl/assets\n"
     ]
    },
    {
     "name": "stderr",
     "output_type": "stream",
     "text": [
      "INFO:tensorflow:Assets written to: model_TX_3.pkl/assets\n"
     ]
    },
    {
     "name": "stdout",
     "output_type": "stream",
     "text": [
      "2460/2460 [==============================] - 73s 30ms/step - loss: 0.0622 - root_mean_squared_error: 0.2494 - val_loss: 0.0299 - val_root_mean_squared_error: 0.1731 - lr: 0.0010\n",
      "Epoch 10/50\n",
      "2460/2460 [==============================] - ETA: 0s - loss: 0.0530 - root_mean_squared_error: 0.2302\n",
      "Epoch 10: saving model to model_TX_3.pkl\n"
     ]
    },
    {
     "name": "stderr",
     "output_type": "stream",
     "text": [
      "WARNING:absl:Found untraced functions such as lstm_cell_36_layer_call_fn, lstm_cell_36_layer_call_and_return_conditional_losses, lstm_cell_37_layer_call_fn, lstm_cell_37_layer_call_and_return_conditional_losses, lstm_cell_38_layer_call_fn while saving (showing 5 of 8). These functions will not be directly callable after loading.\n"
     ]
    },
    {
     "name": "stdout",
     "output_type": "stream",
     "text": [
      "INFO:tensorflow:Assets written to: model_TX_3.pkl/assets\n"
     ]
    },
    {
     "name": "stderr",
     "output_type": "stream",
     "text": [
      "INFO:tensorflow:Assets written to: model_TX_3.pkl/assets\n"
     ]
    },
    {
     "name": "stdout",
     "output_type": "stream",
     "text": [
      "2460/2460 [==============================] - 72s 29ms/step - loss: 0.0530 - root_mean_squared_error: 0.2302 - val_loss: 0.0446 - val_root_mean_squared_error: 0.2112 - lr: 0.0010\n",
      "Epoch 11/50\n",
      "2459/2460 [============================>.] - ETA: 0s - loss: 0.0481 - root_mean_squared_error: 0.2194\n",
      "Epoch 11: saving model to model_TX_3.pkl\n"
     ]
    },
    {
     "name": "stderr",
     "output_type": "stream",
     "text": [
      "WARNING:absl:Found untraced functions such as lstm_cell_36_layer_call_fn, lstm_cell_36_layer_call_and_return_conditional_losses, lstm_cell_37_layer_call_fn, lstm_cell_37_layer_call_and_return_conditional_losses, lstm_cell_38_layer_call_fn while saving (showing 5 of 8). These functions will not be directly callable after loading.\n"
     ]
    },
    {
     "name": "stdout",
     "output_type": "stream",
     "text": [
      "INFO:tensorflow:Assets written to: model_TX_3.pkl/assets\n"
     ]
    },
    {
     "name": "stderr",
     "output_type": "stream",
     "text": [
      "INFO:tensorflow:Assets written to: model_TX_3.pkl/assets\n"
     ]
    },
    {
     "name": "stdout",
     "output_type": "stream",
     "text": [
      "\n",
      "Epoch 11: ReduceLROnPlateau reducing learning rate to 0.0002500000118743628.\n",
      "2460/2460 [==============================] - 74s 30ms/step - loss: 0.0481 - root_mean_squared_error: 0.2193 - val_loss: 0.0447 - val_root_mean_squared_error: 0.2115 - lr: 0.0010\n",
      "Epoch 12/50\n",
      "2458/2460 [============================>.] - ETA: 0s - loss: 0.0328 - root_mean_squared_error: 0.1810\n",
      "Epoch 12: saving model to model_TX_3.pkl\n"
     ]
    },
    {
     "name": "stderr",
     "output_type": "stream",
     "text": [
      "WARNING:absl:Found untraced functions such as lstm_cell_36_layer_call_fn, lstm_cell_36_layer_call_and_return_conditional_losses, lstm_cell_37_layer_call_fn, lstm_cell_37_layer_call_and_return_conditional_losses, lstm_cell_38_layer_call_fn while saving (showing 5 of 8). These functions will not be directly callable after loading.\n"
     ]
    },
    {
     "name": "stdout",
     "output_type": "stream",
     "text": [
      "INFO:tensorflow:Assets written to: model_TX_3.pkl/assets\n"
     ]
    },
    {
     "name": "stderr",
     "output_type": "stream",
     "text": [
      "INFO:tensorflow:Assets written to: model_TX_3.pkl/assets\n"
     ]
    },
    {
     "name": "stdout",
     "output_type": "stream",
     "text": [
      "2460/2460 [==============================] - 73s 30ms/step - loss: 0.0328 - root_mean_squared_error: 0.1810 - val_loss: 0.0127 - val_root_mean_squared_error: 0.1128 - lr: 2.5000e-04\n",
      "Epoch 13/50\n",
      "2458/2460 [============================>.] - ETA: 0s - loss: 0.0300 - root_mean_squared_error: 0.1731\n",
      "Epoch 13: saving model to model_TX_3.pkl\n"
     ]
    },
    {
     "name": "stderr",
     "output_type": "stream",
     "text": [
      "WARNING:absl:Found untraced functions such as lstm_cell_36_layer_call_fn, lstm_cell_36_layer_call_and_return_conditional_losses, lstm_cell_37_layer_call_fn, lstm_cell_37_layer_call_and_return_conditional_losses, lstm_cell_38_layer_call_fn while saving (showing 5 of 8). These functions will not be directly callable after loading.\n"
     ]
    },
    {
     "name": "stdout",
     "output_type": "stream",
     "text": [
      "INFO:tensorflow:Assets written to: model_TX_3.pkl/assets\n"
     ]
    },
    {
     "name": "stderr",
     "output_type": "stream",
     "text": [
      "INFO:tensorflow:Assets written to: model_TX_3.pkl/assets\n"
     ]
    },
    {
     "name": "stdout",
     "output_type": "stream",
     "text": [
      "2460/2460 [==============================] - 73s 30ms/step - loss: 0.0299 - root_mean_squared_error: 0.1731 - val_loss: 0.0112 - val_root_mean_squared_error: 0.1060 - lr: 2.5000e-04\n",
      "Epoch 14/50\n",
      "2459/2460 [============================>.] - ETA: 0s - loss: 0.0288 - root_mean_squared_error: 0.1698\n",
      "Epoch 14: saving model to model_TX_3.pkl\n"
     ]
    },
    {
     "name": "stderr",
     "output_type": "stream",
     "text": [
      "WARNING:absl:Found untraced functions such as lstm_cell_36_layer_call_fn, lstm_cell_36_layer_call_and_return_conditional_losses, lstm_cell_37_layer_call_fn, lstm_cell_37_layer_call_and_return_conditional_losses, lstm_cell_38_layer_call_fn while saving (showing 5 of 8). These functions will not be directly callable after loading.\n"
     ]
    },
    {
     "name": "stdout",
     "output_type": "stream",
     "text": [
      "INFO:tensorflow:Assets written to: model_TX_3.pkl/assets\n"
     ]
    },
    {
     "name": "stderr",
     "output_type": "stream",
     "text": [
      "INFO:tensorflow:Assets written to: model_TX_3.pkl/assets\n"
     ]
    },
    {
     "name": "stdout",
     "output_type": "stream",
     "text": [
      "2460/2460 [==============================] - 73s 30ms/step - loss: 0.0288 - root_mean_squared_error: 0.1698 - val_loss: 0.0089 - val_root_mean_squared_error: 0.0946 - lr: 2.5000e-04\n",
      "Epoch 15/50\n",
      "2459/2460 [============================>.] - ETA: 0s - loss: 0.0281 - root_mean_squared_error: 0.1677\n",
      "Epoch 15: saving model to model_TX_3.pkl\n"
     ]
    },
    {
     "name": "stderr",
     "output_type": "stream",
     "text": [
      "WARNING:absl:Found untraced functions such as lstm_cell_36_layer_call_fn, lstm_cell_36_layer_call_and_return_conditional_losses, lstm_cell_37_layer_call_fn, lstm_cell_37_layer_call_and_return_conditional_losses, lstm_cell_38_layer_call_fn while saving (showing 5 of 8). These functions will not be directly callable after loading.\n"
     ]
    },
    {
     "name": "stdout",
     "output_type": "stream",
     "text": [
      "INFO:tensorflow:Assets written to: model_TX_3.pkl/assets\n"
     ]
    },
    {
     "name": "stderr",
     "output_type": "stream",
     "text": [
      "INFO:tensorflow:Assets written to: model_TX_3.pkl/assets\n"
     ]
    },
    {
     "name": "stdout",
     "output_type": "stream",
     "text": [
      "2460/2460 [==============================] - 72s 29ms/step - loss: 0.0281 - root_mean_squared_error: 0.1677 - val_loss: 0.0085 - val_root_mean_squared_error: 0.0924 - lr: 2.5000e-04\n",
      "Epoch 16/50\n",
      "2460/2460 [==============================] - ETA: 0s - loss: 0.0266 - root_mean_squared_error: 0.1630\n",
      "Epoch 16: saving model to model_TX_3.pkl\n"
     ]
    },
    {
     "name": "stderr",
     "output_type": "stream",
     "text": [
      "WARNING:absl:Found untraced functions such as lstm_cell_36_layer_call_fn, lstm_cell_36_layer_call_and_return_conditional_losses, lstm_cell_37_layer_call_fn, lstm_cell_37_layer_call_and_return_conditional_losses, lstm_cell_38_layer_call_fn while saving (showing 5 of 8). These functions will not be directly callable after loading.\n"
     ]
    },
    {
     "name": "stdout",
     "output_type": "stream",
     "text": [
      "INFO:tensorflow:Assets written to: model_TX_3.pkl/assets\n"
     ]
    },
    {
     "name": "stderr",
     "output_type": "stream",
     "text": [
      "INFO:tensorflow:Assets written to: model_TX_3.pkl/assets\n"
     ]
    },
    {
     "name": "stdout",
     "output_type": "stream",
     "text": [
      "2460/2460 [==============================] - 74s 30ms/step - loss: 0.0266 - root_mean_squared_error: 0.1630 - val_loss: 0.0107 - val_root_mean_squared_error: 0.1036 - lr: 2.5000e-04\n",
      "Epoch 17/50\n",
      "2459/2460 [============================>.] - ETA: 0s - loss: 0.0260 - root_mean_squared_error: 0.1612\n",
      "Epoch 17: saving model to model_TX_3.pkl\n"
     ]
    },
    {
     "name": "stderr",
     "output_type": "stream",
     "text": [
      "WARNING:absl:Found untraced functions such as lstm_cell_36_layer_call_fn, lstm_cell_36_layer_call_and_return_conditional_losses, lstm_cell_37_layer_call_fn, lstm_cell_37_layer_call_and_return_conditional_losses, lstm_cell_38_layer_call_fn while saving (showing 5 of 8). These functions will not be directly callable after loading.\n"
     ]
    },
    {
     "name": "stdout",
     "output_type": "stream",
     "text": [
      "INFO:tensorflow:Assets written to: model_TX_3.pkl/assets\n"
     ]
    },
    {
     "name": "stderr",
     "output_type": "stream",
     "text": [
      "INFO:tensorflow:Assets written to: model_TX_3.pkl/assets\n"
     ]
    },
    {
     "name": "stdout",
     "output_type": "stream",
     "text": [
      "\n",
      "Epoch 17: ReduceLROnPlateau reducing learning rate to 6.25000029685907e-05.\n",
      "2460/2460 [==============================] - 73s 30ms/step - loss: 0.0260 - root_mean_squared_error: 0.1612 - val_loss: 0.0101 - val_root_mean_squared_error: 0.1005 - lr: 2.5000e-04\n",
      "Epoch 18/50\n",
      "2458/2460 [============================>.] - ETA: 0s - loss: 0.0233 - root_mean_squared_error: 0.1528\n",
      "Epoch 18: saving model to model_TX_3.pkl\n"
     ]
    },
    {
     "name": "stderr",
     "output_type": "stream",
     "text": [
      "WARNING:absl:Found untraced functions such as lstm_cell_36_layer_call_fn, lstm_cell_36_layer_call_and_return_conditional_losses, lstm_cell_37_layer_call_fn, lstm_cell_37_layer_call_and_return_conditional_losses, lstm_cell_38_layer_call_fn while saving (showing 5 of 8). These functions will not be directly callable after loading.\n"
     ]
    },
    {
     "name": "stdout",
     "output_type": "stream",
     "text": [
      "INFO:tensorflow:Assets written to: model_TX_3.pkl/assets\n"
     ]
    },
    {
     "name": "stderr",
     "output_type": "stream",
     "text": [
      "INFO:tensorflow:Assets written to: model_TX_3.pkl/assets\n"
     ]
    },
    {
     "name": "stdout",
     "output_type": "stream",
     "text": [
      "2460/2460 [==============================] - 74s 30ms/step - loss: 0.0233 - root_mean_squared_error: 0.1527 - val_loss: 0.0066 - val_root_mean_squared_error: 0.0814 - lr: 6.2500e-05\n",
      "Epoch 19/50\n",
      "2459/2460 [============================>.] - ETA: 0s - loss: 0.0228 - root_mean_squared_error: 0.1510\n",
      "Epoch 19: saving model to model_TX_3.pkl\n"
     ]
    },
    {
     "name": "stderr",
     "output_type": "stream",
     "text": [
      "WARNING:absl:Found untraced functions such as lstm_cell_36_layer_call_fn, lstm_cell_36_layer_call_and_return_conditional_losses, lstm_cell_37_layer_call_fn, lstm_cell_37_layer_call_and_return_conditional_losses, lstm_cell_38_layer_call_fn while saving (showing 5 of 8). These functions will not be directly callable after loading.\n"
     ]
    },
    {
     "name": "stdout",
     "output_type": "stream",
     "text": [
      "INFO:tensorflow:Assets written to: model_TX_3.pkl/assets\n"
     ]
    },
    {
     "name": "stderr",
     "output_type": "stream",
     "text": [
      "INFO:tensorflow:Assets written to: model_TX_3.pkl/assets\n"
     ]
    },
    {
     "name": "stdout",
     "output_type": "stream",
     "text": [
      "2460/2460 [==============================] - 74s 30ms/step - loss: 0.0228 - root_mean_squared_error: 0.1510 - val_loss: 0.0067 - val_root_mean_squared_error: 0.0821 - lr: 6.2500e-05\n",
      "Epoch 20/50\n",
      "2458/2460 [============================>.] - ETA: 0s - loss: 0.0227 - root_mean_squared_error: 0.1507\n",
      "Epoch 20: saving model to model_TX_3.pkl\n"
     ]
    },
    {
     "name": "stderr",
     "output_type": "stream",
     "text": [
      "WARNING:absl:Found untraced functions such as lstm_cell_36_layer_call_fn, lstm_cell_36_layer_call_and_return_conditional_losses, lstm_cell_37_layer_call_fn, lstm_cell_37_layer_call_and_return_conditional_losses, lstm_cell_38_layer_call_fn while saving (showing 5 of 8). These functions will not be directly callable after loading.\n"
     ]
    },
    {
     "name": "stdout",
     "output_type": "stream",
     "text": [
      "INFO:tensorflow:Assets written to: model_TX_3.pkl/assets\n"
     ]
    },
    {
     "name": "stderr",
     "output_type": "stream",
     "text": [
      "INFO:tensorflow:Assets written to: model_TX_3.pkl/assets\n"
     ]
    },
    {
     "name": "stdout",
     "output_type": "stream",
     "text": [
      "2460/2460 [==============================] - 72s 29ms/step - loss: 0.0227 - root_mean_squared_error: 0.1506 - val_loss: 0.0065 - val_root_mean_squared_error: 0.0806 - lr: 6.2500e-05\n",
      "Epoch 21/50\n",
      "2460/2460 [==============================] - ETA: 0s - loss: 0.0226 - root_mean_squared_error: 0.1504\n",
      "Epoch 21: saving model to model_TX_3.pkl\n"
     ]
    },
    {
     "name": "stderr",
     "output_type": "stream",
     "text": [
      "WARNING:absl:Found untraced functions such as lstm_cell_36_layer_call_fn, lstm_cell_36_layer_call_and_return_conditional_losses, lstm_cell_37_layer_call_fn, lstm_cell_37_layer_call_and_return_conditional_losses, lstm_cell_38_layer_call_fn while saving (showing 5 of 8). These functions will not be directly callable after loading.\n"
     ]
    },
    {
     "name": "stdout",
     "output_type": "stream",
     "text": [
      "INFO:tensorflow:Assets written to: model_TX_3.pkl/assets\n"
     ]
    },
    {
     "name": "stderr",
     "output_type": "stream",
     "text": [
      "INFO:tensorflow:Assets written to: model_TX_3.pkl/assets\n"
     ]
    },
    {
     "name": "stdout",
     "output_type": "stream",
     "text": [
      "2460/2460 [==============================] - 74s 30ms/step - loss: 0.0226 - root_mean_squared_error: 0.1504 - val_loss: 0.0063 - val_root_mean_squared_error: 0.0795 - lr: 6.2500e-05\n",
      "Epoch 22/50\n",
      "2459/2460 [============================>.] - ETA: 0s - loss: 0.0222 - root_mean_squared_error: 0.1490\n",
      "Epoch 22: saving model to model_TX_3.pkl\n"
     ]
    },
    {
     "name": "stderr",
     "output_type": "stream",
     "text": [
      "WARNING:absl:Found untraced functions such as lstm_cell_36_layer_call_fn, lstm_cell_36_layer_call_and_return_conditional_losses, lstm_cell_37_layer_call_fn, lstm_cell_37_layer_call_and_return_conditional_losses, lstm_cell_38_layer_call_fn while saving (showing 5 of 8). These functions will not be directly callable after loading.\n"
     ]
    },
    {
     "name": "stdout",
     "output_type": "stream",
     "text": [
      "INFO:tensorflow:Assets written to: model_TX_3.pkl/assets\n"
     ]
    },
    {
     "name": "stderr",
     "output_type": "stream",
     "text": [
      "INFO:tensorflow:Assets written to: model_TX_3.pkl/assets\n"
     ]
    },
    {
     "name": "stdout",
     "output_type": "stream",
     "text": [
      "2460/2460 [==============================] - 74s 30ms/step - loss: 0.0222 - root_mean_squared_error: 0.1490 - val_loss: 0.0064 - val_root_mean_squared_error: 0.0802 - lr: 6.2500e-05\n",
      "Epoch 23/50\n",
      "1312/2460 [===============>..............] - ETA: 28s - loss: 0.0129 - root_mean_squared_error: 0.1135"
     ]
    }
   ],
   "source": [
    "from tqdm import tqdm\n",
    "import joblib\n",
    "import gc\n",
    "import warnings\n",
    "warnings.filterwarnings('ignore')\n",
    "evaluation=pd.DataFrame()\n",
    "validation=pd.DataFrame()\n",
    "valid_preds={}\n",
    "eval_preds={}\n",
    "data_new=pd.DataFrame()\n",
    "stores = d_store_id.keys()\n",
    "stores = d_store_id.keys()\n",
    "for store in tqdm(stores):\n",
    "    df = data[data['store_id']==store]\n",
    "    print('********Prediction for Store:{}**********'.format(d_store_id[store]))\n",
    "    X_train, y_train = df[df['d']<1914].drop('demand',axis=1), df[df['d']<1914]['demand']\n",
    "    X_valid, y_valid = df[(df['d']>=1914) & (df['d']<1942)].drop('demand',axis=1), df[(df['d']>=1914) & (df['d']<1942)]['demand']\n",
    "    X_test = df[df['d']>=1942].drop('demand',axis=1)\n",
    "    model = Time_series_model_0(X_train.shape[1])\n",
    "    filename = 'model_'+str(d_store_id[store])+'.pkl'\n",
    "    model.compile( optimizer='adam',loss='mean_squared_error',metrics=[tf.keras.metrics.RootMeanSquaredError()])\n",
    "    model.fit(x=X_train, y=y_train,epochs=50,verbose=1,batch_size=512, callbacks=callback(filename), validation_data=(X_valid, y_valid))\n",
    "    y_pred_valid=model.predict(X_valid)\n",
    "    y_pred_eval=model.predict(X_test)\n",
    "    X_valid['demand']=y_pred_valid\n",
    "    X_test['demand']=y_pred_eval\n",
    "    X_valid=X_valid[['id','d','demand']]\n",
    "    X_test=X_test[['id','d','demand']]\n",
    "    validation = validation.append(X_valid)\n",
    "    evaluation = evaluation.append(X_test)\n",
    "    del X_train, y_train, y_valid, X_valid\n",
    "    # save model\n",
    "    #joblib.dump(model, filename)"
   ]
  }
 ],
 "metadata": {
  "kernelspec": {
   "display_name": "Python 3 (ipykernel)",
   "language": "python",
   "name": "python3"
  },
  "language_info": {
   "codemirror_mode": {
    "name": "ipython",
    "version": 3
   },
   "file_extension": ".py",
   "mimetype": "text/x-python",
   "name": "python",
   "nbconvert_exporter": "python",
   "pygments_lexer": "ipython3",
   "version": "3.9.13"
  }
 },
 "nbformat": 4,
 "nbformat_minor": 5
}
